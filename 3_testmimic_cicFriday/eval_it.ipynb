{
 "cells": [
  {
   "cell_type": "code",
   "execution_count": 52,
   "metadata": {},
   "outputs": [],
   "source": [
    "import pickle\n",
    "import yaml\n",
    "import pandas as pd\n",
    "import pickle\n",
    "import sys\n",
    "import numpy as np\n",
    "\n",
    "import matplotlib.pyplot as plot"
   ]
  },
  {
   "cell_type": "code",
   "execution_count": 53,
   "metadata": {},
   "outputs": [
    {
     "name": "stderr",
     "output_type": "stream",
     "text": [
      "/home/wesleyjtann/miniconda3/envs/ddos/lib/python3.7/site-packages/ipykernel_launcher.py:3: YAMLLoadWarning: calling yaml.load() without Loader=... is deprecated, as the default Loader is unsafe. Please read https://msg.pyyaml.org/load for full details.\n",
      "  This is separate from the ipykernel package so we can avoid doing imports until\n"
     ]
    }
   ],
   "source": [
    "def loadConfig():    \n",
    "    with open('./light_config.yaml', \"r\") as ymlfile: #hulk, slowloris; GE, heartbleed, slowhttp\n",
    "        cfg = yaml.load(ymlfile)\n",
    "    return cfg\n",
    "\n",
    "config = loadConfig()"
   ]
  },
  {
   "cell_type": "code",
   "execution_count": 54,
   "metadata": {},
   "outputs": [],
   "source": [
    "import math\n",
    "\n",
    "def calculateFalsePositives(agtIPList, agt_attacks, scoreDict, percentages, numNorm) :\n",
    "    numNormal = numNorm\n",
    "    numTotalIP = len(scoreDict)\n",
    "    cutOff = []\n",
    "    falsepositives = []\n",
    "    \n",
    "    for percent in percentages :\n",
    "        cutOff.append(math.ceil(numTotalIP * percent))\n",
    "    \n",
    "    index = 0\n",
    "    fp_count = 0 # add\n",
    "    tp_count = 0 # add\n",
    "    truepos = [] # add\n",
    "    \n",
    "    for (IP, IPD, score) in list(scoreDict.itertuples(index=False, name=None)):\n",
    "        if IP + IPD in agtIPList: # add\n",
    "            fp_count = fp_count + 1 # add\n",
    "        if IP + IPD in agt_attacks:\n",
    "            tp_count = tp_count + 1            \n",
    "            \n",
    "        index = index + 1\n",
    "        if index in cutOff :\n",
    "            falsepositives.append(fp_count/numNormal)\n",
    "            truepos.append(tp_count / len(agt_attacks)) #len(agt_attacks)) # add\n",
    "            \n",
    "    return falsepositives, truepos\n",
    "\n",
    "def calc_eval(fpr, tpr, agt_norm, agt_attk):\n",
    "    fpr = np.array(fpr[1:])\n",
    "    tpr = np.array(tpr)\n",
    "\n",
    "    Total = len(agt_norm)+len(agt_attk) #len(userScoreP)\n",
    "    TotalN = len(agt_norm)\n",
    "    TotalP = Total-TotalN\n",
    "    FP = fpr*TotalN\n",
    "    TN = TotalN - FP\n",
    "    TP = tpr*TotalP\n",
    "    FN = TotalP-TP\n",
    "    \n",
    "    Accr = (TP+TN) / (TP+TN+FP+FN)\n",
    "    FPR = FP / (FP + TN)\n",
    "    Prec = TP / (TP + FP)\n",
    "    Rec = TP / (TP + FN)\n",
    "    F1 = 2 * ((Prec*Rec) / (Prec+Rec))\n",
    "\n",
    "    return (Accr, FPR, Prec, Rec, F1)\n",
    "\n",
    "# def plotAndSaveGraph(PQ, P, PQTil, classifier_rejectthres, fp_classifier, iter_classifier_one, iter_classifier, config, plt=False):\n",
    "#     percentages = [0.0, 0.1, 0.2, 0.3, 0.4, 0.5, 0.6, 0.7, 0.8, 0.9, 1.0]\n",
    "\n",
    "#     plot.rcParams['figure.figsize'] = [9, 9]\n",
    "#     fig = plot.figure()\n",
    "#     ax = plot.subplot(111)\n",
    "#     ax.plot(percentages, percentages, linewidth=2, label = \"Randomized Rejection\")\n",
    "#     ax.plot(percentages, P, linewidth=2, linestyle='--', markersize=9, label = \"N Only\")\n",
    "#     ax.plot(percentages, PQ, linewidth=2, linestyle=':', markersize=9, label = \"N/D (ℓ=1)\") #With Transfer\")\n",
    "#     ax.plot(percentages, PQTil, linewidth=2, linestyle='-.', markersize=9, label = \"N/D (ℓ=∞)\") #Without Transfer\") \n",
    "#     ax.plot(percentages, iter_classifier_one, linewidth=2, linestyle='--', marker='o', markersize=9, label = \"Iter. Classifier (ℓ=1)\") #Without Transfer\")\n",
    "#     ax.plot(percentages, iter_classifier, linewidth=2, linestyle='--', marker='s', markersize=9, label = \"Iter. Classifier (ℓ=∞)\") #Without Transfer\")\n",
    "# #     ax.plot(classifier_rejectthres,fp_classifier,'rx',markersize=15,markeredgewidth=5, label = \"Full Classifier\") \n",
    "    \n",
    "#     ax.tick_params(axis='both', which='major', labelsize=15)\n",
    "#     ax.legend(fontsize=18)\n",
    "#     if plt:\n",
    "#         plot.savefig(config['metadata']['uniqueID'] + '/' + config['metadata']['result'] + '_FPGraph')"
   ]
  },
  {
   "cell_type": "code",
   "execution_count": 55,
   "metadata": {},
   "outputs": [],
   "source": [
    "def plotAndSaveGraph(P, PQ_online, PQ_offline, iter_one, iter_offline, config, plt=False, metric=None):\n",
    "    percentages = [0.0, 0.1, 0.2, 0.3, 0.4, 0.5, 0.6, 0.7, 0.8, 0.9, 1.0]\n",
    "\n",
    "    plot.rcParams['figure.figsize'] = [9, 9]\n",
    "    fig = plot.figure()\n",
    "    ax = plot.subplot(111)\n",
    "    ax.plot(percentages, percentages, linewidth=2, label = \"Randomized Rejection\")\n",
    "#     ax.plot(percentages, P, linewidth=2, linestyle=':', markersize=9, label = \"N Only\")\n",
    "    ax.plot(percentages, PQ_online, linewidth=2, linestyle='--', markersize=9, label = \"Enhanced N/D (ℓ=1)\") #With Transfer\")\n",
    "    ax.plot(percentages, PQ_offline, linewidth=2, linestyle='-.', markersize=9, label = \"N/D (ℓ=1)\") #Without Transfer\") \n",
    "    ax.plot(percentages, iter_one, linewidth=2, linestyle='--', marker='o', markersize=9, label = \"Enhanced Iter. (ℓ=1)\") #Without Transfer\")\n",
    "    ax.plot(percentages, iter_offline, linewidth=2, linestyle='--', marker='s', markersize=9, label = \"Iter. Classifier (ℓ=1)\") #(ℓ=∞)\n",
    "    \n",
    "    ax.tick_params(axis='both', which='major', labelsize=15)\n",
    "    ax.legend(fontsize=18)\n",
    "    if plt:\n",
    "        if metric == 'F_pos':\n",
    "            plot.savefig(config['metadata']['uniqueID'] + '/' + config['metadata']['result'] + '_FPos-Graph')\n",
    "        if metric == 'F_neg':\n",
    "            plot.savefig(config['metadata']['uniqueID'] + '/' + config['metadata']['result'] + '_FNeg-Graph')"
   ]
  },
  {
   "cell_type": "raw",
   "metadata": {},
   "source": [
    "config['metadata']['result']"
   ]
  },
  {
   "cell_type": "markdown",
   "metadata": {},
   "source": [
    "### Test set"
   ]
  },
  {
   "cell_type": "code",
   "execution_count": 56,
   "metadata": {},
   "outputs": [
    {
     "name": "stdout",
     "output_type": "stream",
     "text": [
      "Length of userScoreP:  12506\n"
     ]
    }
   ],
   "source": [
    "# #Load User Scores\n",
    "userScoreP = pickle.load(open(config['metadata']['uniqueID'] + '/' + config['metadata']['artefact'] + '/' + 'PScore', 'rb'))\n",
    "userScoreP = userScoreP.sort_values(by = ['P'],ascending=True) # add\n",
    "\n",
    "userScorePQ_online = pickle.load(open(config['metadata']['uniqueID'] + '/' + config['metadata']['artefact'] + '/' + 'PoverQonline_score', 'rb'))\n",
    "userScorePQ_online = userScorePQ_online.sort_values(by = ['PoverQ_online'],ascending=True) # add \n",
    "\n",
    "userScorePQ_offline = pickle.load(open(config['metadata']['uniqueID'] + '/' + config['metadata']['artefact'] + '/' + 'PoverQoffline_score', 'rb'))\n",
    "userScorePQ_offline = userScorePQ_offline.sort_values(by = ['PoverQ_offline'],ascending=True) \n",
    "\n",
    "# userScoreQonline = pickle.load(open(config['metadata']['uniqueID'] + '/' + config['metadata']['artefact'] + '/' + 'onlineQ', 'rb'))\n",
    "# userScoreQonline = userScoreQonline.sort_values(by = ['QWithT'],ascending=True)\n",
    "\n",
    "# userScoreQoffline = pickle.load(open(config['metadata']['uniqueID'] + '/' + config['metadata']['artefact'] + '/' + 'offlineQ', 'rb'))\n",
    "# userScoreQoffline = userScoreQoffline.sort_values(by = ['QWithoutT'],ascending=True)\n",
    "\n",
    "print(\"Length of userScoreP: \", len(userScoreP))"
   ]
  },
  {
   "cell_type": "code",
   "execution_count": 57,
   "metadata": {},
   "outputs": [
    {
     "data": {
      "text/plain": [
       "12506"
      ]
     },
     "execution_count": 57,
     "metadata": {},
     "output_type": "execute_result"
    }
   ],
   "source": [
    "len(userScoreP)"
   ]
  },
  {
   "cell_type": "code",
   "execution_count": 58,
   "metadata": {},
   "outputs": [
    {
     "data": {
      "text/plain": [
       "10000"
      ]
     },
     "execution_count": 58,
     "metadata": {},
     "output_type": "execute_result"
    }
   ],
   "source": [
    "sum(userScoreP['Source IP'] == '999.16.30.0')"
   ]
  },
  {
   "cell_type": "code",
   "execution_count": 59,
   "metadata": {
    "scrolled": true
   },
   "outputs": [],
   "source": [
    "import matplotlib.pyplot as plt\n",
    "# attacker='172.16.0.1'; victim='192.168.10.50' # original attacker\n",
    "attacker='999.16.30.0'; victim='999.16.30.1' # mimic attacker\n",
    "\n",
    "# def showscore(scoretype, scores):\n",
    "#     fig = plt.figure(figsize=(7,5))\n",
    "#     plt.hist(scoretype[scores].sort_values()[scoretype['Source IP'] == victim], bins=20, alpha=0.5, label='victim') \n",
    "#     plt.hist(scoretype[scores].sort_values()[scoretype['Source IP'] == attacker], bins=20, alpha=0.5, label='attcker')\n",
    "#     plt.legend(loc='upper right')\n",
    "#     plt.show()\n",
    "def showscore(scoretype, scores):\n",
    "    fig = plt.figure(figsize=(7,5))\n",
    "    plt.hist(scoretype[scores][scoretype['Source IP'] != attacker], bins=10, alpha=0.5, label='victim') \n",
    "    plt.hist(scoretype[scores][scoretype['Source IP'] == attacker], bins=10, alpha=0.5, label='attcker')\n",
    "    plt.legend(loc='upper right')\n",
    "    plt.show()\n",
    "    return fig"
   ]
  },
  {
   "cell_type": "code",
   "execution_count": 60,
   "metadata": {},
   "outputs": [
    {
     "data": {
      "image/png": "[encoded data removed]",
      "text/plain": [
       "<Figure size 504x360 with 1 Axes>"
      ]
     },
     "metadata": {
      "needs_background": "light"
     },
     "output_type": "display_data"
    }
   ],
   "source": [
    "# add standardization\n",
    "std_userScoreP = userScoreP\n",
    "std_userScoreP['P'] = (std_userScoreP['P'] - std_userScoreP['P'].min(axis=0)) / (std_userScoreP['P'].max(axis=0) - std_userScoreP['P'].min(axis=0))\n",
    "\n",
    "fig = showscore(userScoreP, 'P') # P scores\n",
    "\n",
    "# fig.savefig('./' + config['metadata']['uniqueID'] + '/' + config['metadata']['result'] + '_P_distr' + '.png')"
   ]
  },
  {
   "cell_type": "code",
   "execution_count": 61,
   "metadata": {},
   "outputs": [
    {
     "data": {
      "image/png": "[encoded data removed]",
      "text/plain": [
       "<Figure size 504x360 with 1 Axes>"
      ]
     },
     "metadata": {
      "needs_background": "light"
     },
     "output_type": "display_data"
    }
   ],
   "source": [
    "# add standardization\n",
    "std_userScorePQ_online = userScorePQ_online\n",
    "std_userScorePQ_online['PoverQ_online'] = (std_userScorePQ_online['PoverQ_online'] - std_userScorePQ_online['PoverQ_online'].min(axis=0)) / (std_userScorePQ_online['PoverQ_online'].max(axis=0) - std_userScorePQ_online['PoverQ_online'].min(axis=0))\n",
    "\n",
    "fig = showscore(std_userScorePQ_online, 'PoverQ_online') # online Q\n",
    "\n",
    "# fig.savefig('./' + config['metadata']['uniqueID'] + '/' + config['metadata']['result'] + '_PQonline_distr' + '.png')"
   ]
  },
  {
   "cell_type": "code",
   "execution_count": 62,
   "metadata": {},
   "outputs": [
    {
     "data": {
      "text/plain": [
       "'ids_test3/result/test2_loiceval1'"
      ]
     },
     "execution_count": 62,
     "metadata": {},
     "output_type": "execute_result"
    }
   ],
   "source": [
    "config['metadata']['uniqueID'] + '/' + config['metadata']['result'] "
   ]
  },
  {
   "cell_type": "code",
   "execution_count": 63,
   "metadata": {},
   "outputs": [
    {
     "data": {
      "image/png": "[encoded data removed]",
      "text/plain": [
       "<Figure size 504x360 with 1 Axes>"
      ]
     },
     "metadata": {
      "needs_background": "light"
     },
     "output_type": "display_data"
    }
   ],
   "source": [
    "scoretype=std_userScorePQ_online; scores='PoverQ_online'\n",
    "\n",
    "\n",
    "fig, ax = plt.subplots(1, figsize=(7,5))\n",
    " \n",
    "# ax.hist(scoretype[scores][scoretype['Source IP'] != attacker], bins=10, range=[0.1,1], edgecolor='black', linewidth=2, alpha=0.4, label='Normal traffic', color = \"dimgray\", hatch=2*'\\\\', fill=True) \n",
    "# ax.hist(scoretype[scores][scoretype['Source IP'] == attacker], bins=10, range=[0.1,1], edgecolor='black', linewidth=2, alpha=0.4, label='Attack traffic', color = \"lightgray\", hatch=2*'.', fill=True)\n",
    "ax.hist(scoretype[scores][scoretype['Source IP'] != attacker], bins=10, edgecolor='black', linewidth=2, alpha=0.2, label='Normal traffic', color = \"dimgray\", hatch=2*'\\\\', fill=True) \n",
    "ax.hist(scoretype[scores][scoretype['Source IP'] == attacker], bins=10, edgecolor='black', linewidth=2, alpha=0.5, label='Attack traffic', color = \"lightgray\", hatch=2*'.', fill=True)\n",
    "\n",
    "ax.legend(loc='upper left',prop={\"size\":15})\n",
    "\n",
    "plt.show()\n",
    "\n",
    "\n",
    "# fig.savefig('./' + config['metadata']['uniqueID'] + '/' + config['metadata']['result'] + '_NDonline_distr' + '.png')"
   ]
  },
  {
   "cell_type": "code",
   "execution_count": 64,
   "metadata": {},
   "outputs": [
    {
     "data": {
      "image/png": "[encoded data removed]",
      "text/plain": [
       "<Figure size 504x360 with 1 Axes>"
      ]
     },
     "metadata": {
      "needs_background": "light"
     },
     "output_type": "display_data"
    }
   ],
   "source": [
    "# add standardization\n",
    "std_userScorePQ_offline = userScorePQ_offline\n",
    "std_userScorePQ_offline['PoverQ_offline'] = (std_userScorePQ_offline['PoverQ_offline'] - std_userScorePQ_offline['PoverQ_offline'].min(axis=0)) / (std_userScorePQ_offline['PoverQ_offline'].max(axis=0) - std_userScorePQ_offline['PoverQ_offline'].min(axis=0))\n",
    "\n",
    "fig = showscore(std_userScorePQ_offline, 'PoverQ_offline') # offline Q\n",
    "\n",
    "# fig.savefig('./' + config['metadata']['uniqueID'] + '/' + config['metadata']['result'] + '_PQoffline_distr' + '.png')"
   ]
  },
  {
   "cell_type": "code",
   "execution_count": 65,
   "metadata": {},
   "outputs": [
    {
     "data": {
      "image/png": "[encoded data removed]",
      "text/plain": [
       "<Figure size 504x360 with 1 Axes>"
      ]
     },
     "metadata": {
      "needs_background": "light"
     },
     "output_type": "display_data"
    }
   ],
   "source": [
    "scoretype=std_userScorePQ_offline; scores='PoverQ_offline'\n",
    "\n",
    "\n",
    "fig, ax = plt.subplots(1, figsize=(7,5))\n",
    " \n",
    "# ax.hist(scoretype[scores][scoretype['Source IP'] != attacker], bins=10, range=[0.1,1], edgecolor='black', linewidth=2, alpha=0.4, label='Normal traffic', color = \"dimgray\", hatch=2*'\\\\', fill=True) \n",
    "# ax.hist(scoretype[scores][scoretype['Source IP'] == attacker], bins=10, range=[0.1,1], edgecolor='black', linewidth=2, alpha=0.4, label='Attack traffic', color = \"lightgray\", hatch=2*'.', fill=True)\n",
    "ax.hist(scoretype[scores][scoretype['Source IP'] != attacker], bins=10, edgecolor='black', linewidth=2, alpha=0.2, label='Normal traffic', color = \"dimgray\", hatch=2*'\\\\', fill=True) \n",
    "ax.hist(scoretype[scores][scoretype['Source IP'] == attacker], bins=10, edgecolor='black', linewidth=2, alpha=0.5, label='Attack traffic', color = \"lightgray\", hatch=2*'.', fill=True)\n",
    "\n",
    "ax.legend(loc='upper left',prop={\"size\":15})\n",
    "\n",
    "plt.show()\n",
    "\n",
    "\n",
    "# fig.savefig('./' + config['metadata']['uniqueID'] + '/' + config['metadata']['result'] + '_NDoffline_distr' + '.png')"
   ]
  },
  {
   "cell_type": "raw",
   "metadata": {},
   "source": [
    "showscore(userScoreQonline, 'QWithT')"
   ]
  },
  {
   "cell_type": "raw",
   "metadata": {},
   "source": [
    "showscore(userScorePQ_offline, 'PoverQ_offline')"
   ]
  },
  {
   "cell_type": "raw",
   "metadata": {
    "scrolled": true
   },
   "source": [
    "userScoreP\n",
    "# userScorePQ\n",
    "# userScorePQTil\n",
    "# userScoreQonline\n",
    "# userScoreQoffline"
   ]
  },
  {
   "cell_type": "markdown",
   "metadata": {},
   "source": [
    "### Predicted P-only user scores"
   ]
  },
  {
   "cell_type": "code",
   "execution_count": 66,
   "metadata": {
    "scrolled": true
   },
   "outputs": [
    {
     "name": "stdout",
     "output_type": "stream",
     "text": [
      "Length of userScoreP:  12506\n"
     ]
    }
   ],
   "source": [
    "print(\"Length of userScoreP: \", len(userScoreP))"
   ]
  },
  {
   "cell_type": "raw",
   "metadata": {},
   "source": [
    "userScoreP"
   ]
  },
  {
   "cell_type": "code",
   "execution_count": 67,
   "metadata": {
    "scrolled": true
   },
   "outputs": [
    {
     "name": "stdout",
     "output_type": "stream",
     "text": [
      "Length of userScoreP:  12506\n",
      "Length of Normal traffic:  2506\n",
      "Length of true attacks:  10000\n",
      "Percent attacks:  0.7996161842315689\n"
     ]
    }
   ],
   "source": [
    "agt_normals = []\n",
    "agt_attacks = []\n",
    "# attacker='172.16.0.1'; victim='192.168.10.50'\n",
    "attacker1='999.16.30.0'; victim='999.16.30.1' #'192.168.10.50'\n",
    "print(\"Length of userScoreP: \", len(userScoreP))\n",
    "\n",
    "for (IP, IPD, score) in list(userScoreP.itertuples(index=False, name=None)):\n",
    "#     if (IP != '172.16.0.1' and  IPD=='192.168.10.50') or IP == '192.168.10.50': \n",
    "#     if (IP != attacker and  IPD==victim) or IP == victim: \n",
    "    if IP == attacker or IP == victim:\n",
    "        agt_attacks.append(IP+IPD)\n",
    "    else:\n",
    "        agt_normals.append(IP + IPD)\n",
    "        \n",
    "\n",
    "print(\"Length of Normal traffic: \", len(agt_normals))\n",
    "print(\"Length of true attacks: \", len(agt_attacks))\n",
    "\n",
    "#Plot some graphs\n",
    "percentages = [0.1, 0.2, 0.3, 0.4, 0.5, 0.6, 0.7, 0.8, 0.9, 1.0]\n",
    "\n",
    "num = len(agt_normals)\n",
    "print(\"Percent attacks: \", len(agt_attacks)/len(userScoreP))"
   ]
  },
  {
   "cell_type": "code",
   "execution_count": 68,
   "metadata": {},
   "outputs": [],
   "source": [
    "''' Countermeasure!!!! '''\n",
    "\n",
    "# HULK\n",
    "# Length of test data:  11710\n",
    "# Number of normal traffic:  4552\n",
    "# Number of true attacks:  7158\n",
    "# Percent attacks:  0.611272416737831\n",
    "\n",
    "classifier_rejectthres = 0.6 #0.5099\n",
    "fp_classifier = 0.028119507908611598 #0.007249560632688928\n",
    "\n",
    "# Mimic results (FPR)\n",
    "# (ℓ = ∞)\n",
    "iter_classifier = [0,\n",
    " 0.0003990422984836393,\n",
    " 0.10814046288906624,\n",
    " 0.20989624900239426,\n",
    " 0.21787709497206703,\n",
    " 0.22585794094173983,\n",
    " 0.23822825219473265,\n",
    " 0.24221867517956902,\n",
    " 0.25139664804469275,\n",
    " 0.26895450917797287,\n",
    " 1.0]\n",
    "\n",
    "# (ℓ = 1)\n",
    "iter_classifier_one = [0,\n",
    " 0.11053471667996807,\n",
    " 0.21787709497206703,\n",
    " 0.2916999201915403,\n",
    " 0.3547486033519553,\n",
    " 0.4030327214684757,\n",
    " 0.4493216280925778,\n",
    " 0.5079808459696727,\n",
    " 0.573024740622506,\n",
    " 0.6931364724660815,\n",
    " 1.0]"
   ]
  },
  {
   "cell_type": "code",
   "execution_count": 69,
   "metadata": {},
   "outputs": [],
   "source": [
    "''' Countermeasure!!!! '''\n",
    "# Mimic results (FNR)\n",
    "# (ℓ = ∞)\n",
    "iter_offline_fnr = [0, 0.7092, 0.7294, 0.7428, 0.7556, 0.7689, 0.7822, 0.8038, 0.9265, 1.0, 1.0]\n",
    "\n",
    "# (ℓ = 1)\n",
    "iter_one_fnr = [0,\n",
    " 0.1939,\n",
    " 0.2869,\n",
    " 0.3548,\n",
    " 0.4202,\n",
    " 0.4854,\n",
    " 0.5497,\n",
    " 0.6267,\n",
    " 0.7234,\n",
    " 0.8945,\n",
    " 1.0]"
   ]
  },
  {
   "cell_type": "code",
   "execution_count": 70,
   "metadata": {},
   "outputs": [],
   "source": [
    "graphP, P_tpr = calculateFalsePositives(agt_normals, agt_attacks, userScoreP, percentages, num)\n",
    "graphPQ_online, onlinePQ_tpr = calculateFalsePositives(agt_normals, agt_attacks, userScorePQ_online, percentages, num)\n",
    "graphPQ_offline, offlinePQ_tpr  = calculateFalsePositives(agt_normals, agt_attacks, userScorePQ_offline, percentages, num)\n",
    "# graphQonline, _ = calculateFalsePositives(agt_normals, agt_attacks, userScoreQonline, percentages, num)\n",
    "# graphQoffline, _ = calculateFalsePositives(agt_normals, agt_attacks, userScoreQoffline, percentages, num)   \n",
    "\n",
    "graphP.insert(0, 0)\n",
    "graphPQ_online.insert(0, 0)\n",
    "graphPQ_offline.insert(0, 0)\n",
    "# graphQonline.insert(0, 0)\n",
    "# graphQoffline.insert(0, 0)"
   ]
  },
  {
   "cell_type": "raw",
   "metadata": {},
   "source": [
    "graphPQ_offline"
   ]
  },
  {
   "cell_type": "code",
   "execution_count": 71,
   "metadata": {},
   "outputs": [],
   "source": [
    "''' No countermeasure!!!! '''\n",
    "atkFPR_PQonline = [0, 0.485014774166315, 0.695652173913043, 0.72055719712959, 0.730688054031237, 0.738286196707471, 0.750949767834529, 0.768256648374842, 0.778809624314057, 0.797804981004643, 1.0]\n",
    "\n",
    "atkFPR_iter_one = [0,\n",
    " 0.0,\n",
    " 0.0,\n",
    " 0.0,\n",
    " 0.0,\n",
    " 0.8335993615323224,\n",
    " 0.8335993615323224,\n",
    " 0.8363926576217079,\n",
    " 0.8363926576217079,\n",
    " 1.0,\n",
    " 1.0]"
   ]
  },
  {
   "cell_type": "code",
   "execution_count": 73,
   "metadata": {
    "scrolled": false
   },
   "outputs": [
    {
     "data": {
      "image/png": "[encoded data removed]",
      "text/plain": [
       "<Figure size 648x648 with 1 Axes>"
      ]
     },
     "metadata": {
      "needs_background": "light"
     },
     "output_type": "display_data"
    }
   ],
   "source": [
    "# plotAndSaveGraph(graphPQ_online, graphP, graphPQ_offline, classifier_rejectthres, fp_classifier, \n",
    "#                  iter_classifier_one, iter_classifier, config) #, plt=True)\n",
    "\n",
    "plotAndSaveGraph(graphP, graphPQ_online, atkFPR_PQonline, \n",
    "                 iter_classifier_one, atkFPR_iter_one, config) #, plt=True, metric='F_pos')"
   ]
  },
  {
   "cell_type": "markdown",
   "metadata": {},
   "source": [
    "### Calculate False Negatives"
   ]
  },
  {
   "cell_type": "code",
   "execution_count": 74,
   "metadata": {},
   "outputs": [],
   "source": [
    "def calculateFalseNegatives(agtIPList, agt_attacks, scoreDict, percentages, numNorm) :\n",
    "    numNormal = numNorm\n",
    "    numTotalIP = len(scoreDict)\n",
    "    cutOff = []\n",
    "    falsenegatives = [] #ADD\n",
    "    \n",
    "    for percent in percentages :\n",
    "        cutOff.append(math.ceil(numTotalIP * percent))\n",
    "    \n",
    "    index = 0\n",
    "    fn_count = 0 #ADD\n",
    "    \n",
    "    for (IP, IPD, score) in list(scoreDict.itertuples(index=False, name=None)):\n",
    "        if IP + IPD in agt_attacks: # ADD\n",
    "            fn_count = fn_count + 1 # ADD\n",
    "            \n",
    "        index = index + 1\n",
    "        if index in cutOff :\n",
    "            falsenegatives.append(fn_count/len(agt_attacks)) #numNormal) # ADD\n",
    "            \n",
    "    return falsenegatives"
   ]
  },
  {
   "cell_type": "code",
   "execution_count": 75,
   "metadata": {},
   "outputs": [
    {
     "name": "stdout",
     "output_type": "stream",
     "text": [
      "Length of userScoreP:             Source IP         Dest IP         P\n",
      "274    43.253.46.117    192.168.10.9  1.000000\n",
      "2343   43.253.46.117    192.168.10.9  1.000000\n",
      "12366  192.168.10.17  192.168.10.255  0.994954\n",
      "2135   192.168.10.12    62.241.12.20  0.992910\n",
      "6740   192.168.10.12    62.241.12.20  0.992910\n"
     ]
    }
   ],
   "source": [
    "# #Inverse User Scores\n",
    "userScoreP_inv = userScoreP.sort_values(by = ['P'],ascending=False) # add\n",
    "# userScoreP_inv\n",
    "userScorePQ_online_inv = userScorePQ_online.sort_values(by = ['PoverQ_online'],ascending=False) # add \n",
    "userScorePQ_offline_inv = userScorePQ_offline.sort_values(by = ['PoverQ_offline'],ascending=False) \n",
    "\n",
    "print(\"Length of userScoreP: \", userScoreP_inv[:5]) #len(userScoreP))"
   ]
  },
  {
   "cell_type": "code",
   "execution_count": 76,
   "metadata": {},
   "outputs": [],
   "source": [
    "graphP_fnr = calculateFalseNegatives(agt_normals, agt_attacks, userScoreP_inv, percentages, num)\n",
    "graphPQ_online_fnr = calculateFalseNegatives(agt_normals, agt_attacks, userScorePQ_online_inv, percentages, num)\n",
    "graphPQ_offline_fnr = calculateFalseNegatives(agt_normals, agt_attacks, userScorePQ_offline_inv, percentages, num)\n",
    "\n",
    "\n",
    "graphP_fnr.insert(0, 0)\n",
    "graphPQ_online_fnr.insert(0, 0)\n",
    "graphPQ_offline_fnr.insert(0, 0)"
   ]
  },
  {
   "cell_type": "code",
   "execution_count": 77,
   "metadata": {},
   "outputs": [
    {
     "name": "stdout",
     "output_type": "stream",
     "text": [
      "[0, 0.0, 0.0588, 0.175, 0.2964, 0.4186, 0.5405, 0.663, 0.7857, 0.909, 1.0]\n",
      "[0, 0.0844, 0.2062, 0.3289, 0.4514, 0.5747, 0.697, 0.8188, 0.9385, 1.0, 1.0]\n",
      "[0, 0.1207, 0.2458, 0.3707, 0.4944, 0.6185, 0.743, 0.8671, 0.9857, 1.0, 1.0]\n"
     ]
    }
   ],
   "source": [
    "print(graphP_fnr)\n",
    "print(graphPQ_online_fnr)\n",
    "print(graphPQ_offline_fnr)"
   ]
  },
  {
   "cell_type": "code",
   "execution_count": 79,
   "metadata": {},
   "outputs": [],
   "source": [
    "''' No countermeasure!!!!! '''\n",
    "atkFNR_PQonline = [0, 0.0762, 0.1965, 0.3189, 0.4399, 0.5619, 0.6852, 0.8079, 0.9269, 1, 1]\n",
    "\n",
    "atkFNR_iter_one = [0, 0.0, 0.0, 0.0, 0.0, 0.0, 1.0, 1.0, 1.0, 1.0, 1.0]"
   ]
  },
  {
   "cell_type": "code",
   "execution_count": 82,
   "metadata": {
    "scrolled": false
   },
   "outputs": [
    {
     "data": {
      "image/png": "[encoded data removed]",
      "text/plain": [
       "<Figure size 648x648 with 1 Axes>"
      ]
     },
     "metadata": {
      "needs_background": "light"
     },
     "output_type": "display_data"
    }
   ],
   "source": [
    "plotAndSaveGraph(graphP_fnr, graphPQ_online_fnr, atkFNR_PQonline, \n",
    "                 iter_one_fnr, atkFNR_iter_one, config) #, plt=True, metric='F_neg')"
   ]
  },
  {
   "cell_type": "markdown",
   "metadata": {},
   "source": [
    "### Calculate evaluation metrics "
   ]
  },
  {
   "cell_type": "code",
   "execution_count": 83,
   "metadata": {
    "scrolled": true
   },
   "outputs": [
    {
     "name": "stderr",
     "output_type": "stream",
     "text": [
      "/home/wesleyjtann/miniconda3/envs/ddos/lib/python3.7/site-packages/ipykernel_launcher.py:46: RuntimeWarning: invalid value encountered in true_divide\n"
     ]
    }
   ],
   "source": [
    "P_metrics = np.array(np.transpose(calc_eval(graphP, P_tpr, agt_normals, agt_attacks)))\n",
    "P_metrics = np.concatenate((P_metrics, np.reshape(graphP_fnr[1:], (-1, 1))), axis=1)\n",
    "\n",
    "onlinePQ_metrics = np.array(np.transpose(calc_eval(graphPQ_online, onlinePQ_tpr, agt_normals, agt_attacks)))\n",
    "onlinePQ_metrics = np.concatenate((onlinePQ_metrics, np.reshape(graphPQ_online_fnr[1:], (-1, 1))), axis=1)\n",
    "\n",
    "offlinePQ_metrics = np.array(np.transpose(calc_eval(graphPQ_offline, offlinePQ_tpr, agt_normals, agt_attacks)))\n",
    "offlinePQ_metrics = np.concatenate((offlinePQ_metrics, np.reshape(graphPQ_offline_fnr[1:], (-1, 1))), axis=1)\n",
    "\n",
    "\n",
    "P_metrics = pd.DataFrame(P_metrics, columns=['Accr_P', 'FPR_P', 'Prec_P', 'Rec_P', 'F1_P', 'FNR_P'])\n",
    "onlinePQ_metrics = pd.DataFrame(onlinePQ_metrics, columns=['Accr_onPQ', 'FPR_onPQ', \n",
    "                                                           'Prec_onPQ', 'Rec_onPQ', 'F1_onPQ', 'FNR_onPQ'])\n",
    "offlinePQ_metrics = pd.DataFrame(offlinePQ_metrics, columns=['Accr_offPQ', 'FPR_offPQ', \n",
    "                                                             'Prec_offPQ', 'Rec_offPQ', 'F1_offPQ', 'FNR_offPQ'])\n",
    "df_FPresults = pd.concat([P_metrics,onlinePQ_metrics,offlinePQ_metrics],axis=1)"
   ]
  },
  {
   "cell_type": "code",
   "execution_count": null,
   "metadata": {},
   "outputs": [],
   "source": []
  },
  {
   "cell_type": "raw",
   "metadata": {},
   "source": [
    "## Iter classifier One\n",
    "Accuracy: 0.3748600671677595\n",
    "Recall: 0.3553\n",
    "Precision: 0.7215678310316815\n",
    "F1 score: 0.4761458054140981\n",
    "\n",
    "## Iter classifier Offline\n",
    "Accuracy: 0.4473052934591396\n",
    "Recall: 0.3829\n",
    "Precision: 0.837855579868709\n",
    "F1 score: 0.5256005490734384"
   ]
  },
  {
   "cell_type": "code",
   "execution_count": 84,
   "metadata": {},
   "outputs": [
    {
     "data": {
      "text/html": [
       "<div>\n",
       "<style scoped>\n",
       "    .dataframe tbody tr th:only-of-type {\n",
       "        vertical-align: middle;\n",
       "    }\n",
       "\n",
       "    .dataframe tbody tr th {\n",
       "        vertical-align: top;\n",
       "    }\n",
       "\n",
       "    .dataframe thead th {\n",
       "        text-align: right;\n",
       "    }\n",
       "</style>\n",
       "<table border=\"1\" class=\"dataframe\">\n",
       "  <thead>\n",
       "    <tr style=\"text-align: right;\">\n",
       "      <th></th>\n",
       "      <th>Accr_P</th>\n",
       "      <th>FPR_P</th>\n",
       "      <th>Prec_P</th>\n",
       "      <th>Rec_P</th>\n",
       "      <th>F1_P</th>\n",
       "      <th>FNR_P</th>\n",
       "      <th>Accr_onPQ</th>\n",
       "      <th>FPR_onPQ</th>\n",
       "      <th>Prec_onPQ</th>\n",
       "      <th>Rec_onPQ</th>\n",
       "      <th>F1_onPQ</th>\n",
       "      <th>FNR_onPQ</th>\n",
       "      <th>Accr_offPQ</th>\n",
       "      <th>FPR_offPQ</th>\n",
       "      <th>Prec_offPQ</th>\n",
       "      <th>Rec_offPQ</th>\n",
       "      <th>F1_offPQ</th>\n",
       "      <th>FNR_offPQ</th>\n",
       "    </tr>\n",
       "  </thead>\n",
       "  <tbody>\n",
       "    <tr>\n",
       "      <th>0</th>\n",
       "      <td>0.246042</td>\n",
       "      <td>0.135674</td>\n",
       "      <td>0.728217</td>\n",
       "      <td>0.0911</td>\n",
       "      <td>0.161941</td>\n",
       "      <td>0.0000</td>\n",
       "      <td>0.100352</td>\n",
       "      <td>0.499202</td>\n",
       "      <td>0.000000</td>\n",
       "      <td>0.0000</td>\n",
       "      <td>NaN</td>\n",
       "      <td>0.0844</td>\n",
       "      <td>0.100352</td>\n",
       "      <td>0.499202</td>\n",
       "      <td>0.000000</td>\n",
       "      <td>0.0000</td>\n",
       "      <td>NaN</td>\n",
       "      <td>0.1207</td>\n",
       "    </tr>\n",
       "    <tr>\n",
       "      <th>1</th>\n",
       "      <td>0.343195</td>\n",
       "      <td>0.142857</td>\n",
       "      <td>0.856914</td>\n",
       "      <td>0.2144</td>\n",
       "      <td>0.342985</td>\n",
       "      <td>0.0588</td>\n",
       "      <td>0.098833</td>\n",
       "      <td>0.752594</td>\n",
       "      <td>0.246203</td>\n",
       "      <td>0.0616</td>\n",
       "      <td>0.098544</td>\n",
       "      <td>0.2062</td>\n",
       "      <td>0.023349</td>\n",
       "      <td>0.940942</td>\n",
       "      <td>0.057554</td>\n",
       "      <td>0.0144</td>\n",
       "      <td>0.023036</td>\n",
       "      <td>0.2458</td>\n",
       "    </tr>\n",
       "    <tr>\n",
       "      <th>2</th>\n",
       "      <td>0.439469</td>\n",
       "      <td>0.152035</td>\n",
       "      <td>0.898454</td>\n",
       "      <td>0.3371</td>\n",
       "      <td>0.490256</td>\n",
       "      <td>0.1750</td>\n",
       "      <td>0.190309</td>\n",
       "      <td>0.773743</td>\n",
       "      <td>0.483209</td>\n",
       "      <td>0.1813</td>\n",
       "      <td>0.263671</td>\n",
       "      <td>0.3289</td>\n",
       "      <td>0.113066</td>\n",
       "      <td>0.966480</td>\n",
       "      <td>0.354478</td>\n",
       "      <td>0.1330</td>\n",
       "      <td>0.193426</td>\n",
       "      <td>0.3707</td>\n",
       "    </tr>\n",
       "    <tr>\n",
       "      <th>3</th>\n",
       "      <td>0.535343</td>\n",
       "      <td>0.162410</td>\n",
       "      <td>0.918649</td>\n",
       "      <td>0.4596</td>\n",
       "      <td>0.612677</td>\n",
       "      <td>0.2964</td>\n",
       "      <td>0.285063</td>\n",
       "      <td>0.786911</td>\n",
       "      <td>0.605836</td>\n",
       "      <td>0.3031</td>\n",
       "      <td>0.404053</td>\n",
       "      <td>0.4514</td>\n",
       "      <td>0.211498</td>\n",
       "      <td>0.970471</td>\n",
       "      <td>0.513892</td>\n",
       "      <td>0.2571</td>\n",
       "      <td>0.342731</td>\n",
       "      <td>0.4944</td>\n",
       "    </tr>\n",
       "    <tr>\n",
       "      <th>4</th>\n",
       "      <td>0.630178</td>\n",
       "      <td>0.175180</td>\n",
       "      <td>0.929794</td>\n",
       "      <td>0.5814</td>\n",
       "      <td>0.715437</td>\n",
       "      <td>0.4186</td>\n",
       "      <td>0.380537</td>\n",
       "      <td>0.798085</td>\n",
       "      <td>0.680154</td>\n",
       "      <td>0.4253</td>\n",
       "      <td>0.523350</td>\n",
       "      <td>0.5747</td>\n",
       "      <td>0.310491</td>\n",
       "      <td>0.972865</td>\n",
       "      <td>0.610107</td>\n",
       "      <td>0.3815</td>\n",
       "      <td>0.469452</td>\n",
       "      <td>0.6185</td>\n",
       "    </tr>\n",
       "    <tr>\n",
       "      <th>5</th>\n",
       "      <td>0.725732</td>\n",
       "      <td>0.186353</td>\n",
       "      <td>0.937767</td>\n",
       "      <td>0.7037</td>\n",
       "      <td>0.804045</td>\n",
       "      <td>0.5405</td>\n",
       "      <td>0.477851</td>\n",
       "      <td>0.804868</td>\n",
       "      <td>0.731210</td>\n",
       "      <td>0.5487</td>\n",
       "      <td>0.626942</td>\n",
       "      <td>0.6970</td>\n",
       "      <td>0.409084</td>\n",
       "      <td>0.976457</td>\n",
       "      <td>0.673907</td>\n",
       "      <td>0.5057</td>\n",
       "      <td>0.577811</td>\n",
       "      <td>0.7430</td>\n",
       "    </tr>\n",
       "    <tr>\n",
       "      <th>6</th>\n",
       "      <td>0.819846</td>\n",
       "      <td>0.201117</td>\n",
       "      <td>0.942433</td>\n",
       "      <td>0.8251</td>\n",
       "      <td>0.879872</td>\n",
       "      <td>0.6630</td>\n",
       "      <td>0.573725</td>\n",
       "      <td>0.815243</td>\n",
       "      <td>0.766648</td>\n",
       "      <td>0.6712</td>\n",
       "      <td>0.715756</td>\n",
       "      <td>0.8188</td>\n",
       "      <td>0.506877</td>\n",
       "      <td>0.982043</td>\n",
       "      <td>0.718903</td>\n",
       "      <td>0.6294</td>\n",
       "      <td>0.671181</td>\n",
       "      <td>0.8671</td>\n",
       "    </tr>\n",
       "    <tr>\n",
       "      <th>7</th>\n",
       "      <td>0.905725</td>\n",
       "      <td>0.236233</td>\n",
       "      <td>0.940830</td>\n",
       "      <td>0.9413</td>\n",
       "      <td>0.941065</td>\n",
       "      <td>0.7857</td>\n",
       "      <td>0.669998</td>\n",
       "      <td>0.824421</td>\n",
       "      <td>0.793503</td>\n",
       "      <td>0.7939</td>\n",
       "      <td>0.793702</td>\n",
       "      <td>0.9385</td>\n",
       "      <td>0.606669</td>\n",
       "      <td>0.982442</td>\n",
       "      <td>0.753923</td>\n",
       "      <td>0.7543</td>\n",
       "      <td>0.754111</td>\n",
       "      <td>0.9857</td>\n",
       "    </tr>\n",
       "    <tr>\n",
       "      <th>8</th>\n",
       "      <td>0.899568</td>\n",
       "      <td>0.501197</td>\n",
       "      <td>0.888415</td>\n",
       "      <td>1.0000</td>\n",
       "      <td>0.940911</td>\n",
       "      <td>0.9090</td>\n",
       "      <td>0.764753</td>\n",
       "      <td>0.837590</td>\n",
       "      <td>0.813522</td>\n",
       "      <td>0.9157</td>\n",
       "      <td>0.861592</td>\n",
       "      <td>1.0000</td>\n",
       "      <td>0.706701</td>\n",
       "      <td>0.982442</td>\n",
       "      <td>0.781272</td>\n",
       "      <td>0.8794</td>\n",
       "      <td>0.827437</td>\n",
       "      <td>1.0000</td>\n",
       "    </tr>\n",
       "    <tr>\n",
       "      <th>9</th>\n",
       "      <td>0.799616</td>\n",
       "      <td>1.000000</td>\n",
       "      <td>0.799616</td>\n",
       "      <td>1.0000</td>\n",
       "      <td>0.888652</td>\n",
       "      <td>1.0000</td>\n",
       "      <td>0.799616</td>\n",
       "      <td>1.000000</td>\n",
       "      <td>0.799616</td>\n",
       "      <td>1.0000</td>\n",
       "      <td>0.888652</td>\n",
       "      <td>1.0000</td>\n",
       "      <td>0.799616</td>\n",
       "      <td>1.000000</td>\n",
       "      <td>0.799616</td>\n",
       "      <td>1.0000</td>\n",
       "      <td>0.888652</td>\n",
       "      <td>1.0000</td>\n",
       "    </tr>\n",
       "  </tbody>\n",
       "</table>\n",
       "</div>"
      ],
      "text/plain": [
       "     Accr_P     FPR_P    Prec_P   Rec_P      F1_P   FNR_P  Accr_onPQ  \\\n",
       "0  0.246042  0.135674  0.728217  0.0911  0.161941  0.0000   0.100352   \n",
       "1  0.343195  0.142857  0.856914  0.2144  0.342985  0.0588   0.098833   \n",
       "2  0.439469  0.152035  0.898454  0.3371  0.490256  0.1750   0.190309   \n",
       "3  0.535343  0.162410  0.918649  0.4596  0.612677  0.2964   0.285063   \n",
       "4  0.630178  0.175180  0.929794  0.5814  0.715437  0.4186   0.380537   \n",
       "5  0.725732  0.186353  0.937767  0.7037  0.804045  0.5405   0.477851   \n",
       "6  0.819846  0.201117  0.942433  0.8251  0.879872  0.6630   0.573725   \n",
       "7  0.905725  0.236233  0.940830  0.9413  0.941065  0.7857   0.669998   \n",
       "8  0.899568  0.501197  0.888415  1.0000  0.940911  0.9090   0.764753   \n",
       "9  0.799616  1.000000  0.799616  1.0000  0.888652  1.0000   0.799616   \n",
       "\n",
       "   FPR_onPQ  Prec_onPQ  Rec_onPQ   F1_onPQ  FNR_onPQ  Accr_offPQ  FPR_offPQ  \\\n",
       "0  0.499202   0.000000    0.0000       NaN    0.0844    0.100352   0.499202   \n",
       "1  0.752594   0.246203    0.0616  0.098544    0.2062    0.023349   0.940942   \n",
       "2  0.773743   0.483209    0.1813  0.263671    0.3289    0.113066   0.966480   \n",
       "3  0.786911   0.605836    0.3031  0.404053    0.4514    0.211498   0.970471   \n",
       "4  0.798085   0.680154    0.4253  0.523350    0.5747    0.310491   0.972865   \n",
       "5  0.804868   0.731210    0.5487  0.626942    0.6970    0.409084   0.976457   \n",
       "6  0.815243   0.766648    0.6712  0.715756    0.8188    0.506877   0.982043   \n",
       "7  0.824421   0.793503    0.7939  0.793702    0.9385    0.606669   0.982442   \n",
       "8  0.837590   0.813522    0.9157  0.861592    1.0000    0.706701   0.982442   \n",
       "9  1.000000   0.799616    1.0000  0.888652    1.0000    0.799616   1.000000   \n",
       "\n",
       "   Prec_offPQ  Rec_offPQ  F1_offPQ  FNR_offPQ  \n",
       "0    0.000000     0.0000       NaN     0.1207  \n",
       "1    0.057554     0.0144  0.023036     0.2458  \n",
       "2    0.354478     0.1330  0.193426     0.3707  \n",
       "3    0.513892     0.2571  0.342731     0.4944  \n",
       "4    0.610107     0.3815  0.469452     0.6185  \n",
       "5    0.673907     0.5057  0.577811     0.7430  \n",
       "6    0.718903     0.6294  0.671181     0.8671  \n",
       "7    0.753923     0.7543  0.754111     0.9857  \n",
       "8    0.781272     0.8794  0.827437     1.0000  \n",
       "9    0.799616     1.0000  0.888652     1.0000  "
      ]
     },
     "execution_count": 84,
     "metadata": {},
     "output_type": "execute_result"
    }
   ],
   "source": [
    "df_FPresults"
   ]
  },
  {
   "cell_type": "code",
   "execution_count": 86,
   "metadata": {},
   "outputs": [
    {
     "data": {
      "text/html": [
       "<div>\n",
       "<style scoped>\n",
       "    .dataframe tbody tr th:only-of-type {\n",
       "        vertical-align: middle;\n",
       "    }\n",
       "\n",
       "    .dataframe tbody tr th {\n",
       "        vertical-align: top;\n",
       "    }\n",
       "\n",
       "    .dataframe thead th {\n",
       "        text-align: right;\n",
       "    }\n",
       "</style>\n",
       "<table border=\"1\" class=\"dataframe\">\n",
       "  <thead>\n",
       "    <tr style=\"text-align: right;\">\n",
       "      <th></th>\n",
       "      <th>Accr_P</th>\n",
       "      <th>FPR_P</th>\n",
       "      <th>Prec_P</th>\n",
       "      <th>Rec_P</th>\n",
       "      <th>F1_P</th>\n",
       "      <th>FNR_P</th>\n",
       "      <th>Accr_onPQ</th>\n",
       "      <th>FPR_onPQ</th>\n",
       "      <th>Prec_onPQ</th>\n",
       "      <th>Rec_onPQ</th>\n",
       "      <th>F1_onPQ</th>\n",
       "      <th>FNR_onPQ</th>\n",
       "      <th>Accr_offPQ</th>\n",
       "      <th>FPR_offPQ</th>\n",
       "      <th>Prec_offPQ</th>\n",
       "      <th>Rec_offPQ</th>\n",
       "      <th>F1_offPQ</th>\n",
       "      <th>FNR_offPQ</th>\n",
       "    </tr>\n",
       "  </thead>\n",
       "  <tbody>\n",
       "    <tr>\n",
       "      <th>0</th>\n",
       "      <td>0.246042</td>\n",
       "      <td>0.135674</td>\n",
       "      <td>0.728217</td>\n",
       "      <td>0.0911</td>\n",
       "      <td>0.161941</td>\n",
       "      <td>0.0000</td>\n",
       "      <td>0.100352</td>\n",
       "      <td>0.499202</td>\n",
       "      <td>0.000000</td>\n",
       "      <td>0.0000</td>\n",
       "      <td>NaN</td>\n",
       "      <td>0.0844</td>\n",
       "      <td>0.100352</td>\n",
       "      <td>0.499202</td>\n",
       "      <td>0.000000</td>\n",
       "      <td>0.0000</td>\n",
       "      <td>NaN</td>\n",
       "      <td>0.1207</td>\n",
       "    </tr>\n",
       "    <tr>\n",
       "      <th>1</th>\n",
       "      <td>0.343195</td>\n",
       "      <td>0.142857</td>\n",
       "      <td>0.856914</td>\n",
       "      <td>0.2144</td>\n",
       "      <td>0.342985</td>\n",
       "      <td>0.0588</td>\n",
       "      <td>0.098833</td>\n",
       "      <td>0.752594</td>\n",
       "      <td>0.246203</td>\n",
       "      <td>0.0616</td>\n",
       "      <td>0.098544</td>\n",
       "      <td>0.2062</td>\n",
       "      <td>0.023349</td>\n",
       "      <td>0.940942</td>\n",
       "      <td>0.057554</td>\n",
       "      <td>0.0144</td>\n",
       "      <td>0.023036</td>\n",
       "      <td>0.2458</td>\n",
       "    </tr>\n",
       "    <tr>\n",
       "      <th>2</th>\n",
       "      <td>0.439469</td>\n",
       "      <td>0.152035</td>\n",
       "      <td>0.898454</td>\n",
       "      <td>0.3371</td>\n",
       "      <td>0.490256</td>\n",
       "      <td>0.1750</td>\n",
       "      <td>0.190309</td>\n",
       "      <td>0.773743</td>\n",
       "      <td>0.483209</td>\n",
       "      <td>0.1813</td>\n",
       "      <td>0.263671</td>\n",
       "      <td>0.3289</td>\n",
       "      <td>0.113066</td>\n",
       "      <td>0.966480</td>\n",
       "      <td>0.354478</td>\n",
       "      <td>0.1330</td>\n",
       "      <td>0.193426</td>\n",
       "      <td>0.3707</td>\n",
       "    </tr>\n",
       "    <tr>\n",
       "      <th>3</th>\n",
       "      <td>0.535343</td>\n",
       "      <td>0.162410</td>\n",
       "      <td>0.918649</td>\n",
       "      <td>0.4596</td>\n",
       "      <td>0.612677</td>\n",
       "      <td>0.2964</td>\n",
       "      <td>0.285063</td>\n",
       "      <td>0.786911</td>\n",
       "      <td>0.605836</td>\n",
       "      <td>0.3031</td>\n",
       "      <td>0.404053</td>\n",
       "      <td>0.4514</td>\n",
       "      <td>0.211498</td>\n",
       "      <td>0.970471</td>\n",
       "      <td>0.513892</td>\n",
       "      <td>0.2571</td>\n",
       "      <td>0.342731</td>\n",
       "      <td>0.4944</td>\n",
       "    </tr>\n",
       "    <tr>\n",
       "      <th>4</th>\n",
       "      <td>0.630178</td>\n",
       "      <td>0.175180</td>\n",
       "      <td>0.929794</td>\n",
       "      <td>0.5814</td>\n",
       "      <td>0.715437</td>\n",
       "      <td>0.4186</td>\n",
       "      <td>0.380537</td>\n",
       "      <td>0.798085</td>\n",
       "      <td>0.680154</td>\n",
       "      <td>0.4253</td>\n",
       "      <td>0.523350</td>\n",
       "      <td>0.5747</td>\n",
       "      <td>0.310491</td>\n",
       "      <td>0.972865</td>\n",
       "      <td>0.610107</td>\n",
       "      <td>0.3815</td>\n",
       "      <td>0.469452</td>\n",
       "      <td>0.6185</td>\n",
       "    </tr>\n",
       "    <tr>\n",
       "      <th>5</th>\n",
       "      <td>0.725732</td>\n",
       "      <td>0.186353</td>\n",
       "      <td>0.937767</td>\n",
       "      <td>0.7037</td>\n",
       "      <td>0.804045</td>\n",
       "      <td>0.5405</td>\n",
       "      <td>0.477851</td>\n",
       "      <td>0.804868</td>\n",
       "      <td>0.731210</td>\n",
       "      <td>0.5487</td>\n",
       "      <td>0.626942</td>\n",
       "      <td>0.6970</td>\n",
       "      <td>0.409084</td>\n",
       "      <td>0.976457</td>\n",
       "      <td>0.673907</td>\n",
       "      <td>0.5057</td>\n",
       "      <td>0.577811</td>\n",
       "      <td>0.7430</td>\n",
       "    </tr>\n",
       "    <tr>\n",
       "      <th>6</th>\n",
       "      <td>0.819846</td>\n",
       "      <td>0.201117</td>\n",
       "      <td>0.942433</td>\n",
       "      <td>0.8251</td>\n",
       "      <td>0.879872</td>\n",
       "      <td>0.6630</td>\n",
       "      <td>0.573725</td>\n",
       "      <td>0.815243</td>\n",
       "      <td>0.766648</td>\n",
       "      <td>0.6712</td>\n",
       "      <td>0.715756</td>\n",
       "      <td>0.8188</td>\n",
       "      <td>0.506877</td>\n",
       "      <td>0.982043</td>\n",
       "      <td>0.718903</td>\n",
       "      <td>0.6294</td>\n",
       "      <td>0.671181</td>\n",
       "      <td>0.8671</td>\n",
       "    </tr>\n",
       "    <tr>\n",
       "      <th>7</th>\n",
       "      <td>0.905725</td>\n",
       "      <td>0.236233</td>\n",
       "      <td>0.940830</td>\n",
       "      <td>0.9413</td>\n",
       "      <td>0.941065</td>\n",
       "      <td>0.7857</td>\n",
       "      <td>0.669998</td>\n",
       "      <td>0.824421</td>\n",
       "      <td>0.793503</td>\n",
       "      <td>0.7939</td>\n",
       "      <td>0.793702</td>\n",
       "      <td>0.9385</td>\n",
       "      <td>0.606669</td>\n",
       "      <td>0.982442</td>\n",
       "      <td>0.753923</td>\n",
       "      <td>0.7543</td>\n",
       "      <td>0.754111</td>\n",
       "      <td>0.9857</td>\n",
       "    </tr>\n",
       "    <tr>\n",
       "      <th>8</th>\n",
       "      <td>0.899568</td>\n",
       "      <td>0.501197</td>\n",
       "      <td>0.888415</td>\n",
       "      <td>1.0000</td>\n",
       "      <td>0.940911</td>\n",
       "      <td>0.9090</td>\n",
       "      <td>0.764753</td>\n",
       "      <td>0.837590</td>\n",
       "      <td>0.813522</td>\n",
       "      <td>0.9157</td>\n",
       "      <td>0.861592</td>\n",
       "      <td>1.0000</td>\n",
       "      <td>0.706701</td>\n",
       "      <td>0.982442</td>\n",
       "      <td>0.781272</td>\n",
       "      <td>0.8794</td>\n",
       "      <td>0.827437</td>\n",
       "      <td>1.0000</td>\n",
       "    </tr>\n",
       "    <tr>\n",
       "      <th>9</th>\n",
       "      <td>0.799616</td>\n",
       "      <td>1.000000</td>\n",
       "      <td>0.799616</td>\n",
       "      <td>1.0000</td>\n",
       "      <td>0.888652</td>\n",
       "      <td>1.0000</td>\n",
       "      <td>0.799616</td>\n",
       "      <td>1.000000</td>\n",
       "      <td>0.799616</td>\n",
       "      <td>1.0000</td>\n",
       "      <td>0.888652</td>\n",
       "      <td>1.0000</td>\n",
       "      <td>0.799616</td>\n",
       "      <td>1.000000</td>\n",
       "      <td>0.799616</td>\n",
       "      <td>1.0000</td>\n",
       "      <td>0.888652</td>\n",
       "      <td>1.0000</td>\n",
       "    </tr>\n",
       "  </tbody>\n",
       "</table>\n",
       "</div>"
      ],
      "text/plain": [
       "     Accr_P     FPR_P    Prec_P   Rec_P      F1_P   FNR_P  Accr_onPQ  \\\n",
       "0  0.246042  0.135674  0.728217  0.0911  0.161941  0.0000   0.100352   \n",
       "1  0.343195  0.142857  0.856914  0.2144  0.342985  0.0588   0.098833   \n",
       "2  0.439469  0.152035  0.898454  0.3371  0.490256  0.1750   0.190309   \n",
       "3  0.535343  0.162410  0.918649  0.4596  0.612677  0.2964   0.285063   \n",
       "4  0.630178  0.175180  0.929794  0.5814  0.715437  0.4186   0.380537   \n",
       "5  0.725732  0.186353  0.937767  0.7037  0.804045  0.5405   0.477851   \n",
       "6  0.819846  0.201117  0.942433  0.8251  0.879872  0.6630   0.573725   \n",
       "7  0.905725  0.236233  0.940830  0.9413  0.941065  0.7857   0.669998   \n",
       "8  0.899568  0.501197  0.888415  1.0000  0.940911  0.9090   0.764753   \n",
       "9  0.799616  1.000000  0.799616  1.0000  0.888652  1.0000   0.799616   \n",
       "\n",
       "   FPR_onPQ  Prec_onPQ  Rec_onPQ   F1_onPQ  FNR_onPQ  Accr_offPQ  FPR_offPQ  \\\n",
       "0  0.499202   0.000000    0.0000       NaN    0.0844    0.100352   0.499202   \n",
       "1  0.752594   0.246203    0.0616  0.098544    0.2062    0.023349   0.940942   \n",
       "2  0.773743   0.483209    0.1813  0.263671    0.3289    0.113066   0.966480   \n",
       "3  0.786911   0.605836    0.3031  0.404053    0.4514    0.211498   0.970471   \n",
       "4  0.798085   0.680154    0.4253  0.523350    0.5747    0.310491   0.972865   \n",
       "5  0.804868   0.731210    0.5487  0.626942    0.6970    0.409084   0.976457   \n",
       "6  0.815243   0.766648    0.6712  0.715756    0.8188    0.506877   0.982043   \n",
       "7  0.824421   0.793503    0.7939  0.793702    0.9385    0.606669   0.982442   \n",
       "8  0.837590   0.813522    0.9157  0.861592    1.0000    0.706701   0.982442   \n",
       "9  1.000000   0.799616    1.0000  0.888652    1.0000    0.799616   1.000000   \n",
       "\n",
       "   Prec_offPQ  Rec_offPQ  F1_offPQ  FNR_offPQ  \n",
       "0    0.000000     0.0000       NaN     0.1207  \n",
       "1    0.057554     0.0144  0.023036     0.2458  \n",
       "2    0.354478     0.1330  0.193426     0.3707  \n",
       "3    0.513892     0.2571  0.342731     0.4944  \n",
       "4    0.610107     0.3815  0.469452     0.6185  \n",
       "5    0.673907     0.5057  0.577811     0.7430  \n",
       "6    0.718903     0.6294  0.671181     0.8671  \n",
       "7    0.753923     0.7543  0.754111     0.9857  \n",
       "8    0.781272     0.8794  0.827437     1.0000  \n",
       "9    0.799616     1.0000  0.888652     1.0000  "
      ]
     },
     "execution_count": 86,
     "metadata": {},
     "output_type": "execute_result"
    }
   ],
   "source": [
    "# df_FPresults.to_csv(config['metadata']['uniqueID'] + '/' + config['metadata']['result'] + \n",
    "#                     \"_allPQresults.csv\", index=False)\n",
    "\n",
    "# Rows 3=0.4, 4=0.5, 5=0.6\n",
    "df_FPresults#.iloc[4]"
   ]
  },
  {
   "cell_type": "code",
   "execution_count": null,
   "metadata": {},
   "outputs": [],
   "source": [
    "# reject 50%\n",
    "df_FPresults.iloc[4]"
   ]
  },
  {
   "cell_type": "code",
   "execution_count": null,
   "metadata": {},
   "outputs": [],
   "source": []
  },
  {
   "cell_type": "code",
   "execution_count": null,
   "metadata": {},
   "outputs": [],
   "source": []
  },
  {
   "cell_type": "code",
   "execution_count": null,
   "metadata": {},
   "outputs": [],
   "source": []
  },
  {
   "cell_type": "code",
   "execution_count": null,
   "metadata": {},
   "outputs": [],
   "source": []
  },
  {
   "cell_type": "markdown",
   "metadata": {},
   "source": [
    "### Calculate evaluation metrics "
   ]
  },
  {
   "cell_type": "code",
   "execution_count": null,
   "metadata": {},
   "outputs": [],
   "source": [
    "fpr=graphP; tpr=P_tpr\n",
    "# fpr=graphPQ_online; tpr=onlinePQ_tpr\n",
    "# fpr=graphPQ_offline; tpr=offlinePQ_tpr"
   ]
  },
  {
   "cell_type": "code",
   "execution_count": null,
   "metadata": {},
   "outputs": [],
   "source": [
    "tau = 5 #3=0.4, 4=0.5, 5=0.6\n",
    "fpr = np.array(fpr[1:])\n",
    "tpr = np.array(tpr)\n",
    "\n",
    "Total = len(agt_normals)+len(agt_attacks) #len(userScoreP)\n",
    "TotalN = len(agt_normals)\n",
    "TotalP = Total-TotalN\n",
    "FP = fpr*TotalN\n",
    "TN = TotalN - FP\n",
    "TP = tpr*TotalP\n",
    "FN = TotalP-TP\n",
    "\n",
    "print(Total, TotalN, TotalP, FP[tau], TN[tau], TP[tau], FN[tau])"
   ]
  },
  {
   "cell_type": "code",
   "execution_count": null,
   "metadata": {},
   "outputs": [],
   "source": [
    "Accr = (TP+TN) / (TP+TN+FP+FN)\n",
    "FPR = FP / (FP + TN)\n",
    "Prec = TP / (TP + FP)\n",
    "Rec = TP / (TP + FN)\n",
    "F1 = 2 * ((Prec*Rec) / (Prec+Rec))\n",
    "\n",
    "print(Accr[tau], FPR[tau], Prec[tau], Rec[tau], F1[tau])"
   ]
  },
  {
   "cell_type": "code",
   "execution_count": null,
   "metadata": {},
   "outputs": [],
   "source": [
    "graphP = np.array(graphP)\n",
    "graphPQ= np.array(graphPQ_online)\n",
    "graphPQTil= np.array(graphPQ_offline)\n",
    "\n",
    "df_FPresults = pd.DataFrame({\"P_FP\":graphP[1:], \"OnlineQ_FP\":graphPQ[1:], \"OfflineQ_FP\":graphPQTil[1:], \n",
    "                             \"Accr\":Accr, \"FPR\":FPR, \"Precision\":Prec, \n",
    "                             \"Recall\":Rec, \"F1_score\":F1})\n",
    "\n",
    "# df_FPresults.to_csv(config['metadata']['uniqueID'] + '/' + config['metadata']['result'] + \n",
    "#                     \"_FPresults.csv\", index=False)"
   ]
  },
  {
   "cell_type": "code",
   "execution_count": null,
   "metadata": {
    "scrolled": true
   },
   "outputs": [],
   "source": [
    "df_FPresults"
   ]
  },
  {
   "cell_type": "raw",
   "metadata": {},
   "source": [
    "\"\"\"\n",
    "reject threshold = 40%\n",
    "print(Accr, FPR, Prec, Rec, F1)\n",
    "HULK: 0.9927961240948892,0.00930809804529941,0.9964550080428329,0.9935952177625961,0.9950230580800922\n",
    "GE: 0.9780898876404495,0.06741573033707865,0.9924385633270322,0.9831460674157303,0.9877704609595485\n",
    "slowhttp: 0.9137151398191244,0.11437908496732026,0.9569949916527546,0.9239130434782609,0.9401630901850673\n",
    "Heartbleed: 0.9097222222222222 0.2777777777777778 0.9678972712680578 0.9305555555555556 0.9488591660110149\n",
    "LOIC: 0.9762732962293993 0.03424657534246575 0.9891595435049444 0.9795709908069459 0.9843419169967335\n",
    "\"\"\""
   ]
  },
  {
   "cell_type": "raw",
   "metadata": {},
   "source": [
    "\"\"\"\n",
    "reject threshold = 50%\n",
    "print(Accr, FPR, Prec, Rec, F1)\n",
    "HULK: 0.9924694200363029,0.011169717654359293,0.9957501147305705,0.9938514090520923,0.9947998559101059\n",
    "GE: 0.9716853932584271,0.10112359550561797,0.9886621315192744,0.9797752808988764,0.984198645598194\n",
    "Slowhttp: 0.8969780905891701,0.1568627450980392,0.9415081983889323,0.9165217391304348,0.9288469620086431\n",
    "Heartbleed: 0.9118518518518518 0.3148148148148148 0.9640135478408128 0.937037037037037 0.9503338898163606\n",
    "LOIC: 0.9608343950575735 0.06506849315068493 0.9793832528822755 0.9689542483660131 0.9741408385875667\n",
    "\"\"\""
   ]
  },
  {
   "cell_type": "raw",
   "metadata": {},
   "source": [
    "\"\"\"\n",
    "reject threshold = 60%\n",
    "print(Accr, FPR, Prec, Rec, F1)\n",
    "HULK: 0.98981820117689,0.016754576481538937,0.9936288982872563,0.9923142613151151,0.9929711446753463\n",
    "GE: 0.9705056179775281,0.11797752808988764,0.9868049010367578,0.9803370786516854,0.9835603569751058\n",
    "Slowhttp: 0.8530442350626254,0.24836601307189543,0.9080067784479039,0.8898550724637682,0.8988392931566226\n",
    "Heartbleed: 0.9027777777777778 0.3888888888888889 0.9558359621451105 0.9351851851851852 0.9453978159126365\n",
    "LOIC: 0.9388222975132718 0.11301369863013698 0.9642334223495181 0.955071477195371 0.9596305821580213\n",
    "\"\"\""
   ]
  },
  {
   "cell_type": "code",
   "execution_count": null,
   "metadata": {},
   "outputs": [],
   "source": []
  },
  {
   "cell_type": "code",
   "execution_count": null,
   "metadata": {},
   "outputs": [],
   "source": []
  }
 ],
 "metadata": {
  "kernelspec": {
   "display_name": "ddos",
   "language": "python",
   "name": "ddos"
  },
  "language_info": {
   "codemirror_mode": {
    "name": "ipython",
    "version": 3
   },
   "file_extension": ".py",
   "mimetype": "text/x-python",
   "name": "python",
   "nbconvert_exporter": "python",
   "pygments_lexer": "ipython3",
   "version": "3.7.5"
  }
 },
 "nbformat": 4,
 "nbformat_minor": 4
}
