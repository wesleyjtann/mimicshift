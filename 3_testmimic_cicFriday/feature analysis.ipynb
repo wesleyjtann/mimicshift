{
 "cells": [
  {
   "cell_type": "code",
   "execution_count": 1,
   "metadata": {},
   "outputs": [],
   "source": [
    "import yaml\n",
    "import sys\n",
    "import numpy as np\n",
    "import hashlib\n",
    "import pandas as pd # data processing, CSV file I/O (e.g. pd.read_csv)\n",
    "import math\n",
    "from scipy import stats\n",
    "from datetime import datetime, timedelta\n",
    "\n",
    "\n",
    "def getAgentHash(agent, agentHashRange) :\n",
    "    hashret = int(hashlib.sha1(agent.encode('utf-8')).hexdigest(), 16) % agentHashRange\n",
    "\n",
    "    return str(hashret)\n",
    "\n",
    "def loadConfig():\n",
    "    with open(sys.argv[1], \"r\") as ymlfile:\n",
    "        cfg = yaml.load(ymlfile)\n",
    "    return cfg\n",
    "\n",
    "def getHash(fullURI, queryHashRange):\n",
    "    hashret = 0\n",
    "\n",
    "    #Handles cases with no '/'\n",
    "    if(fullURI.find('/') == -1) :\n",
    "        fullURI = '/' + fullURI\n",
    "\n",
    "    uri = fullURI.split('?', 1)[0]\n",
    "\n",
    "    if (len(uri.rsplit('/', 1)) > 1) :\n",
    "        request = uri.rsplit('/', 1)[1]\n",
    "    else :\n",
    "        request = ''\n",
    "\n",
    "    if (len(fullURI.split('?', 1)) > 1) :\n",
    "        request = request + '?' + fullURI.split('?', 1)[1]\n",
    "    else :\n",
    "        request = request\n",
    "\n",
    "    hashret = int(hashlib.sha1(request.encode('utf-8')).hexdigest(), 16) % queryHashRange\n",
    "    uri = uri.rsplit('/', 1)[0]\n",
    "\n",
    "    return str(hashret)\n",
    "\n",
    "def getURI(fullURI):\n",
    "    uri = fullURI.split('?', 1)[0]\n",
    "    uri = uri.rsplit('/', 1)[0]\n",
    "\n",
    "\n",
    "    if uri == '' :\n",
    "        return '<EMPTY>'\n",
    "    else :\n",
    "        return str(uri)\n",
    "\n",
    "def converttodatetime(x, seqlen):\n",
    "    # if len(x)< 20:\n",
    "    if len(x)< seqlen:    # add\n",
    "        x += '.000'\n",
    "    return datetime.datetime.strptime(x, \"%Y-%m-%d %H:%M:%S.%f\")\n",
    "\n",
    "#TimeDif 0 Padding\n",
    "# Start = 14\n",
    "# End = 15\n",
    "def getTimeClass(time_dif):\n",
    "    time = 0\n",
    "    if time_dif == 0.0:\n",
    "        time = 0\n",
    "    elif time_dif < 0.001 :\n",
    "        time = 1\n",
    "    elif time_dif < 0.05 :\n",
    "        time = 2\n",
    "    elif time_dif < 0.1 :\n",
    "        time = 3\n",
    "    elif time_dif < 1 :\n",
    "        time = 4\n",
    "    elif time_dif < 15 :\n",
    "        time = 5\n",
    "    elif time_dif < 180 :\n",
    "        time = 6\n",
    "    elif time_dif > 300 :\n",
    "        time = 7\n",
    "\n",
    "    return str(time)\n",
    "\n",
    "#Source IP  Dest IP Time    Packet Len  IP Flags    TCP Len TCP Ack TCP Flags   TCP Window Size UDP Len ICMP Type   Protocols   Highest Layer(Protocol) Info\n",
    "def prepDataFrame(df, agentHashRange, queryHashRange) :\n",
    "    #create a deepcopy of the original df\n",
    "    df_temp = df.copy()\n",
    "    if type(df_temp['Absolute Time'].iloc[0]) == str:\n",
    "        df_temp['Absolute Time'] = df_temp['Absolute Time'].apply(lambda x: converttodatetime(x, config['SEQUENCELENGTH'])) # add\n",
    "\n",
    "    #converting type of status\n",
    "    df_temp = df_temp.astype({'Source IP' : 'str'})\n",
    "    df_temp = df_temp.astype({'Dest IP' : 'str'})\n",
    "    # df_temp = df_temp.astype({'Relative Time' : 'str'})\n",
    "    df_temp = df_temp.astype({'Packet Len': 'str'})\n",
    "    df_temp = df_temp.astype({'IP Flags' : 'str'})\n",
    "    df_temp = df_temp.astype({'TCP Len' : 'str'})\n",
    "    df_temp = df_temp.astype({'TCP Flags' : 'str'})\n",
    "    df_temp = df_temp.astype({'TCP Window Size': 'str'})\n",
    "    df_temp = df_temp.astype({'Protocols': 'str'})\n",
    "    df_temp = df_temp.astype({'Highest Layer(Protocol)': 'str'})\n",
    "    df_temp = df_temp.astype({'Info' : 'str'})\n",
    "\n",
    "    ##TCP ACK Feature Engineering\n",
    "    tcpack = np.array(df_temp['TCP Ack'])\n",
    "    bin_edges = stats.mstats.mquantiles(tcpack, np.arange(0,1,0.01)[1:])\n",
    "\n",
    "    df_temp.loc[df_temp['TCP Ack'] <= bin_edges[int(0)], 'new TCP Ack'] = int(0)\n",
    "\n",
    "    for i in range(len(bin_edges)-1):\n",
    "        df_temp.loc[(bin_edges[int(i)] < df_temp['TCP Ack']) & (df_temp['TCP Ack'] <= bin_edges[int(i+1)]), 'new TCP Ack'] = int(i+1)\n",
    "\n",
    "    df_temp.loc[df_temp['TCP Ack'] > bin_edges[-1], 'new TCP Ack'] = int(len(bin_edges))\n",
    "    df_temp['new TCP Ack'] = df_temp['new TCP Ack'].astype('str')\n",
    "\n",
    "    #Relative Time Feature Engineering\n",
    "    # reltime = np.array(df['Relative Time'])\n",
    "    # round_reltime = np.around(reltime, decimals=0, out=None)\n",
    "    # df_temp.insert(1, \"new Relative Time\", round_reltime, True)\n",
    "    # df_temp['new Relative Time'] = df_temp['new Relative Time'].astype('str')\n",
    "\n",
    "    #calculate the difference between requests from a specific user\n",
    "    df_temp['time_diff'] = df_temp.groupby('Source IP')['Absolute Time'].diff()\n",
    "\n",
    "    #Maybe can remove this (DOUBLE CHECK)\n",
    "    df_temp['time_diff_group'] = df_temp['time_diff'].apply(lambda x: getTimeClass(x.total_seconds()))\n",
    "\n",
    "    #Calculate the Combined Input of URI Hash Status Time\n",
    "    df_temp['Input'] = df_temp['Packet Len'] + '<JOIN>' + df_temp['IP Flags'] + '<JOIN>' + df_temp['TCP Len'] + '<JOIN>' + df_temp['new TCP Ack'] + '<JOIN>' + df_temp['TCP Flags'] + '<JOIN>' + df_temp['TCP Window Size'] + '<JOIN>' + df_temp['Highest Layer(Protocol)']\n",
    "\n",
    "    return df_temp\n",
    "\n",
    "def getSignificantRequest(dataframe, hashThreshold) :\n",
    "    freq = dataframe['Input'].value_counts(normalize=True)\n",
    "\n",
    "    ret = []\n",
    "\n",
    "    index = freq.index\n",
    "    for i in range(len(freq)):\n",
    "        if freq[i] > hashThreshold :\n",
    "            ret.append(index[i])\n",
    "\n",
    "    return ret\n",
    "\n",
    "# def keepOrHash(uri, sig, inputHashRange) :\n",
    "#     if uri in sig :\n",
    "#         return uri\n",
    "#     else :\n",
    "#         return str(int(hashlib.sha1(uri.encode('utf-8')).hexdigest(), 16) % inputHashRange)\n",
    "def keepOrHash(uri, sig, inputHashRange) :\n",
    "#     if uri in sig :\n",
    "#         return uri\n",
    "#     else :\n",
    "    return str(int(hashlib.sha1(uri.encode('utf-8')).hexdigest(), 16) % inputHashRange)\n",
    "\n",
    "def sequentializeDataFrame(df, sig, inputHashRange, seqlen): # add\n",
    "    #create a deepcopy of the original df\n",
    "    df_temp = df.copy()\n",
    "    if type(df_temp['Absolute Time'].iloc[0]) == str:\n",
    "        df_temp['Absolute Time'] = df_temp['Absolute Time'].apply(lambda x: converttodatetime(x, config['SEQUENCELENGTH'])) # add\n",
    "    #converting type of status\n",
    "    df_temp = df_temp.astype({'Source IP' : 'str'})\n",
    "    df_temp = df_temp.astype({'Dest IP' : 'str'})\n",
    "    # df_temp = df_temp.astype({'Relative Time' : 'str'})\n",
    "    df_temp = df_temp.astype({'Packet Len': 'str'})\n",
    "    df_temp = df_temp.astype({'IP Flags' : 'str'})\n",
    "    df_temp = df_temp.astype({'TCP Len' : 'str'})\n",
    "    df_temp = df_temp.astype({'TCP Ack' : 'str'})\n",
    "    df_temp = df_temp.astype({'TCP Flags' : 'str'})\n",
    "    df_temp = df_temp.astype({'TCP Window Size': 'str'})\n",
    "    df_temp = df_temp.astype({'Protocols': 'str'})\n",
    "    df_temp = df_temp.astype({'Highest Layer(Protocol)': 'str'})\n",
    "    df_temp = df_temp.astype({'Info' : 'str'})\n",
    "    df_temp = df_temp.astype({'Input': 'str'})\n",
    "\n",
    "    #Uncomment if you want to hash the Input\n",
    "    df_temp['Input'] = df_temp['Input'].apply(lambda x: keepOrHash(x, sig, inputHashRange))\n",
    "\n",
    "    #create groups based on 1 min interval\n",
    "    df_temp['groups'] = df_temp.groupby('Source IP')['time_diff'].apply(lambda x: x.gt(pd.Timedelta(1, 'm')).cumsum())\n",
    "    df_temp['time_diff'] = df_temp['time_diff'].apply(lambda x: getTimeClass(x.total_seconds()))\n",
    "    #grouping in sequences of 20 length\n",
    "    df_temp['group_len'] = df_temp.groupby(['Source IP', 'Dest IP', 'groups'])['Absolute Time'].rank(method = 'first')\n",
    "    # df_temp['group_len'] = df_temp['group_len'].apply(lambda x: math.ceil(x/20))\n",
    "    df_temp['group_len'] = df_temp['group_len'].apply(lambda x: math.ceil(x/seqlen)) # add\n",
    "\n",
    "    #create groups based on \"remote_addr\" and \"groups\"\n",
    "    df_temp = df_temp.groupby(['Source IP', 'Dest IP', 'groups', 'group_len'])\n",
    "\n",
    "    #aggregation\n",
    "    sr = df_temp['Protocols', 'Info'].agg(lambda x: \"<SEP>\".join(x))\n",
    "    sr['Input'] = df_temp['Input'].agg(lambda x: \"<SEP>\".join(x))\n",
    "    sr.reset_index(inplace=True)\n",
    "    #converting to dataframe\n",
    "    #sr = sr.to_frame()\n",
    "    sr = sr.drop(columns = ['groups', 'group_len'])\n",
    "    return sr\n",
    "\n",
    "def getCountryAgentPair(x, y):\n",
    "    agent = x.split('<SEP>')[0]\n",
    "    country = y.split('<SEP>')[0]\n",
    "\n",
    "    return str(country) + '<JOIN>' + str(agent)\n",
    "\n",
    "def getFirstOnly(y):\n",
    "    country = y.split('<SEP>')[0]\n",
    "\n",
    "    return str(country)\n",
    "\n",
    "\n",
    "#Remove request if Remote Addresses (IP) appear 10 or less times\n",
    "#Because the data is not in chronological form, sort by timestamp to get in chronological form\n",
    "def filterAndSort(df) :\n",
    "    df = df.sort_values(by=['Absolute Time'])\n",
    "    before = len(df)\n",
    "    df = df.groupby('Source IP').filter(lambda x: len(x) > 10)\n",
    "    after = len(df)\n",
    "    df = df.reset_index()\n",
    "\n",
    "    print(\"Before = {}, After = {}\".format(before, after))\n",
    "\n",
    "    return df\n",
    "\n",
    "#Split dataframe into 5s interval\n",
    "def getIntervals(df) :\n",
    "    ret = []\n",
    "    S = pd.to_datetime(df['Absolute Time'])\n",
    "    timebins = (S - S[0]).astype('timedelta64[m]')\n",
    "    timebins = timebins.tolist()\n",
    "    timebins = [math.floor(time/1) for time in timebins]\n",
    "    timebins = [pd.Series(timebins)]\n",
    "\n",
    "    for i, g in df.groupby(timebins):\n",
    "        ret.append(g.reset_index(drop=True))\n",
    "\n",
    "    return ret\n"
   ]
  },
  {
   "cell_type": "code",
   "execution_count": 2,
   "metadata": {},
   "outputs": [
    {
     "name": "stdout",
     "output_type": "stream",
     "text": [
      "*****     Starting Preprocessing     ******\n"
     ]
    },
    {
     "name": "stderr",
     "output_type": "stream",
     "text": [
      "/home/wesleyjtann/miniconda3/envs/ddosgen/lib/python3.6/site-packages/ipykernel_launcher.py:4: YAMLLoadWarning: calling yaml.load() without Loader=... is deprecated, as the default Loader is unsafe. Please read https://msg.pyyaml.org/load for full details.\n",
      "  after removing the cwd from sys.path.\n"
     ]
    }
   ],
   "source": [
    "print(\"*****     Starting Preprocessing     ******\")\n",
    "# config = loadConfig()\n",
    "with open('light_config.yaml', \"r\") as ymlfile:\n",
    "    config = yaml.load(ymlfile)"
   ]
  },
  {
   "cell_type": "code",
   "execution_count": 3,
   "metadata": {},
   "outputs": [
    {
     "name": "stdout",
     "output_type": "stream",
     "text": [
      "Before = 1233041, After = 1232415\n",
      "Before = 762159, After = 760674\n",
      "Before = 372621, After = 371559\n"
     ]
    }
   ],
   "source": [
    "dfA = pd.read_csv(config['datapath']['a'], parse_dates=['Absolute Time'])\n",
    "dfN1 = pd.read_csv(config['datapath']['n1'], parse_dates=['Absolute Time'])\n",
    "\n",
    "#load N2\n",
    "dfN2 = pd.read_csv(config['datapath']['n2'], parse_dates=['Absolute Time'])\n",
    "\n",
    "#Remove request if Remote Addresses (IP) appear 10 or less times\n",
    "#Because the data is not in chronological form, sort by timestamp to get in chronological form\n",
    "dfA = filterAndSort(dfA)\n",
    "dfN1 = filterAndSort(dfN1)\n",
    "dfN2 = filterAndSort(dfN2)"
   ]
  },
  {
   "cell_type": "code",
   "execution_count": 4,
   "metadata": {},
   "outputs": [],
   "source": [
    "#Prepares A1 and N1 for sequentializing\n",
    "df_normal = prepDataFrame(dfN1, config['variablesHash']['agentHashRange'], config['variablesHash']['queryHashRange'])\n",
    "df_normal2 = prepDataFrame(dfN2, config['variablesHash']['agentHashRange'], config['variablesHash']['queryHashRange'])\n",
    "significantNormal = getSignificantRequest(df_normal, config['variablesHash']['inputHashThreshold'])"
   ]
  },
  {
   "cell_type": "code",
   "execution_count": 5,
   "metadata": {
    "scrolled": true
   },
   "outputs": [
    {
     "data": {
      "text/html": [
       "<div>\n",
       "<style scoped>\n",
       "    .dataframe tbody tr th:only-of-type {\n",
       "        vertical-align: middle;\n",
       "    }\n",
       "\n",
       "    .dataframe tbody tr th {\n",
       "        vertical-align: top;\n",
       "    }\n",
       "\n",
       "    .dataframe thead th {\n",
       "        text-align: right;\n",
       "    }\n",
       "</style>\n",
       "<table border=\"1\" class=\"dataframe\">\n",
       "  <thead>\n",
       "    <tr style=\"text-align: right;\">\n",
       "      <th></th>\n",
       "      <th>index</th>\n",
       "      <th>Unnamed: 0</th>\n",
       "      <th>Pkt #</th>\n",
       "      <th>Absolute Time</th>\n",
       "      <th>Source IP</th>\n",
       "      <th>Dest IP</th>\n",
       "      <th>Relative Time</th>\n",
       "      <th>Packet Len</th>\n",
       "      <th>IP Flags</th>\n",
       "      <th>TCP Len</th>\n",
       "      <th>TCP Ack</th>\n",
       "      <th>TCP Flags</th>\n",
       "      <th>TCP Window Size</th>\n",
       "      <th>Protocols</th>\n",
       "      <th>Highest Layer(Protocol)</th>\n",
       "      <th>Info</th>\n",
       "      <th>new TCP Ack</th>\n",
       "      <th>time_diff</th>\n",
       "      <th>time_diff_group</th>\n",
       "      <th>Input</th>\n",
       "    </tr>\n",
       "  </thead>\n",
       "  <tbody>\n",
       "    <tr>\n",
       "      <th>0</th>\n",
       "      <td>1</td>\n",
       "      <td>7371617</td>\n",
       "      <td>7371617</td>\n",
       "      <td>2017-07-07 15:00:00.246396</td>\n",
       "      <td>192.168.10.19</td>\n",
       "      <td>172.217.7.6</td>\n",
       "      <td>21620.647268</td>\n",
       "      <td>66</td>\n",
       "      <td>0x00004000</td>\n",
       "      <td>0.0</td>\n",
       "      <td>6509.0</td>\n",
       "      <td>0x00000010</td>\n",
       "      <td>46208.0</td>\n",
       "      <td>eth:ethertype:ip:tcp</td>\n",
       "      <td>TCP</td>\n",
       "      <td>[TCP Keep-Alive] 56753 → 443 [ACK] Seq=2993 Ac...</td>\n",
       "      <td>76.0</td>\n",
       "      <td>NaT</td>\n",
       "      <td>0</td>\n",
       "      <td>66&lt;JOIN&gt;0x00004000&lt;JOIN&gt;0.0&lt;JOIN&gt;76.0&lt;JOIN&gt;0x0...</td>\n",
       "    </tr>\n",
       "    <tr>\n",
       "      <th>1</th>\n",
       "      <td>2</td>\n",
       "      <td>7371618</td>\n",
       "      <td>7371618</td>\n",
       "      <td>2017-07-07 15:00:00.283595</td>\n",
       "      <td>172.217.7.6</td>\n",
       "      <td>192.168.10.19</td>\n",
       "      <td>21620.684467</td>\n",
       "      <td>66</td>\n",
       "      <td>0x00000000</td>\n",
       "      <td>0.0</td>\n",
       "      <td>2994.0</td>\n",
       "      <td>0x00000010</td>\n",
       "      <td>49920.0</td>\n",
       "      <td>eth:ethertype:ip:tcp</td>\n",
       "      <td>TCP</td>\n",
       "      <td>[TCP Keep-Alive ACK] 443 → 56753 [ACK] Seq=650...</td>\n",
       "      <td>62.0</td>\n",
       "      <td>NaT</td>\n",
       "      <td>0</td>\n",
       "      <td>66&lt;JOIN&gt;0x00000000&lt;JOIN&gt;0.0&lt;JOIN&gt;62.0&lt;JOIN&gt;0x0...</td>\n",
       "    </tr>\n",
       "    <tr>\n",
       "      <th>2</th>\n",
       "      <td>3</td>\n",
       "      <td>7371619</td>\n",
       "      <td>7371619</td>\n",
       "      <td>2017-07-07 15:00:00.462857</td>\n",
       "      <td>192.168.10.12</td>\n",
       "      <td>74.121.138.87</td>\n",
       "      <td>21620.863729</td>\n",
       "      <td>66</td>\n",
       "      <td>0x00004000</td>\n",
       "      <td>0.0</td>\n",
       "      <td>3662.0</td>\n",
       "      <td>0x00000010</td>\n",
       "      <td>40832.0</td>\n",
       "      <td>eth:ethertype:ip:tcp</td>\n",
       "      <td>TCP</td>\n",
       "      <td>[TCP Keep-Alive] 60212 → 443 [ACK] Seq=1641 Ac...</td>\n",
       "      <td>66.0</td>\n",
       "      <td>NaT</td>\n",
       "      <td>0</td>\n",
       "      <td>66&lt;JOIN&gt;0x00004000&lt;JOIN&gt;0.0&lt;JOIN&gt;66.0&lt;JOIN&gt;0x0...</td>\n",
       "    </tr>\n",
       "    <tr>\n",
       "      <th>3</th>\n",
       "      <td>4</td>\n",
       "      <td>7371620</td>\n",
       "      <td>7371620</td>\n",
       "      <td>2017-07-07 15:00:00.486766</td>\n",
       "      <td>74.121.138.87</td>\n",
       "      <td>192.168.10.12</td>\n",
       "      <td>21620.887638</td>\n",
       "      <td>66</td>\n",
       "      <td>0x00004000</td>\n",
       "      <td>0.0</td>\n",
       "      <td>1642.0</td>\n",
       "      <td>0x00000010</td>\n",
       "      <td>32768.0</td>\n",
       "      <td>eth:ethertype:ip:tcp</td>\n",
       "      <td>TCP</td>\n",
       "      <td>[TCP Keep-Alive ACK] 443 → 60212 [ACK] Seq=366...</td>\n",
       "      <td>56.0</td>\n",
       "      <td>NaT</td>\n",
       "      <td>0</td>\n",
       "      <td>66&lt;JOIN&gt;0x00004000&lt;JOIN&gt;0.0&lt;JOIN&gt;56.0&lt;JOIN&gt;0x0...</td>\n",
       "    </tr>\n",
       "    <tr>\n",
       "      <th>4</th>\n",
       "      <td>5</td>\n",
       "      <td>7371621</td>\n",
       "      <td>7371621</td>\n",
       "      <td>2017-07-07 15:00:00.491208</td>\n",
       "      <td>192.168.10.16</td>\n",
       "      <td>185.86.137.42</td>\n",
       "      <td>21620.892080</td>\n",
       "      <td>97</td>\n",
       "      <td>0x00004000</td>\n",
       "      <td>31.0</td>\n",
       "      <td>5210.0</td>\n",
       "      <td>0x00000018</td>\n",
       "      <td>43440.0</td>\n",
       "      <td>eth:ethertype:ip:tcp:tls</td>\n",
       "      <td>TLSv1.2</td>\n",
       "      <td>Encrypted Alert</td>\n",
       "      <td>72.0</td>\n",
       "      <td>NaT</td>\n",
       "      <td>0</td>\n",
       "      <td>97&lt;JOIN&gt;0x00004000&lt;JOIN&gt;31.0&lt;JOIN&gt;72.0&lt;JOIN&gt;0x...</td>\n",
       "    </tr>\n",
       "  </tbody>\n",
       "</table>\n",
       "</div>"
      ],
      "text/plain": [
       "   index  Unnamed: 0    Pkt #              Absolute Time      Source IP  \\\n",
       "0      1     7371617  7371617 2017-07-07 15:00:00.246396  192.168.10.19   \n",
       "1      2     7371618  7371618 2017-07-07 15:00:00.283595    172.217.7.6   \n",
       "2      3     7371619  7371619 2017-07-07 15:00:00.462857  192.168.10.12   \n",
       "3      4     7371620  7371620 2017-07-07 15:00:00.486766  74.121.138.87   \n",
       "4      5     7371621  7371621 2017-07-07 15:00:00.491208  192.168.10.16   \n",
       "\n",
       "         Dest IP  Relative Time Packet Len    IP Flags TCP Len  TCP Ack  \\\n",
       "0    172.217.7.6   21620.647268         66  0x00004000     0.0   6509.0   \n",
       "1  192.168.10.19   21620.684467         66  0x00000000     0.0   2994.0   \n",
       "2  74.121.138.87   21620.863729         66  0x00004000     0.0   3662.0   \n",
       "3  192.168.10.12   21620.887638         66  0x00004000     0.0   1642.0   \n",
       "4  185.86.137.42   21620.892080         97  0x00004000    31.0   5210.0   \n",
       "\n",
       "    TCP Flags TCP Window Size                 Protocols  \\\n",
       "0  0x00000010         46208.0      eth:ethertype:ip:tcp   \n",
       "1  0x00000010         49920.0      eth:ethertype:ip:tcp   \n",
       "2  0x00000010         40832.0      eth:ethertype:ip:tcp   \n",
       "3  0x00000010         32768.0      eth:ethertype:ip:tcp   \n",
       "4  0x00000018         43440.0  eth:ethertype:ip:tcp:tls   \n",
       "\n",
       "  Highest Layer(Protocol)                                               Info  \\\n",
       "0                     TCP  [TCP Keep-Alive] 56753 → 443 [ACK] Seq=2993 Ac...   \n",
       "1                     TCP  [TCP Keep-Alive ACK] 443 → 56753 [ACK] Seq=650...   \n",
       "2                     TCP  [TCP Keep-Alive] 60212 → 443 [ACK] Seq=1641 Ac...   \n",
       "3                     TCP  [TCP Keep-Alive ACK] 443 → 60212 [ACK] Seq=366...   \n",
       "4                 TLSv1.2                                    Encrypted Alert   \n",
       "\n",
       "  new TCP Ack time_diff time_diff_group  \\\n",
       "0        76.0       NaT               0   \n",
       "1        62.0       NaT               0   \n",
       "2        66.0       NaT               0   \n",
       "3        56.0       NaT               0   \n",
       "4        72.0       NaT               0   \n",
       "\n",
       "                                               Input  \n",
       "0  66<JOIN>0x00004000<JOIN>0.0<JOIN>76.0<JOIN>0x0...  \n",
       "1  66<JOIN>0x00000000<JOIN>0.0<JOIN>62.0<JOIN>0x0...  \n",
       "2  66<JOIN>0x00004000<JOIN>0.0<JOIN>66.0<JOIN>0x0...  \n",
       "3  66<JOIN>0x00004000<JOIN>0.0<JOIN>56.0<JOIN>0x0...  \n",
       "4  97<JOIN>0x00004000<JOIN>31.0<JOIN>72.0<JOIN>0x...  "
      ]
     },
     "execution_count": 5,
     "metadata": {},
     "output_type": "execute_result"
    }
   ],
   "source": [
    "df_normal.head()"
   ]
  },
  {
   "cell_type": "code",
   "execution_count": 6,
   "metadata": {},
   "outputs": [
    {
     "data": {
      "text/plain": [
       "index                      760674\n",
       "Unnamed: 0                 760674\n",
       "Pkt #                      760674\n",
       "Absolute Time              753646\n",
       "Source IP                    1977\n",
       "Dest IP                      2213\n",
       "Relative Time              753646\n",
       "Packet Len                   3490\n",
       "IP Flags                        5\n",
       "TCP Len                      3463\n",
       "TCP Ack                     88202\n",
       "TCP Flags                      12\n",
       "TCP Window Size              9909\n",
       "Protocols                     412\n",
       "Highest Layer(Protocol)        42\n",
       "Info                       498219\n",
       "new TCP Ack                    73\n",
       "time_diff                  126123\n",
       "time_diff_group                 8\n",
       "Input                       96093\n",
       "dtype: int64"
      ]
     },
     "execution_count": 6,
     "metadata": {},
     "output_type": "execute_result"
    }
   ],
   "source": [
    "df_normal.nunique()"
   ]
  },
  {
   "cell_type": "code",
   "execution_count": 7,
   "metadata": {
    "scrolled": true
   },
   "outputs": [
    {
     "name": "stdout",
     "output_type": "stream",
     "text": [
      "Top 10:  0.2685368502144151\n"
     ]
    },
    {
     "data": {
      "image/png": "[encoded data removed]",
      "text/plain": [
       "<Figure size 432x288 with 1 Axes>"
      ]
     },
     "metadata": {
      "needs_background": "light"
     },
     "output_type": "display_data"
    }
   ],
   "source": [
    "feature = 'Packet Len' \n",
    "num_feature = df_normal[feature].nunique()\n",
    "percent_plot = 0.005\n",
    "range_plot = int(num_feature*percent_plot)\n",
    "# print(df_normal[feature].value_counts())\n",
    "\n",
    "print(\"Top 10: \", sum(df_normal[feature].value_counts().nlargest(1)) / len(df_normal[feature]))\n",
    "df_normal[feature].value_counts()[:range_plot].plot(kind='bar').get_xaxis().set_visible(False)"
   ]
  },
  {
   "cell_type": "code",
   "execution_count": 11,
   "metadata": {
    "scrolled": true
   },
   "outputs": [
    {
     "data": {
      "image/png": "[encoded data removed]",
      "text/plain": [
       "<Figure size 432x288 with 1 Axes>"
      ]
     },
     "metadata": {
      "needs_background": "light"
     },
     "output_type": "display_data"
    }
   ],
   "source": [
    "import matplotlib.pyplot as plt\n",
    "plt.figure()\n",
    "df_normal[feature].value_counts()[:range_plot].plot(kind='bar').get_xaxis().set_visible(False)\n",
    "plt.savefig(\"./loiclen_feature.png\",bbox_inches=\"tight\")"
   ]
  },
  {
   "cell_type": "code",
   "execution_count": 31,
   "metadata": {
    "scrolled": true
   },
   "outputs": [
    {
     "name": "stdout",
     "output_type": "stream",
     "text": [
      "Top 10:  1.0\n"
     ]
    },
    {
     "data": {
      "image/png": "[encoded data removed]",
      "text/plain": [
       "<Figure size 432x288 with 1 Axes>"
      ]
     },
     "metadata": {
      "needs_background": "light"
     },
     "output_type": "display_data"
    }
   ],
   "source": [
    "feature = 'IP Flags' \n",
    "num_feature = df_normal[feature].nunique()\n",
    "percent_plot = 1\n",
    "range_plot = int(num_feature*percent_plot)\n",
    "# print(df_normal[feature].value_counts())\n",
    "\n",
    "print(\"Top 10: \", sum(df_normal[feature].value_counts().nlargest(10)) / len(df_normal[feature]))\n",
    "df_normal[feature].value_counts()[:range_plot].plot(kind='bar').get_xaxis().set_visible(False)"
   ]
  },
  {
   "cell_type": "code",
   "execution_count": 32,
   "metadata": {
    "scrolled": true
   },
   "outputs": [
    {
     "name": "stdout",
     "output_type": "stream",
     "text": [
      "Top 10:  0.8385431867002159\n"
     ]
    },
    {
     "data": {
      "image/png": "[encoded data removed]",
      "text/plain": [
       "<Figure size 432x288 with 1 Axes>"
      ]
     },
     "metadata": {
      "needs_background": "light"
     },
     "output_type": "display_data"
    }
   ],
   "source": [
    "feature = 'TCP Len' \n",
    "num_feature = df_normal[feature].nunique()\n",
    "percent_plot = 0.01\n",
    "range_plot = int(num_feature*percent_plot)\n",
    "# print(df_normal[feature].value_counts())\n",
    "\n",
    "print(\"Top 10: \", sum(df_normal[feature].value_counts().nlargest(10)) / len(df_normal[feature]))\n",
    "df_normal[feature].value_counts()[:range_plot].plot(kind='bar').get_xaxis().set_visible(False)"
   ]
  },
  {
   "cell_type": "code",
   "execution_count": 33,
   "metadata": {
    "scrolled": true
   },
   "outputs": [
    {
     "name": "stdout",
     "output_type": "stream",
     "text": [
      "Top 10:  0.31846494030294187\n"
     ]
    },
    {
     "data": {
      "image/png": "[encoded data removed]",
      "text/plain": [
       "<Figure size 432x288 with 1 Axes>"
      ]
     },
     "metadata": {
      "needs_background": "light"
     },
     "output_type": "display_data"
    }
   ],
   "source": [
    "feature = 'TCP Ack' \n",
    "num_feature = df_normal[feature].nunique()\n",
    "percent_plot = 1\n",
    "range_plot = int(num_feature*percent_plot)\n",
    "# print(df_normal[feature].value_counts())\n",
    "\n",
    "print(\"Top 10: \", sum(df_normal[feature].value_counts().nlargest(10)) / len(df_normal[feature]))\n",
    "df_normal[feature].value_counts()[:40].plot(kind='bar').get_xaxis().set_visible(False)"
   ]
  },
  {
   "cell_type": "code",
   "execution_count": 11,
   "metadata": {
    "scrolled": false
   },
   "outputs": [
    {
     "name": "stdout",
     "output_type": "stream",
     "text": [
      "Top 10:  0.9999829098930685\n"
     ]
    },
    {
     "data": {
      "text/plain": [
       "0x00000010    421311\n",
       "0x00000018    134301\n",
       "0              99479\n",
       "0x00000002     33459\n",
       "0x00000014     23183\n",
       "Name: TCP Flags, dtype: int64"
      ]
     },
     "execution_count": 11,
     "metadata": {},
     "output_type": "execute_result"
    },
    {
     "data": {
      "image/png": "[encoded data removed]",
      "text/plain": [
       "<Figure size 432x288 with 1 Axes>"
      ]
     },
     "metadata": {
      "needs_background": "light"
     },
     "output_type": "display_data"
    }
   ],
   "source": [
    "feature = 'TCP Flags'\n",
    "num_feature = df_normal[feature].nunique()\n",
    "percent_plot = 1\n",
    "range_plot = int(num_feature*percent_plot)\n",
    "# print(df_normal[feature].value_counts())\n",
    "\n",
    "print(\"Top 10: \", sum(df_normal[feature].value_counts().nlargest(10)) / len(df_normal[feature]))\n",
    "df_normal[feature].value_counts()[:range_plot].plot(kind='bar').get_xaxis().set_visible(False)\n",
    "df_normal[feature].value_counts()[:5]"
   ]
  },
  {
   "cell_type": "code",
   "execution_count": 9,
   "metadata": {},
   "outputs": [
    {
     "data": {
      "image/png": "[encoded data removed]",
      "text/plain": [
       "<Figure size 432x288 with 1 Axes>"
      ]
     },
     "metadata": {
      "needs_background": "light"
     },
     "output_type": "display_data"
    }
   ],
   "source": [
    "import matplotlib.pyplot as plt\n",
    "plt.figure()\n",
    "df_normal[feature].value_counts()[:range_plot].plot(kind='bar').get_xaxis().set_visible(False)\n",
    "plt.savefig(\"./loic_feature_tcpflags.png\",bbox_inches=\"tight\")"
   ]
  },
  {
   "cell_type": "code",
   "execution_count": 35,
   "metadata": {},
   "outputs": [
    {
     "name": "stdout",
     "output_type": "stream",
     "text": [
      "Top 10:  0.38497569260944897\n"
     ]
    },
    {
     "data": {
      "image/png": "[encoded data removed]",
      "text/plain": [
       "<Figure size 432x288 with 1 Axes>"
      ]
     },
     "metadata": {
      "needs_background": "light"
     },
     "output_type": "display_data"
    }
   ],
   "source": [
    "feature = 'TCP Window Size'\n",
    "num_feature = df_normal[feature].nunique()\n",
    "percent_plot = 0.01\n",
    "range_plot = int(num_feature*percent_plot)\n",
    "# print(df_normal[feature].value_counts())\n",
    "\n",
    "print(\"Top 10: \", sum(df_normal[feature].value_counts().nlargest(10)) / len(df_normal[feature]))\n",
    "df_normal[feature].value_counts()[:range_plot].plot(kind='bar').get_xaxis().set_visible(False)"
   ]
  },
  {
   "cell_type": "code",
   "execution_count": 36,
   "metadata": {},
   "outputs": [
    {
     "name": "stdout",
     "output_type": "stream",
     "text": [
      "Top 10:  0.9712925642259365\n"
     ]
    },
    {
     "data": {
      "image/png": "[encoded data removed]",
      "text/plain": [
       "<Figure size 432x288 with 1 Axes>"
      ]
     },
     "metadata": {
      "needs_background": "light"
     },
     "output_type": "display_data"
    }
   ],
   "source": [
    "feature = 'Protocols'\n",
    "num_feature = df_normal[feature].nunique()\n",
    "percent_plot = 1\n",
    "range_plot = int(num_feature*percent_plot)\n",
    "# print(df_normal[feature].value_counts())\n",
    "\n",
    "print(\"Top 10: \", sum(df_normal[feature].value_counts().nlargest(10)) / len(df_normal[feature]))\n",
    "df_normal[feature].value_counts()[:range_plot].plot(kind='bar').get_xaxis().set_visible(False)"
   ]
  },
  {
   "cell_type": "code",
   "execution_count": 37,
   "metadata": {
    "scrolled": true
   },
   "outputs": [
    {
     "name": "stdout",
     "output_type": "stream",
     "text": [
      "Top 10:  0.9885062457767716\n"
     ]
    },
    {
     "data": {
      "image/png": "[encoded data removed]",
      "text/plain": [
       "<Figure size 432x288 with 1 Axes>"
      ]
     },
     "metadata": {
      "needs_background": "light"
     },
     "output_type": "display_data"
    }
   ],
   "source": [
    "feature = 'Highest Layer(Protocol)'\n",
    "num_feature = df_normal[feature].nunique()\n",
    "percent_plot = 1\n",
    "range_plot = int(num_feature*percent_plot)\n",
    "# print(df_normal[feature].value_counts())\n",
    "\n",
    "print(\"Top 10: \", sum(df_normal[feature].value_counts().nlargest(10)) / len(df_normal[feature]))\n",
    "df_normal[feature].value_counts()[:range_plot].plot(kind='bar').get_xaxis().set_visible(False)"
   ]
  },
  {
   "cell_type": "code",
   "execution_count": 38,
   "metadata": {},
   "outputs": [
    {
     "name": "stdout",
     "output_type": "stream",
     "text": [
      "Top 10:  0.16401375622145623\n"
     ]
    },
    {
     "data": {
      "image/png": "[encoded data removed]",
      "text/plain": [
       "<Figure size 432x288 with 1 Axes>"
      ]
     },
     "metadata": {
      "needs_background": "light"
     },
     "output_type": "display_data"
    }
   ],
   "source": [
    "feature = 'Info'\n",
    "num_feature = df_normal[feature].nunique()\n",
    "percent_plot = 0.0001\n",
    "range_plot = int(num_feature*percent_plot)\n",
    "# print(df_normal[feature].value_counts())\n",
    "\n",
    "print(\"Top 10: \", sum(df_normal[feature].value_counts().nlargest(10)) / len(df_normal[feature]))\n",
    "df_normal[feature].value_counts()[:range_plot].plot(kind='bar').get_xaxis().set_visible(False)"
   ]
  },
  {
   "cell_type": "code",
   "execution_count": 39,
   "metadata": {},
   "outputs": [
    {
     "name": "stdout",
     "output_type": "stream",
     "text": [
      "Top 10:  0.3768197677323006\n"
     ]
    },
    {
     "data": {
      "image/png": "[encoded data removed]",
      "text/plain": [
       "<Figure size 432x288 with 1 Axes>"
      ]
     },
     "metadata": {
      "needs_background": "light"
     },
     "output_type": "display_data"
    }
   ],
   "source": [
    "feature = 'new TCP Ack'\n",
    "num_feature = df_normal[feature].nunique()\n",
    "percent_plot = 1\n",
    "range_plot = int(num_feature*percent_plot)\n",
    "# print(df_normal[feature].value_counts())\n",
    "\n",
    "print(\"Top 10: \", sum(df_normal[feature].value_counts().nlargest(10)) / len(df_normal[feature]))\n",
    "df_normal[feature].value_counts()[:range_plot].plot(kind='bar').get_xaxis().set_visible(False)"
   ]
  },
  {
   "cell_type": "code",
   "execution_count": null,
   "metadata": {},
   "outputs": [],
   "source": []
  },
  {
   "cell_type": "markdown",
   "metadata": {},
   "source": [
    "### Feature Selection"
   ]
  },
  {
   "cell_type": "raw",
   "metadata": {
    "scrolled": true
   },
   "source": [
    "feature = 'TCP Flags' \n",
    "# df_normal[feature].value_counts().rename_axis('unique_values').reset_index(name='counts')\n",
    "df_feature = df_normal[feature]\n",
    "df_feature"
   ]
  },
  {
   "cell_type": "markdown",
   "metadata": {},
   "source": [
    "### Hashing the inputs"
   ]
  },
  {
   "cell_type": "raw",
   "metadata": {},
   "source": [
    "#Sequentializes A1 and N1\n",
    "df_tmp = sequentializeDataFrame(df_normal, significantNormal, config['variablesHash']['inputHashRange'], config['SEQUENCELENGTH']) # add"
   ]
  },
  {
   "cell_type": "code",
   "execution_count": 8,
   "metadata": {},
   "outputs": [],
   "source": [
    "df = df_normal\n",
    "#create a deepcopy of the original df\n",
    "df_temp = df.copy()\n",
    "if type(df_temp['Absolute Time'].iloc[0]) == str:\n",
    "    df_temp['Absolute Time'] = df_temp['Absolute Time'].apply(lambda x: converttodatetime(x,config['SEQUENCELENGTH'])) # add\n",
    "#converting type of status\n",
    "df_temp = df_temp.astype({'Source IP' : 'str'})\n",
    "df_temp = df_temp.astype({'Dest IP' : 'str'})\n",
    "# df_temp = df_temp.astype({'Relative Time' : 'str'})\n",
    "df_temp = df_temp.astype({'Packet Len': 'str'})\n",
    "df_temp = df_temp.astype({'IP Flags' : 'str'})\n",
    "df_temp = df_temp.astype({'TCP Len' : 'str'})\n",
    "df_temp = df_temp.astype({'TCP Ack' : 'str'})\n",
    "df_temp = df_temp.astype({'TCP Flags' : 'str'})\n",
    "df_temp = df_temp.astype({'TCP Window Size': 'str'})\n",
    "df_temp = df_temp.astype({'Protocols': 'str'})\n",
    "df_temp = df_temp.astype({'Highest Layer(Protocol)': 'str'})\n",
    "df_temp = df_temp.astype({'Info' : 'str'})\n",
    "df_temp = df_temp.astype({'Input': 'str'})\n",
    "\n",
    "#Uncomment if you want to hash the Input\n",
    "df_temp['Input'] = df_temp['Input'].apply(lambda x: keepOrHash(x, significantNormal, config['variablesHash']['inputHashRange']))"
   ]
  },
  {
   "cell_type": "code",
   "execution_count": 9,
   "metadata": {
    "scrolled": true
   },
   "outputs": [
    {
     "data": {
      "text/html": [
       "<div>\n",
       "<style scoped>\n",
       "    .dataframe tbody tr th:only-of-type {\n",
       "        vertical-align: middle;\n",
       "    }\n",
       "\n",
       "    .dataframe tbody tr th {\n",
       "        vertical-align: top;\n",
       "    }\n",
       "\n",
       "    .dataframe thead th {\n",
       "        text-align: right;\n",
       "    }\n",
       "</style>\n",
       "<table border=\"1\" class=\"dataframe\">\n",
       "  <thead>\n",
       "    <tr style=\"text-align: right;\">\n",
       "      <th></th>\n",
       "      <th>index</th>\n",
       "      <th>Unnamed: 0</th>\n",
       "      <th>Pkt #</th>\n",
       "      <th>Absolute Time</th>\n",
       "      <th>Source IP</th>\n",
       "      <th>Dest IP</th>\n",
       "      <th>Relative Time</th>\n",
       "      <th>Packet Len</th>\n",
       "      <th>IP Flags</th>\n",
       "      <th>TCP Len</th>\n",
       "      <th>...</th>\n",
       "      <th>TCP Flags</th>\n",
       "      <th>TCP Window Size</th>\n",
       "      <th>Protocols</th>\n",
       "      <th>Highest Layer(Protocol)</th>\n",
       "      <th>Info</th>\n",
       "      <th>new TCP Ack</th>\n",
       "      <th>time_diff</th>\n",
       "      <th>time_diff_group</th>\n",
       "      <th>Input</th>\n",
       "      <th>Label</th>\n",
       "    </tr>\n",
       "  </thead>\n",
       "  <tbody>\n",
       "    <tr>\n",
       "      <th>0</th>\n",
       "      <td>1</td>\n",
       "      <td>7371617</td>\n",
       "      <td>7371617</td>\n",
       "      <td>2017-07-07 15:00:00.246396</td>\n",
       "      <td>192.168.10.19</td>\n",
       "      <td>172.217.7.6</td>\n",
       "      <td>21620.647268</td>\n",
       "      <td>66</td>\n",
       "      <td>0x00004000</td>\n",
       "      <td>0.0</td>\n",
       "      <td>...</td>\n",
       "      <td>0x00000010</td>\n",
       "      <td>46208.0</td>\n",
       "      <td>eth:ethertype:ip:tcp</td>\n",
       "      <td>TCP</td>\n",
       "      <td>[TCP Keep-Alive] 56753 → 443 [ACK] Seq=2993 Ac...</td>\n",
       "      <td>76.0</td>\n",
       "      <td>NaT</td>\n",
       "      <td>0</td>\n",
       "      <td>245</td>\n",
       "      <td>0</td>\n",
       "    </tr>\n",
       "    <tr>\n",
       "      <th>1</th>\n",
       "      <td>2</td>\n",
       "      <td>7371618</td>\n",
       "      <td>7371618</td>\n",
       "      <td>2017-07-07 15:00:00.283595</td>\n",
       "      <td>172.217.7.6</td>\n",
       "      <td>192.168.10.19</td>\n",
       "      <td>21620.684467</td>\n",
       "      <td>66</td>\n",
       "      <td>0x00000000</td>\n",
       "      <td>0.0</td>\n",
       "      <td>...</td>\n",
       "      <td>0x00000010</td>\n",
       "      <td>49920.0</td>\n",
       "      <td>eth:ethertype:ip:tcp</td>\n",
       "      <td>TCP</td>\n",
       "      <td>[TCP Keep-Alive ACK] 443 → 56753 [ACK] Seq=650...</td>\n",
       "      <td>62.0</td>\n",
       "      <td>NaT</td>\n",
       "      <td>0</td>\n",
       "      <td>13</td>\n",
       "      <td>0</td>\n",
       "    </tr>\n",
       "    <tr>\n",
       "      <th>2</th>\n",
       "      <td>3</td>\n",
       "      <td>7371619</td>\n",
       "      <td>7371619</td>\n",
       "      <td>2017-07-07 15:00:00.462857</td>\n",
       "      <td>192.168.10.12</td>\n",
       "      <td>74.121.138.87</td>\n",
       "      <td>21620.863729</td>\n",
       "      <td>66</td>\n",
       "      <td>0x00004000</td>\n",
       "      <td>0.0</td>\n",
       "      <td>...</td>\n",
       "      <td>0x00000010</td>\n",
       "      <td>40832.0</td>\n",
       "      <td>eth:ethertype:ip:tcp</td>\n",
       "      <td>TCP</td>\n",
       "      <td>[TCP Keep-Alive] 60212 → 443 [ACK] Seq=1641 Ac...</td>\n",
       "      <td>66.0</td>\n",
       "      <td>NaT</td>\n",
       "      <td>0</td>\n",
       "      <td>139</td>\n",
       "      <td>0</td>\n",
       "    </tr>\n",
       "    <tr>\n",
       "      <th>3</th>\n",
       "      <td>4</td>\n",
       "      <td>7371620</td>\n",
       "      <td>7371620</td>\n",
       "      <td>2017-07-07 15:00:00.486766</td>\n",
       "      <td>74.121.138.87</td>\n",
       "      <td>192.168.10.12</td>\n",
       "      <td>21620.887638</td>\n",
       "      <td>66</td>\n",
       "      <td>0x00004000</td>\n",
       "      <td>0.0</td>\n",
       "      <td>...</td>\n",
       "      <td>0x00000010</td>\n",
       "      <td>32768.0</td>\n",
       "      <td>eth:ethertype:ip:tcp</td>\n",
       "      <td>TCP</td>\n",
       "      <td>[TCP Keep-Alive ACK] 443 → 60212 [ACK] Seq=366...</td>\n",
       "      <td>56.0</td>\n",
       "      <td>NaT</td>\n",
       "      <td>0</td>\n",
       "      <td>208</td>\n",
       "      <td>0</td>\n",
       "    </tr>\n",
       "    <tr>\n",
       "      <th>4</th>\n",
       "      <td>5</td>\n",
       "      <td>7371621</td>\n",
       "      <td>7371621</td>\n",
       "      <td>2017-07-07 15:00:00.491208</td>\n",
       "      <td>192.168.10.16</td>\n",
       "      <td>185.86.137.42</td>\n",
       "      <td>21620.892080</td>\n",
       "      <td>97</td>\n",
       "      <td>0x00004000</td>\n",
       "      <td>31.0</td>\n",
       "      <td>...</td>\n",
       "      <td>0x00000018</td>\n",
       "      <td>43440.0</td>\n",
       "      <td>eth:ethertype:ip:tcp:tls</td>\n",
       "      <td>TLSv1.2</td>\n",
       "      <td>Encrypted Alert</td>\n",
       "      <td>72.0</td>\n",
       "      <td>NaT</td>\n",
       "      <td>0</td>\n",
       "      <td>135</td>\n",
       "      <td>0</td>\n",
       "    </tr>\n",
       "  </tbody>\n",
       "</table>\n",
       "<p>5 rows × 21 columns</p>\n",
       "</div>"
      ],
      "text/plain": [
       "   index  Unnamed: 0    Pkt #              Absolute Time      Source IP  \\\n",
       "0      1     7371617  7371617 2017-07-07 15:00:00.246396  192.168.10.19   \n",
       "1      2     7371618  7371618 2017-07-07 15:00:00.283595    172.217.7.6   \n",
       "2      3     7371619  7371619 2017-07-07 15:00:00.462857  192.168.10.12   \n",
       "3      4     7371620  7371620 2017-07-07 15:00:00.486766  74.121.138.87   \n",
       "4      5     7371621  7371621 2017-07-07 15:00:00.491208  192.168.10.16   \n",
       "\n",
       "         Dest IP  Relative Time Packet Len    IP Flags TCP Len  ...  \\\n",
       "0    172.217.7.6   21620.647268         66  0x00004000     0.0  ...   \n",
       "1  192.168.10.19   21620.684467         66  0x00000000     0.0  ...   \n",
       "2  74.121.138.87   21620.863729         66  0x00004000     0.0  ...   \n",
       "3  192.168.10.12   21620.887638         66  0x00004000     0.0  ...   \n",
       "4  185.86.137.42   21620.892080         97  0x00004000    31.0  ...   \n",
       "\n",
       "    TCP Flags TCP Window Size                 Protocols  \\\n",
       "0  0x00000010         46208.0      eth:ethertype:ip:tcp   \n",
       "1  0x00000010         49920.0      eth:ethertype:ip:tcp   \n",
       "2  0x00000010         40832.0      eth:ethertype:ip:tcp   \n",
       "3  0x00000010         32768.0      eth:ethertype:ip:tcp   \n",
       "4  0x00000018         43440.0  eth:ethertype:ip:tcp:tls   \n",
       "\n",
       "  Highest Layer(Protocol)                                               Info  \\\n",
       "0                     TCP  [TCP Keep-Alive] 56753 → 443 [ACK] Seq=2993 Ac...   \n",
       "1                     TCP  [TCP Keep-Alive ACK] 443 → 56753 [ACK] Seq=650...   \n",
       "2                     TCP  [TCP Keep-Alive] 60212 → 443 [ACK] Seq=1641 Ac...   \n",
       "3                     TCP  [TCP Keep-Alive ACK] 443 → 60212 [ACK] Seq=366...   \n",
       "4                 TLSv1.2                                    Encrypted Alert   \n",
       "\n",
       "  new TCP Ack time_diff time_diff_group Input Label  \n",
       "0        76.0       NaT               0   245     0  \n",
       "1        62.0       NaT               0    13     0  \n",
       "2        66.0       NaT               0   139     0  \n",
       "3        56.0       NaT               0   208     0  \n",
       "4        72.0       NaT               0   135     0  \n",
       "\n",
       "[5 rows x 21 columns]"
      ]
     },
     "execution_count": 9,
     "metadata": {},
     "output_type": "execute_result"
    }
   ],
   "source": [
    "df_temp[\"Label\"] = 0\n",
    "df_temp.head()"
   ]
  },
  {
   "cell_type": "code",
   "execution_count": 10,
   "metadata": {},
   "outputs": [
    {
     "name": "stdout",
     "output_type": "stream",
     "text": [
      "value count of features:  60      204269\n",
      "66      152530\n",
      "1514    102978\n",
      "Name: Packet Len, dtype: int64\n"
     ]
    },
    {
     "data": {
      "text/plain": [
       "['60', '66', '1514']"
      ]
     },
     "execution_count": 10,
     "metadata": {},
     "output_type": "execute_result"
    }
   ],
   "source": [
    "### Feature conditions\n",
    "feature_cond = 'Packet Len'\n",
    "top_n = 3\n",
    "\n",
    "df_normal[feature_cond].nunique()\n",
    "print(\"value count of features: \", df_normal[feature_cond].value_counts()[:top_n])\n",
    "topn_features = df_normal[feature_cond].value_counts().index.tolist()[:top_n]\n",
    "\n",
    "topn_features"
   ]
  },
  {
   "cell_type": "code",
   "execution_count": 11,
   "metadata": {},
   "outputs": [],
   "source": [
    "df_temp.loc[df_temp[feature_cond] == topn_features[0], 'Label'] = 1\n",
    "df_temp.loc[df_temp[feature_cond] == topn_features[1], 'Label'] = 2\n",
    "# df_temp.loc[df_temp[feature_cond] == topn_features[2], 'Label'] = 3"
   ]
  },
  {
   "cell_type": "code",
   "execution_count": 12,
   "metadata": {
    "scrolled": true
   },
   "outputs": [
    {
     "data": {
      "text/plain": [
       "245"
      ]
     },
     "execution_count": 12,
     "metadata": {},
     "output_type": "execute_result"
    }
   ],
   "source": [
    "df_temp['Input'] = df_temp['Input'].astype(int)\n",
    "df_temp['Input'][0]"
   ]
  },
  {
   "cell_type": "code",
   "execution_count": 13,
   "metadata": {},
   "outputs": [
    {
     "data": {
      "text/plain": [
       "0    403875\n",
       "1    204269\n",
       "2    152530\n",
       "Name: Label, dtype: int64"
      ]
     },
     "execution_count": 13,
     "metadata": {},
     "output_type": "execute_result"
    }
   ],
   "source": [
    "df_temp = df_temp.sort_values('Input')\n",
    "df_temp['Label'].value_counts()"
   ]
  },
  {
   "cell_type": "code",
   "execution_count": 15,
   "metadata": {
    "scrolled": true
   },
   "outputs": [
    {
     "name": "stderr",
     "output_type": "stream",
     "text": [
      "/home/wesleyjtann/miniconda3/envs/ddosgen/lib/python3.6/site-packages/ipykernel_launcher.py:5: FutureWarning: The signature of `Series.to_csv` was aligned to that of `DataFrame.to_csv`, and argument 'header' will change its default value from False to True: please pass an explicit value to suppress this warning.\n",
      "  \"\"\"\n"
     ]
    }
   ],
   "source": [
    "# # group by median\n",
    "# df_temp.groupby(['Input']).median()['Label'] #.to_csv('packetlen_cond.csv',index=False)\n",
    "\n",
    "# group by mode\n",
    "df_temp.groupby(['Input']).agg(lambda x:x.value_counts().index[0])['Label'].to_csv('packetlen_cond.csv',index=False)"
   ]
  },
  {
   "cell_type": "code",
   "execution_count": null,
   "metadata": {},
   "outputs": [],
   "source": []
  },
  {
   "cell_type": "code",
   "execution_count": null,
   "metadata": {},
   "outputs": [],
   "source": []
  },
  {
   "cell_type": "code",
   "execution_count": null,
   "metadata": {},
   "outputs": [],
   "source": []
  },
  {
   "cell_type": "raw",
   "metadata": {},
   "source": [
    "#Sequentializes A1 and N1\n",
    "df_normal = sequentializeDataFrame(df_normal, significantNormal, config['variablesHash']['inputHashRange'], config['SEQUENCELENGTH']) # add\n",
    "df_normal2 = sequentializeDataFrame(df_normal2, significantNormal, config['variablesHash']['inputHashRange'], config['SEQUENCELENGTH']) # add"
   ]
  },
  {
   "cell_type": "raw",
   "metadata": {},
   "source": [
    "df_normal2.head()"
   ]
  },
  {
   "cell_type": "raw",
   "metadata": {},
   "source": [
    "df = df_normal \n",
    "sig = significantNormal\n",
    "inputHashRange = config['variablesHash']['inputHashRange']\n",
    "seqlen = config['SEQUENCELENGTH']"
   ]
  },
  {
   "cell_type": "raw",
   "metadata": {},
   "source": [
    "#create a deepcopy of the original df\n",
    "df_temp = df.copy()\n",
    "df_temp"
   ]
  },
  {
   "cell_type": "raw",
   "metadata": {},
   "source": [
    "\n",
    "if type(df_temp['Absolute Time'].iloc[0]) == str:\n",
    "    df_temp['Absolute Time'] = df_temp['Absolute Time'].apply(lambda x: converttodatetime(x, config['SEQUENCELENGTH'])) # add\n",
    "#converting type of status\n",
    "df_temp = df_temp.astype({'Source IP' : 'str'})\n",
    "df_temp = df_temp.astype({'Dest IP' : 'str'})\n",
    "df_temp = df_temp.astype({'Input': 'str'})\n"
   ]
  },
  {
   "cell_type": "raw",
   "metadata": {},
   "source": []
  },
  {
   "cell_type": "raw",
   "metadata": {},
   "source": [
    "df_temp['Input'] = df_temp['Input'].apply(lambda x: keepOrHash(x, sig, inputHashRange))\n",
    "df_temp['Input']"
   ]
  },
  {
   "cell_type": "raw",
   "metadata": {},
   "source": [
    "#create groups based on 1 min interval\n",
    "df_temp['groups'] = df_temp.groupby('Source IP')['time_diff'].apply(lambda x: x.gt(pd.Timedelta(1, 'm')).cumsum())\n",
    "df_temp['time_diff'] = df_temp['time_diff'].apply(lambda x: getTimeClass(x.total_seconds()))\n",
    "#grouping in sequences of 20 length\n",
    "df_temp['group_len'] = df_temp.groupby(['Source IP', 'Dest IP', 'groups'])['Absolute Time'].rank(method = 'first')\n",
    "# df_temp['group_len'] = df_temp['group_len'].apply(lambda x: math.ceil(x/20))\n",
    "df_temp['group_len'] = df_temp['group_len'].apply(lambda x: math.ceil(x/seqlen)) # add\n",
    "\n",
    "#create groups based on \"remote_addr\" and \"groups\"\n",
    "df_temp = df_temp.groupby(['Source IP', 'Dest IP', 'groups', 'group_len'])"
   ]
  },
  {
   "cell_type": "raw",
   "metadata": {},
   "source": [
    "df_temp"
   ]
  },
  {
   "cell_type": "raw",
   "metadata": {},
   "source": [
    "    #aggregation\n",
    "sr = df_temp['Protocols', 'Info'].agg(lambda x: \"<SEP>\".join(x))\n",
    "sr['Input'] = df_temp['Input'].agg(lambda x: \"<SEP>\".join(x))\n",
    "sr.reset_index(inplace=True)\n",
    "#converting to dataframe\n",
    "#sr = sr.to_frame()\n",
    "sr = sr.drop(columns = ['groups', 'group_len'])"
   ]
  },
  {
   "cell_type": "raw",
   "metadata": {},
   "source": [
    "sr['Input'][0]"
   ]
  },
  {
   "cell_type": "raw",
   "metadata": {},
   "source": [
    "sequentializeDataFrame(df_normal, significantNormal, config['variablesHash']['inputHashRange'], config['SEQUENCELENGTH']) \n",
    "\n",
    "def sequentializeDataFrame(df, sig, inputHashRange, seqlen): # add\n",
    "    #create a deepcopy of the original df\n",
    "    df_temp = df.copy()\n",
    "    if type(df_temp['Absolute Time'].iloc[0]) == str:\n",
    "        df_temp['Absolute Time'] = df_temp['Absolute Time'].apply(lambda x: converttodatetime(x, config['SEQUENCELENGTH'])) # add\n",
    "    #converting type of status\n",
    "    df_temp = df_temp.astype({'Source IP' : 'str'})\n",
    "    df_temp = df_temp.astype({'Dest IP' : 'str'})\n",
    "    # df_temp = df_temp.astype({'Relative Time' : 'str'})\n",
    "    df_temp = df_temp.astype({'Packet Len': 'str'})\n",
    "    df_temp = df_temp.astype({'IP Flags' : 'str'})\n",
    "    df_temp = df_temp.astype({'TCP Len' : 'str'})\n",
    "    df_temp = df_temp.astype({'TCP Ack' : 'str'})\n",
    "    df_temp = df_temp.astype({'TCP Flags' : 'str'})\n",
    "    df_temp = df_temp.astype({'TCP Window Size': 'str'})\n",
    "    df_temp = df_temp.astype({'Protocols': 'str'})\n",
    "    df_temp = df_temp.astype({'Highest Layer(Protocol)': 'str'})\n",
    "    df_temp = df_temp.astype({'Info' : 'str'})\n",
    "    df_temp = df_temp.astype({'Input': 'str'})\n",
    "\n",
    "    #Uncomment if you want to hash the Input\n",
    "    df_temp['Input'] = df_temp['Input'].apply(lambda x: keepOrHash(x, sig, inputHashRange))\n",
    "\n",
    "    #create groups based on 1 min interval\n",
    "    df_temp['groups'] = df_temp.groupby('Source IP')['time_diff'].apply(lambda x: x.gt(pd.Timedelta(1, 'm')).cumsum())\n",
    "    df_temp['time_diff'] = df_temp['time_diff'].apply(lambda x: getTimeClass(x.total_seconds()))\n",
    "    #grouping in sequences of 20 length\n",
    "    df_temp['group_len'] = df_temp.groupby(['Source IP', 'Dest IP', 'groups'])['Absolute Time'].rank(method = 'first')\n",
    "    # df_temp['group_len'] = df_temp['group_len'].apply(lambda x: math.ceil(x/20))\n",
    "    df_temp['group_len'] = df_temp['group_len'].apply(lambda x: math.ceil(x/seqlen)) # add\n",
    "\n",
    "    #create groups based on \"remote_addr\" and \"groups\"\n",
    "    df_temp = df_temp.groupby(['Source IP', 'Dest IP', 'groups', 'group_len'])\n",
    "\n",
    "    #aggregation\n",
    "    sr = df_temp['Protocols', 'Info'].agg(lambda x: \"<SEP>\".join(x))\n",
    "    sr['Input'] = df_temp['Input'].agg(lambda x: \"<SEP>\".join(x))\n",
    "    sr.reset_index(inplace=True)\n",
    "    #converting to dataframe\n",
    "    #sr = sr.to_frame()\n",
    "    sr = sr.drop(columns = ['groups', 'group_len'])\n",
    "    return sr\n"
   ]
  },
  {
   "cell_type": "raw",
   "metadata": {},
   "source": [
    "\n",
    "# df_normal.to_csv(r'' + config['metadata']['uniqueID'] + '/' + config['metadata']['artefact'] + '/' + 'N1(PreSequentialize).csv', index = None, header=True)\n",
    "# df_normal2.to_csv(r'' + config['metadata']['uniqueID'] + '/' + config['metadata']['artefact'] + '/' + 'TEST(PreSequentialize).csv', index = None, header=True)\n",
    "\n",
    "#Sequentializes A1 and N1\n",
    "df_normal = sequentializeDataFrame(df_normal, significantNormal, config['variablesHash']['inputHashRange'], config['SEQUENCELENGTH']) # add\n",
    "df_normal2 = sequentializeDataFrame(df_normal2, significantNormal, config['variablesHash']['inputHashRange'], config['SEQUENCELENGTH']) # add"
   ]
  },
  {
   "cell_type": "raw",
   "metadata": {},
   "source": [
    "def sequentializeDataFrame(df, sig, inputHashRange, seqlen): # add\n",
    "    #create a deepcopy of the original df\n",
    "    df_temp = df.copy()\n",
    "    if type(df_temp['Absolute Time'].iloc[0]) == str:\n",
    "        df_temp['Absolute Time'] = df_temp['Absolute Time'].apply(lambda x: converttodatetime(x, config['SEQUENCELENGTH'])) # add\n",
    "    #converting type of status\n",
    "    df_temp = df_temp.astype({'Source IP' : 'str'})\n",
    "    df_temp = df_temp.astype({'Dest IP' : 'str'})\n",
    "    # df_temp = df_temp.astype({'Relative Time' : 'str'})\n",
    "    df_temp = df_temp.astype({'Packet Len': 'str'})\n",
    "    df_temp = df_temp.astype({'IP Flags' : 'str'})\n",
    "    df_temp = df_temp.astype({'TCP Len' : 'str'})\n",
    "    df_temp = df_temp.astype({'TCP Ack' : 'str'})\n",
    "    df_temp = df_temp.astype({'TCP Flags' : 'str'})\n",
    "    df_temp = df_temp.astype({'TCP Window Size': 'str'})\n",
    "    df_temp = df_temp.astype({'Protocols': 'str'})\n",
    "    df_temp = df_temp.astype({'Highest Layer(Protocol)': 'str'})\n",
    "    df_temp = df_temp.astype({'Info' : 'str'})\n",
    "    df_temp = df_temp.astype({'Input': 'str'})\n",
    "\n",
    "    #Uncomment if you want to hash the Input\n",
    "    df_temp['Input'] = df_temp['Input'].apply(lambda x: keepOrHash(x, sig, inputHashRange))\n",
    "\n",
    "    #create groups based on 1 min interval\n",
    "    df_temp['groups'] = df_temp.groupby('Source IP')['time_diff'].apply(lambda x: x.gt(pd.Timedelta(1, 'm')).cumsum())\n",
    "    df_temp['time_diff'] = df_temp['time_diff'].apply(lambda x: getTimeClass(x.total_seconds()))\n",
    "    #grouping in sequences of 20 length\n",
    "    df_temp['group_len'] = df_temp.groupby(['Source IP', 'Dest IP', 'groups'])['Absolute Time'].rank(method = 'first')\n",
    "    # df_temp['group_len'] = df_temp['group_len'].apply(lambda x: math.ceil(x/20))\n",
    "    df_temp['group_len'] = df_temp['group_len'].apply(lambda x: math.ceil(x/seqlen)) # add\n",
    "\n",
    "    #create groups based on \"remote_addr\" and \"groups\"\n",
    "    df_temp = df_temp.groupby(['Source IP', 'Dest IP', 'groups', 'group_len'])\n",
    "\n",
    "    #aggregation\n",
    "    sr = df_temp['Protocols', 'Info'].agg(lambda x: \"<SEP>\".join(x))\n",
    "    sr['Input'] = df_temp['Input'].agg(lambda x: \"<SEP>\".join(x))\n",
    "    sr.reset_index(inplace=True)\n",
    "    #converting to dataframe\n",
    "    #sr = sr.to_frame()\n",
    "    sr = sr.drop(columns = ['groups', 'group_len'])\n",
    "    return sr\n"
   ]
  }
 ],
 "metadata": {
  "kernelspec": {
   "display_name": "ddosgen",
   "language": "python",
   "name": "ddosgen"
  },
  "language_info": {
   "codemirror_mode": {
    "name": "ipython",
    "version": 3
   },
   "file_extension": ".py",
   "mimetype": "text/x-python",
   "name": "python",
   "nbconvert_exporter": "python",
   "pygments_lexer": "ipython3",
   "version": "3.6.9"
  },
  "metadata": {
   "interpreter": {
    "hash": "fbd27d7fc8b05924f2079fcc56f9a4840a893b9ec6f2208eff8c185ddb67fbf9"
   }
  }
 },
 "nbformat": 4,
 "nbformat_minor": 2
}
