{
 "cells": [
  {
   "cell_type": "code",
   "execution_count": 4,
   "metadata": {},
   "outputs": [],
   "source": [
    "import yaml\n",
    "import sys\n",
    "import numpy as np\n",
    "import hashlib\n",
    "import pandas as pd # data processing, CSV file I/O (e.g. pd.read_csv)\n",
    "import math\n",
    "from scipy import stats\n",
    "from datetime import datetime, timedelta\n",
    "\n",
    "\n",
    "def getAgentHash(agent, agentHashRange) :\n",
    "    hashret = int(hashlib.sha1(agent.encode('utf-8')).hexdigest(), 16) % agentHashRange\n",
    "\n",
    "    return str(hashret)\n",
    "\n",
    "def loadConfig():\n",
    "    with open(sys.argv[1], \"r\") as ymlfile:\n",
    "        cfg = yaml.load(ymlfile)\n",
    "    return cfg\n",
    "\n",
    "def getHash(fullURI, queryHashRange):\n",
    "    hashret = 0\n",
    "\n",
    "    #Handles cases with no '/'\n",
    "    if(fullURI.find('/') == -1) :\n",
    "        fullURI = '/' + fullURI\n",
    "\n",
    "    uri = fullURI.split('?', 1)[0]\n",
    "\n",
    "    if (len(uri.rsplit('/', 1)) > 1) :\n",
    "        request = uri.rsplit('/', 1)[1]\n",
    "    else :\n",
    "        request = ''\n",
    "\n",
    "    if (len(fullURI.split('?', 1)) > 1) :\n",
    "        request = request + '?' + fullURI.split('?', 1)[1]\n",
    "    else :\n",
    "        request = request\n",
    "\n",
    "    hashret = int(hashlib.sha1(request.encode('utf-8')).hexdigest(), 16) % queryHashRange\n",
    "    uri = uri.rsplit('/', 1)[0]\n",
    "\n",
    "    return str(hashret)\n",
    "\n",
    "def getURI(fullURI):\n",
    "    uri = fullURI.split('?', 1)[0]\n",
    "    uri = uri.rsplit('/', 1)[0]\n",
    "\n",
    "\n",
    "    if uri == '' :\n",
    "        return '<EMPTY>'\n",
    "    else :\n",
    "        return str(uri)\n",
    "\n",
    "def converttodatetime(x, seqlen):\n",
    "    # if len(x)< 20:\n",
    "    if len(x)< seqlen:    # add\n",
    "        x += '.000'\n",
    "    return datetime.datetime.strptime(x, \"%Y-%m-%d %H:%M:%S.%f\")\n",
    "\n",
    "#TimeDif 0 Padding\n",
    "# Start = 14\n",
    "# End = 15\n",
    "def getTimeClass(time_dif):\n",
    "    time = 0\n",
    "    if time_dif == 0.0:\n",
    "        time = 0\n",
    "    elif time_dif < 0.001 :\n",
    "        time = 1\n",
    "    elif time_dif < 0.05 :\n",
    "        time = 2\n",
    "    elif time_dif < 0.1 :\n",
    "        time = 3\n",
    "    elif time_dif < 1 :\n",
    "        time = 4\n",
    "    elif time_dif < 15 :\n",
    "        time = 5\n",
    "    elif time_dif < 180 :\n",
    "        time = 6\n",
    "    elif time_dif > 300 :\n",
    "        time = 7\n",
    "\n",
    "    return str(time)\n",
    "\n",
    "#Source IP  Dest IP Time    Packet Len  IP Flags    TCP Len TCP Ack TCP Flags   TCP Window Size UDP Len ICMP Type   Protocols   Highest Layer(Protocol) Info\n",
    "def prepDataFrame(df, agentHashRange, queryHashRange) :\n",
    "    #create a deepcopy of the original df\n",
    "    df_temp = df.copy()\n",
    "    if type(df_temp['Absolute Time'].iloc[0]) == str:\n",
    "        df_temp['Absolute Time'] = df_temp['Absolute Time'].apply(lambda x: converttodatetime(x, config['SEQUENCELENGTH'])) # add\n",
    "\n",
    "    #converting type of status\n",
    "    df_temp = df_temp.astype({'Source IP' : 'str'})\n",
    "    df_temp = df_temp.astype({'Dest IP' : 'str'})\n",
    "    # df_temp = df_temp.astype({'Relative Time' : 'str'})\n",
    "    df_temp = df_temp.astype({'Packet Len': 'str'})\n",
    "    df_temp = df_temp.astype({'IP Flags' : 'str'})\n",
    "    df_temp = df_temp.astype({'TCP Len' : 'str'})\n",
    "    df_temp = df_temp.astype({'TCP Flags' : 'str'})\n",
    "    df_temp = df_temp.astype({'TCP Window Size': 'str'})\n",
    "    df_temp = df_temp.astype({'Protocols': 'str'})\n",
    "    df_temp = df_temp.astype({'Highest Layer(Protocol)': 'str'})\n",
    "    df_temp = df_temp.astype({'Info' : 'str'})\n",
    "\n",
    "    ##TCP ACK Feature Engineering\n",
    "    tcpack = np.array(df_temp['TCP Ack'])\n",
    "    bin_edges = stats.mstats.mquantiles(tcpack, np.arange(0,1,0.01)[1:])\n",
    "\n",
    "    df_temp.loc[df_temp['TCP Ack'] <= bin_edges[int(0)], 'new TCP Ack'] = int(0)\n",
    "\n",
    "    for i in range(len(bin_edges)-1):\n",
    "        df_temp.loc[(bin_edges[int(i)] < df_temp['TCP Ack']) & (df_temp['TCP Ack'] <= bin_edges[int(i+1)]), 'new TCP Ack'] = int(i+1)\n",
    "\n",
    "    df_temp.loc[df_temp['TCP Ack'] > bin_edges[-1], 'new TCP Ack'] = int(len(bin_edges))\n",
    "    df_temp['new TCP Ack'] = df_temp['new TCP Ack'].astype('str')\n",
    "\n",
    "    #Relative Time Feature Engineering\n",
    "    # reltime = np.array(df['Relative Time'])\n",
    "    # round_reltime = np.around(reltime, decimals=0, out=None)\n",
    "    # df_temp.insert(1, \"new Relative Time\", round_reltime, True)\n",
    "    # df_temp['new Relative Time'] = df_temp['new Relative Time'].astype('str')\n",
    "\n",
    "    #calculate the difference between requests from a specific user\n",
    "    df_temp['time_diff'] = df_temp.groupby('Source IP')['Absolute Time'].diff()\n",
    "\n",
    "    #Maybe can remove this (DOUBLE CHECK)\n",
    "    df_temp['time_diff_group'] = df_temp['time_diff'].apply(lambda x: getTimeClass(x.total_seconds()))\n",
    "\n",
    "    #Calculate the Combined Input of URI Hash Status Time\n",
    "    df_temp['Input'] = df_temp['Packet Len'] + '<JOIN>' + df_temp['IP Flags'] + '<JOIN>' + df_temp['TCP Len'] + '<JOIN>' + df_temp['new TCP Ack'] + '<JOIN>' + df_temp['TCP Flags'] + '<JOIN>' + df_temp['TCP Window Size'] + '<JOIN>' + df_temp['Highest Layer(Protocol)']\n",
    "\n",
    "    return df_temp\n",
    "\n",
    "def getSignificantRequest(dataframe, hashThreshold) :\n",
    "    freq = dataframe['Input'].value_counts(normalize=True)\n",
    "\n",
    "    ret = []\n",
    "\n",
    "    index = freq.index\n",
    "    for i in range(len(freq)):\n",
    "        if freq[i] > hashThreshold :\n",
    "            ret.append(index[i])\n",
    "\n",
    "    return ret\n",
    "\n",
    "# def keepOrHash(uri, sig, inputHashRange) :\n",
    "#     if uri in sig :\n",
    "#         return uri\n",
    "#     else :\n",
    "#         return str(int(hashlib.sha1(uri.encode('utf-8')).hexdigest(), 16) % inputHashRange)\n",
    "def keepOrHash(uri, sig, inputHashRange) :\n",
    "#     if uri in sig :\n",
    "#         return uri\n",
    "#     else :\n",
    "    return str(int(hashlib.sha1(uri.encode('utf-8')).hexdigest(), 16) % inputHashRange)\n",
    "\n",
    "def sequentializeDataFrame(df, sig, inputHashRange, seqlen): # add\n",
    "    #create a deepcopy of the original df\n",
    "    df_temp = df.copy()\n",
    "    if type(df_temp['Absolute Time'].iloc[0]) == str:\n",
    "        df_temp['Absolute Time'] = df_temp['Absolute Time'].apply(lambda x: converttodatetime(x, config['SEQUENCELENGTH'])) # add\n",
    "    #converting type of status\n",
    "    df_temp = df_temp.astype({'Source IP' : 'str'})\n",
    "    df_temp = df_temp.astype({'Dest IP' : 'str'})\n",
    "    # df_temp = df_temp.astype({'Relative Time' : 'str'})\n",
    "    df_temp = df_temp.astype({'Packet Len': 'str'})\n",
    "    df_temp = df_temp.astype({'IP Flags' : 'str'})\n",
    "    df_temp = df_temp.astype({'TCP Len' : 'str'})\n",
    "    df_temp = df_temp.astype({'TCP Ack' : 'str'})\n",
    "    df_temp = df_temp.astype({'TCP Flags' : 'str'})\n",
    "    df_temp = df_temp.astype({'TCP Window Size': 'str'})\n",
    "    df_temp = df_temp.astype({'Protocols': 'str'})\n",
    "    df_temp = df_temp.astype({'Highest Layer(Protocol)': 'str'})\n",
    "    df_temp = df_temp.astype({'Info' : 'str'})\n",
    "    df_temp = df_temp.astype({'Input': 'str'})\n",
    "\n",
    "    #Uncomment if you want to hash the Input\n",
    "    df_temp['Input'] = df_temp['Input'].apply(lambda x: keepOrHash(x, sig, inputHashRange))\n",
    "\n",
    "    #create groups based on 1 min interval\n",
    "    df_temp['groups'] = df_temp.groupby('Source IP')['time_diff'].apply(lambda x: x.gt(pd.Timedelta(1, 'm')).cumsum())\n",
    "    df_temp['time_diff'] = df_temp['time_diff'].apply(lambda x: getTimeClass(x.total_seconds()))\n",
    "    #grouping in sequences of 20 length\n",
    "    df_temp['group_len'] = df_temp.groupby(['Source IP', 'Dest IP', 'groups'])['Absolute Time'].rank(method = 'first')\n",
    "    # df_temp['group_len'] = df_temp['group_len'].apply(lambda x: math.ceil(x/20))\n",
    "    df_temp['group_len'] = df_temp['group_len'].apply(lambda x: math.ceil(x/seqlen)) # add\n",
    "\n",
    "    #create groups based on \"remote_addr\" and \"groups\"\n",
    "    df_temp = df_temp.groupby(['Source IP', 'Dest IP', 'groups', 'group_len'])\n",
    "\n",
    "    #aggregation\n",
    "    sr = df_temp['Protocols', 'Info'].agg(lambda x: \"<SEP>\".join(x))\n",
    "    sr['Input'] = df_temp['Input'].agg(lambda x: \"<SEP>\".join(x))\n",
    "    sr.reset_index(inplace=True)\n",
    "    #converting to dataframe\n",
    "    #sr = sr.to_frame()\n",
    "    sr = sr.drop(columns = ['groups', 'group_len'])\n",
    "    return sr\n",
    "\n",
    "def getCountryAgentPair(x, y):\n",
    "    agent = x.split('<SEP>')[0]\n",
    "    country = y.split('<SEP>')[0]\n",
    "\n",
    "    return str(country) + '<JOIN>' + str(agent)\n",
    "\n",
    "def getFirstOnly(y):\n",
    "    country = y.split('<SEP>')[0]\n",
    "\n",
    "    return str(country)\n",
    "\n",
    "\n",
    "#Remove request if Remote Addresses (IP) appear 10 or less times\n",
    "#Because the data is not in chronological form, sort by timestamp to get in chronological form\n",
    "def filterAndSort(df) :\n",
    "    df = df.sort_values(by=['Absolute Time'])\n",
    "    before = len(df)\n",
    "    df = df.groupby('Source IP').filter(lambda x: len(x) > 10)\n",
    "    after = len(df)\n",
    "    df = df.reset_index()\n",
    "\n",
    "    print(\"Before = {}, After = {}\".format(before, after))\n",
    "\n",
    "    return df\n",
    "\n",
    "#Split dataframe into 5s interval\n",
    "def getIntervals(df) :\n",
    "    ret = []\n",
    "    S = pd.to_datetime(df['Absolute Time'])\n",
    "    timebins = (S - S[0]).astype('timedelta64[m]')\n",
    "    timebins = timebins.tolist()\n",
    "    timebins = [math.floor(time/1) for time in timebins]\n",
    "    timebins = [pd.Series(timebins)]\n",
    "\n",
    "    for i, g in df.groupby(timebins):\n",
    "        ret.append(g.reset_index(drop=True))\n",
    "\n",
    "    return ret\n"
   ]
  },
  {
   "cell_type": "code",
   "execution_count": 5,
   "metadata": {},
   "outputs": [
    {
     "name": "stdout",
     "output_type": "stream",
     "text": [
      "*****     Starting Preprocessing     ******\n"
     ]
    },
    {
     "name": "stderr",
     "output_type": "stream",
     "text": [
      "/home/wesleyjtann/miniconda3/envs/ddosgen/lib/python3.6/site-packages/ipykernel_launcher.py:5: YAMLLoadWarning: calling yaml.load() without Loader=... is deprecated, as the default Loader is unsafe. Please read https://msg.pyyaml.org/load for full details.\n",
      "  \"\"\"\n"
     ]
    }
   ],
   "source": [
    "print(\"*****     Starting Preprocessing     ******\")\n",
    "# config = loadConfig()\n",
    "# config = yaml.load(\"./light_config_hulk.yaml\")\n",
    "with open('light_config_hulk.yaml', \"r\") as ymlfile:\n",
    "    config = yaml.load(ymlfile)"
   ]
  },
  {
   "cell_type": "code",
   "execution_count": 6,
   "metadata": {},
   "outputs": [
    {
     "name": "stdout",
     "output_type": "stream",
     "text": [
      "Before = 2473772, After = 2472634\n",
      "Before = 2319937, After = 2318280\n",
      "Before = 378898, After = 377379\n"
     ]
    }
   ],
   "source": [
    "dfA = pd.read_csv(config['datapath']['a'], parse_dates=['Absolute Time'])\n",
    "dfN1 = pd.read_csv(config['datapath']['n1'], parse_dates=['Absolute Time'])\n",
    "\n",
    "#load N2\n",
    "dfN2 = pd.read_csv(config['datapath']['n2'], parse_dates=['Absolute Time'])\n",
    "\n",
    "#Remove request if Remote Addresses (IP) appear 10 or less times\n",
    "#Because the data is not in chronological form, sort by timestamp to get in chronological form\n",
    "dfA = filterAndSort(dfA)\n",
    "dfN1 = filterAndSort(dfN1)\n",
    "dfN2 = filterAndSort(dfN2)"
   ]
  },
  {
   "cell_type": "code",
   "execution_count": 7,
   "metadata": {},
   "outputs": [],
   "source": [
    "#Prepares A1 and N1 for sequentializing\n",
    "df_normal = prepDataFrame(dfN1, config['variablesHash']['agentHashRange'], config['variablesHash']['queryHashRange'])\n",
    "df_normal2 = prepDataFrame(dfN2, config['variablesHash']['agentHashRange'], config['variablesHash']['queryHashRange'])\n",
    "significantNormal = getSignificantRequest(df_normal, config['variablesHash']['inputHashThreshold'])"
   ]
  },
  {
   "cell_type": "code",
   "execution_count": 8,
   "metadata": {
    "scrolled": true
   },
   "outputs": [
    {
     "data": {
      "text/html": [
       "<div>\n",
       "<style scoped>\n",
       "    .dataframe tbody tr th:only-of-type {\n",
       "        vertical-align: middle;\n",
       "    }\n",
       "\n",
       "    .dataframe tbody tr th {\n",
       "        vertical-align: top;\n",
       "    }\n",
       "\n",
       "    .dataframe thead th {\n",
       "        text-align: right;\n",
       "    }\n",
       "</style>\n",
       "<table border=\"1\" class=\"dataframe\">\n",
       "  <thead>\n",
       "    <tr style=\"text-align: right;\">\n",
       "      <th></th>\n",
       "      <th>index</th>\n",
       "      <th>Unnamed: 0</th>\n",
       "      <th>Pkt #</th>\n",
       "      <th>Absolute Time</th>\n",
       "      <th>Source IP</th>\n",
       "      <th>Dest IP</th>\n",
       "      <th>Relative Time</th>\n",
       "      <th>Packet Len</th>\n",
       "      <th>IP Flags</th>\n",
       "      <th>TCP Len</th>\n",
       "      <th>TCP Ack</th>\n",
       "      <th>TCP Flags</th>\n",
       "      <th>TCP Window Size</th>\n",
       "      <th>Protocols</th>\n",
       "      <th>Highest Layer(Protocol)</th>\n",
       "      <th>Info</th>\n",
       "      <th>new TCP Ack</th>\n",
       "      <th>time_diff</th>\n",
       "      <th>time_diff_group</th>\n",
       "      <th>Input</th>\n",
       "    </tr>\n",
       "  </thead>\n",
       "  <tbody>\n",
       "    <tr>\n",
       "      <th>0</th>\n",
       "      <td>0</td>\n",
       "      <td>3604680</td>\n",
       "      <td>3604680</td>\n",
       "      <td>2017-07-05 09:00:00.000045</td>\n",
       "      <td>13.107.4.50</td>\n",
       "      <td>192.168.10.15</td>\n",
       "      <td>1037.915673</td>\n",
       "      <td>2974</td>\n",
       "      <td>0x00004000</td>\n",
       "      <td>2920.0</td>\n",
       "      <td>1.106720e+05</td>\n",
       "      <td>0x00000010</td>\n",
       "      <td>262400.0</td>\n",
       "      <td>eth:ethertype:ip:tcp</td>\n",
       "      <td>TCP</td>\n",
       "      <td>[TCP Spurious Retransmission] 80 → 49672 [ACK]...</td>\n",
       "      <td>34.0</td>\n",
       "      <td>NaT</td>\n",
       "      <td>0</td>\n",
       "      <td>2974&lt;JOIN&gt;0x00004000&lt;JOIN&gt;2920.0&lt;JOIN&gt;34.0&lt;JOI...</td>\n",
       "    </tr>\n",
       "    <tr>\n",
       "      <th>1</th>\n",
       "      <td>1</td>\n",
       "      <td>3604681</td>\n",
       "      <td>3604681</td>\n",
       "      <td>2017-07-05 09:00:00.000235</td>\n",
       "      <td>192.168.10.15</td>\n",
       "      <td>13.107.4.50</td>\n",
       "      <td>1037.915863</td>\n",
       "      <td>60</td>\n",
       "      <td>0x00004000</td>\n",
       "      <td>0.0</td>\n",
       "      <td>1.559245e+09</td>\n",
       "      <td>0x00000010</td>\n",
       "      <td>331008.0</td>\n",
       "      <td>eth:ethertype:ip:tcp</td>\n",
       "      <td>TCP</td>\n",
       "      <td>[TCP ACKed unseen segment] 49672 → 80 [ACK] Se...</td>\n",
       "      <td>77.0</td>\n",
       "      <td>NaT</td>\n",
       "      <td>0</td>\n",
       "      <td>60&lt;JOIN&gt;0x00004000&lt;JOIN&gt;0.0&lt;JOIN&gt;77.0&lt;JOIN&gt;0x0...</td>\n",
       "    </tr>\n",
       "    <tr>\n",
       "      <th>2</th>\n",
       "      <td>2</td>\n",
       "      <td>3604682</td>\n",
       "      <td>3604682</td>\n",
       "      <td>2017-07-05 09:00:00.000237</td>\n",
       "      <td>13.107.4.50</td>\n",
       "      <td>192.168.10.15</td>\n",
       "      <td>1037.915865</td>\n",
       "      <td>2974</td>\n",
       "      <td>0x00004000</td>\n",
       "      <td>2920.0</td>\n",
       "      <td>1.106720e+05</td>\n",
       "      <td>0x00000010</td>\n",
       "      <td>262400.0</td>\n",
       "      <td>eth:ethertype:ip:tcp</td>\n",
       "      <td>TCP</td>\n",
       "      <td>[TCP Spurious Retransmission] 80 → 49672 [ACK]...</td>\n",
       "      <td>34.0</td>\n",
       "      <td>00:00:00.000192</td>\n",
       "      <td>1</td>\n",
       "      <td>2974&lt;JOIN&gt;0x00004000&lt;JOIN&gt;2920.0&lt;JOIN&gt;34.0&lt;JOI...</td>\n",
       "    </tr>\n",
       "    <tr>\n",
       "      <th>3</th>\n",
       "      <td>3</td>\n",
       "      <td>3604683</td>\n",
       "      <td>3604683</td>\n",
       "      <td>2017-07-05 09:00:00.000429</td>\n",
       "      <td>13.107.4.50</td>\n",
       "      <td>192.168.10.15</td>\n",
       "      <td>1037.916057</td>\n",
       "      <td>2974</td>\n",
       "      <td>0x00004000</td>\n",
       "      <td>2920.0</td>\n",
       "      <td>1.106720e+05</td>\n",
       "      <td>0x00000010</td>\n",
       "      <td>262400.0</td>\n",
       "      <td>eth:ethertype:ip:tcp</td>\n",
       "      <td>TCP</td>\n",
       "      <td>80 → 49672 [ACK] Seq=1559245379 Ack=110672 Win...</td>\n",
       "      <td>34.0</td>\n",
       "      <td>00:00:00.000192</td>\n",
       "      <td>1</td>\n",
       "      <td>2974&lt;JOIN&gt;0x00004000&lt;JOIN&gt;2920.0&lt;JOIN&gt;34.0&lt;JOI...</td>\n",
       "    </tr>\n",
       "    <tr>\n",
       "      <th>4</th>\n",
       "      <td>4</td>\n",
       "      <td>3604684</td>\n",
       "      <td>3604684</td>\n",
       "      <td>2017-07-05 09:00:00.000486</td>\n",
       "      <td>192.168.10.15</td>\n",
       "      <td>13.107.4.50</td>\n",
       "      <td>1037.916114</td>\n",
       "      <td>60</td>\n",
       "      <td>0x00004000</td>\n",
       "      <td>0.0</td>\n",
       "      <td>1.559248e+09</td>\n",
       "      <td>0x00000010</td>\n",
       "      <td>331008.0</td>\n",
       "      <td>eth:ethertype:ip:tcp</td>\n",
       "      <td>TCP</td>\n",
       "      <td>49672 → 80 [ACK] Seq=110672 Ack=1559248299 Win...</td>\n",
       "      <td>77.0</td>\n",
       "      <td>00:00:00.000251</td>\n",
       "      <td>1</td>\n",
       "      <td>60&lt;JOIN&gt;0x00004000&lt;JOIN&gt;0.0&lt;JOIN&gt;77.0&lt;JOIN&gt;0x0...</td>\n",
       "    </tr>\n",
       "  </tbody>\n",
       "</table>\n",
       "</div>"
      ],
      "text/plain": [
       "   index  Unnamed: 0    Pkt #              Absolute Time      Source IP  \\\n",
       "0      0     3604680  3604680 2017-07-05 09:00:00.000045    13.107.4.50   \n",
       "1      1     3604681  3604681 2017-07-05 09:00:00.000235  192.168.10.15   \n",
       "2      2     3604682  3604682 2017-07-05 09:00:00.000237    13.107.4.50   \n",
       "3      3     3604683  3604683 2017-07-05 09:00:00.000429    13.107.4.50   \n",
       "4      4     3604684  3604684 2017-07-05 09:00:00.000486  192.168.10.15   \n",
       "\n",
       "         Dest IP  Relative Time Packet Len    IP Flags TCP Len       TCP Ack  \\\n",
       "0  192.168.10.15    1037.915673       2974  0x00004000  2920.0  1.106720e+05   \n",
       "1    13.107.4.50    1037.915863         60  0x00004000     0.0  1.559245e+09   \n",
       "2  192.168.10.15    1037.915865       2974  0x00004000  2920.0  1.106720e+05   \n",
       "3  192.168.10.15    1037.916057       2974  0x00004000  2920.0  1.106720e+05   \n",
       "4    13.107.4.50    1037.916114         60  0x00004000     0.0  1.559248e+09   \n",
       "\n",
       "    TCP Flags TCP Window Size             Protocols Highest Layer(Protocol)  \\\n",
       "0  0x00000010        262400.0  eth:ethertype:ip:tcp                     TCP   \n",
       "1  0x00000010        331008.0  eth:ethertype:ip:tcp                     TCP   \n",
       "2  0x00000010        262400.0  eth:ethertype:ip:tcp                     TCP   \n",
       "3  0x00000010        262400.0  eth:ethertype:ip:tcp                     TCP   \n",
       "4  0x00000010        331008.0  eth:ethertype:ip:tcp                     TCP   \n",
       "\n",
       "                                                Info new TCP Ack  \\\n",
       "0  [TCP Spurious Retransmission] 80 → 49672 [ACK]...        34.0   \n",
       "1  [TCP ACKed unseen segment] 49672 → 80 [ACK] Se...        77.0   \n",
       "2  [TCP Spurious Retransmission] 80 → 49672 [ACK]...        34.0   \n",
       "3  80 → 49672 [ACK] Seq=1559245379 Ack=110672 Win...        34.0   \n",
       "4  49672 → 80 [ACK] Seq=110672 Ack=1559248299 Win...        77.0   \n",
       "\n",
       "        time_diff time_diff_group  \\\n",
       "0             NaT               0   \n",
       "1             NaT               0   \n",
       "2 00:00:00.000192               1   \n",
       "3 00:00:00.000192               1   \n",
       "4 00:00:00.000251               1   \n",
       "\n",
       "                                               Input  \n",
       "0  2974<JOIN>0x00004000<JOIN>2920.0<JOIN>34.0<JOI...  \n",
       "1  60<JOIN>0x00004000<JOIN>0.0<JOIN>77.0<JOIN>0x0...  \n",
       "2  2974<JOIN>0x00004000<JOIN>2920.0<JOIN>34.0<JOI...  \n",
       "3  2974<JOIN>0x00004000<JOIN>2920.0<JOIN>34.0<JOI...  \n",
       "4  60<JOIN>0x00004000<JOIN>0.0<JOIN>77.0<JOIN>0x0...  "
      ]
     },
     "execution_count": 8,
     "metadata": {},
     "output_type": "execute_result"
    }
   ],
   "source": [
    "df_normal.head()"
   ]
  },
  {
   "cell_type": "code",
   "execution_count": 9,
   "metadata": {},
   "outputs": [
    {
     "data": {
      "text/plain": [
       "index                      2318280\n",
       "Unnamed: 0                 2318280\n",
       "Pkt #                      2318280\n",
       "Absolute Time              2284036\n",
       "Source IP                     1604\n",
       "Dest IP                       1853\n",
       "Relative Time              2284036\n",
       "Packet Len                    3753\n",
       "IP Flags                         5\n",
       "TCP Len                       3746\n",
       "TCP Ack                     827122\n",
       "TCP Flags                       15\n",
       "TCP Window Size              11098\n",
       "Protocols                      367\n",
       "Highest Layer(Protocol)         42\n",
       "Info                       2133226\n",
       "new TCP Ack                     84\n",
       "time_diff                    98438\n",
       "time_diff_group                  8\n",
       "Input                        84532\n",
       "dtype: int64"
      ]
     },
     "execution_count": 9,
     "metadata": {},
     "output_type": "execute_result"
    }
   ],
   "source": [
    "df_normal.nunique()"
   ]
  },
  {
   "cell_type": "code",
   "execution_count": 10,
   "metadata": {
    "scrolled": false
   },
   "outputs": [
    {
     "name": "stdout",
     "output_type": "stream",
     "text": [
      "Top 10:  0.7967846851976466\n"
     ]
    },
    {
     "data": {
      "image/png": "[encoded data removed]",
      "text/plain": [
       "<Figure size 432x288 with 1 Axes>"
      ]
     },
     "metadata": {
      "needs_background": "light"
     },
     "output_type": "display_data"
    }
   ],
   "source": [
    "feature = 'Packet Len' \n",
    "num_feature = df_normal[feature].nunique()\n",
    "percent_plot = 0.005\n",
    "range_plot = int(num_feature*percent_plot)\n",
    "# print(df_normal[feature].value_counts())\n",
    "\n",
    "print(\"Top 10: \", sum(df_normal[feature].value_counts().nlargest(3)) / len(df_normal[feature]))\n",
    "df_normal[feature].value_counts()[:range_plot].plot(kind='bar').get_xaxis().set_visible(False)"
   ]
  },
  {
   "cell_type": "raw",
   "metadata": {
    "scrolled": true
   },
   "source": [
    "import matplotlib.pyplot as plt\n",
    "plt.figure()\n",
    "df_normal[feature].value_counts()[:range_plot].plot(kind='bar').get_xaxis().set_visible(False)\n",
    "plt.savefig(\"./hulklen_feature.png\",bbox_inches=\"tight\")"
   ]
  },
  {
   "cell_type": "code",
   "execution_count": 23,
   "metadata": {
    "scrolled": false
   },
   "outputs": [
    {
     "name": "stdout",
     "output_type": "stream",
     "text": [
      "Top 10:  1.0\n"
     ]
    },
    {
     "data": {
      "text/plain": [
       "2318280"
      ]
     },
     "execution_count": 23,
     "metadata": {},
     "output_type": "execute_result"
    },
    {
     "data": {
      "image/png": "[encoded data removed]",
      "text/plain": [
       "<Figure size 432x288 with 1 Axes>"
      ]
     },
     "metadata": {
      "needs_background": "light"
     },
     "output_type": "display_data"
    }
   ],
   "source": [
    "feature = 'IP Flags' \n",
    "num_feature = df_normal[feature].nunique()\n",
    "percent_plot = 1\n",
    "range_plot = int(num_feature*percent_plot)\n",
    "# print(df_normal[feature].value_counts())\n",
    "\n",
    "print(\"Top 10: \", sum(df_normal[feature].value_counts().nlargest(10)) / len(df_normal[feature]))\n",
    "df_normal[feature].value_counts()[:range_plot].plot(kind='bar').get_xaxis().set_visible(False)\n",
    "df_normal[feature].value_counts()[:5]\n",
    "len(df_normal)"
   ]
  },
  {
   "cell_type": "raw",
   "metadata": {},
   "source": [
    "import matplotlib.pyplot as plt\n",
    "plt.figure()\n",
    "df_normal[feature].value_counts()[:range_plot].plot(kind='bar').get_xaxis().set_visible(False)\n",
    "plt.savefig(\"./hulk_feature_ipflags.png\",bbox_inches=\"tight\")"
   ]
  },
  {
   "cell_type": "code",
   "execution_count": 12,
   "metadata": {
    "scrolled": true
   },
   "outputs": [
    {
     "name": "stdout",
     "output_type": "stream",
     "text": [
      "Top 10:  0.946711354970064\n"
     ]
    },
    {
     "data": {
      "image/png": "[encoded data removed]",
      "text/plain": [
       "<Figure size 432x288 with 1 Axes>"
      ]
     },
     "metadata": {
      "needs_background": "light"
     },
     "output_type": "display_data"
    }
   ],
   "source": [
    "feature = 'TCP Len' \n",
    "num_feature = df_normal[feature].nunique()\n",
    "percent_plot = 0.01\n",
    "range_plot = int(num_feature*percent_plot)\n",
    "# print(df_normal[feature].value_counts())\n",
    "\n",
    "print(\"Top 10: \", sum(df_normal[feature].value_counts().nlargest(10)) / len(df_normal[feature]))\n",
    "df_normal[feature].value_counts()[:range_plot].plot(kind='bar').get_xaxis().set_visible(False)"
   ]
  },
  {
   "cell_type": "code",
   "execution_count": 13,
   "metadata": {
    "scrolled": true
   },
   "outputs": [
    {
     "name": "stdout",
     "output_type": "stream",
     "text": [
      "Top 10:  0.2015960108356195\n"
     ]
    },
    {
     "data": {
      "image/png": "[encoded data removed]",
      "text/plain": [
       "<Figure size 432x288 with 1 Axes>"
      ]
     },
     "metadata": {
      "needs_background": "light"
     },
     "output_type": "display_data"
    }
   ],
   "source": [
    "feature = 'TCP Ack' \n",
    "num_feature = df_normal[feature].nunique()\n",
    "percent_plot = 1\n",
    "range_plot = int(num_feature*percent_plot)\n",
    "# print(df_normal[feature].value_counts())\n",
    "\n",
    "print(\"Top 10: \", sum(df_normal[feature].value_counts().nlargest(10)) / len(df_normal[feature]))\n",
    "df_normal[feature].value_counts()[:40].plot(kind='bar').get_xaxis().set_visible(False)"
   ]
  },
  {
   "cell_type": "code",
   "execution_count": 14,
   "metadata": {},
   "outputs": [
    {
     "name": "stdout",
     "output_type": "stream",
     "text": [
      "Top 10:  0.999991804268682\n"
     ]
    },
    {
     "data": {
      "image/png": "[encoded data removed]",
      "text/plain": [
       "<Figure size 432x288 with 1 Axes>"
      ]
     },
     "metadata": {
      "needs_background": "light"
     },
     "output_type": "display_data"
    }
   ],
   "source": [
    "feature = 'TCP Flags'\n",
    "num_feature = df_normal[feature].nunique()\n",
    "percent_plot = 1\n",
    "range_plot = int(num_feature*percent_plot)\n",
    "# print(df_normal[feature].value_counts())\n",
    "\n",
    "print(\"Top 10: \", sum(df_normal[feature].value_counts().nlargest(10)) / len(df_normal[feature]))\n",
    "df_normal[feature].value_counts()[:range_plot].plot(kind='bar').get_xaxis().set_visible(False)"
   ]
  },
  {
   "cell_type": "code",
   "execution_count": 15,
   "metadata": {},
   "outputs": [
    {
     "name": "stdout",
     "output_type": "stream",
     "text": [
      "Top 10:  0.5490121986990355\n"
     ]
    },
    {
     "data": {
      "image/png": "[encoded data removed]",
      "text/plain": [
       "<Figure size 432x288 with 1 Axes>"
      ]
     },
     "metadata": {
      "needs_background": "light"
     },
     "output_type": "display_data"
    }
   ],
   "source": [
    "feature = 'TCP Window Size'\n",
    "num_feature = df_normal[feature].nunique()\n",
    "percent_plot = 0.01\n",
    "range_plot = int(num_feature*percent_plot)\n",
    "# print(df_normal[feature].value_counts())\n",
    "\n",
    "print(\"Top 10: \", sum(df_normal[feature].value_counts().nlargest(10)) / len(df_normal[feature]))\n",
    "df_normal[feature].value_counts()[:range_plot].plot(kind='bar').get_xaxis().set_visible(False)"
   ]
  },
  {
   "cell_type": "code",
   "execution_count": 16,
   "metadata": {},
   "outputs": [
    {
     "name": "stdout",
     "output_type": "stream",
     "text": [
      "Top 10:  0.9925505115861759\n"
     ]
    },
    {
     "data": {
      "image/png": "[encoded data removed]",
      "text/plain": [
       "<Figure size 432x288 with 1 Axes>"
      ]
     },
     "metadata": {
      "needs_background": "light"
     },
     "output_type": "display_data"
    }
   ],
   "source": [
    "feature = 'Protocols'\n",
    "num_feature = df_normal[feature].nunique()\n",
    "percent_plot = 1\n",
    "range_plot = int(num_feature*percent_plot)\n",
    "# print(df_normal[feature].value_counts())\n",
    "\n",
    "print(\"Top 10: \", sum(df_normal[feature].value_counts().nlargest(10)) / len(df_normal[feature]))\n",
    "df_normal[feature].value_counts()[:range_plot].plot(kind='bar').get_xaxis().set_visible(False)"
   ]
  },
  {
   "cell_type": "code",
   "execution_count": 17,
   "metadata": {
    "scrolled": true
   },
   "outputs": [
    {
     "name": "stdout",
     "output_type": "stream",
     "text": [
      "Top 10:  0.9968291146884759\n"
     ]
    },
    {
     "data": {
      "image/png": "[encoded data removed]",
      "text/plain": [
       "<Figure size 432x288 with 1 Axes>"
      ]
     },
     "metadata": {
      "needs_background": "light"
     },
     "output_type": "display_data"
    }
   ],
   "source": [
    "feature = 'Highest Layer(Protocol)'\n",
    "num_feature = df_normal[feature].nunique()\n",
    "percent_plot = 1\n",
    "range_plot = int(num_feature*percent_plot)\n",
    "# print(df_normal[feature].value_counts())\n",
    "\n",
    "print(\"Top 10: \", sum(df_normal[feature].value_counts().nlargest(10)) / len(df_normal[feature]))\n",
    "df_normal[feature].value_counts()[:range_plot].plot(kind='bar').get_xaxis().set_visible(False)"
   ]
  },
  {
   "cell_type": "code",
   "execution_count": 18,
   "metadata": {},
   "outputs": [
    {
     "name": "stdout",
     "output_type": "stream",
     "text": [
      "Top 10:  0.03692349500491744\n"
     ]
    },
    {
     "data": {
      "image/png": "[encoded data removed]",
      "text/plain": [
       "<Figure size 432x288 with 1 Axes>"
      ]
     },
     "metadata": {
      "needs_background": "light"
     },
     "output_type": "display_data"
    }
   ],
   "source": [
    "feature = 'Info'\n",
    "num_feature = df_normal[feature].nunique()\n",
    "percent_plot = 0.0001\n",
    "range_plot = int(num_feature*percent_plot)\n",
    "# print(df_normal[feature].value_counts())\n",
    "\n",
    "print(\"Top 10: \", sum(df_normal[feature].value_counts().nlargest(10)) / len(df_normal[feature]))\n",
    "df_normal[feature].value_counts()[:range_plot].plot(kind='bar').get_xaxis().set_visible(False)"
   ]
  },
  {
   "cell_type": "code",
   "execution_count": 19,
   "metadata": {},
   "outputs": [
    {
     "name": "stdout",
     "output_type": "stream",
     "text": [
      "Top 10:  0.2667969356591956\n"
     ]
    },
    {
     "data": {
      "image/png": "[encoded data removed]",
      "text/plain": [
       "<Figure size 432x288 with 1 Axes>"
      ]
     },
     "metadata": {
      "needs_background": "light"
     },
     "output_type": "display_data"
    }
   ],
   "source": [
    "feature = 'new TCP Ack'\n",
    "num_feature = df_normal[feature].nunique()\n",
    "percent_plot = 1\n",
    "range_plot = int(num_feature*percent_plot)\n",
    "# print(df_normal[feature].value_counts())\n",
    "\n",
    "print(\"Top 10: \", sum(df_normal[feature].value_counts().nlargest(10)) / len(df_normal[feature]))\n",
    "df_normal[feature].value_counts()[:range_plot].plot(kind='bar').get_xaxis().set_visible(False)"
   ]
  },
  {
   "cell_type": "code",
   "execution_count": null,
   "metadata": {},
   "outputs": [],
   "source": []
  },
  {
   "cell_type": "markdown",
   "metadata": {},
   "source": [
    "### Feature Selection"
   ]
  },
  {
   "cell_type": "raw",
   "metadata": {
    "scrolled": true
   },
   "source": [
    "feature = 'TCP Flags' \n",
    "# df_normal[feature].value_counts().rename_axis('unique_values').reset_index(name='counts')\n",
    "df_feature = df_normal[feature]\n",
    "df_feature"
   ]
  },
  {
   "cell_type": "markdown",
   "metadata": {},
   "source": [
    "### Hashing the inputs"
   ]
  },
  {
   "cell_type": "raw",
   "metadata": {},
   "source": [
    "#Sequentializes A1 and N1\n",
    "df_tmp = sequentializeDataFrame(df_normal, significantNormal, config['variablesHash']['inputHashRange'], config['SEQUENCELENGTH']) # add"
   ]
  },
  {
   "cell_type": "code",
   "execution_count": 7,
   "metadata": {},
   "outputs": [],
   "source": [
    "df = df_normal\n",
    "#create a deepcopy of the original df\n",
    "df_temp = df.copy()\n",
    "if type(df_temp['Absolute Time'].iloc[0]) == str:\n",
    "    df_temp['Absolute Time'] = df_temp['Absolute Time'].apply(lambda x: converttodatetime(x,config['SEQUENCELENGTH'])) # add\n",
    "#converting type of status\n",
    "df_temp = df_temp.astype({'Source IP' : 'str'})\n",
    "df_temp = df_temp.astype({'Dest IP' : 'str'})\n",
    "# df_temp = df_temp.astype({'Relative Time' : 'str'})\n",
    "df_temp = df_temp.astype({'Packet Len': 'str'})\n",
    "df_temp = df_temp.astype({'IP Flags' : 'str'})\n",
    "df_temp = df_temp.astype({'TCP Len' : 'str'})\n",
    "df_temp = df_temp.astype({'TCP Ack' : 'str'})\n",
    "df_temp = df_temp.astype({'TCP Flags' : 'str'})\n",
    "df_temp = df_temp.astype({'TCP Window Size': 'str'})\n",
    "df_temp = df_temp.astype({'Protocols': 'str'})\n",
    "df_temp = df_temp.astype({'Highest Layer(Protocol)': 'str'})\n",
    "df_temp = df_temp.astype({'Info' : 'str'})\n",
    "df_temp = df_temp.astype({'Input': 'str'})\n",
    "\n",
    "#Uncomment if you want to hash the Input\n",
    "df_temp['Input'] = df_temp['Input'].apply(lambda x: keepOrHash(x, significantNormal, config['variablesHash']['inputHashRange']))"
   ]
  },
  {
   "cell_type": "code",
   "execution_count": 8,
   "metadata": {
    "scrolled": true
   },
   "outputs": [
    {
     "data": {
      "text/html": [
       "<div>\n",
       "<style scoped>\n",
       "    .dataframe tbody tr th:only-of-type {\n",
       "        vertical-align: middle;\n",
       "    }\n",
       "\n",
       "    .dataframe tbody tr th {\n",
       "        vertical-align: top;\n",
       "    }\n",
       "\n",
       "    .dataframe thead th {\n",
       "        text-align: right;\n",
       "    }\n",
       "</style>\n",
       "<table border=\"1\" class=\"dataframe\">\n",
       "  <thead>\n",
       "    <tr style=\"text-align: right;\">\n",
       "      <th></th>\n",
       "      <th>index</th>\n",
       "      <th>Unnamed: 0</th>\n",
       "      <th>Pkt #</th>\n",
       "      <th>Absolute Time</th>\n",
       "      <th>Source IP</th>\n",
       "      <th>Dest IP</th>\n",
       "      <th>Relative Time</th>\n",
       "      <th>Packet Len</th>\n",
       "      <th>IP Flags</th>\n",
       "      <th>TCP Len</th>\n",
       "      <th>...</th>\n",
       "      <th>TCP Flags</th>\n",
       "      <th>TCP Window Size</th>\n",
       "      <th>Protocols</th>\n",
       "      <th>Highest Layer(Protocol)</th>\n",
       "      <th>Info</th>\n",
       "      <th>new TCP Ack</th>\n",
       "      <th>time_diff</th>\n",
       "      <th>time_diff_group</th>\n",
       "      <th>Input</th>\n",
       "      <th>Label</th>\n",
       "    </tr>\n",
       "  </thead>\n",
       "  <tbody>\n",
       "    <tr>\n",
       "      <th>0</th>\n",
       "      <td>0</td>\n",
       "      <td>3604680</td>\n",
       "      <td>3604680</td>\n",
       "      <td>2017-07-05 09:00:00.000045</td>\n",
       "      <td>13.107.4.50</td>\n",
       "      <td>192.168.10.15</td>\n",
       "      <td>1037.915673</td>\n",
       "      <td>2974</td>\n",
       "      <td>0x00004000</td>\n",
       "      <td>2920.0</td>\n",
       "      <td>...</td>\n",
       "      <td>0x00000010</td>\n",
       "      <td>262400.0</td>\n",
       "      <td>eth:ethertype:ip:tcp</td>\n",
       "      <td>TCP</td>\n",
       "      <td>[TCP Spurious Retransmission] 80 → 49672 [ACK]...</td>\n",
       "      <td>34.0</td>\n",
       "      <td>NaT</td>\n",
       "      <td>0</td>\n",
       "      <td>69</td>\n",
       "      <td>0</td>\n",
       "    </tr>\n",
       "    <tr>\n",
       "      <th>1</th>\n",
       "      <td>1</td>\n",
       "      <td>3604681</td>\n",
       "      <td>3604681</td>\n",
       "      <td>2017-07-05 09:00:00.000235</td>\n",
       "      <td>192.168.10.15</td>\n",
       "      <td>13.107.4.50</td>\n",
       "      <td>1037.915863</td>\n",
       "      <td>60</td>\n",
       "      <td>0x00004000</td>\n",
       "      <td>0.0</td>\n",
       "      <td>...</td>\n",
       "      <td>0x00000010</td>\n",
       "      <td>331008.0</td>\n",
       "      <td>eth:ethertype:ip:tcp</td>\n",
       "      <td>TCP</td>\n",
       "      <td>[TCP ACKed unseen segment] 49672 → 80 [ACK] Se...</td>\n",
       "      <td>77.0</td>\n",
       "      <td>NaT</td>\n",
       "      <td>0</td>\n",
       "      <td>207</td>\n",
       "      <td>0</td>\n",
       "    </tr>\n",
       "    <tr>\n",
       "      <th>2</th>\n",
       "      <td>2</td>\n",
       "      <td>3604682</td>\n",
       "      <td>3604682</td>\n",
       "      <td>2017-07-05 09:00:00.000237</td>\n",
       "      <td>13.107.4.50</td>\n",
       "      <td>192.168.10.15</td>\n",
       "      <td>1037.915865</td>\n",
       "      <td>2974</td>\n",
       "      <td>0x00004000</td>\n",
       "      <td>2920.0</td>\n",
       "      <td>...</td>\n",
       "      <td>0x00000010</td>\n",
       "      <td>262400.0</td>\n",
       "      <td>eth:ethertype:ip:tcp</td>\n",
       "      <td>TCP</td>\n",
       "      <td>[TCP Spurious Retransmission] 80 → 49672 [ACK]...</td>\n",
       "      <td>34.0</td>\n",
       "      <td>00:00:00.000192</td>\n",
       "      <td>1</td>\n",
       "      <td>69</td>\n",
       "      <td>0</td>\n",
       "    </tr>\n",
       "    <tr>\n",
       "      <th>3</th>\n",
       "      <td>3</td>\n",
       "      <td>3604683</td>\n",
       "      <td>3604683</td>\n",
       "      <td>2017-07-05 09:00:00.000429</td>\n",
       "      <td>13.107.4.50</td>\n",
       "      <td>192.168.10.15</td>\n",
       "      <td>1037.916057</td>\n",
       "      <td>2974</td>\n",
       "      <td>0x00004000</td>\n",
       "      <td>2920.0</td>\n",
       "      <td>...</td>\n",
       "      <td>0x00000010</td>\n",
       "      <td>262400.0</td>\n",
       "      <td>eth:ethertype:ip:tcp</td>\n",
       "      <td>TCP</td>\n",
       "      <td>80 → 49672 [ACK] Seq=1559245379 Ack=110672 Win...</td>\n",
       "      <td>34.0</td>\n",
       "      <td>00:00:00.000192</td>\n",
       "      <td>1</td>\n",
       "      <td>69</td>\n",
       "      <td>0</td>\n",
       "    </tr>\n",
       "    <tr>\n",
       "      <th>4</th>\n",
       "      <td>4</td>\n",
       "      <td>3604684</td>\n",
       "      <td>3604684</td>\n",
       "      <td>2017-07-05 09:00:00.000486</td>\n",
       "      <td>192.168.10.15</td>\n",
       "      <td>13.107.4.50</td>\n",
       "      <td>1037.916114</td>\n",
       "      <td>60</td>\n",
       "      <td>0x00004000</td>\n",
       "      <td>0.0</td>\n",
       "      <td>...</td>\n",
       "      <td>0x00000010</td>\n",
       "      <td>331008.0</td>\n",
       "      <td>eth:ethertype:ip:tcp</td>\n",
       "      <td>TCP</td>\n",
       "      <td>49672 → 80 [ACK] Seq=110672 Ack=1559248299 Win...</td>\n",
       "      <td>77.0</td>\n",
       "      <td>00:00:00.000251</td>\n",
       "      <td>1</td>\n",
       "      <td>207</td>\n",
       "      <td>0</td>\n",
       "    </tr>\n",
       "  </tbody>\n",
       "</table>\n",
       "<p>5 rows × 21 columns</p>\n",
       "</div>"
      ],
      "text/plain": [
       "   index  Unnamed: 0    Pkt #              Absolute Time      Source IP  \\\n",
       "0      0     3604680  3604680 2017-07-05 09:00:00.000045    13.107.4.50   \n",
       "1      1     3604681  3604681 2017-07-05 09:00:00.000235  192.168.10.15   \n",
       "2      2     3604682  3604682 2017-07-05 09:00:00.000237    13.107.4.50   \n",
       "3      3     3604683  3604683 2017-07-05 09:00:00.000429    13.107.4.50   \n",
       "4      4     3604684  3604684 2017-07-05 09:00:00.000486  192.168.10.15   \n",
       "\n",
       "         Dest IP  Relative Time Packet Len    IP Flags TCP Len  ...  \\\n",
       "0  192.168.10.15    1037.915673       2974  0x00004000  2920.0  ...   \n",
       "1    13.107.4.50    1037.915863         60  0x00004000     0.0  ...   \n",
       "2  192.168.10.15    1037.915865       2974  0x00004000  2920.0  ...   \n",
       "3  192.168.10.15    1037.916057       2974  0x00004000  2920.0  ...   \n",
       "4    13.107.4.50    1037.916114         60  0x00004000     0.0  ...   \n",
       "\n",
       "    TCP Flags TCP Window Size             Protocols Highest Layer(Protocol)  \\\n",
       "0  0x00000010        262400.0  eth:ethertype:ip:tcp                     TCP   \n",
       "1  0x00000010        331008.0  eth:ethertype:ip:tcp                     TCP   \n",
       "2  0x00000010        262400.0  eth:ethertype:ip:tcp                     TCP   \n",
       "3  0x00000010        262400.0  eth:ethertype:ip:tcp                     TCP   \n",
       "4  0x00000010        331008.0  eth:ethertype:ip:tcp                     TCP   \n",
       "\n",
       "                                                Info new TCP Ack  \\\n",
       "0  [TCP Spurious Retransmission] 80 → 49672 [ACK]...        34.0   \n",
       "1  [TCP ACKed unseen segment] 49672 → 80 [ACK] Se...        77.0   \n",
       "2  [TCP Spurious Retransmission] 80 → 49672 [ACK]...        34.0   \n",
       "3  80 → 49672 [ACK] Seq=1559245379 Ack=110672 Win...        34.0   \n",
       "4  49672 → 80 [ACK] Seq=110672 Ack=1559248299 Win...        77.0   \n",
       "\n",
       "        time_diff time_diff_group Input Label  \n",
       "0             NaT               0    69     0  \n",
       "1             NaT               0   207     0  \n",
       "2 00:00:00.000192               1    69     0  \n",
       "3 00:00:00.000192               1    69     0  \n",
       "4 00:00:00.000251               1   207     0  \n",
       "\n",
       "[5 rows x 21 columns]"
      ]
     },
     "execution_count": 8,
     "metadata": {},
     "output_type": "execute_result"
    }
   ],
   "source": [
    "df_temp[\"Label\"] = 0\n",
    "df_temp.head()"
   ]
  },
  {
   "cell_type": "code",
   "execution_count": 9,
   "metadata": {},
   "outputs": [
    {
     "name": "stdout",
     "output_type": "stream",
     "text": [
      "value count of features:  60      858566\n",
      "1514    580545\n",
      "2974    408059\n",
      "Name: Packet Len, dtype: int64\n"
     ]
    },
    {
     "data": {
      "text/plain": [
       "['60', '1514', '2974']"
      ]
     },
     "execution_count": 9,
     "metadata": {},
     "output_type": "execute_result"
    }
   ],
   "source": [
    "### Feature conditions\n",
    "feature_cond = 'Packet Len'\n",
    "top_n = 3 #2\n",
    "\n",
    "df_normal[feature_cond].nunique()\n",
    "print(\"value count of features: \", df_normal[feature_cond].value_counts()[:top_n])\n",
    "topn_features = df_normal[feature_cond].value_counts().index.tolist()[:top_n]\n",
    "\n",
    "topn_features"
   ]
  },
  {
   "cell_type": "code",
   "execution_count": 10,
   "metadata": {},
   "outputs": [],
   "source": [
    "df_temp.loc[df_temp[feature_cond] == topn_features[0], 'Label'] = 1\n",
    "df_temp.loc[df_temp[feature_cond] == topn_features[1], 'Label'] = 2\n",
    "# df_temp.loc[df_temp[feature_cond] == topn_features[2], 'Label'] = 3"
   ]
  },
  {
   "cell_type": "code",
   "execution_count": 11,
   "metadata": {
    "scrolled": true
   },
   "outputs": [
    {
     "data": {
      "text/plain": [
       "69"
      ]
     },
     "execution_count": 11,
     "metadata": {},
     "output_type": "execute_result"
    }
   ],
   "source": [
    "df_temp['Input'] = df_temp['Input'].astype(int)\n",
    "df_temp['Input'][0]"
   ]
  },
  {
   "cell_type": "code",
   "execution_count": 12,
   "metadata": {},
   "outputs": [
    {
     "data": {
      "text/plain": [
       "0    879169\n",
       "1    858566\n",
       "2    580545\n",
       "Name: Label, dtype: int64"
      ]
     },
     "execution_count": 12,
     "metadata": {},
     "output_type": "execute_result"
    }
   ],
   "source": [
    "df_temp = df_temp.sort_values('Input')\n",
    "df_temp['Label'].value_counts()"
   ]
  },
  {
   "cell_type": "code",
   "execution_count": 14,
   "metadata": {
    "scrolled": true
   },
   "outputs": [
    {
     "name": "stderr",
     "output_type": "stream",
     "text": [
      "/home/wesleyjtann/miniconda3/envs/ddosgen/lib/python3.6/site-packages/ipykernel_launcher.py:5: FutureWarning: The signature of `Series.to_csv` was aligned to that of `DataFrame.to_csv`, and argument 'header' will change its default value from False to True: please pass an explicit value to suppress this warning.\n",
      "  \"\"\"\n"
     ]
    }
   ],
   "source": [
    "# # group by median\n",
    "# df_temp.groupby(['Input']).median()['Label'] #.to_csv('packetlen_cond.csv',index=False)\n",
    "\n",
    "# group by mode\n",
    "df_temp.groupby(['Input']).agg(lambda x:x.value_counts().index[0])['Label'].to_csv('packetlen_cond.csv',index=False)"
   ]
  },
  {
   "cell_type": "code",
   "execution_count": null,
   "metadata": {},
   "outputs": [],
   "source": []
  },
  {
   "cell_type": "code",
   "execution_count": null,
   "metadata": {},
   "outputs": [],
   "source": []
  },
  {
   "cell_type": "code",
   "execution_count": null,
   "metadata": {},
   "outputs": [],
   "source": []
  },
  {
   "cell_type": "code",
   "execution_count": null,
   "metadata": {},
   "outputs": [],
   "source": []
  },
  {
   "cell_type": "code",
   "execution_count": null,
   "metadata": {},
   "outputs": [],
   "source": []
  },
  {
   "cell_type": "code",
   "execution_count": null,
   "metadata": {},
   "outputs": [],
   "source": []
  },
  {
   "cell_type": "code",
   "execution_count": null,
   "metadata": {},
   "outputs": [],
   "source": []
  },
  {
   "cell_type": "code",
   "execution_count": null,
   "metadata": {},
   "outputs": [],
   "source": []
  },
  {
   "cell_type": "code",
   "execution_count": null,
   "metadata": {},
   "outputs": [],
   "source": []
  },
  {
   "cell_type": "code",
   "execution_count": null,
   "metadata": {},
   "outputs": [],
   "source": []
  },
  {
   "cell_type": "code",
   "execution_count": null,
   "metadata": {},
   "outputs": [],
   "source": []
  },
  {
   "cell_type": "raw",
   "metadata": {},
   "source": [
    "#Sequentializes A1 and N1\n",
    "df_normal = sequentializeDataFrame(df_normal, significantNormal, config['variablesHash']['inputHashRange'], config['SEQUENCELENGTH']) # add\n",
    "df_normal2 = sequentializeDataFrame(df_normal2, significantNormal, config['variablesHash']['inputHashRange'], config['SEQUENCELENGTH']) # add"
   ]
  },
  {
   "cell_type": "raw",
   "metadata": {},
   "source": [
    "df_normal2.head()"
   ]
  },
  {
   "cell_type": "raw",
   "metadata": {},
   "source": [
    "df = df_normal \n",
    "sig = significantNormal\n",
    "inputHashRange = config['variablesHash']['inputHashRange']\n",
    "seqlen = config['SEQUENCELENGTH']"
   ]
  },
  {
   "cell_type": "raw",
   "metadata": {},
   "source": [
    "#create a deepcopy of the original df\n",
    "df_temp = df.copy()\n",
    "df_temp"
   ]
  },
  {
   "cell_type": "raw",
   "metadata": {},
   "source": [
    "\n",
    "if type(df_temp['Absolute Time'].iloc[0]) == str:\n",
    "    df_temp['Absolute Time'] = df_temp['Absolute Time'].apply(lambda x: converttodatetime(x, config['SEQUENCELENGTH'])) # add\n",
    "#converting type of status\n",
    "df_temp = df_temp.astype({'Source IP' : 'str'})\n",
    "df_temp = df_temp.astype({'Dest IP' : 'str'})\n",
    "df_temp = df_temp.astype({'Input': 'str'})\n"
   ]
  },
  {
   "cell_type": "raw",
   "metadata": {},
   "source": []
  },
  {
   "cell_type": "raw",
   "metadata": {},
   "source": [
    "df_temp['Input'] = df_temp['Input'].apply(lambda x: keepOrHash(x, sig, inputHashRange))\n",
    "df_temp['Input']"
   ]
  },
  {
   "cell_type": "raw",
   "metadata": {},
   "source": [
    "#create groups based on 1 min interval\n",
    "df_temp['groups'] = df_temp.groupby('Source IP')['time_diff'].apply(lambda x: x.gt(pd.Timedelta(1, 'm')).cumsum())\n",
    "df_temp['time_diff'] = df_temp['time_diff'].apply(lambda x: getTimeClass(x.total_seconds()))\n",
    "#grouping in sequences of 20 length\n",
    "df_temp['group_len'] = df_temp.groupby(['Source IP', 'Dest IP', 'groups'])['Absolute Time'].rank(method = 'first')\n",
    "# df_temp['group_len'] = df_temp['group_len'].apply(lambda x: math.ceil(x/20))\n",
    "df_temp['group_len'] = df_temp['group_len'].apply(lambda x: math.ceil(x/seqlen)) # add\n",
    "\n",
    "#create groups based on \"remote_addr\" and \"groups\"\n",
    "df_temp = df_temp.groupby(['Source IP', 'Dest IP', 'groups', 'group_len'])"
   ]
  },
  {
   "cell_type": "raw",
   "metadata": {},
   "source": [
    "df_temp"
   ]
  },
  {
   "cell_type": "raw",
   "metadata": {},
   "source": [
    "    #aggregation\n",
    "sr = df_temp['Protocols', 'Info'].agg(lambda x: \"<SEP>\".join(x))\n",
    "sr['Input'] = df_temp['Input'].agg(lambda x: \"<SEP>\".join(x))\n",
    "sr.reset_index(inplace=True)\n",
    "#converting to dataframe\n",
    "#sr = sr.to_frame()\n",
    "sr = sr.drop(columns = ['groups', 'group_len'])"
   ]
  },
  {
   "cell_type": "raw",
   "metadata": {},
   "source": [
    "sr['Input'][0]"
   ]
  },
  {
   "cell_type": "raw",
   "metadata": {},
   "source": [
    "sequentializeDataFrame(df_normal, significantNormal, config['variablesHash']['inputHashRange'], config['SEQUENCELENGTH']) \n",
    "\n",
    "def sequentializeDataFrame(df, sig, inputHashRange, seqlen): # add\n",
    "    #create a deepcopy of the original df\n",
    "    df_temp = df.copy()\n",
    "    if type(df_temp['Absolute Time'].iloc[0]) == str:\n",
    "        df_temp['Absolute Time'] = df_temp['Absolute Time'].apply(lambda x: converttodatetime(x, config['SEQUENCELENGTH'])) # add\n",
    "    #converting type of status\n",
    "    df_temp = df_temp.astype({'Source IP' : 'str'})\n",
    "    df_temp = df_temp.astype({'Dest IP' : 'str'})\n",
    "    # df_temp = df_temp.astype({'Relative Time' : 'str'})\n",
    "    df_temp = df_temp.astype({'Packet Len': 'str'})\n",
    "    df_temp = df_temp.astype({'IP Flags' : 'str'})\n",
    "    df_temp = df_temp.astype({'TCP Len' : 'str'})\n",
    "    df_temp = df_temp.astype({'TCP Ack' : 'str'})\n",
    "    df_temp = df_temp.astype({'TCP Flags' : 'str'})\n",
    "    df_temp = df_temp.astype({'TCP Window Size': 'str'})\n",
    "    df_temp = df_temp.astype({'Protocols': 'str'})\n",
    "    df_temp = df_temp.astype({'Highest Layer(Protocol)': 'str'})\n",
    "    df_temp = df_temp.astype({'Info' : 'str'})\n",
    "    df_temp = df_temp.astype({'Input': 'str'})\n",
    "\n",
    "    #Uncomment if you want to hash the Input\n",
    "    df_temp['Input'] = df_temp['Input'].apply(lambda x: keepOrHash(x, sig, inputHashRange))\n",
    "\n",
    "    #create groups based on 1 min interval\n",
    "    df_temp['groups'] = df_temp.groupby('Source IP')['time_diff'].apply(lambda x: x.gt(pd.Timedelta(1, 'm')).cumsum())\n",
    "    df_temp['time_diff'] = df_temp['time_diff'].apply(lambda x: getTimeClass(x.total_seconds()))\n",
    "    #grouping in sequences of 20 length\n",
    "    df_temp['group_len'] = df_temp.groupby(['Source IP', 'Dest IP', 'groups'])['Absolute Time'].rank(method = 'first')\n",
    "    # df_temp['group_len'] = df_temp['group_len'].apply(lambda x: math.ceil(x/20))\n",
    "    df_temp['group_len'] = df_temp['group_len'].apply(lambda x: math.ceil(x/seqlen)) # add\n",
    "\n",
    "    #create groups based on \"remote_addr\" and \"groups\"\n",
    "    df_temp = df_temp.groupby(['Source IP', 'Dest IP', 'groups', 'group_len'])\n",
    "\n",
    "    #aggregation\n",
    "    sr = df_temp['Protocols', 'Info'].agg(lambda x: \"<SEP>\".join(x))\n",
    "    sr['Input'] = df_temp['Input'].agg(lambda x: \"<SEP>\".join(x))\n",
    "    sr.reset_index(inplace=True)\n",
    "    #converting to dataframe\n",
    "    #sr = sr.to_frame()\n",
    "    sr = sr.drop(columns = ['groups', 'group_len'])\n",
    "    return sr\n"
   ]
  },
  {
   "cell_type": "raw",
   "metadata": {},
   "source": [
    "\n",
    "# df_normal.to_csv(r'' + config['metadata']['uniqueID'] + '/' + config['metadata']['artefact'] + '/' + 'N1(PreSequentialize).csv', index = None, header=True)\n",
    "# df_normal2.to_csv(r'' + config['metadata']['uniqueID'] + '/' + config['metadata']['artefact'] + '/' + 'TEST(PreSequentialize).csv', index = None, header=True)\n",
    "\n",
    "#Sequentializes A1 and N1\n",
    "df_normal = sequentializeDataFrame(df_normal, significantNormal, config['variablesHash']['inputHashRange'], config['SEQUENCELENGTH']) # add\n",
    "df_normal2 = sequentializeDataFrame(df_normal2, significantNormal, config['variablesHash']['inputHashRange'], config['SEQUENCELENGTH']) # add"
   ]
  },
  {
   "cell_type": "raw",
   "metadata": {},
   "source": [
    "def sequentializeDataFrame(df, sig, inputHashRange, seqlen): # add\n",
    "    #create a deepcopy of the original df\n",
    "    df_temp = df.copy()\n",
    "    if type(df_temp['Absolute Time'].iloc[0]) == str:\n",
    "        df_temp['Absolute Time'] = df_temp['Absolute Time'].apply(lambda x: converttodatetime(x, config['SEQUENCELENGTH'])) # add\n",
    "    #converting type of status\n",
    "    df_temp = df_temp.astype({'Source IP' : 'str'})\n",
    "    df_temp = df_temp.astype({'Dest IP' : 'str'})\n",
    "    # df_temp = df_temp.astype({'Relative Time' : 'str'})\n",
    "    df_temp = df_temp.astype({'Packet Len': 'str'})\n",
    "    df_temp = df_temp.astype({'IP Flags' : 'str'})\n",
    "    df_temp = df_temp.astype({'TCP Len' : 'str'})\n",
    "    df_temp = df_temp.astype({'TCP Ack' : 'str'})\n",
    "    df_temp = df_temp.astype({'TCP Flags' : 'str'})\n",
    "    df_temp = df_temp.astype({'TCP Window Size': 'str'})\n",
    "    df_temp = df_temp.astype({'Protocols': 'str'})\n",
    "    df_temp = df_temp.astype({'Highest Layer(Protocol)': 'str'})\n",
    "    df_temp = df_temp.astype({'Info' : 'str'})\n",
    "    df_temp = df_temp.astype({'Input': 'str'})\n",
    "\n",
    "    #Uncomment if you want to hash the Input\n",
    "    df_temp['Input'] = df_temp['Input'].apply(lambda x: keepOrHash(x, sig, inputHashRange))\n",
    "\n",
    "    #create groups based on 1 min interval\n",
    "    df_temp['groups'] = df_temp.groupby('Source IP')['time_diff'].apply(lambda x: x.gt(pd.Timedelta(1, 'm')).cumsum())\n",
    "    df_temp['time_diff'] = df_temp['time_diff'].apply(lambda x: getTimeClass(x.total_seconds()))\n",
    "    #grouping in sequences of 20 length\n",
    "    df_temp['group_len'] = df_temp.groupby(['Source IP', 'Dest IP', 'groups'])['Absolute Time'].rank(method = 'first')\n",
    "    # df_temp['group_len'] = df_temp['group_len'].apply(lambda x: math.ceil(x/20))\n",
    "    df_temp['group_len'] = df_temp['group_len'].apply(lambda x: math.ceil(x/seqlen)) # add\n",
    "\n",
    "    #create groups based on \"remote_addr\" and \"groups\"\n",
    "    df_temp = df_temp.groupby(['Source IP', 'Dest IP', 'groups', 'group_len'])\n",
    "\n",
    "    #aggregation\n",
    "    sr = df_temp['Protocols', 'Info'].agg(lambda x: \"<SEP>\".join(x))\n",
    "    sr['Input'] = df_temp['Input'].agg(lambda x: \"<SEP>\".join(x))\n",
    "    sr.reset_index(inplace=True)\n",
    "    #converting to dataframe\n",
    "    #sr = sr.to_frame()\n",
    "    sr = sr.drop(columns = ['groups', 'group_len'])\n",
    "    return sr\n"
   ]
  }
 ],
 "metadata": {
  "kernelspec": {
   "display_name": "ddosgen",
   "language": "python",
   "name": "ddosgen"
  },
  "language_info": {
   "codemirror_mode": {
    "name": "ipython",
    "version": 3
   },
   "file_extension": ".py",
   "mimetype": "text/x-python",
   "name": "python",
   "nbconvert_exporter": "python",
   "pygments_lexer": "ipython3",
   "version": "3.6.9"
  },
  "metadata": {
   "interpreter": {
    "hash": "fbd27d7fc8b05924f2079fcc56f9a4840a893b9ec6f2208eff8c185ddb67fbf9"
   }
  }
 },
 "nbformat": 4,
 "nbformat_minor": 2
}
