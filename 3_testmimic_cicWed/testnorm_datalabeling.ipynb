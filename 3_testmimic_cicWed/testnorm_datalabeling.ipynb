{
 "cells": [
  {
   "cell_type": "code",
   "execution_count": 3,
   "id": "d2fc9ea7",
   "metadata": {
    "scrolled": true
   },
   "outputs": [
    {
     "name": "stderr",
     "output_type": "stream",
     "text": [
      "/home/wesleyjtann/miniconda3/envs/ddos/lib/python3.7/site-packages/ipykernel_launcher.py:54: YAMLLoadWarning: calling yaml.load() without Loader=... is deprecated, as the default Loader is unsafe. Please read https://msg.pyyaml.org/load for full details.\n"
     ]
    }
   ],
   "source": [
    "import numpy as np\n",
    "import pandas as pd # data processing, CSV file I/O (e.g. pd.read_csv)\n",
    "import keras\n",
    "import tensorflow as tf\n",
    "import pickle\n",
    "import sys\n",
    "import yaml\n",
    "\n",
    "from keras.layers import Dense, Embedding, LSTM, SpatialDropout1D, Flatten, TimeDistributed, Bidirectional\n",
    "from keras.layers.core import Dense, Activation, Dropout\n",
    "from keras.models import Sequential\n",
    "from keras.utils import plot_model\n",
    "from keras import optimizers\n",
    "from keras.models import Model\n",
    "from keras.layers import Input\n",
    "from keras.layers import Dense\n",
    "from keras.layers import Reshape\n",
    "from keras.layers import Flatten\n",
    "from keras.layers.convolutional import Conv2D\n",
    "from keras.layers.pooling import MaxPooling2D\n",
    "from keras.layers.merge import concatenate\n",
    "from sklearn.feature_extraction.text import CountVectorizer\n",
    "from keras.preprocessing.text import Tokenizer\n",
    "from keras.preprocessing.sequence import pad_sequences\n",
    "from sklearn.model_selection import train_test_split\n",
    "from keras.utils.np_utils import to_categorical\n",
    "from keras.callbacks import EarlyStopping\n",
    "from sklearn.preprocessing import LabelEncoder\n",
    "from sklearn.model_selection import train_test_split\n",
    "from keras import backend as K\n",
    "from keras.models import load_model\n",
    "from sklearn import preprocessing\n",
    "from copy import deepcopy\n",
    "\n",
    "import datetime\n",
    "import math\n",
    "import hashlib\n",
    "import time\n",
    "import os\n",
    "from datagenerator import DataGenerator\n",
    "\n",
    "# add\n",
    "os.environ[\"CUDA_DEVICE_ORDER\"]=\"PCI_BUS_ID\" \n",
    "os.environ[\"CUDA_VISIBLE_DEVICES\"]=\"0\"  # specify which GPU(s) to be used\n",
    "# add\n",
    "config = tf.ConfigProto() \n",
    "config.gpu_options.allow_growth = True \n",
    "# # sess = tf.Session(config=config) \n",
    "sess = tf.compat.v1.Session(config=config) \n",
    "\n",
    "def loadConfig():\n",
    "#     with open('/home/wesleyjtann/ddos_research/test/light_config_b.yaml', \"r\") as ymlfile:\n",
    "    with open('./light_config_hulk.yaml', \"r\") as ymlfile: #GE, hulk, slowhttp, slowloris, heartbleed\n",
    "        cfg = yaml.load(ymlfile)\n",
    "    return cfg\n",
    "\n",
    "config = loadConfig()\n",
    "# artefact = 'artefact' #'artefact_b' #"
   ]
  },
  {
   "cell_type": "raw",
   "id": "0751497c",
   "metadata": {},
   "source": [
    "# load testset\n",
    "df_test = pd.read_csv(config['metadata']['uniqueID'] + '/artefact_seqlen200hash750/TEST.csv')"
   ]
  },
  {
   "cell_type": "raw",
   "id": "3b9a508f",
   "metadata": {
    "scrolled": true
   },
   "source": [
    "df_test"
   ]
  },
  {
   "cell_type": "code",
   "execution_count": 5,
   "id": "844baafe",
   "metadata": {
    "scrolled": true
   },
   "outputs": [
    {
     "data": {
      "text/html": [
       "<div>\n",
       "<style scoped>\n",
       "    .dataframe tbody tr th:only-of-type {\n",
       "        vertical-align: middle;\n",
       "    }\n",
       "\n",
       "    .dataframe tbody tr th {\n",
       "        vertical-align: top;\n",
       "    }\n",
       "\n",
       "    .dataframe thead th {\n",
       "        text-align: right;\n",
       "    }\n",
       "</style>\n",
       "<table border=\"1\" class=\"dataframe\">\n",
       "  <thead>\n",
       "    <tr style=\"text-align: right;\">\n",
       "      <th></th>\n",
       "      <th>Source IP</th>\n",
       "      <th>Dest IP</th>\n",
       "      <th>Protocols</th>\n",
       "      <th>Info</th>\n",
       "      <th>Input</th>\n",
       "      <th>Histo</th>\n",
       "    </tr>\n",
       "  </thead>\n",
       "  <tbody>\n",
       "    <tr>\n",
       "      <th>0</th>\n",
       "      <td>0</td>\n",
       "      <td>0</td>\n",
       "      <td>eth:ethertype:arp</td>\n",
       "      <td>Who has 192.168.10.1? Tell 192.168.10.3</td>\n",
       "      <td>169&lt;SEP&gt;169&lt;SEP&gt;169&lt;SEP&gt;169&lt;SEP&gt;8&lt;SEP&gt;169&lt;SEP&gt;...</td>\n",
       "      <td>Who has 192.168.10.1? Tell 192.168.10.3&lt;JOIN&gt;e...</td>\n",
       "    </tr>\n",
       "    <tr>\n",
       "      <th>1</th>\n",
       "      <td>0</td>\n",
       "      <td>0</td>\n",
       "      <td>eth:ethertype:arp</td>\n",
       "      <td>Who has 192.168.10.3? Tell 192.168.10.12</td>\n",
       "      <td>169&lt;SEP&gt;169&lt;SEP&gt;169&lt;SEP&gt;169&lt;SEP&gt;169&lt;SEP&gt;169&lt;SE...</td>\n",
       "      <td>Who has 192.168.10.3? Tell 192.168.10.12&lt;JOIN&gt;...</td>\n",
       "    </tr>\n",
       "    <tr>\n",
       "      <th>2</th>\n",
       "      <td>0</td>\n",
       "      <td>0</td>\n",
       "      <td>eth:ethertype:arp</td>\n",
       "      <td>Who has 192.168.10.3? Tell 192.168.10.16</td>\n",
       "      <td>169&lt;SEP&gt;169&lt;SEP&gt;169&lt;SEP&gt;169&lt;SEP&gt;169&lt;SEP&gt;169&lt;SE...</td>\n",
       "      <td>Who has 192.168.10.3? Tell 192.168.10.16&lt;JOIN&gt;...</td>\n",
       "    </tr>\n",
       "    <tr>\n",
       "      <th>3</th>\n",
       "      <td>0</td>\n",
       "      <td>0</td>\n",
       "      <td>eth:ethertype:ipv6:udp:dhcpv6</td>\n",
       "      <td>Solicit XID: 0xda6282 CID: 0001000120d5ad0eb8a...</td>\n",
       "      <td>122&lt;SEP&gt;122&lt;SEP&gt;122&lt;SEP&gt;122&lt;SEP&gt;122&lt;SEP&gt;122&lt;SE...</td>\n",
       "      <td>Solicit XID: 0xda6282 CID: 0001000120d5ad0eb8a...</td>\n",
       "    </tr>\n",
       "    <tr>\n",
       "      <th>4</th>\n",
       "      <td>0</td>\n",
       "      <td>0</td>\n",
       "      <td>eth:ethertype:ipv6:udp:dhcpv6</td>\n",
       "      <td>Solicit XID: 0xda6282 CID: 0001000120d5ad0eb8a...</td>\n",
       "      <td>122&lt;SEP&gt;122&lt;SEP&gt;122&lt;SEP&gt;122&lt;SEP&gt;122&lt;SEP&gt;122&lt;SE...</td>\n",
       "      <td>Solicit XID: 0xda6282 CID: 0001000120d5ad0eb8a...</td>\n",
       "    </tr>\n",
       "    <tr>\n",
       "      <th>...</th>\n",
       "      <td>...</td>\n",
       "      <td>...</td>\n",
       "      <td>...</td>\n",
       "      <td>...</td>\n",
       "      <td>...</td>\n",
       "      <td>...</td>\n",
       "    </tr>\n",
       "    <tr>\n",
       "      <th>53776</th>\n",
       "      <td>94.31.29.54</td>\n",
       "      <td>192.168.10.14</td>\n",
       "      <td>eth:ethertype:ip:tcp:tls</td>\n",
       "      <td>Application Data</td>\n",
       "      <td>61&lt;SEP&gt;190&lt;SEP&gt;208&lt;SEP&gt;208&lt;SEP&gt;190&lt;SEP&gt;190&lt;SEP...</td>\n",
       "      <td>Application Data&lt;JOIN&gt;eth:ethertype:ip:tcp:tls</td>\n",
       "    </tr>\n",
       "    <tr>\n",
       "      <th>53777</th>\n",
       "      <td>94.31.29.54</td>\n",
       "      <td>192.168.10.14</td>\n",
       "      <td>eth:ethertype:ip:tcp</td>\n",
       "      <td>443 → 52396 [FIN, ACK] Seq=5609 Ack=560 Win=31...</td>\n",
       "      <td>143&lt;SEP&gt;208&lt;SEP&gt;208&lt;SEP&gt;42</td>\n",
       "      <td>443 → 52396 [FIN, ACK] Seq=5609 Ack=560 Win=31...</td>\n",
       "    </tr>\n",
       "    <tr>\n",
       "      <th>53778</th>\n",
       "      <td>94.31.29.64</td>\n",
       "      <td>192.168.10.8</td>\n",
       "      <td>eth:ethertype:ip:tcp</td>\n",
       "      <td>443 → 52313 [ACK] Seq=6198 Ack=851 Win=32768 L...</td>\n",
       "      <td>185&lt;SEP&gt;130&lt;SEP&gt;130&lt;SEP&gt;130&lt;SEP&gt;54&lt;SEP&gt;238&lt;SEP...</td>\n",
       "      <td>443 → 52313 [ACK] Seq=6198 Ack=851 Win=32768 L...</td>\n",
       "    </tr>\n",
       "    <tr>\n",
       "      <th>53779</th>\n",
       "      <td>98.139.199.204</td>\n",
       "      <td>192.168.10.8</td>\n",
       "      <td>eth:ethertype:ip:tcp</td>\n",
       "      <td>443 → 52389 [ACK] Seq=6338 Ack=1167 Win=17920 ...</td>\n",
       "      <td>214&lt;SEP&gt;233</td>\n",
       "      <td>443 → 52389 [ACK] Seq=6338 Ack=1167 Win=17920 ...</td>\n",
       "    </tr>\n",
       "    <tr>\n",
       "      <th>53780</th>\n",
       "      <td>98.139.225.168</td>\n",
       "      <td>192.168.10.8</td>\n",
       "      <td>eth:ethertype:ip:tcp</td>\n",
       "      <td>443 → 52366 [ACK] Seq=4414 Ack=571 Win=16896 L...</td>\n",
       "      <td>130&lt;SEP&gt;101&lt;SEP&gt;130&lt;SEP&gt;101</td>\n",
       "      <td>443 → 52366 [ACK] Seq=4414 Ack=571 Win=16896 L...</td>\n",
       "    </tr>\n",
       "  </tbody>\n",
       "</table>\n",
       "<p>53781 rows × 6 columns</p>\n",
       "</div>"
      ],
      "text/plain": [
       "            Source IP        Dest IP                      Protocols  \\\n",
       "0                   0              0              eth:ethertype:arp   \n",
       "1                   0              0              eth:ethertype:arp   \n",
       "2                   0              0              eth:ethertype:arp   \n",
       "3                   0              0  eth:ethertype:ipv6:udp:dhcpv6   \n",
       "4                   0              0  eth:ethertype:ipv6:udp:dhcpv6   \n",
       "...               ...            ...                            ...   \n",
       "53776     94.31.29.54  192.168.10.14       eth:ethertype:ip:tcp:tls   \n",
       "53777     94.31.29.54  192.168.10.14           eth:ethertype:ip:tcp   \n",
       "53778     94.31.29.64   192.168.10.8           eth:ethertype:ip:tcp   \n",
       "53779  98.139.199.204   192.168.10.8           eth:ethertype:ip:tcp   \n",
       "53780  98.139.225.168   192.168.10.8           eth:ethertype:ip:tcp   \n",
       "\n",
       "                                                    Info  \\\n",
       "0                Who has 192.168.10.1? Tell 192.168.10.3   \n",
       "1               Who has 192.168.10.3? Tell 192.168.10.12   \n",
       "2               Who has 192.168.10.3? Tell 192.168.10.16   \n",
       "3      Solicit XID: 0xda6282 CID: 0001000120d5ad0eb8a...   \n",
       "4      Solicit XID: 0xda6282 CID: 0001000120d5ad0eb8a...   \n",
       "...                                                  ...   \n",
       "53776                                   Application Data   \n",
       "53777  443 → 52396 [FIN, ACK] Seq=5609 Ack=560 Win=31...   \n",
       "53778  443 → 52313 [ACK] Seq=6198 Ack=851 Win=32768 L...   \n",
       "53779  443 → 52389 [ACK] Seq=6338 Ack=1167 Win=17920 ...   \n",
       "53780  443 → 52366 [ACK] Seq=4414 Ack=571 Win=16896 L...   \n",
       "\n",
       "                                                   Input  \\\n",
       "0      169<SEP>169<SEP>169<SEP>169<SEP>8<SEP>169<SEP>...   \n",
       "1      169<SEP>169<SEP>169<SEP>169<SEP>169<SEP>169<SE...   \n",
       "2      169<SEP>169<SEP>169<SEP>169<SEP>169<SEP>169<SE...   \n",
       "3      122<SEP>122<SEP>122<SEP>122<SEP>122<SEP>122<SE...   \n",
       "4      122<SEP>122<SEP>122<SEP>122<SEP>122<SEP>122<SE...   \n",
       "...                                                  ...   \n",
       "53776  61<SEP>190<SEP>208<SEP>208<SEP>190<SEP>190<SEP...   \n",
       "53777                         143<SEP>208<SEP>208<SEP>42   \n",
       "53778  185<SEP>130<SEP>130<SEP>130<SEP>54<SEP>238<SEP...   \n",
       "53779                                        214<SEP>233   \n",
       "53780                        130<SEP>101<SEP>130<SEP>101   \n",
       "\n",
       "                                                   Histo  \n",
       "0      Who has 192.168.10.1? Tell 192.168.10.3<JOIN>e...  \n",
       "1      Who has 192.168.10.3? Tell 192.168.10.12<JOIN>...  \n",
       "2      Who has 192.168.10.3? Tell 192.168.10.16<JOIN>...  \n",
       "3      Solicit XID: 0xda6282 CID: 0001000120d5ad0eb8a...  \n",
       "4      Solicit XID: 0xda6282 CID: 0001000120d5ad0eb8a...  \n",
       "...                                                  ...  \n",
       "53776     Application Data<JOIN>eth:ethertype:ip:tcp:tls  \n",
       "53777  443 → 52396 [FIN, ACK] Seq=5609 Ack=560 Win=31...  \n",
       "53778  443 → 52313 [ACK] Seq=6198 Ack=851 Win=32768 L...  \n",
       "53779  443 → 52389 [ACK] Seq=6338 Ack=1167 Win=17920 ...  \n",
       "53780  443 → 52366 [ACK] Seq=4414 Ack=571 Win=16896 L...  \n",
       "\n",
       "[53781 rows x 6 columns]"
      ]
     },
     "execution_count": 5,
     "metadata": {},
     "output_type": "execute_result"
    }
   ],
   "source": [
    "df_test = pd.read_csv(config['metadata']['uniqueID'] + '/artefact_hulk/TEST.csv')\n",
    "df_test"
   ]
  },
  {
   "cell_type": "raw",
   "id": "085270ce",
   "metadata": {},
   "source": [
    "# df_test = df_test[(df_test['Source IP'] != '71.126.222.64')]\n",
    "# df_test = df_test[df_test['Dest IP'] != '71.126.222.64']\n",
    "\n",
    "df_norm = df_test[df_test['Dest IP'] != '71.126.222.64']\n",
    "\n",
    "len(df_norm)"
   ]
  },
  {
   "cell_type": "code",
   "execution_count": 7,
   "id": "40b57a4a",
   "metadata": {},
   "outputs": [
    {
     "name": "stdout",
     "output_type": "stream",
     "text": [
      "25996\n"
     ]
    },
    {
     "data": {
      "text/html": [
       "<div>\n",
       "<style scoped>\n",
       "    .dataframe tbody tr th:only-of-type {\n",
       "        vertical-align: middle;\n",
       "    }\n",
       "\n",
       "    .dataframe tbody tr th {\n",
       "        vertical-align: top;\n",
       "    }\n",
       "\n",
       "    .dataframe thead th {\n",
       "        text-align: right;\n",
       "    }\n",
       "</style>\n",
       "<table border=\"1\" class=\"dataframe\">\n",
       "  <thead>\n",
       "    <tr style=\"text-align: right;\">\n",
       "      <th></th>\n",
       "      <th>Source IP</th>\n",
       "      <th>Dest IP</th>\n",
       "      <th>Protocols</th>\n",
       "      <th>Info</th>\n",
       "      <th>Input</th>\n",
       "      <th>Histo</th>\n",
       "    </tr>\n",
       "  </thead>\n",
       "  <tbody>\n",
       "    <tr>\n",
       "      <th>0</th>\n",
       "      <td>0</td>\n",
       "      <td>0</td>\n",
       "      <td>eth:ethertype:arp</td>\n",
       "      <td>Who has 192.168.10.1? Tell 192.168.10.19</td>\n",
       "      <td>169&lt;SEP&gt;169&lt;SEP&gt;122&lt;SEP&gt;122&lt;SEP&gt;122&lt;SEP&gt;122&lt;SE...</td>\n",
       "      <td>Who has 192.168.10.1? Tell 192.168.10.19&lt;JOIN&gt;...</td>\n",
       "    </tr>\n",
       "    <tr>\n",
       "      <th>1</th>\n",
       "      <td>0</td>\n",
       "      <td>0</td>\n",
       "      <td>eth:ethertype:ipv6:udp:dhcpv6</td>\n",
       "      <td>Solicit XID: 0x4dadef CID: 0001000120d5ad0eb8a...</td>\n",
       "      <td>122&lt;SEP&gt;122&lt;SEP&gt;122&lt;SEP&gt;122&lt;SEP&gt;122&lt;SEP&gt;122&lt;SE...</td>\n",
       "      <td>Solicit XID: 0x4dadef CID: 0001000120d5ad0eb8a...</td>\n",
       "    </tr>\n",
       "    <tr>\n",
       "      <th>2</th>\n",
       "      <td>0</td>\n",
       "      <td>0</td>\n",
       "      <td>eth:ethertype:ipv6:udp:dhcpv6</td>\n",
       "      <td>Solicit XID: 0x4dadef CID: 0001000120d5ad0eb8a...</td>\n",
       "      <td>122&lt;SEP&gt;122&lt;SEP&gt;122&lt;SEP&gt;122&lt;SEP&gt;122&lt;SEP&gt;122&lt;SE...</td>\n",
       "      <td>Solicit XID: 0x4dadef CID: 0001000120d5ad0eb8a...</td>\n",
       "    </tr>\n",
       "    <tr>\n",
       "      <th>3</th>\n",
       "      <td>0</td>\n",
       "      <td>0</td>\n",
       "      <td>eth:ethertype:ipv6:udp:dhcpv6</td>\n",
       "      <td>Solicit XID: 0x4dadef CID: 0001000120d5ad0eb8a...</td>\n",
       "      <td>122&lt;SEP&gt;122&lt;SEP&gt;122&lt;SEP&gt;122&lt;SEP&gt;122&lt;SEP&gt;122&lt;SE...</td>\n",
       "      <td>Solicit XID: 0x4dadef CID: 0001000120d5ad0eb8a...</td>\n",
       "    </tr>\n",
       "    <tr>\n",
       "      <th>4</th>\n",
       "      <td>0</td>\n",
       "      <td>0</td>\n",
       "      <td>eth:ethertype:ipv6:udp:dhcpv6</td>\n",
       "      <td>Solicit XID: 0x4dadef CID: 0001000120d5ad0eb8a...</td>\n",
       "      <td>122&lt;SEP&gt;122&lt;SEP&gt;122&lt;SEP&gt;122&lt;SEP&gt;122&lt;SEP&gt;122&lt;SE...</td>\n",
       "      <td>Solicit XID: 0x4dadef CID: 0001000120d5ad0eb8a...</td>\n",
       "    </tr>\n",
       "  </tbody>\n",
       "</table>\n",
       "</div>"
      ],
      "text/plain": [
       "  Source IP Dest IP                      Protocols  \\\n",
       "0         0       0              eth:ethertype:arp   \n",
       "1         0       0  eth:ethertype:ipv6:udp:dhcpv6   \n",
       "2         0       0  eth:ethertype:ipv6:udp:dhcpv6   \n",
       "3         0       0  eth:ethertype:ipv6:udp:dhcpv6   \n",
       "4         0       0  eth:ethertype:ipv6:udp:dhcpv6   \n",
       "\n",
       "                                                Info  \\\n",
       "0           Who has 192.168.10.1? Tell 192.168.10.19   \n",
       "1  Solicit XID: 0x4dadef CID: 0001000120d5ad0eb8a...   \n",
       "2  Solicit XID: 0x4dadef CID: 0001000120d5ad0eb8a...   \n",
       "3  Solicit XID: 0x4dadef CID: 0001000120d5ad0eb8a...   \n",
       "4  Solicit XID: 0x4dadef CID: 0001000120d5ad0eb8a...   \n",
       "\n",
       "                                               Input  \\\n",
       "0  169<SEP>169<SEP>122<SEP>122<SEP>122<SEP>122<SE...   \n",
       "1  122<SEP>122<SEP>122<SEP>122<SEP>122<SEP>122<SE...   \n",
       "2  122<SEP>122<SEP>122<SEP>122<SEP>122<SEP>122<SE...   \n",
       "3  122<SEP>122<SEP>122<SEP>122<SEP>122<SEP>122<SE...   \n",
       "4  122<SEP>122<SEP>122<SEP>122<SEP>122<SEP>122<SE...   \n",
       "\n",
       "                                               Histo  \n",
       "0  Who has 192.168.10.1? Tell 192.168.10.19<JOIN>...  \n",
       "1  Solicit XID: 0x4dadef CID: 0001000120d5ad0eb8a...  \n",
       "2  Solicit XID: 0x4dadef CID: 0001000120d5ad0eb8a...  \n",
       "3  Solicit XID: 0x4dadef CID: 0001000120d5ad0eb8a...  \n",
       "4  Solicit XID: 0x4dadef CID: 0001000120d5ad0eb8a...  "
      ]
     },
     "execution_count": 7,
     "metadata": {},
     "output_type": "execute_result"
    }
   ],
   "source": [
    "df_norm = pd.read_csv(config['metadata']['uniqueID'] + '/artefact_hulk/N2.csv')\n",
    "\n",
    "print(len(df_norm))\n",
    "df_norm.head()"
   ]
  },
  {
   "cell_type": "code",
   "execution_count": 8,
   "id": "36d7c25f",
   "metadata": {},
   "outputs": [],
   "source": [
    "df_norm = df_norm.sample(frac=1)\n",
    "\n",
    "# df_normN1 = df_norm[:35000] #[:35263]\n",
    "df_normN2 = df_norm[-2996:] #[35264:]\n",
    "\n",
    "## Save new N1\n",
    "# df_normN1.to_csv('../1_testmimic_caida07/ids_test2/artefact/N1_new.csv',index=False)"
   ]
  },
  {
   "cell_type": "code",
   "execution_count": 9,
   "id": "99be6225",
   "metadata": {},
   "outputs": [
    {
     "data": {
      "text/plain": [
       "2996"
      ]
     },
     "execution_count": 9,
     "metadata": {},
     "output_type": "execute_result"
    }
   ],
   "source": [
    "len(df_normN2)"
   ]
  },
  {
   "cell_type": "raw",
   "id": "3740d605",
   "metadata": {},
   "source": [
    "# True attacks\n",
    "df_atk = df_test[(df_test['Attack']==1)]\n",
    "print(\"length df_atk: \",  len(df_atk)) "
   ]
  },
  {
   "cell_type": "raw",
   "id": "e00bd36f",
   "metadata": {},
   "source": [
    "df_atk.to_csv('../1_testmimic_caida07/ids_test2/artefact/TESTatk.csv', index=False)"
   ]
  },
  {
   "cell_type": "markdown",
   "id": "fc4d3f8c",
   "metadata": {},
   "source": []
  },
  {
   "cell_type": "code",
   "execution_count": null,
   "id": "f544cb29",
   "metadata": {},
   "outputs": [],
   "source": []
  },
  {
   "cell_type": "code",
   "execution_count": 10,
   "id": "a6a9c06f",
   "metadata": {},
   "outputs": [
    {
     "name": "stdout",
     "output_type": "stream",
     "text": [
      "length df_norm:  2996\n"
     ]
    },
    {
     "name": "stderr",
     "output_type": "stream",
     "text": [
      "/home/wesleyjtann/miniconda3/envs/ddos/lib/python3.7/site-packages/ipykernel_launcher.py:6: SettingWithCopyWarning: \n",
      "A value is trying to be set on a copy of a slice from a DataFrame.\n",
      "Try using .loc[row_indexer,col_indexer] = value instead\n",
      "\n",
      "See the caveats in the documentation: http://pandas.pydata.org/pandas-docs/stable/user_guide/indexing.html#returning-a-view-versus-a-copy\n",
      "  \n"
     ]
    }
   ],
   "source": [
    "## True normals\n",
    "\n",
    "# df_norm = df_test[(df_test['Attack']==0)]\n",
    "# df_norm = df_test\n",
    "\n",
    "df_normN2['Attack']=0\n",
    "\n",
    "print(\"length df_norm: \",  len(df_normN2)) "
   ]
  },
  {
   "cell_type": "code",
   "execution_count": 12,
   "id": "c574bda3",
   "metadata": {},
   "outputs": [],
   "source": [
    "df_normN2.to_csv('../1_testmimic_cicWed/ids_test2/artefact_hulk/TESTnorm.csv', index=False)"
   ]
  },
  {
   "cell_type": "code",
   "execution_count": null,
   "id": "716ba24a",
   "metadata": {},
   "outputs": [],
   "source": [
    "3262/.2"
   ]
  },
  {
   "cell_type": "code",
   "execution_count": null,
   "id": "c6e72fff",
   "metadata": {},
   "outputs": [],
   "source": []
  }
 ],
 "metadata": {
  "kernelspec": {
   "display_name": "ddos",
   "language": "python",
   "name": "ddos"
  },
  "language_info": {
   "codemirror_mode": {
    "name": "ipython",
    "version": 3
   },
   "file_extension": ".py",
   "mimetype": "text/x-python",
   "name": "python",
   "nbconvert_exporter": "python",
   "pygments_lexer": "ipython3",
   "version": "3.7.5"
  }
 },
 "nbformat": 4,
 "nbformat_minor": 5
}
