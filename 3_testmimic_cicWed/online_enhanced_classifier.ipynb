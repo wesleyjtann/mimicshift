{
 "cells": [
  {
   "cell_type": "code",
   "execution_count": 1,
   "metadata": {
    "scrolled": true
   },
   "outputs": [
    {
     "name": "stderr",
     "output_type": "stream",
     "text": [
      "Using TensorFlow backend.\n"
     ]
    }
   ],
   "source": [
    "import warnings\n",
    "warnings.filterwarnings('ignore',category=FutureWarning)\n",
    "\n",
    "import numpy as np\n",
    "import pandas as pd # data processing, CSV file I/O (e.g. pd.read_csv)\n",
    "import keras\n",
    "import tensorflow as tf\n",
    "import pickle\n",
    "import sys\n",
    "import yaml\n",
    "\n",
    "from keras.layers import Dense, Embedding, LSTM, SpatialDropout1D, Flatten, TimeDistributed, Bidirectional\n",
    "from keras.layers.core import Dense, Activation, Dropout\n",
    "from keras.models import Sequential\n",
    "from keras.utils import plot_model\n",
    "from keras import optimizers\n",
    "from keras.models import Model\n",
    "from keras.layers import Input\n",
    "from keras.layers import Dense\n",
    "from keras.layers import Reshape\n",
    "from keras.layers import Flatten\n",
    "from keras.layers.convolutional import Conv2D\n",
    "from keras.layers.pooling import MaxPooling2D\n",
    "from keras.layers.merge import concatenate\n",
    "from sklearn.feature_extraction.text import CountVectorizer\n",
    "from keras.preprocessing.text import Tokenizer\n",
    "from keras.preprocessing.sequence import pad_sequences\n",
    "from sklearn.model_selection import train_test_split\n",
    "from keras.utils.np_utils import to_categorical\n",
    "from keras.callbacks import EarlyStopping\n",
    "from sklearn.preprocessing import LabelEncoder\n",
    "from sklearn.model_selection import train_test_split\n",
    "from keras import backend as K\n",
    "from keras.models import load_model\n",
    "from sklearn import preprocessing\n",
    "from copy import deepcopy\n",
    "\n",
    "import datetime\n",
    "import math\n",
    "import hashlib\n",
    "import time\n",
    "import os\n",
    "from datagenerator import DataGenerator\n",
    "\n",
    "# add\n",
    "os.environ[\"CUDA_DEVICE_ORDER\"]=\"PCI_BUS_ID\" \n",
    "os.environ[\"CUDA_VISIBLE_DEVICES\"]=\"0\"  # specify which GPU(s) to be used"
   ]
  },
  {
   "cell_type": "code",
   "execution_count": 2,
   "metadata": {},
   "outputs": [],
   "source": [
    "#Disable randomization\n",
    "import random\n",
    "seed_value=2020 #10 #\n",
    "os.environ['PYTHONHASHSEED'] = str(seed_value)\n",
    "np.random.seed(seed_value)\n",
    "tf.compat.v1.set_random_seed(seed_value)\n",
    "random.seed(seed_value)\n",
    "\n",
    "# add\n",
    "config = tf.ConfigProto() \n",
    "config.gpu_options.allow_growth = True \n",
    "# # sess = tf.Session(config=config) \n",
    "sess = tf.compat.v1.Session(config=config) \n",
    "K.set_session(sess)"
   ]
  },
  {
   "cell_type": "code",
   "execution_count": 3,
   "metadata": {},
   "outputs": [
    {
     "name": "stderr",
     "output_type": "stream",
     "text": [
      "/home/wesleyjtann/miniconda3/envs/ddos/lib/python3.7/site-packages/ipykernel_launcher.py:4: YAMLLoadWarning: calling yaml.load() without Loader=... is deprecated, as the default Loader is unsafe. Please read https://msg.pyyaml.org/load for full details.\n",
      "  after removing the cwd from sys.path.\n"
     ]
    }
   ],
   "source": [
    "def loadConfig():\n",
    "#     with open('/home/wesleyjtann/ddos_research/test/light_config_b.yaml', \"r\") as ymlfile:\n",
    "    with open('./light_config_hulk.yaml', \"r\") as ymlfile: #GE, hulk, slowhttp, slowloris, heartbleed\n",
    "        cfg = yaml.load(ymlfile)\n",
    "    return cfg\n",
    "\n",
    "config = loadConfig()\n",
    "# artefact = 'artefact' #'artefact_b' #"
   ]
  },
  {
   "cell_type": "markdown",
   "metadata": {},
   "source": [
    "## Helper functions"
   ]
  },
  {
   "cell_type": "code",
   "execution_count": 4,
   "metadata": {},
   "outputs": [],
   "source": [
    "def prepare_sentence(seq, maxlen, tokenizer):\n",
    "    # Pads seq and slides windows\n",
    "    seq = seq[:maxlen]\n",
    "    seqX = np.append(tokenizer.word_index['<sos>'], seq)\n",
    "    seqY = np.append(seq, tokenizer.word_index['<eos>'])\n",
    "\n",
    "    x= pad_sequences([seqX],\n",
    "        maxlen=maxlen+1,\n",
    "        padding='post')[0]  # Pads before each sequence\n",
    "\n",
    "    y= pad_sequences([seqY],\n",
    "        maxlen=maxlen+1,\n",
    "        padding='post')[0]  # Pads before each sequence\n",
    "\n",
    "    return [x], [y]\n",
    "\n",
    "\n",
    "def getTokenizer(df_arr) :\n",
    "    ### Dictionary for Normal ###\n",
    "    tokenizer = Tokenizer(filters='', split='<sep>', oov_token='<OTHERS>' ,lower=True)\n",
    "    \n",
    "    for df in df_arr :\n",
    "        tokenizer.fit_on_texts(df['Input'].values)\n",
    "\n",
    "    tokenizer.fit_on_texts(['<SOS>'])\n",
    "    tokenizer.fit_on_texts(['<EOS>'])\n",
    "\n",
    "    return tokenizer\n",
    "\n",
    "# def createGeneratorData(df, tokenizer, max_len) :\n",
    "#     #Prepare training for normal model\n",
    "#     x = []\n",
    "#     y = []\n",
    "\n",
    "#     for seq in df['Input']:\n",
    "#         x_windows, y_windows = prepare_sentence(seq, max_len, tokenizer)\n",
    "#         x += x_windows\n",
    "#         y += y_windows\n",
    "#     x = np.array(x)\n",
    "#     y = np.array(y)  # The word <PAD> does not constitute a class\n",
    "\n",
    "#     x.shape = [len(x), max_len + 1, 1]\n",
    "#     y.shape = [len(y), max_len + 1, 1]\n",
    "\n",
    "#     return x, y\n",
    "\n",
    "def prepare_sentence_classification(seq, maxlen, tokenizer):\n",
    "    # Pads seq and slides windows\n",
    "    seq = seq[:maxlen]\n",
    "#     seqX = np.append(seq, tokenizer.word_index['<eos>'])\n",
    "    seqX = np.append(tokenizer.word_index['<sos>'], seq)\n",
    "    seqX = np.append(seqX, tokenizer.word_index['<eos>'])\n",
    "\n",
    "    x= pad_sequences([seqX],\n",
    "        maxlen=maxlen+2,\n",
    "        padding='post')[0]  # Pads before each sequence\n",
    "\n",
    "    return [x]\n",
    "\n",
    "\n",
    "def create_input_data(df, tokenizer, max_len):\n",
    "    #Prepare training for normal model\n",
    "    x=[]; y=[]\n",
    "    for index, row in df.iterrows():\n",
    "        x_windows = prepare_sentence_classification(row['Input'], max_len, tokenizer)\n",
    "#         y_labels = row['Label']\n",
    "        y_labels = row['Attack']\n",
    "#         x += x_windows\n",
    "        x.append(x_windows)\n",
    "        y.append(y_labels)\n",
    "        \n",
    "    x = np.array(x)\n",
    "    y = np.array(y)\n",
    "#     x.shape = [len(x), max_len+2, 1]\n",
    "    x = np.reshape(x, (len(x), (max_len+2)))#, 1))\n",
    "\n",
    "    return x, y"
   ]
  },
  {
   "cell_type": "markdown",
   "metadata": {},
   "source": [
    "## Loading Hulk dataset"
   ]
  },
  {
   "cell_type": "raw",
   "metadata": {},
   "source": [
    "config['metadata']['artefact']\n",
    "# config['metadata']['artefact'] = 'artefact_seqlen200hash750'\n",
    "# config['metadata']['artefact']"
   ]
  },
  {
   "cell_type": "markdown",
   "metadata": {},
   "source": [
    "##### Training set"
   ]
  },
  {
   "cell_type": "code",
   "execution_count": 5,
   "metadata": {},
   "outputs": [
    {
     "name": "stdout",
     "output_type": "stream",
     "text": [
      "size of normal data:  24000\n"
     ]
    }
   ],
   "source": [
    "    ## N1 data\n",
    "    # df_normal = pd.read_csv(config['metadata']['uniqueID'] + '/' + config['metadata']['artefact'] + '/' + 'N1.csv')\n",
    "## new normal = atk data\n",
    "df_normal = pd.read_csv(config['metadata']['uniqueID'] + '/' + config['metadata']['artefact'] + '/' + 'A1_full.csv')\n",
    "print(\"size of normal data: \", len(df_normal))\n",
    "# df_normal.head()"
   ]
  },
  {
   "cell_type": "code",
   "execution_count": 6,
   "metadata": {},
   "outputs": [],
   "source": [
    "online = True\n",
    "counter = False #True # '''False=no countermeasure'''"
   ]
  },
  {
   "cell_type": "code",
   "execution_count": 7,
   "metadata": {},
   "outputs": [
    {
     "name": "stdout",
     "output_type": "stream",
     "text": [
      "No countermeasure\n",
      "size of full attack data:  2000\n",
      "size of full attack data:  2000\n",
      "size of full attack data:  2000\n",
      "size of full attack data:  2000\n",
      "size of full attack data:  2000\n",
      "size of full attack data:  2000\n",
      "size of full attack data:  2000\n",
      "size of full attack data:  2000\n",
      "size of full attack data:  2000\n",
      "size of full attack data:  2000\n",
      "size of full attack data:  2000\n",
      "size of full attack data:  2000\n"
     ]
    }
   ],
   "source": [
    "if counter is False:\n",
    "    print(\"No countermeasure\")\n",
    "    # Entire train atk set. \n",
    "    if online is True :\n",
    "        count = 0\n",
    "        df_attack_interval = []\n",
    "        while(True) :\n",
    "            if not os.path.isfile(config['metadata']['uniqueID'] + '/' + config['metadata']['artefact'] + '/' + 'A1_' + str(count) + '.csv') :\n",
    "                break\n",
    "            df_attack = pd.read_csv(config['metadata']['uniqueID'] + '/' + config['metadata']['artefact'] + '/' + 'A1_' + str(count) + '.csv')\n",
    "            df_attack_interval.append(df_attack)\n",
    "            count = count + 1\n",
    "    else :\n",
    "        df_attackfull = pd.read_csv(config['metadata']['uniqueID'] + '/' + config['metadata']['artefact'] + '/' + 'A1_full.csv')\n",
    "\n",
    "\n",
    "    for x in df_attack_interval :\n",
    "        print(\"size of full attack data: \", len(x))\n",
    "\n",
    "else:\n",
    "    print(\"Use countermeasure\")\n",
    "    # # Online Q interval data (vary 1--3)\n",
    "    np.random.seed(2022)\n",
    "\n",
    "    if online is True :\n",
    "        count = 0\n",
    "    #     lengths = []\n",
    "        df_attack_interval = []\n",
    "\n",
    "        ## initial attack chunk A_0 (first 5 mins)\n",
    "        interval_range = 5\n",
    "        df_attack = pd.concat((pd.read_csv(config['metadata']['uniqueID'] + '/' + config['metadata']['artefact'] + '/' + 'A1_' + str(i) + '.csv') for i in range(interval_range)))\n",
    "        count = count + 1\n",
    "        df_attack_interval.append(df_attack)\n",
    "\n",
    "        while(True) :\n",
    "            if not os.path.isfile(config['metadata']['uniqueID'] + '/' + config['metadata']['artefact'] + '/' + 'A1_' + str(interval_range) + '.csv'):\n",
    "                break\n",
    "\n",
    "            next_range = np.random.randint(low=1, high=4)\n",
    "            print(\"next range: \",next_range)\n",
    "            max_range = 11\n",
    "            if (interval_range+next_range) > max_range:\n",
    "                if (interval_range == max_range):\n",
    "                    next_range = 1\n",
    "                else:\n",
    "                    next_range = (max_range+1)-interval_range\n",
    "\n",
    "            df_attack = pd.concat((pd.read_csv(config['metadata']['uniqueID'] + '/' + config['metadata']['artefact'] + '/' + 'A1_' + str(i) + '.csv') for i in range(interval_range,interval_range+next_range)))\n",
    "            interval_range = interval_range+next_range\n",
    "\n",
    "            df_attack_interval.append(df_attack)\n",
    "            count = count + 1"
   ]
  },
  {
   "cell_type": "raw",
   "metadata": {
    "scrolled": true
   },
   "source": [
    "# Entire train atk set. \n",
    "if online is True :\n",
    "    count = 0\n",
    "    df_attack_interval = []\n",
    "    while(True) :\n",
    "        if not os.path.isfile(config['metadata']['uniqueID'] + '/' + config['metadata']['artefact'] + '/' + 'A1_' + str(count) + '.csv') :\n",
    "            break\n",
    "        df_attack = pd.read_csv(config['metadata']['uniqueID'] + '/' + config['metadata']['artefact'] + '/' + 'A1_' + str(count) + '.csv')\n",
    "        df_attack_interval.append(df_attack)\n",
    "        count = count + 1\n",
    "else :\n",
    "    df_attackfull = pd.read_csv(config['metadata']['uniqueID'] + '/' + config['metadata']['artefact'] + '/' + 'A1_full.csv')\n",
    "\n",
    "\n",
    "for x in df_attack_interval :\n",
    "    print(\"size of full attack data: \", len(x))"
   ]
  },
  {
   "cell_type": "raw",
   "metadata": {
    "scrolled": true
   },
   "source": [
    "# # Online Q interval data (vary 1--3)\n",
    "np.random.seed(2022)\n",
    "\n",
    "if online is True :\n",
    "    count = 0\n",
    "#     lengths = []\n",
    "    df_attack_interval = []\n",
    "\n",
    "    ## initial attack chunk A_0 (first 5 mins)\n",
    "    interval_range = 5\n",
    "    df_attack = pd.concat((pd.read_csv(config['metadata']['uniqueID'] + '/' + config['metadata']['artefact'] + '/' + 'A1_' + str(i) + '.csv') for i in range(interval_range)))\n",
    "    count = count + 1\n",
    "    df_attack_interval.append(df_attack)\n",
    "\n",
    "    while(True) :\n",
    "        if not os.path.isfile(config['metadata']['uniqueID'] + '/' + config['metadata']['artefact'] + '/' + 'A1_' + str(interval_range) + '.csv'):\n",
    "            break\n",
    "\n",
    "        next_range = np.random.randint(low=1, high=4)\n",
    "        print(\"next range: \",next_range)\n",
    "        max_range = 11\n",
    "        if (interval_range+next_range) > max_range:\n",
    "            if (interval_range == max_range):\n",
    "                next_range = 1\n",
    "            else:\n",
    "                next_range = (max_range+1)-interval_range\n",
    "\n",
    "        df_attack = pd.concat((pd.read_csv(config['metadata']['uniqueID'] + '/' + config['metadata']['artefact'] + '/' + 'A1_' + str(i) + '.csv') for i in range(interval_range,interval_range+next_range)))\n",
    "        interval_range = interval_range+next_range\n",
    "        \n",
    "        df_attack_interval.append(df_attack)\n",
    "        count = count + 1"
   ]
  },
  {
   "cell_type": "code",
   "execution_count": null,
   "metadata": {},
   "outputs": [],
   "source": []
  },
  {
   "cell_type": "code",
   "execution_count": 8,
   "metadata": {},
   "outputs": [
    {
     "name": "stdout",
     "output_type": "stream",
     "text": [
      "size of smaller attack data:  2000\n",
      "size of smaller attack data:  2000\n",
      "size of smaller attack data:  2000\n",
      "size of smaller attack data:  2000\n",
      "size of smaller attack data:  2000\n",
      "size of smaller attack data:  2000\n",
      "size of smaller attack data:  2000\n",
      "size of smaller attack data:  2000\n",
      "size of smaller attack data:  2000\n",
      "size of smaller attack data:  2000\n",
      "size of smaller attack data:  2000\n",
      "size of smaller attack data:  2000\n"
     ]
    }
   ],
   "source": [
    "# make attack ratio of train data if available.\n",
    "ratio = 0.5 #0.8 #0.2\n",
    "df_attack_interval2 = []\n",
    "for df_attackfull in df_attack_interval :\n",
    "    df_attacksmall = df_attackfull[-int(len(df_normal)/ratio - len(df_normal)):]\n",
    "    print(\"size of smaller attack data: \", len(df_attacksmall))\n",
    "    df_attack_interval2.append(df_attacksmall)\n",
    "df_attack_interval = df_attack_interval2"
   ]
  },
  {
   "cell_type": "code",
   "execution_count": 9,
   "metadata": {},
   "outputs": [
    {
     "name": "stdout",
     "output_type": "stream",
     "text": [
      "size of df_train:  3000\n",
      "size of df_train:  3000\n",
      "size of df_train:  3000\n",
      "size of df_train:  3000\n",
      "size of df_train:  3000\n",
      "size of df_train:  3000\n",
      "size of df_train:  3000\n",
      "size of df_train:  3000\n",
      "size of df_train:  3000\n",
      "size of df_train:  3000\n",
      "size of df_train:  3000\n",
      "size of df_train:  3000\n"
     ]
    }
   ],
   "source": [
    "# add labels for evaluation\n",
    "df_attacksmall['Attack'] = 1\n",
    "df_normal['Attack'] = 0\n",
    "\n",
    "# Join and shuffle train attack and normal data\n",
    "#df_train = df_normal.append(df_attacksmall).sample(frac=1, replace=False, random_state=39).reset_index(drop=True)\n",
    "# df_train =df_normal # df_attacksmall #\n",
    "#print(\"size of df_train: \", len(df_train))\n",
    "\n",
    "df_normal['Attack'] = 0\n",
    "\n",
    "df_train_arr = []\n",
    "for df_attacksmall in df_attack_interval :\n",
    "    df_attacksmall['Attack'] = 1\n",
    "    df_normalsmall = df_normal.sample(n = int(len(df_attacksmall)*.5), replace=False, random_state=39)\n",
    "    df_train = df_normalsmall.append(df_attacksmall).sample(frac=1, replace=False, random_state=39).reset_index(drop=True)\n",
    "    df_train_arr.append(df_train)\n",
    "\n",
    "for x in df_train_arr :\n",
    "    print(\"size of df_train: \", len(x))\n",
    "\n",
    "    "
   ]
  },
  {
   "cell_type": "markdown",
   "metadata": {},
   "source": [
    "##### Test set"
   ]
  },
  {
   "cell_type": "code",
   "execution_count": 10,
   "metadata": {},
   "outputs": [
    {
     "data": {
      "text/plain": [
       "12996"
      ]
     },
     "execution_count": 10,
     "metadata": {},
     "output_type": "execute_result"
    }
   ],
   "source": [
    "# Entire test set. \n",
    "dftest_atk = pd.read_csv(config['metadata']['uniqueID'] + '/' + config['metadata']['artefact'] + '/' + 'GENTEST.csv')\n",
    "len(dftest_atk)"
   ]
  },
  {
   "cell_type": "code",
   "execution_count": 11,
   "metadata": {},
   "outputs": [
    {
     "name": "stdout",
     "output_type": "stream",
     "text": [
      "24000\n",
      "size of smaller attack data:  12996\n",
      "size of df_test:  36996\n"
     ]
    }
   ],
   "source": [
    "# make test set \n",
    "# dfnorm_test = df_normal[-int(len(df_normal)*.5):] # last 50% of train norm as test\n",
    "dfnorm_test = df_normal\n",
    "print(len(dfnorm_test))\n",
    "\n",
    "ratio = 0.2 #0.2=80% atk , 0.5=50% atk\n",
    "# dftest_atksmall = dftest_atk[:(int(len(dfnorm_test)/ratio - len(dfnorm_test)))]\n",
    "dftest_atksmall = dftest_atk[-(int(len(dfnorm_test)/ratio - len(dfnorm_test))) : ]\n",
    "# add labels for evaluation\n",
    "dftest_atksmall['Attack'] = 1\n",
    "print(\"size of smaller attack data: \", len(dftest_atksmall))\n",
    "\n",
    "# join and shuffle train attack and normal data\n",
    "df_test = dfnorm_test.append(dftest_atksmall).sample(frac=1, replace=False, random_state=39).reset_index(drop=True)\n",
    "print(\"size of df_test: \", len(df_test))\n",
    "\n",
    "\n",
    "# # Saving test set\n",
    "# df_test.to_csv(config['metadata']['uniqueID'] + '/' + \n",
    "#                     config['metadata']['artefact'] + '/' + 'TEST.csv', index=False)"
   ]
  },
  {
   "cell_type": "markdown",
   "metadata": {},
   "source": [
    "##### ==================== ADD ===================="
   ]
  },
  {
   "cell_type": "code",
   "execution_count": 12,
   "metadata": {},
   "outputs": [
    {
     "name": "stdout",
     "output_type": "stream",
     "text": [
      "size of df_test:  12996\n"
     ]
    }
   ],
   "source": [
    "df_test = dftest_atksmall.sample(frac=1, replace=False, random_state=39).reset_index(drop=True)\n",
    "print(\"size of df_test: \", len(df_test))"
   ]
  },
  {
   "cell_type": "code",
   "execution_count": 13,
   "metadata": {},
   "outputs": [
    {
     "name": "stderr",
     "output_type": "stream",
     "text": [
      "/home/wesleyjtann/miniconda3/envs/ddos/lib/python3.7/site-packages/ipykernel_launcher.py:7: SettingWithCopyWarning: \n",
      "A value is trying to be set on a copy of a slice from a DataFrame\n",
      "\n",
      "See the caveats in the documentation: http://pandas.pydata.org/pandas-docs/stable/user_guide/indexing.html#returning-a-view-versus-a-copy\n",
      "  import sys\n"
     ]
    }
   ],
   "source": [
    "# resetting attack labels. attacker0='172.16.0.1'\n",
    "df_test['Attack'] = 0\n",
    "\n",
    "attacker1='999.16.30.0'; victim='192.168.10.50' # mimic attacker\n",
    "indexNames = df_test[(df_test['Source IP'] == attacker1)].index\n",
    "\n",
    "df_test['Attack'][indexNames] = 1\n",
    "# .drop(indexNames , inplace=True)\n",
    "# len(df_test_original)"
   ]
  },
  {
   "cell_type": "code",
   "execution_count": 14,
   "metadata": {},
   "outputs": [
    {
     "data": {
      "text/plain": [
       "10000"
      ]
     },
     "execution_count": 14,
     "metadata": {},
     "output_type": "execute_result"
    }
   ],
   "source": [
    "sum(df_test['Attack'] == 1)"
   ]
  },
  {
   "cell_type": "raw",
   "metadata": {},
   "source": [
    "df_test = pd.read_csv(config['metadata']['uniqueID'] + '/' + config['metadata']['artefact'] + '/' + 'TEST.csv')\n",
    "print(\"size of df_test: \", len(df_test))"
   ]
  },
  {
   "cell_type": "markdown",
   "metadata": {},
   "source": [
    "### Prepare data"
   ]
  },
  {
   "cell_type": "code",
   "execution_count": 15,
   "metadata": {},
   "outputs": [],
   "source": [
    "max_len = config['SEQUENCELENGTH']\n",
    "\n",
    "tokenizer = getTokenizer(df_train_arr)  "
   ]
  },
  {
   "cell_type": "raw",
   "metadata": {},
   "source": [
    "dftrain_embedded = df_train.copy()\n",
    "dftrain_embedded['Input'] = tokenizer.texts_to_sequences(df_train['Input'].values)\n",
    "# x_normal, y_normal = createGeneratorData(df_normal_embedded, tokenizer_normal, max_len)\n",
    "\n",
    "# Shuffle the data order\n",
    "dftrain_embedded_shuf = dftrain_embedded.sample(frac=1, random_state=42, replace=False)\n",
    "\n",
    "# Extract inputs and labels\n",
    "X_train, y_train = create_input_data(dftrain_embedded_shuf, tokenizer, max_len)\n",
    "\n",
    "# Convert format for training  \n",
    "y_train = to_categorical(y_train, num_classes=2)\n",
    "\n",
    "print(X_train.shape, y_train.shape)"
   ]
  },
  {
   "cell_type": "raw",
   "metadata": {},
   "source": [
    "# np.unique(X_train, return_counts=True)"
   ]
  },
  {
   "cell_type": "raw",
   "metadata": {},
   "source": [
    "dftest_embedded = df_test.copy()\n",
    "dftest_embedded['Input'] = tokenizer.texts_to_sequences(df_test['Input'].values)\n",
    "# x_normal, y_normal = createGeneratorData(df_normal_embedded, tokenizer_normal, max_len)\n",
    "\n",
    "# Shuffle the data order\n",
    "dftest_embedded_shuf = dftest_embedded.sample(frac=1, random_state=42, replace=False)\n",
    "\n",
    "# Extract inputs and labels\n",
    "X_test, y_test = create_input_data(dftest_embedded_shuf, tokenizer, max_len)\n",
    "\n",
    "# Convert format for training  \n",
    "y_test = to_categorical(y_test, num_classes=2)\n",
    "\n",
    "print(X_test.shape, y_test.shape)"
   ]
  },
  {
   "cell_type": "code",
   "execution_count": 16,
   "metadata": {},
   "outputs": [],
   "source": [
    "def prep_modelinputs(df, max_len, tokenizer):\n",
    "    df_embedded = df.copy()\n",
    "    df_embedded['Input'] = tokenizer.texts_to_sequences(df['Input'].values)\n",
    "    # Shuffle the data order\n",
    "    df_embedded_shuf = df_embedded.sample(frac=1, random_state=42, replace=False)\n",
    "    # Extract inputs and labels\n",
    "    X_tmp, y_tmp = create_input_data(df_embedded_shuf, tokenizer, max_len)\n",
    "    # Convert format for training  \n",
    "    y_tmp = to_categorical(y_tmp, num_classes=2)\n",
    "    return X_tmp, y_tmp"
   ]
  },
  {
   "cell_type": "code",
   "execution_count": 17,
   "metadata": {},
   "outputs": [
    {
     "name": "stdout",
     "output_type": "stream",
     "text": [
      "(24000, 18) (24000, 2)\n"
     ]
    }
   ],
   "source": [
    "X_norm, y_norm = prep_modelinputs(df_normal, max_len, tokenizer)\n",
    "print(X_norm.shape, y_norm.shape)"
   ]
  },
  {
   "cell_type": "code",
   "execution_count": 18,
   "metadata": {},
   "outputs": [
    {
     "name": "stdout",
     "output_type": "stream",
     "text": [
      "(3000, 18) (3000, 2)\n",
      "(3000, 18) (3000, 2)\n",
      "(3000, 18) (3000, 2)\n",
      "(3000, 18) (3000, 2)\n",
      "(3000, 18) (3000, 2)\n",
      "(3000, 18) (3000, 2)\n",
      "(3000, 18) (3000, 2)\n",
      "(3000, 18) (3000, 2)\n",
      "(3000, 18) (3000, 2)\n",
      "(3000, 18) (3000, 2)\n",
      "(3000, 18) (3000, 2)\n",
      "(3000, 18) (3000, 2)\n"
     ]
    }
   ],
   "source": [
    "xtrainytrain_arr=[]\n",
    "for x in df_train_arr:\n",
    "    X_train, y_train = prep_modelinputs(x, max_len, tokenizer)\n",
    "    print(X_train.shape, y_train.shape)\n",
    "    xtrainytrain_arr.append((X_train, y_train))\n"
   ]
  },
  {
   "cell_type": "code",
   "execution_count": 19,
   "metadata": {},
   "outputs": [
    {
     "name": "stdout",
     "output_type": "stream",
     "text": [
      "(12996, 18) (12996, 2)\n"
     ]
    }
   ],
   "source": [
    "X_test, y_test = prep_modelinputs(df_test, max_len, tokenizer)\n",
    "print(X_test.shape, y_test.shape)"
   ]
  },
  {
   "cell_type": "code",
   "execution_count": 20,
   "metadata": {},
   "outputs": [
    {
     "name": "stdout",
     "output_type": "stream",
     "text": [
      "Number transactions X_train dataset:  (3000, 18)\n",
      "Number transactions y_train dataset:  (3000, 2)\n",
      "Number transactions X_train dataset:  (3000, 18)\n",
      "Number transactions y_train dataset:  (3000, 2)\n",
      "Number transactions X_train dataset:  (3000, 18)\n",
      "Number transactions y_train dataset:  (3000, 2)\n",
      "Number transactions X_train dataset:  (3000, 18)\n",
      "Number transactions y_train dataset:  (3000, 2)\n",
      "Number transactions X_train dataset:  (3000, 18)\n",
      "Number transactions y_train dataset:  (3000, 2)\n",
      "Number transactions X_train dataset:  (3000, 18)\n",
      "Number transactions y_train dataset:  (3000, 2)\n",
      "Number transactions X_train dataset:  (3000, 18)\n",
      "Number transactions y_train dataset:  (3000, 2)\n",
      "Number transactions X_train dataset:  (3000, 18)\n",
      "Number transactions y_train dataset:  (3000, 2)\n",
      "Number transactions X_train dataset:  (3000, 18)\n",
      "Number transactions y_train dataset:  (3000, 2)\n",
      "Number transactions X_train dataset:  (3000, 18)\n",
      "Number transactions y_train dataset:  (3000, 2)\n",
      "Number transactions X_train dataset:  (3000, 18)\n",
      "Number transactions y_train dataset:  (3000, 2)\n",
      "Number transactions X_train dataset:  (3000, 18)\n",
      "Number transactions y_train dataset:  (3000, 2)\n",
      "Number transactions X_test dataset:  (12996, 18)\n",
      "Number transactions y_test dataset:  (12996, 2)\n",
      "Training set, counts of label '0': 1000\n",
      "Training set, counts of label '1': 2000\n",
      "Training set, counts of label '0': 1000\n",
      "Training set, counts of label '1': 2000\n",
      "Training set, counts of label '0': 1000\n",
      "Training set, counts of label '1': 2000\n",
      "Training set, counts of label '0': 1000\n",
      "Training set, counts of label '1': 2000\n",
      "Training set, counts of label '0': 1000\n",
      "Training set, counts of label '1': 2000\n",
      "Training set, counts of label '0': 1000\n",
      "Training set, counts of label '1': 2000\n",
      "Training set, counts of label '0': 1000\n",
      "Training set, counts of label '1': 2000\n",
      "Training set, counts of label '0': 1000\n",
      "Training set, counts of label '1': 2000\n",
      "Training set, counts of label '0': 1000\n",
      "Training set, counts of label '1': 2000\n",
      "Training set, counts of label '0': 1000\n",
      "Training set, counts of label '1': 2000\n",
      "Training set, counts of label '0': 1000\n",
      "Training set, counts of label '1': 2000\n",
      "Training set, counts of label '0': 1000\n",
      "Training set, counts of label '1': 2000\n",
      "Test set, counts of label '0': 2996\n",
      "Test set, counts of label '1': 10000\n"
     ]
    }
   ],
   "source": [
    "# X_train, X_test, y_train, y_test = train_test_split(X, y_cat, test_size=0.2, random_state=42)\n",
    "\n",
    "for (X_train, y_train) in xtrainytrain_arr :\n",
    "    print(\"Number transactions X_train dataset: \", X_train.shape)\n",
    "    print(\"Number transactions y_train dataset: \", y_train.shape)\n",
    "    \n",
    "print(\"Number transactions X_test dataset: \", X_test.shape)\n",
    "print(\"Number transactions y_test dataset: \", y_test.shape)\n",
    "\n",
    "for (X_train, y_train) in xtrainytrain_arr :\n",
    "    print(\"Training set, counts of label '0': {}\".format(int(np.sum(y_train, axis=0)[0])))\n",
    "    print(\"Training set, counts of label '1': {}\".format(int(np.sum(y_train, axis=0)[1])))\n",
    "print(\"Test set, counts of label '0': {}\".format(int(np.sum(y_test, axis=0)[0])))\n",
    "print(\"Test set, counts of label '1': {}\".format(int(np.sum(y_test, axis=0)[1])))"
   ]
  },
  {
   "cell_type": "markdown",
   "metadata": {},
   "source": [
    "### Model"
   ]
  },
  {
   "cell_type": "code",
   "execution_count": 21,
   "metadata": {},
   "outputs": [
    {
     "name": "stdout",
     "output_type": "stream",
     "text": [
      "vocab_size:  [253]\n"
     ]
    }
   ],
   "source": [
    "vocab_size=[len(tokenizer.word_index)] \n",
    "input_emb_dim = config['MODELPARAMS']['INPUT_EMBED_DIM'] #512\n",
    "lstm_emb_dim = config['MODELPARAMS']['LSTM_DIM'] #300\n",
    "print(\"vocab_size: \", vocab_size)"
   ]
  },
  {
   "cell_type": "code",
   "execution_count": 22,
   "metadata": {
    "scrolled": true
   },
   "outputs": [
    {
     "name": "stdout",
     "output_type": "stream",
     "text": [
      "WARNING:tensorflow:From /home/wesleyjtann/miniconda3/envs/ddos/lib/python3.7/site-packages/keras/backend/tensorflow_backend.py:74: The name tf.get_default_graph is deprecated. Please use tf.compat.v1.get_default_graph instead.\n",
      "\n",
      "WARNING:tensorflow:From /home/wesleyjtann/miniconda3/envs/ddos/lib/python3.7/site-packages/keras/backend/tensorflow_backend.py:517: The name tf.placeholder is deprecated. Please use tf.compat.v1.placeholder instead.\n",
      "\n",
      "WARNING:tensorflow:From /home/wesleyjtann/miniconda3/envs/ddos/lib/python3.7/site-packages/keras/backend/tensorflow_backend.py:4138: The name tf.random_uniform is deprecated. Please use tf.random.uniform instead.\n",
      "\n",
      "WARNING:tensorflow:From /home/wesleyjtann/miniconda3/envs/ddos/lib/python3.7/site-packages/keras/optimizers.py:790: The name tf.train.Optimizer is deprecated. Please use tf.compat.v1.train.Optimizer instead.\n",
      "\n",
      "WARNING:tensorflow:From /home/wesleyjtann/miniconda3/envs/ddos/lib/python3.7/site-packages/keras/backend/tensorflow_backend.py:3376: The name tf.log is deprecated. Please use tf.math.log instead.\n",
      "\n",
      "WARNING:tensorflow:From /home/wesleyjtann/miniconda3/envs/ddos/lib/python3.7/site-packages/tensorflow/python/ops/nn_impl.py:180: add_dispatch_support.<locals>.wrapper (from tensorflow.python.ops.array_ops) is deprecated and will be removed in a future version.\n",
      "Instructions for updating:\n",
      "Use tf.where in 2.0, which has the same broadcast rule as np.where\n",
      "_________________________________________________________________\n",
      "Layer (type)                 Output Shape              Param #   \n",
      "=================================================================\n",
      "embedding_1 (Embedding)      (None, 18, 512)           130048    \n",
      "_________________________________________________________________\n",
      "lstm_1 (LSTM)                (None, 18, 300)           975600    \n",
      "_________________________________________________________________\n",
      "lstm_2 (LSTM)                (None, 300)               721200    \n",
      "_________________________________________________________________\n",
      "dense_1 (Dense)              (None, 2)                 602       \n",
      "=================================================================\n",
      "Total params: 1,827,450\n",
      "Trainable params: 1,827,450\n",
      "Non-trainable params: 0\n",
      "_________________________________________________________________\n",
      "None\n"
     ]
    }
   ],
   "source": [
    "model = Sequential()\n",
    "model.add(Embedding(vocab_size[0] + 1, input_emb_dim, input_length=X_train.shape[1]))\n",
    "model.add(LSTM(lstm_emb_dim, return_sequences=True)) # dropout=0.2, recurrent_dropout=0.2))\n",
    "model.add(LSTM(lstm_emb_dim))\n",
    "# model.add(TimeDistributed(Dense(2, activation='sigmoid')))\n",
    "model.add(Dense(2, activation='sigmoid'))\n",
    "model.compile(optimizer=optimizers.adam(lr=0.005), \n",
    "              loss='binary_crossentropy', metrics=['acc']) #lr=0.005 config['MODELPARAMS']['LEARNING_RATE_P']\n",
    "\n",
    "print(model.summary())"
   ]
  },
  {
   "cell_type": "markdown",
   "metadata": {},
   "source": [
    "## Full classifier training"
   ]
  },
  {
   "cell_type": "markdown",
   "metadata": {
    "scrolled": true
   },
   "source": [
    "history = model.fit(X_train, y_train, epochs=config['TRAININGPARAMS']['EPOCHS_P'], \n",
    "                      batch_size=config['TRAININGPARAMS']['BATCH_SIZE'], validation_split=0.2, \n",
    "                      callbacks=[EarlyStopping(monitor='val_loss', patience=7, \n",
    "                                               mode='auto', min_delta=0.0002)]) #"
   ]
  },
  {
   "cell_type": "markdown",
   "metadata": {},
   "source": [
    "import matplotlib.pyplot as plt\n",
    "%matplotlib inline\n",
    "\n",
    "acc = history.history['acc']\n",
    "val_acc = history.history['val_acc']\n",
    "loss = history.history['loss']\n",
    "val_loss = history.history['val_loss']\n",
    "\n",
    "epochs = range(1, len(acc) + 1)\n",
    "\n",
    "f = plt.figure(figsize=(15,5))\n",
    "\n",
    "ax1 = f.add_subplot(121)\n",
    "ax1.set_xlabel('Epochs')\n",
    "ax1.set_ylabel('Accuracy')\n",
    "ax1.plot(epochs, acc, 'bo', label='Training acc')\n",
    "ax1.plot(epochs, val_acc, 'b', label='Validation acc')\n",
    "ax1.legend()\n",
    "ax1.title.set_text('Training and validation accuracy')\n",
    "\n",
    "ax2 = f.add_subplot(122)\n",
    "ax2.title.set_text('Generated Synthetic Graph')\n",
    "ax2.set_xlabel('Epochs')\n",
    "ax2.set_ylabel('Loss')\n",
    "ax2.plot(epochs, loss, 'bo', label='Training loss')\n",
    "ax2.plot(epochs, val_loss, 'b', label='Validation loss')\n",
    "ax2.legend()\n",
    "ax2.title.set_text('Training and validation loss')\n",
    "\n",
    "plt.show()"
   ]
  },
  {
   "cell_type": "markdown",
   "metadata": {},
   "source": [
    "### Evaluate Full classifier model"
   ]
  },
  {
   "cell_type": "raw",
   "metadata": {},
   "source": [
    "# Extract true labels\n",
    "ytest_true = np.argmax(y_test, axis=1)"
   ]
  },
  {
   "cell_type": "raw",
   "metadata": {},
   "source": [
    "accr = model.evaluate(X_test, y_test, batch_size=512)\n",
    "print('Test set\\n  Loss: {:0.4f}\\n  Accuracy: {:0.4f}'.format(accr[0],accr[1]))"
   ]
  },
  {
   "cell_type": "raw",
   "metadata": {
    "scrolled": true
   },
   "source": [
    "y_pred = model.predict_classes(X_test, batch_size=512, verbose=1)"
   ]
  },
  {
   "cell_type": "raw",
   "metadata": {
    "scrolled": true
   },
   "source": [
    "y_predscr = model.predict(X_test, batch_size=512, verbose=1)\n",
    "\n",
    "predpos = np.count_nonzero(y_predscr[:,1] > 0.5)\n",
    "pred_allpos = predpos / len(y_predscr)\n",
    "print('Percentage of Positives: {:0.4f}'.format(pred_allpos))"
   ]
  },
  {
   "cell_type": "raw",
   "metadata": {
    "scrolled": true
   },
   "source": [
    "from sklearn.metrics import precision_score, \\\n",
    "    recall_score, confusion_matrix, classification_report, \\\n",
    "    accuracy_score, f1_score\n",
    "\n",
    "print('Accuracy:', accuracy_score(ytest_true, y_pred))\n",
    "print('Recall:', recall_score(ytest_true, y_pred))\n",
    "print('Precision:', precision_score(ytest_true, y_pred))\n",
    "print('F1 score:', f1_score(ytest_true, y_pred))\n",
    "print('\\n clasification report:\\n', classification_report(ytest_true, y_pred))\n",
    "print('\\n confusion matrix:\\n',confusion_matrix(ytest_true, y_pred))\n",
    "\n",
    "tn, fp, fn, tp = confusion_matrix(ytest_true, y_pred).ravel()\n",
    "print(tn, fp, fn, tp)\n",
    "fpr = fp / (fp+tn)\n",
    "fpr"
   ]
  },
  {
   "cell_type": "raw",
   "metadata": {},
   "source": [
    "fp_fullclassifier = []    \n",
    "percentages = [0.1, 0.2, 0.3, 0.4, 0.5, 0.6, 0.7, 0.8, 0.9, 1.0]\n",
    "\n",
    "for percent in percentages:\n",
    "    tau_threshold = percent\n",
    "    ytau_pred = (y_predscr[:,0] < tau_threshold).astype(int)\n",
    "    tn_tmp, fp_tmp, fn_tmp, tp_tmp = confusion_matrix(ytest_true, ytau_pred).ravel()\n",
    "    tn_tmp, fp_tmp, fn_tmp, tp_tmp \n",
    "    fpr_tmp = fp_tmp / (fp_tmp+tn_tmp)\n",
    "    fp_fullclassifier.append(fpr_tmp)\n",
    "    \n",
    "fp_fullclassifier.insert(0,0)\n",
    "fp_fullclassifier"
   ]
  },
  {
   "cell_type": "code",
   "execution_count": null,
   "metadata": {},
   "outputs": [],
   "source": []
  },
  {
   "cell_type": "code",
   "execution_count": null,
   "metadata": {},
   "outputs": [],
   "source": []
  },
  {
   "cell_type": "code",
   "execution_count": null,
   "metadata": {},
   "outputs": [],
   "source": []
  },
  {
   "cell_type": "markdown",
   "metadata": {},
   "source": [
    "## Iterative classifier training"
   ]
  },
  {
   "cell_type": "raw",
   "metadata": {},
   "source": [
    "del iter_model\n",
    "# iter_model"
   ]
  },
  {
   "cell_type": "code",
   "execution_count": 23,
   "metadata": {},
   "outputs": [
    {
     "name": "stdout",
     "output_type": "stream",
     "text": [
      "_________________________________________________________________\n",
      "Layer (type)                 Output Shape              Param #   \n",
      "=================================================================\n",
      "embedding_2 (Embedding)      (None, 18, 512)           130048    \n",
      "_________________________________________________________________\n",
      "lstm_3 (LSTM)                (None, 18, 300)           975600    \n",
      "_________________________________________________________________\n",
      "lstm_4 (LSTM)                (None, 300)               721200    \n",
      "_________________________________________________________________\n",
      "dense_2 (Dense)              (None, 2)                 602       \n",
      "=================================================================\n",
      "Total params: 1,827,450\n",
      "Trainable params: 1,827,450\n",
      "Non-trainable params: 0\n",
      "_________________________________________________________________\n",
      "None\n"
     ]
    }
   ],
   "source": [
    "iter_model = Sequential()\n",
    "iter_model.add(Embedding(vocab_size[0] + 1, input_emb_dim, input_length=X_train.shape[1]))\n",
    "iter_model.add(LSTM(lstm_emb_dim, return_sequences=True)) # dropout=0.2, recurrent_dropout=0.2))\n",
    "iter_model.add(LSTM(lstm_emb_dim))\n",
    "# model.add(TimeDistributed(Dense(2, activation='sigmoid')))\n",
    "iter_model.add(Dense(2, activation='sigmoid'))\n",
    "iter_model.compile(optimizer=optimizers.adam(lr=0.005), \n",
    "              loss='binary_crossentropy', metrics=['acc']) #lr=0.005 config['MODELPARAMS']['LEARNING_RATE_P']\n",
    "\n",
    "print(iter_model.summary())"
   ]
  },
  {
   "cell_type": "code",
   "execution_count": 24,
   "metadata": {
    "scrolled": true
   },
   "outputs": [
    {
     "name": "stdout",
     "output_type": "stream",
     "text": [
      "Training for interval 0  \n",
      "WARNING:tensorflow:From /home/wesleyjtann/miniconda3/envs/ddos/lib/python3.7/site-packages/keras/backend/tensorflow_backend.py:986: The name tf.assign_add is deprecated. Please use tf.compat.v1.assign_add instead.\n",
      "\n",
      "Train on 2400 samples, validate on 600 samples\n",
      "Epoch 1/5\n",
      "2400/2400 [==============================] - 4s 1ms/step - loss: 0.7035 - acc: 0.6683 - val_loss: 0.6085 - val_acc: 0.6500\n",
      "Epoch 2/5\n",
      "2400/2400 [==============================] - 1s 343us/step - loss: 0.5689 - acc: 0.7183 - val_loss: 0.5562 - val_acc: 0.7342\n",
      "Epoch 3/5\n",
      "2400/2400 [==============================] - 1s 319us/step - loss: 0.5400 - acc: 0.7460 - val_loss: 0.5634 - val_acc: 0.7292\n",
      "Epoch 4/5\n",
      "2400/2400 [==============================] - 1s 334us/step - loss: 0.5368 - acc: 0.7617 - val_loss: 0.5657 - val_acc: 0.7275\n",
      "Epoch 5/5\n",
      "2400/2400 [==============================] - 1s 331us/step - loss: 0.5233 - acc: 0.7608 - val_loss: 0.5604 - val_acc: 0.7242\n",
      "3000/3000 [==============================] - 1s 230us/step\n",
      "3000\n",
      "1200\n",
      "Train on 1920 samples, validate on 480 samples\n",
      "Epoch 1/5\n",
      "1920/1920 [==============================] - 1s 353us/step - loss: 0.4635 - acc: 0.8039 - val_loss: 0.3924 - val_acc: 0.8333\n",
      "Epoch 2/5\n",
      "1920/1920 [==============================] - 1s 375us/step - loss: 0.3858 - acc: 0.8253 - val_loss: 0.4200 - val_acc: 0.8271\n",
      "Epoch 3/5\n",
      "1920/1920 [==============================] - 1s 348us/step - loss: 0.3552 - acc: 0.8411 - val_loss: 0.4191 - val_acc: 0.8135\n",
      "Epoch 4/5\n",
      "1920/1920 [==============================] - 1s 329us/step - loss: 0.3529 - acc: 0.8398 - val_loss: 0.4334 - val_acc: 0.8292\n",
      "Epoch 5/5\n",
      "1920/1920 [==============================] - 1s 343us/step - loss: 0.3242 - acc: 0.8646 - val_loss: 0.5080 - val_acc: 0.7719\n",
      "2400/2400 [==============================] - 0s 108us/step\n",
      "2400\n",
      "960\n",
      "Training for interval 1  \n",
      "Train on 2400 samples, validate on 600 samples\n",
      "Epoch 1/5\n",
      "2400/2400 [==============================] - 1s 355us/step - loss: 0.9149 - acc: 0.5790 - val_loss: 0.6311 - val_acc: 0.6500\n",
      "Epoch 2/5\n",
      "2400/2400 [==============================] - 1s 363us/step - loss: 0.6160 - acc: 0.6644 - val_loss: 0.6316 - val_acc: 0.6608\n",
      "Epoch 3/5\n",
      "2400/2400 [==============================] - 1s 355us/step - loss: 0.6000 - acc: 0.7075 - val_loss: 0.6105 - val_acc: 0.6933\n",
      "Epoch 4/5\n",
      "2400/2400 [==============================] - 1s 367us/step - loss: 0.5800 - acc: 0.7100 - val_loss: 0.6170 - val_acc: 0.6850\n",
      "Epoch 5/5\n",
      "2400/2400 [==============================] - 1s 374us/step - loss: 0.5678 - acc: 0.7246 - val_loss: 0.6175 - val_acc: 0.6783\n",
      "3000/3000 [==============================] - 0s 108us/step\n",
      "3000\n",
      "1200\n",
      "Train on 1920 samples, validate on 480 samples\n",
      "Epoch 1/5\n",
      "1920/1920 [==============================] - 1s 365us/step - loss: 0.5424 - acc: 0.7661 - val_loss: 0.4922 - val_acc: 0.7938\n",
      "Epoch 2/5\n",
      "1920/1920 [==============================] - 1s 360us/step - loss: 0.4586 - acc: 0.7964 - val_loss: 0.4155 - val_acc: 0.8115\n",
      "Epoch 3/5\n",
      "1920/1920 [==============================] - 1s 330us/step - loss: 0.3885 - acc: 0.8432 - val_loss: 0.4098 - val_acc: 0.8281\n",
      "Epoch 4/5\n",
      "1920/1920 [==============================] - 1s 308us/step - loss: 0.3639 - acc: 0.8573 - val_loss: 0.4016 - val_acc: 0.8365\n",
      "Epoch 5/5\n",
      "1920/1920 [==============================] - 1s 320us/step - loss: 0.3445 - acc: 0.8690 - val_loss: 0.4366 - val_acc: 0.8302\n",
      "2400/2400 [==============================] - 0s 112us/step\n",
      "2400\n",
      "960\n",
      "Training for interval 2  \n",
      "Train on 2400 samples, validate on 600 samples\n",
      "Epoch 1/5\n",
      "2400/2400 [==============================] - 1s 328us/step - loss: 1.0527 - acc: 0.5354 - val_loss: 0.6337 - val_acc: 0.6500\n",
      "Epoch 2/5\n",
      "2400/2400 [==============================] - 1s 345us/step - loss: 0.6198 - acc: 0.6746 - val_loss: 0.6170 - val_acc: 0.6575\n",
      "Epoch 3/5\n",
      "2400/2400 [==============================] - 1s 342us/step - loss: 0.5988 - acc: 0.6908 - val_loss: 0.6104 - val_acc: 0.6717\n",
      "Epoch 4/5\n",
      "2400/2400 [==============================] - 1s 350us/step - loss: 0.5774 - acc: 0.7063 - val_loss: 0.6086 - val_acc: 0.6817\n",
      "Epoch 5/5\n",
      "2400/2400 [==============================] - 1s 339us/step - loss: 0.5400 - acc: 0.7419 - val_loss: 0.6129 - val_acc: 0.7050\n",
      "3000/3000 [==============================] - 0s 98us/step\n",
      "3000\n",
      "1200\n",
      "Train on 1920 samples, validate on 480 samples\n",
      "Epoch 1/5\n",
      "1920/1920 [==============================] - 1s 329us/step - loss: 0.5237 - acc: 0.7633 - val_loss: 0.4317 - val_acc: 0.8146\n",
      "Epoch 2/5\n",
      "1920/1920 [==============================] - 1s 316us/step - loss: 0.4247 - acc: 0.8148 - val_loss: 0.3932 - val_acc: 0.8354\n",
      "Epoch 3/5\n",
      "1920/1920 [==============================] - 1s 371us/step - loss: 0.3819 - acc: 0.8385 - val_loss: 0.4010 - val_acc: 0.8135\n",
      "Epoch 4/5\n",
      "1920/1920 [==============================] - 1s 379us/step - loss: 0.3570 - acc: 0.8510 - val_loss: 0.4247 - val_acc: 0.8125\n",
      "Epoch 5/5\n",
      "1920/1920 [==============================] - 1s 377us/step - loss: 0.3419 - acc: 0.8630 - val_loss: 0.4526 - val_acc: 0.8000\n",
      "2400/2400 [==============================] - 0s 117us/step\n",
      "2400\n",
      "960\n",
      "Training for interval 3  \n",
      "Train on 2400 samples, validate on 600 samples\n",
      "Epoch 1/5\n",
      "2400/2400 [==============================] - 1s 360us/step - loss: 1.0740 - acc: 0.5729 - val_loss: 0.5809 - val_acc: 0.7000\n",
      "Epoch 2/5\n",
      "2400/2400 [==============================] - 1s 351us/step - loss: 0.5717 - acc: 0.7133 - val_loss: 0.5514 - val_acc: 0.7267\n",
      "Epoch 3/5\n",
      "2400/2400 [==============================] - 1s 333us/step - loss: 0.5495 - acc: 0.7340 - val_loss: 0.5479 - val_acc: 0.7308\n",
      "Epoch 4/5\n",
      "2400/2400 [==============================] - 1s 318us/step - loss: 0.5368 - acc: 0.7435 - val_loss: 0.5440 - val_acc: 0.7392\n",
      "Epoch 5/5\n",
      "2400/2400 [==============================] - 1s 335us/step - loss: 0.5293 - acc: 0.7527 - val_loss: 0.5382 - val_acc: 0.7417\n",
      "3000/3000 [==============================] - 0s 98us/step\n",
      "3000\n",
      "1200\n",
      "Train on 1920 samples, validate on 480 samples\n",
      "Epoch 1/5\n",
      "1920/1920 [==============================] - 1s 332us/step - loss: 0.4971 - acc: 0.7831 - val_loss: 0.3885 - val_acc: 0.8427\n",
      "Epoch 2/5\n",
      "1920/1920 [==============================] - 1s 337us/step - loss: 0.3847 - acc: 0.8339 - val_loss: 0.3645 - val_acc: 0.8437\n",
      "Epoch 3/5\n",
      "1920/1920 [==============================] - 1s 315us/step - loss: 0.3476 - acc: 0.8521 - val_loss: 0.3453 - val_acc: 0.8615\n",
      "Epoch 4/5\n",
      "1920/1920 [==============================] - 1s 293us/step - loss: 0.3198 - acc: 0.8721 - val_loss: 0.3646 - val_acc: 0.8552\n",
      "Epoch 5/5\n",
      "1920/1920 [==============================] - 1s 337us/step - loss: 0.3020 - acc: 0.8766 - val_loss: 0.3891 - val_acc: 0.8500\n",
      "2400/2400 [==============================] - 0s 106us/step\n",
      "2400\n",
      "960\n",
      "Training for interval 4  \n",
      "Train on 2400 samples, validate on 600 samples\n",
      "Epoch 1/5\n",
      "2400/2400 [==============================] - 1s 327us/step - loss: 1.5018 - acc: 0.4704 - val_loss: 0.6350 - val_acc: 0.6292\n",
      "Epoch 2/5\n",
      "2400/2400 [==============================] - 1s 327us/step - loss: 0.5962 - acc: 0.6819 - val_loss: 0.5951 - val_acc: 0.6867\n",
      "Epoch 3/5\n",
      "2400/2400 [==============================] - 1s 389us/step - loss: 0.5653 - acc: 0.7275 - val_loss: 0.5879 - val_acc: 0.6917\n",
      "Epoch 4/5\n",
      "2400/2400 [==============================] - 1s 369us/step - loss: 0.5482 - acc: 0.7308 - val_loss: 0.5795 - val_acc: 0.6992\n",
      "Epoch 5/5\n",
      "2400/2400 [==============================] - 1s 385us/step - loss: 0.5261 - acc: 0.7550 - val_loss: 0.5915 - val_acc: 0.7083\n",
      "3000/3000 [==============================] - 0s 97us/step\n",
      "3000\n",
      "1200\n",
      "Train on 1920 samples, validate on 480 samples\n",
      "Epoch 1/5\n",
      "1920/1920 [==============================] - 1s 392us/step - loss: 0.4542 - acc: 0.8190 - val_loss: 0.3730 - val_acc: 0.8531\n",
      "Epoch 2/5\n",
      "1920/1920 [==============================] - 1s 364us/step - loss: 0.3518 - acc: 0.8609 - val_loss: 0.3493 - val_acc: 0.8615\n",
      "Epoch 3/5\n",
      "1920/1920 [==============================] - 1s 348us/step - loss: 0.3113 - acc: 0.8740 - val_loss: 0.3423 - val_acc: 0.8635\n",
      "Epoch 4/5\n",
      "1920/1920 [==============================] - 1s 378us/step - loss: 0.3033 - acc: 0.8818 - val_loss: 0.3339 - val_acc: 0.8792\n",
      "Epoch 5/5\n",
      "1920/1920 [==============================] - 1s 344us/step - loss: 0.2779 - acc: 0.8953 - val_loss: 0.3343 - val_acc: 0.8708\n"
     ]
    },
    {
     "name": "stdout",
     "output_type": "stream",
     "text": [
      "2400/2400 [==============================] - 0s 120us/step\n",
      "2400\n",
      "960\n",
      "Training for interval 5  \n",
      "Train on 2400 samples, validate on 600 samples\n",
      "Epoch 1/5\n",
      "2400/2400 [==============================] - 1s 347us/step - loss: 1.1219 - acc: 0.5877 - val_loss: 0.6432 - val_acc: 0.6692\n",
      "Epoch 2/5\n",
      "2400/2400 [==============================] - 1s 339us/step - loss: 0.6206 - acc: 0.6781 - val_loss: 0.6381 - val_acc: 0.6617\n",
      "Epoch 3/5\n",
      "2400/2400 [==============================] - 1s 330us/step - loss: 0.6096 - acc: 0.6906 - val_loss: 0.6355 - val_acc: 0.6658\n",
      "Epoch 4/5\n",
      "2400/2400 [==============================] - 1s 341us/step - loss: 0.6003 - acc: 0.7160 - val_loss: 0.6311 - val_acc: 0.6633\n",
      "Epoch 5/5\n",
      "2400/2400 [==============================] - 1s 350us/step - loss: 0.5911 - acc: 0.7156 - val_loss: 0.6362 - val_acc: 0.6583\n",
      "3000/3000 [==============================] - 0s 102us/step\n",
      "3000\n",
      "1200\n",
      "Train on 1920 samples, validate on 480 samples\n",
      "Epoch 1/5\n",
      "1920/1920 [==============================] - 1s 331us/step - loss: 0.6375 - acc: 0.6078 - val_loss: 0.6103 - val_acc: 0.6125\n",
      "Epoch 2/5\n",
      "1920/1920 [==============================] - 1s 333us/step - loss: 0.5868 - acc: 0.6604 - val_loss: 0.5438 - val_acc: 0.7146\n",
      "Epoch 3/5\n",
      "1920/1920 [==============================] - 1s 353us/step - loss: 0.5342 - acc: 0.7323 - val_loss: 0.5038 - val_acc: 0.8083\n",
      "Epoch 4/5\n",
      "1920/1920 [==============================] - 1s 342us/step - loss: 0.4655 - acc: 0.8034 - val_loss: 0.4860 - val_acc: 0.7573\n",
      "Epoch 5/5\n",
      "1920/1920 [==============================] - 1s 345us/step - loss: 0.4228 - acc: 0.8180 - val_loss: 0.4416 - val_acc: 0.7990\n",
      "2400/2400 [==============================] - 0s 122us/step\n",
      "2400\n",
      "960\n",
      "Training for interval 6  \n",
      "Train on 2400 samples, validate on 600 samples\n",
      "Epoch 1/5\n",
      "2400/2400 [==============================] - 1s 357us/step - loss: 1.0869 - acc: 0.5125 - val_loss: 0.6214 - val_acc: 0.6508\n",
      "Epoch 2/5\n",
      "2400/2400 [==============================] - 1s 366us/step - loss: 0.5864 - acc: 0.6977 - val_loss: 0.5772 - val_acc: 0.6875\n",
      "Epoch 3/5\n",
      "2400/2400 [==============================] - 1s 345us/step - loss: 0.5598 - acc: 0.7206 - val_loss: 0.5606 - val_acc: 0.7192\n",
      "Epoch 4/5\n",
      "2400/2400 [==============================] - 1s 371us/step - loss: 0.5498 - acc: 0.7308 - val_loss: 0.5644 - val_acc: 0.7117\n",
      "Epoch 5/5\n",
      "2400/2400 [==============================] - 1s 364us/step - loss: 0.5389 - acc: 0.7529 - val_loss: 0.5486 - val_acc: 0.7275\n",
      "3000/3000 [==============================] - 0s 100us/step\n",
      "3000\n",
      "1200\n",
      "Train on 1920 samples, validate on 480 samples\n",
      "Epoch 1/5\n",
      "1920/1920 [==============================] - 1s 341us/step - loss: 0.4993 - acc: 0.7951 - val_loss: 0.4053 - val_acc: 0.8583\n",
      "Epoch 2/5\n",
      "1920/1920 [==============================] - 1s 339us/step - loss: 0.4046 - acc: 0.8409 - val_loss: 0.3556 - val_acc: 0.8740\n",
      "Epoch 3/5\n",
      "1920/1920 [==============================] - 1s 345us/step - loss: 0.3774 - acc: 0.8445 - val_loss: 0.3475 - val_acc: 0.8615\n",
      "Epoch 4/5\n",
      "1920/1920 [==============================] - 1s 335us/step - loss: 0.3590 - acc: 0.8458 - val_loss: 0.3493 - val_acc: 0.8562\n",
      "Epoch 5/5\n",
      "1920/1920 [==============================] - 1s 330us/step - loss: 0.3459 - acc: 0.8570 - val_loss: 0.3497 - val_acc: 0.8573\n",
      "2400/2400 [==============================] - 0s 112us/step\n",
      "2400\n",
      "960\n",
      "Training for interval 7  \n",
      "Train on 2400 samples, validate on 600 samples\n",
      "Epoch 1/5\n",
      "2400/2400 [==============================] - 1s 358us/step - loss: 1.4008 - acc: 0.4873 - val_loss: 0.8468 - val_acc: 0.6500\n",
      "Epoch 2/5\n",
      "2400/2400 [==============================] - 1s 357us/step - loss: 0.6929 - acc: 0.6700 - val_loss: 0.6591 - val_acc: 0.6500\n",
      "Epoch 3/5\n",
      "2400/2400 [==============================] - 1s 359us/step - loss: 0.6345 - acc: 0.6721 - val_loss: 0.6435 - val_acc: 0.6500\n",
      "Epoch 4/5\n",
      "2400/2400 [==============================] - 1s 328us/step - loss: 0.6109 - acc: 0.6708 - val_loss: 0.6241 - val_acc: 0.6483\n",
      "Epoch 5/5\n",
      "2400/2400 [==============================] - 1s 373us/step - loss: 0.5983 - acc: 0.6725 - val_loss: 0.6126 - val_acc: 0.6458\n",
      "3000/3000 [==============================] - 0s 108us/step\n",
      "3000\n",
      "1200\n",
      "Train on 1920 samples, validate on 480 samples\n",
      "Epoch 1/5\n",
      "1920/1920 [==============================] - 1s 379us/step - loss: 0.5900 - acc: 0.7208 - val_loss: 0.5244 - val_acc: 0.8198\n",
      "Epoch 2/5\n",
      "1920/1920 [==============================] - 1s 328us/step - loss: 0.4503 - acc: 0.8643 - val_loss: 0.3882 - val_acc: 0.8771\n",
      "Epoch 3/5\n",
      "1920/1920 [==============================] - 1s 351us/step - loss: 0.3589 - acc: 0.8701 - val_loss: 0.3562 - val_acc: 0.8635\n",
      "Epoch 4/5\n",
      "1920/1920 [==============================] - 1s 346us/step - loss: 0.3200 - acc: 0.8766 - val_loss: 0.3479 - val_acc: 0.8677\n",
      "Epoch 5/5\n",
      "1920/1920 [==============================] - 1s 362us/step - loss: 0.3066 - acc: 0.8857 - val_loss: 0.3314 - val_acc: 0.8708\n",
      "2400/2400 [==============================] - 0s 109us/step\n",
      "2400\n",
      "960\n",
      "Training for interval 8  \n",
      "Train on 2400 samples, validate on 600 samples\n",
      "Epoch 1/5\n",
      "2400/2400 [==============================] - 1s 361us/step - loss: 1.2052 - acc: 0.5581 - val_loss: 0.7199 - val_acc: 0.6492\n",
      "Epoch 2/5\n",
      "2400/2400 [==============================] - 1s 332us/step - loss: 0.6465 - acc: 0.6733 - val_loss: 0.6468 - val_acc: 0.6525\n",
      "Epoch 3/5\n",
      "2400/2400 [==============================] - 1s 339us/step - loss: 0.6077 - acc: 0.6858 - val_loss: 0.6397 - val_acc: 0.6550\n",
      "Epoch 4/5\n",
      "2400/2400 [==============================] - 1s 351us/step - loss: 0.5975 - acc: 0.7088 - val_loss: 0.6320 - val_acc: 0.6625\n",
      "Epoch 5/5\n",
      "2400/2400 [==============================] - 1s 352us/step - loss: 0.5830 - acc: 0.7167 - val_loss: 0.6175 - val_acc: 0.6625\n",
      "3000/3000 [==============================] - 0s 100us/step\n",
      "3000\n",
      "1200\n",
      "Train on 1920 samples, validate on 480 samples\n",
      "Epoch 1/5\n",
      "1920/1920 [==============================] - 1s 364us/step - loss: 0.5946 - acc: 0.7086 - val_loss: 0.5447 - val_acc: 0.7948\n",
      "Epoch 2/5\n",
      "1920/1920 [==============================] - 1s 343us/step - loss: 0.5061 - acc: 0.8302 - val_loss: 0.4731 - val_acc: 0.8240\n",
      "Epoch 3/5\n",
      "1920/1920 [==============================] - 1s 364us/step - loss: 0.4357 - acc: 0.8508 - val_loss: 0.5153 - val_acc: 0.6781\n",
      "Epoch 4/5\n",
      "1920/1920 [==============================] - 1s 397us/step - loss: 0.4219 - acc: 0.8112 - val_loss: 0.4189 - val_acc: 0.8312\n",
      "Epoch 5/5\n",
      "1920/1920 [==============================] - 1s 330us/step - loss: 0.3632 - acc: 0.8565 - val_loss: 0.4012 - val_acc: 0.8313\n",
      "2400/2400 [==============================] - 0s 107us/step\n",
      "2400\n",
      "960\n",
      "Training for interval 9  \n",
      "Train on 2400 samples, validate on 600 samples\n",
      "Epoch 1/5\n",
      "2400/2400 [==============================] - 1s 330us/step - loss: 1.2632 - acc: 0.4729 - val_loss: 0.8501 - val_acc: 0.6500\n",
      "Epoch 2/5\n",
      "2400/2400 [==============================] - 1s 356us/step - loss: 0.6764 - acc: 0.6708 - val_loss: 0.5936 - val_acc: 0.6492\n",
      "Epoch 3/5\n",
      "2400/2400 [==============================] - 1s 335us/step - loss: 0.5964 - acc: 0.6715 - val_loss: 0.5763 - val_acc: 0.6500\n",
      "Epoch 4/5\n",
      "2400/2400 [==============================] - 1s 321us/step - loss: 0.5831 - acc: 0.6708 - val_loss: 0.5483 - val_acc: 0.7267\n",
      "Epoch 5/5\n",
      "2400/2400 [==============================] - 1s 351us/step - loss: 0.5653 - acc: 0.7210 - val_loss: 0.5475 - val_acc: 0.6975\n",
      "3000/3000 [==============================] - 0s 101us/step\n",
      "3000\n",
      "1200\n",
      "Train on 1920 samples, validate on 480 samples\n",
      "Epoch 1/5\n",
      "1920/1920 [==============================] - 1s 319us/step - loss: 0.5037 - acc: 0.7820 - val_loss: 0.4456 - val_acc: 0.8313\n",
      "Epoch 2/5\n",
      "1920/1920 [==============================] - 1s 307us/step - loss: 0.4130 - acc: 0.8682 - val_loss: 0.3976 - val_acc: 0.8812\n",
      "Epoch 3/5\n",
      "1920/1920 [==============================] - 1s 329us/step - loss: 0.3821 - acc: 0.8859 - val_loss: 0.3727 - val_acc: 0.8771\n",
      "Epoch 4/5\n",
      "1920/1920 [==============================] - 1s 343us/step - loss: 0.3558 - acc: 0.8805 - val_loss: 0.3504 - val_acc: 0.8812\n",
      "Epoch 5/5\n",
      "1920/1920 [==============================] - 1s 356us/step - loss: 0.3367 - acc: 0.8898 - val_loss: 0.3313 - val_acc: 0.8896\n",
      "2400/2400 [==============================] - 0s 112us/step\n",
      "2400\n",
      "960\n",
      "Training for interval 10  \n",
      "Train on 2400 samples, validate on 600 samples\n",
      "Epoch 1/5\n"
     ]
    },
    {
     "name": "stdout",
     "output_type": "stream",
     "text": [
      "2400/2400 [==============================] - 1s 363us/step - loss: 1.2728 - acc: 0.4396 - val_loss: 0.9555 - val_acc: 0.6500\n",
      "Epoch 2/5\n",
      "2400/2400 [==============================] - 1s 349us/step - loss: 0.8317 - acc: 0.6708 - val_loss: 0.6836 - val_acc: 0.6500\n",
      "Epoch 3/5\n",
      "2400/2400 [==============================] - 1s 362us/step - loss: 0.6891 - acc: 0.6392 - val_loss: 0.6564 - val_acc: 0.6500\n",
      "Epoch 4/5\n",
      "2400/2400 [==============================] - 1s 401us/step - loss: 0.6459 - acc: 0.6708 - val_loss: 0.6571 - val_acc: 0.6500\n",
      "Epoch 5/5\n",
      "2400/2400 [==============================] - 1s 382us/step - loss: 0.6306 - acc: 0.6708 - val_loss: 0.6385 - val_acc: 0.6500\n",
      "3000/3000 [==============================] - 0s 97us/step\n",
      "3000\n",
      "1200\n",
      "Train on 1920 samples, validate on 480 samples\n",
      "Epoch 1/5\n",
      "1920/1920 [==============================] - 1s 340us/step - loss: 0.6507 - acc: 0.6531 - val_loss: 0.6110 - val_acc: 0.6417\n",
      "Epoch 2/5\n",
      "1920/1920 [==============================] - 1s 329us/step - loss: 0.5975 - acc: 0.6937 - val_loss: 0.5654 - val_acc: 0.8292\n",
      "Epoch 3/5\n",
      "1920/1920 [==============================] - 1s 370us/step - loss: 0.5493 - acc: 0.8255 - val_loss: 0.5301 - val_acc: 0.8292\n",
      "Epoch 4/5\n",
      "1920/1920 [==============================] - 1s 319us/step - loss: 0.4969 - acc: 0.8349 - val_loss: 0.4708 - val_acc: 0.8344\n",
      "Epoch 5/5\n",
      "1920/1920 [==============================] - 1s 358us/step - loss: 0.4463 - acc: 0.8401 - val_loss: 0.4370 - val_acc: 0.8292\n",
      "2400/2400 [==============================] - 0s 97us/step\n",
      "2400\n",
      "960\n",
      "Training for interval 11  \n",
      "Train on 2400 samples, validate on 600 samples\n",
      "Epoch 1/5\n",
      "2400/2400 [==============================] - 1s 333us/step - loss: 0.8021 - acc: 0.5794 - val_loss: 0.7908 - val_acc: 0.6500\n",
      "Epoch 2/5\n",
      "2400/2400 [==============================] - 1s 339us/step - loss: 0.6545 - acc: 0.6802 - val_loss: 0.6639 - val_acc: 0.6333\n",
      "Epoch 3/5\n",
      "2400/2400 [==============================] - 1s 354us/step - loss: 0.6200 - acc: 0.6910 - val_loss: 0.6481 - val_acc: 0.6592\n",
      "Epoch 4/5\n",
      "2400/2400 [==============================] - 1s 360us/step - loss: 0.6035 - acc: 0.7121 - val_loss: 0.6458 - val_acc: 0.6575\n",
      "Epoch 5/5\n",
      "2400/2400 [==============================] - 1s 368us/step - loss: 0.6002 - acc: 0.7150 - val_loss: 0.6445 - val_acc: 0.6583\n",
      "3000/3000 [==============================] - 0s 106us/step\n",
      "3000\n",
      "1200\n",
      "Train on 1920 samples, validate on 480 samples\n",
      "Epoch 1/5\n",
      "1920/1920 [==============================] - 1s 343us/step - loss: 0.6572 - acc: 0.6307 - val_loss: 0.5963 - val_acc: 0.7052\n",
      "Epoch 2/5\n",
      "1920/1920 [==============================] - 1s 315us/step - loss: 0.6132 - acc: 0.5893 - val_loss: 0.5784 - val_acc: 0.7135\n",
      "Epoch 3/5\n",
      "1920/1920 [==============================] - 1s 353us/step - loss: 0.5919 - acc: 0.7005 - val_loss: 0.5738 - val_acc: 0.7177\n",
      "Epoch 4/5\n",
      "1920/1920 [==============================] - 1s 353us/step - loss: 0.5774 - acc: 0.6990 - val_loss: 0.5624 - val_acc: 0.7260\n",
      "Epoch 5/5\n",
      "1920/1920 [==============================] - 1s 362us/step - loss: 0.5717 - acc: 0.7133 - val_loss: 0.5623 - val_acc: 0.7073\n",
      "2400/2400 [==============================] - 0s 109us/step\n",
      "2400\n",
      "960\n"
     ]
    }
   ],
   "source": [
    "keep_thres = 0.4 #0.2 # must be <=0.5\n",
    "count = 0\n",
    "\n",
    "#Number of iterations per interval. If want can change to array maybe?\n",
    "iterations = 5 #1 #2 #\n",
    "\n",
    "for (X_train, y_train) in xtrainytrain_arr :\n",
    "    print(\"Training for interval\", count, \" \")\n",
    "    for _ in range(2):\n",
    "        iter_model.fit(X_train, y_train, epochs=iterations, #10, \n",
    "                          batch_size=config['TRAININGPARAMS']['ONLINE_BATCH_SIZE'], validation_split=0.2, \n",
    "                          callbacks=[EarlyStopping(monitor='val_loss', patience=7, \n",
    "                                               mode='auto', min_delta=0.0002)]) #\n",
    "\n",
    "        y_predscr = iter_model.predict(X_train, batch_size=config['TRAININGPARAMS']['BATCH_SIZE'], verbose=1)\n",
    "    \n",
    "        # Sorting y_predscr and X_train\n",
    "        sorting = np.argsort(-1*y_predscr[:, 1]) # add (-1*) to argsort the second column in descending order \n",
    "        ypred_sorted = y_predscr[sorting] \n",
    "        Xtrain_sorted = X_train[sorting]\n",
    "    \n",
    "        # reduce Xtrain_sorted and ypred_sorted to keep_num size\n",
    "        print(len(y_predscr))\n",
    "        keep_num = int(len(y_predscr)*keep_thres)\n",
    "        print(keep_num)\n",
    "        Xtrain_atk = Xtrain_sorted[:keep_num,:]\n",
    "        ytrain_atk = np.vstack((np.zeros(keep_num), np.ones(keep_num))).T #.shape\n",
    "    \n",
    "        # randomly choose from X_norm to create new training set\n",
    "        Xtrain_norm = X_norm[np.random.choice(X_norm.shape[0], size=keep_num, replace=False), :]\n",
    "        X_train = np.concatenate((Xtrain_atk,Xtrain_norm), axis=0)\n",
    "        y_train = np.concatenate((ytrain_atk,y_norm[:len(Xtrain_norm)]), axis=0)\n",
    "    \n",
    "        # Shuffle new training set\n",
    "        shuffler = np.random.permutation(len(X_train))\n",
    "        X_train = X_train[shuffler]\n",
    "        y_train = y_train[shuffler]\n",
    "    \n",
    "    count = count + 1"
   ]
  },
  {
   "cell_type": "code",
   "execution_count": 25,
   "metadata": {},
   "outputs": [
    {
     "data": {
      "text/plain": [
       "(1920, 18)"
      ]
     },
     "execution_count": 25,
     "metadata": {},
     "output_type": "execute_result"
    }
   ],
   "source": [
    "X_train.shape"
   ]
  },
  {
   "cell_type": "raw",
   "metadata": {},
   "source": [
    "y_train.shape"
   ]
  },
  {
   "cell_type": "raw",
   "metadata": {},
   "source": [
    "keep_num = int(len(y_predscr)*keep_thres)\n",
    "# y_predscr[:keep_num,1]"
   ]
  },
  {
   "cell_type": "raw",
   "metadata": {},
   "source": [
    "sorting = np.argsort(-1*y_predscr[:, 1]) # add (-1*) to argsort the second column in descending order \n",
    "ypred_sorted = y_predscr[sorting] #[:10]\n",
    "ypred_sorted"
   ]
  },
  {
   "cell_type": "raw",
   "metadata": {},
   "source": [
    "Xtrain_sorted = X_train[sorting]"
   ]
  },
  {
   "cell_type": "raw",
   "metadata": {},
   "source": [
    "ypred_sorted[:keep_num,:].shape"
   ]
  },
  {
   "cell_type": "raw",
   "metadata": {},
   "source": [
    "y_train = np.vstack((np.zeros(keep_num), np.ones(keep_num))).T#.shape"
   ]
  },
  {
   "cell_type": "raw",
   "metadata": {},
   "source": [
    "Xtrain_norm = X_norm[np.random.choice(X_norm.shape[0], size=keep_num, replace=False), :]\n",
    "X_train = np.concatenate((Xtrain_atk,Xtrain_norm), axis=0)\n",
    "X_train[:6]"
   ]
  },
  {
   "cell_type": "raw",
   "metadata": {},
   "source": [
    "y_train = np.concatenate((ytrain_atk,y_norm[:len(Xtrain_norm)]), axis=0)\n",
    "y_train[:9]"
   ]
  },
  {
   "cell_type": "raw",
   "metadata": {},
   "source": [
    "shuffler = np.random.permutation(len(X_train))\n",
    "X_train_shuffled = X_train[shuffler]\n",
    "X_train_shuffled\n",
    "y_train_shuffled = y_train[shuffler]\n",
    "y_train_shuffled"
   ]
  },
  {
   "cell_type": "markdown",
   "metadata": {},
   "source": [
    "### Evaluate Iterative classifier model"
   ]
  },
  {
   "cell_type": "code",
   "execution_count": 26,
   "metadata": {},
   "outputs": [],
   "source": [
    "# Extract true labels\n",
    "ytest_true = np.argmax(y_test, axis=1)"
   ]
  },
  {
   "cell_type": "code",
   "execution_count": 27,
   "metadata": {},
   "outputs": [
    {
     "name": "stdout",
     "output_type": "stream",
     "text": [
      "12996/12996 [==============================] - 1s 54us/step\n",
      "Test set\n",
      "  Loss: 0.7401\n",
      "  Accuracy: 0.6489\n"
     ]
    }
   ],
   "source": [
    "accr = iter_model.evaluate(X_test, y_test, batch_size=512)\n",
    "print('Test set\\n  Loss: {:0.4f}\\n  Accuracy: {:0.4f}'.format(accr[0],accr[1]))"
   ]
  },
  {
   "cell_type": "code",
   "execution_count": 28,
   "metadata": {
    "scrolled": true
   },
   "outputs": [
    {
     "name": "stdout",
     "output_type": "stream",
     "text": [
      "12996/12996 [==============================] - 1s 54us/step\n"
     ]
    }
   ],
   "source": [
    "y_pred = iter_model.predict_classes(X_test, batch_size=512, verbose=1)"
   ]
  },
  {
   "cell_type": "code",
   "execution_count": 29,
   "metadata": {
    "scrolled": true
   },
   "outputs": [
    {
     "name": "stdout",
     "output_type": "stream",
     "text": [
      "12996/12996 [==============================] - 1s 50us/step\n",
      "Percentage of Positives: 0.6495\n"
     ]
    }
   ],
   "source": [
    "y_predscr = iter_model.predict(X_test, batch_size=512, verbose=1)\n",
    "\n",
    "predpos = np.count_nonzero(y_predscr[:,1] > 0.5)\n",
    "pred_allpos = predpos / len(y_predscr)\n",
    "print('Percentage of Positives: {:0.4f}'.format(pred_allpos))"
   ]
  },
  {
   "cell_type": "code",
   "execution_count": 30,
   "metadata": {
    "scrolled": false
   },
   "outputs": [
    {
     "name": "stdout",
     "output_type": "stream",
     "text": [
      "Accuracy: 0.6514312096029548\n",
      "Recall: 0.6846\n",
      "Precision: 0.8326441255169058\n",
      "F1 score: 0.7513994073098452\n",
      "\n",
      " clasification report:\n",
      "               precision    recall  f1-score   support\n",
      "\n",
      "           0       0.34      0.54      0.42      2996\n",
      "           1       0.83      0.68      0.75     10000\n",
      "\n",
      "    accuracy                           0.65     12996\n",
      "   macro avg       0.59      0.61      0.58     12996\n",
      "weighted avg       0.72      0.65      0.67     12996\n",
      "\n",
      "\n",
      " confusion matrix:\n",
      " [[1620 1376]\n",
      " [3154 6846]]\n",
      "1620 1376 3154 6846\n"
     ]
    },
    {
     "data": {
      "text/plain": [
       "0.45927903871829107"
      ]
     },
     "execution_count": 30,
     "metadata": {},
     "output_type": "execute_result"
    }
   ],
   "source": [
    "# lr = 0.005\n",
    "from sklearn.metrics import precision_score, \\\n",
    "    recall_score, confusion_matrix, classification_report, \\\n",
    "    accuracy_score, f1_score\n",
    "\n",
    "print('Accuracy:', accuracy_score(ytest_true, y_pred))\n",
    "print('Recall:', recall_score(ytest_true, y_pred))\n",
    "print('Precision:', precision_score(ytest_true, y_pred))\n",
    "print('F1 score:', f1_score(ytest_true, y_pred))\n",
    "print('\\n clasification report:\\n', classification_report(ytest_true, y_pred))\n",
    "print('\\n confusion matrix:\\n',confusion_matrix(ytest_true, y_pred))\n",
    "\n",
    "tn, fp, fn, tp = confusion_matrix(ytest_true, y_pred).ravel()\n",
    "print(tn, fp, fn, tp)\n",
    "fpr = fp / (fp+tn)\n",
    "fpr"
   ]
  },
  {
   "cell_type": "raw",
   "metadata": {},
   "source": [
    "# Iterative classifier\n",
    "Accuracy: 0.8177498467198038\n",
    "Recall: 0.6496014714898835\n",
    "Precision: 0.9787528868360277\n",
    "F1 score: 0.7809102634973282\n",
    "\n",
    " clasification report:\n",
    "               precision    recall  f1-score   support\n",
    "\n",
    "           0       0.74      0.99      0.84      3262\n",
    "           1       0.98      0.65      0.78      3262\n",
    "\n",
    "    accuracy                           0.82      6524\n",
    "   macro avg       0.86      0.82      0.81      6524\n",
    "weighted avg       0.86      0.82      0.81      6524\n",
    "\n",
    "\n",
    " confusion matrix:\n",
    " [[3216   46]\n",
    " [1143 2119]]\n",
    "3216 46 1143 2119\n",
    "\n",
    "0.014101778050275904"
   ]
  },
  {
   "cell_type": "code",
   "execution_count": 31,
   "metadata": {},
   "outputs": [
    {
     "data": {
      "text/plain": [
       "[0,\n",
       " 0.0,\n",
       " 0.0,\n",
       " 0.0,\n",
       " 0.32376502002670227,\n",
       " 0.4506008010680908,\n",
       " 0.5200267022696929,\n",
       " 0.5580774365821095,\n",
       " 0.6772363150867824,\n",
       " 1.0,\n",
       " 1.0]"
      ]
     },
     "execution_count": 31,
     "metadata": {},
     "output_type": "execute_result"
    }
   ],
   "source": [
    "fp_classifier = []    \n",
    "percentages = [0.1, 0.2, 0.3, 0.4, 0.5, 0.6, 0.7, 0.8, 0.9, 1.0]\n",
    "\n",
    "for percent in percentages:\n",
    "    tau_threshold = percent\n",
    "    ytau_pred = (y_predscr[:,0] < tau_threshold).astype(int)\n",
    "    tn_tmp, fp_tmp, fn_tmp, tp_tmp = confusion_matrix(ytest_true, ytau_pred).ravel()\n",
    "    tn_tmp, fp_tmp, fn_tmp, tp_tmp \n",
    "    fpr_tmp = fp_tmp / (fp_tmp+tn_tmp)\n",
    "    fp_classifier.append(fpr_tmp)\n",
    "    \n",
    "fp_classifier.insert(0,0)\n",
    "fp_classifier"
   ]
  },
  {
   "cell_type": "code",
   "execution_count": 32,
   "metadata": {},
   "outputs": [
    {
     "data": {
      "text/plain": [
       "[0, 0.0, 0.1185, 0.1779, 0.2247, 0.2967, 0.6559, 1.0, 1.0, 1.0, 1.0]"
      ]
     },
     "execution_count": 32,
     "metadata": {},
     "output_type": "execute_result"
    }
   ],
   "source": [
    "# False negative rate: FNR=1−TPR or FNR=FN/(TP+FN) \n",
    "fn_classifier = []    \n",
    "percentages = [0.1, 0.2, 0.3, 0.4, 0.5, 0.6, 0.7, 0.8, 0.9, 1.0]\n",
    "\n",
    "for percent in percentages:\n",
    "    tau_threshold = percent\n",
    "#     ytau_pred = (y_predscr[:,0] < (1-tau_threshold)).astype(int)\n",
    "    ytau_pred = (y_predscr[:,1] > tau_threshold).astype(int)\n",
    "    tn_tmp, fp_tmp, fn_tmp, tp_tmp = confusion_matrix(ytest_true, ytau_pred).ravel()\n",
    "#     print(tn_tmp, fp_tmp, fn_tmp, tp_tmp )\n",
    "    fpr_tmp = fp_tmp / (fp_tmp+tn_tmp)\n",
    "\n",
    "#     fnr_tmp = 1 - fpr_tmp\n",
    "    fnr_tmp = fn_tmp / (tp_tmp+fn_tmp)\n",
    "    fn_classifier.append(fnr_tmp)\n",
    "    \n",
    "fn_classifier.insert(0,0)\n",
    "fn_classifier"
   ]
  },
  {
   "cell_type": "code",
   "execution_count": 33,
   "metadata": {},
   "outputs": [
    {
     "name": "stdout",
     "output_type": "stream",
     "text": [
      "12996\n"
     ]
    },
    {
     "data": {
      "image/png": "[encoded data removed]",
      "text/plain": [
       "<Figure size 504x360 with 1 Axes>"
      ]
     },
     "metadata": {
      "needs_background": "light"
     },
     "output_type": "display_data"
    }
   ],
   "source": [
    "import matplotlib.pyplot as plt\n",
    "\n",
    "scores = y_predscr[:,1] # classifier atk scores\n",
    "# def showscore(scores):\n",
    "fig = plt.figure(figsize=(7,5))\n",
    "print(len(scores))\n",
    "plt.hist(scores, bins = 10, alpha=0.5, label='Pred Scores') \n",
    "#     plt.hist(scoretype[scores][scoretype['Attack'] == 1], bins = 10, alpha=0.5, label='attacker')\n",
    "plt.legend(loc='upper left')\n",
    "plt.show()\n",
    "    \n",
    "# showscore(y_predscr) # P scores"
   ]
  },
  {
   "cell_type": "code",
   "execution_count": null,
   "metadata": {},
   "outputs": [],
   "source": []
  },
  {
   "cell_type": "code",
   "execution_count": null,
   "metadata": {},
   "outputs": [],
   "source": []
  },
  {
   "cell_type": "code",
   "execution_count": null,
   "metadata": {},
   "outputs": [],
   "source": []
  },
  {
   "cell_type": "code",
   "execution_count": null,
   "metadata": {},
   "outputs": [],
   "source": []
  },
  {
   "cell_type": "raw",
   "metadata": {},
   "source": [
    "# lr = 0.003\n",
    "\n",
    "Accuracy: 0.8068669527896996\n",
    "Recall: 0.6226241569589209\n",
    "Precision: 0.9859223300970874\n",
    "F1 score: 0.7632468996617813\n",
    "\n",
    " clasification report:\n",
    "               precision    recall  f1-score   support\n",
    "\n",
    "           0       0.72      0.99      0.84      3262\n",
    "           1       0.99      0.62      0.76      3262\n",
    "\n",
    "    accuracy                           0.81      6524\n",
    "   macro avg       0.86      0.81      0.80      6524\n",
    "weighted avg       0.86      0.81      0.80      6524\n",
    "\n",
    "\n",
    " confusion matrix:\n",
    " [[3233   29]\n",
    " [1231 2031]]\n",
    "3233 29 1231 2031\n",
    "\n",
    "0.008890251379521767"
   ]
  },
  {
   "cell_type": "raw",
   "metadata": {},
   "source": [
    "# lr = 0.0005\n",
    "Accuracy: 0.76931330472103\n",
    "Recall: 0.6489883507050889\n",
    "Precision: 0.8546628986677433\n",
    "F1 score: 0.7377591914967764\n",
    "\n",
    " clasification report:\n",
    "               precision    recall  f1-score   support\n",
    "\n",
    "           0       0.72      0.89      0.79      3262\n",
    "           1       0.85      0.65      0.74      3262\n",
    "\n",
    "    accuracy                           0.77      6524\n",
    "   macro avg       0.79      0.77      0.77      6524\n",
    "weighted avg       0.79      0.77      0.77      6524\n",
    "\n",
    "\n",
    " confusion matrix:\n",
    " [[2902  360]\n",
    " [1145 2117]]\n",
    "2902 360 1145 2117\n",
    "\n",
    "0.11036174126302882"
   ]
  },
  {
   "cell_type": "raw",
   "metadata": {},
   "source": [
    "# lr = 0.001\n",
    "Accuracy: 0.7967504598405886\n",
    "Recall: 0.6152667075413857\n",
    "Precision: 0.965832531280077\n",
    "F1 score: 0.751685393258427\n",
    "\n",
    " clasification report:\n",
    "               precision    recall  f1-score   support\n",
    "\n",
    "           0       0.72      0.98      0.83      3262\n",
    "           1       0.97      0.62      0.75      3262\n",
    "\n",
    "    accuracy                           0.80      6524\n",
    "   macro avg       0.84      0.80      0.79      6524\n",
    "weighted avg       0.84      0.80      0.79      6524\n",
    "\n",
    "\n",
    " confusion matrix:\n",
    " [[3191   71]\n",
    " [1255 2007]]\n",
    "3191 71 1255 2007\n",
    "\n",
    "0.021765787860208462"
   ]
  },
  {
   "cell_type": "raw",
   "metadata": {},
   "source": [
    "def perf_measure(y_actual, y_hat):\n",
    "    TP = 0\n",
    "    FP = 0\n",
    "    TN = 0\n",
    "    FN = 0\n",
    "\n",
    "    for i in range(len(y_hat)): \n",
    "        if y_actual[i]==y_hat[i]==1:\n",
    "            TP += 1\n",
    "        if y_hat[i]==1 and y_actual[i]!=y_hat[i]:\n",
    "            FP += 1\n",
    "        if y_actual[i]==y_hat[i]==0:\n",
    "            TN += 1\n",
    "        if y_hat[i]==0 and y_actual[i]!=y_hat[i]:\n",
    "            FN += 1\n",
    "\n",
    "    return(TP, FP, TN, FN)\n",
    "\n",
    "TP, FP, TN, FN = perf_measure(ytest_true, y_pred)\n",
    "FPR = FP / (FP+TN)\n",
    "FPR"
   ]
  }
 ],
 "metadata": {
  "kernelspec": {
   "display_name": "ddos",
   "language": "python",
   "name": "ddos"
  },
  "language_info": {
   "codemirror_mode": {
    "name": "ipython",
    "version": 3
   },
   "file_extension": ".py",
   "mimetype": "text/x-python",
   "name": "python",
   "nbconvert_exporter": "python",
   "pygments_lexer": "ipython3",
   "version": "3.7.5"
  }
 },
 "nbformat": 4,
 "nbformat_minor": 4
}
