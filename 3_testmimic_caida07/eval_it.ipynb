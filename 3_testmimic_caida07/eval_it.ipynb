{
 "cells": [
  {
   "cell_type": "code",
   "execution_count": 1,
   "metadata": {},
   "outputs": [],
   "source": [
    "import pickle\n",
    "import yaml\n",
    "import pandas as pd\n",
    "import pickle\n",
    "import sys\n",
    "import numpy as np\n",
    "\n",
    "import matplotlib.pyplot as plot"
   ]
  },
  {
   "cell_type": "code",
   "execution_count": 2,
   "metadata": {},
   "outputs": [
    {
     "name": "stderr",
     "output_type": "stream",
     "text": [
      "/home/wesleyjtann/miniconda3/envs/ddos/lib/python3.7/site-packages/ipykernel_launcher.py:3: YAMLLoadWarning: calling yaml.load() without Loader=... is deprecated, as the default Loader is unsafe. Please read https://msg.pyyaml.org/load for full details.\n",
      "  This is separate from the ipykernel package so we can avoid doing imports until\n"
     ]
    }
   ],
   "source": [
    "def loadConfig():    \n",
    "    with open('./light_config.yaml', \"r\") as ymlfile: #hulk, slowloris; GE, heartbleed, slowhttp\n",
    "        cfg = yaml.load(ymlfile)\n",
    "    return cfg\n",
    "\n",
    "config = loadConfig()"
   ]
  },
  {
   "cell_type": "code",
   "execution_count": 3,
   "metadata": {},
   "outputs": [],
   "source": [
    "import math\n",
    "\n",
    "def calculateFalsePositives(agtIPList, agt_attacks, scoreDict, percentages, numNorm) :\n",
    "    numNormal = numNorm\n",
    "    numTotalIP = len(scoreDict)\n",
    "    cutOff = []\n",
    "    falsepositives = []\n",
    "    \n",
    "    for percent in percentages :\n",
    "        cutOff.append(math.ceil(numTotalIP * percent))\n",
    "    \n",
    "    index = 0\n",
    "    fp_count = 0 # add\n",
    "    tp_count = 0 # add\n",
    "    truepos = [] # add\n",
    "    \n",
    "    for (IP, IPD, score) in list(scoreDict.itertuples(index=False, name=None)):\n",
    "        if IP + IPD in agtIPList: # add\n",
    "            fp_count = fp_count + 1 # add\n",
    "        if IP + IPD in agt_attacks:\n",
    "            tp_count = tp_count + 1            \n",
    "            \n",
    "        index = index + 1\n",
    "        if index in cutOff :\n",
    "            falsepositives.append(fp_count/numNormal)\n",
    "            truepos.append(tp_count / len(agt_attacks)) #len(agt_attacks)) # add\n",
    "            \n",
    "    return falsepositives, truepos\n",
    "\n",
    "def calc_eval(fpr, tpr, agt_norm, agt_attk):\n",
    "    fpr = np.array(fpr[1:])\n",
    "    tpr = np.array(tpr)\n",
    "\n",
    "    Total = len(agt_norm)+len(agt_attk) #len(userScoreP)\n",
    "    TotalN = len(agt_norm)\n",
    "    TotalP = Total-TotalN\n",
    "    FP = fpr*TotalN\n",
    "    TN = TotalN - FP\n",
    "    TP = tpr*TotalP\n",
    "    FN = TotalP-TP\n",
    "    \n",
    "    Accr = (TP+TN) / (TP+TN+FP+FN)\n",
    "    FPR = FP / (FP+TP) #(FP + TN)\n",
    "    Prec = TP / (TP + FP)\n",
    "    Rec = TP / (TP + FN)\n",
    "    F1 = 2 * ((Prec*Rec) / (Prec+Rec))\n",
    "\n",
    "    return (Accr, FPR, Prec, Rec, F1)\n"
   ]
  },
  {
   "cell_type": "raw",
   "metadata": {},
   "source": [
    "def plotAndSaveGraph(P, PQ_online, PQ_offline, iter_one, iter_offline, config, plt=False, metric=None):\n",
    "    percentages = [0.0, 0.1, 0.2, 0.3, 0.4, 0.5, 0.6, 0.7, 0.8, 0.9, 1.0]\n",
    "\n",
    "    plot.rcParams['figure.figsize'] = [9, 9]\n",
    "    fig = plot.figure()\n",
    "    ax = plot.subplot(111)\n",
    "    ax.plot(percentages, percentages, linewidth=2, label = \"Randomized Rejection\")\n",
    "    ax.plot(percentages, P, linewidth=2, linestyle=':', markersize=9, label = \"N Only\")\n",
    "    ax.plot(percentages, PQ_online, linewidth=2, linestyle='--', markersize=9, label = \"N/D (ℓ=1)\") #With Transfer\")\n",
    "#     ax.plot(percentages, PQ_offline, linewidth=2, linestyle='-.', markersize=9, label = \"N/D (ℓ=∞)\") #Without Transfer\") \n",
    "    ax.plot(percentages, iter_one, linewidth=2, linestyle='--', marker='o', markersize=9, label = \"Iter. Classifier (ℓ=1)\") #Without Transfer\")\n",
    "#     ax.plot(percentages, iter_offline, linewidth=2, linestyle='--', marker='s', markersize=9, label = \"Iter. Classifier (ℓ=∞)\") #Without Transfer\")\n",
    "    \n",
    "    ax.tick_params(axis='both', which='major', labelsize=15)\n",
    "    ax.legend(fontsize=18)\n",
    "    if plt:\n",
    "        if metric == 'F_pos':\n",
    "            plot.savefig(config['metadata']['uniqueID'] + '/' + config['metadata']['result'] + '_FPos-Graph')\n",
    "        if metric == 'F_neg':\n",
    "            plot.savefig(config['metadata']['uniqueID'] + '/' + config['metadata']['result'] + '_FNeg-Graph')"
   ]
  },
  {
   "cell_type": "code",
   "execution_count": 4,
   "metadata": {},
   "outputs": [],
   "source": [
    "def plotAndSaveGraph(P, PQ_online, PQ_offline, iter_one, iter_offline, config, plt=False, metric=None):\n",
    "    percentages = [0.0, 0.1, 0.2, 0.3, 0.4, 0.5, 0.6, 0.7, 0.8, 0.9, 1.0]\n",
    "\n",
    "    plot.rcParams['figure.figsize'] = [9, 9]\n",
    "    fig = plot.figure()\n",
    "    ax = plot.subplot(111)\n",
    "    ax.plot(percentages, percentages, linewidth=2, label = \"Randomized Rejection\")\n",
    "#     ax.plot(percentages, P, linewidth=2, linestyle=':', markersize=9, label = \"N Only\")\n",
    "    ax.plot(percentages, PQ_online, linewidth=2, linestyle='--', markersize=9, label = \"Enhanced N/D (ℓ=1)\") #With Transfer\")\n",
    "    ax.plot(percentages, PQ_offline, linewidth=2, linestyle='-.', markersize=9, label = \"N/D (ℓ=1)\") #Without Transfer\") \n",
    "    ax.plot(percentages, iter_one, linewidth=2, linestyle='--', marker='o', markersize=9, label = \"Enhanced Iter. (ℓ=1)\") #Without Transfer\")\n",
    "    ax.plot(percentages, iter_offline, linewidth=2, linestyle='--', marker='s', markersize=9, label = \"Iter. Classifier (ℓ=1)\") #(ℓ=∞)\n",
    "    \n",
    "    ax.tick_params(axis='both', which='major', labelsize=15)\n",
    "    ax.legend(fontsize=18)\n",
    "    if plt:\n",
    "        if metric == 'F_pos':\n",
    "            plot.savefig(config['metadata']['uniqueID'] + '/' + config['metadata']['result'] + '_FPos-Graph')\n",
    "        if metric == 'F_neg':\n",
    "            plot.savefig(config['metadata']['uniqueID'] + '/' + config['metadata']['result'] + '_FNeg-Graph')"
   ]
  },
  {
   "cell_type": "raw",
   "metadata": {},
   "source": [
    "config['metadata']['result']"
   ]
  },
  {
   "cell_type": "markdown",
   "metadata": {},
   "source": [
    "### Test set"
   ]
  },
  {
   "cell_type": "code",
   "execution_count": 5,
   "metadata": {},
   "outputs": [
    {
     "name": "stdout",
     "output_type": "stream",
     "text": [
      "Length of userScoreP:  12263\n"
     ]
    }
   ],
   "source": [
    "# #Load User Scores\n",
    "userScoreP = pickle.load(open(config['metadata']['uniqueID'] + '/' + config['metadata']['artefact'] + '/' + 'PScore', 'rb'))\n",
    "userScoreP = userScoreP.sort_values(by = ['P'],ascending=True) # add\n",
    "\n",
    "userScorePQ_online = pickle.load(open(config['metadata']['uniqueID'] + '/' + config['metadata']['artefact'] + '/' + 'PoverQonline_score', 'rb'))\n",
    "userScorePQ_online = userScorePQ_online.sort_values(by = ['PoverQ_online'],ascending=True) # add \n",
    "\n",
    "userScorePQ_offline = pickle.load(open(config['metadata']['uniqueID'] + '/' + config['metadata']['artefact'] + '/' + 'PoverQoffline_score', 'rb'))\n",
    "userScorePQ_offline = userScorePQ_offline.sort_values(by = ['PoverQ_offline'],ascending=True) \n",
    "\n",
    "# userScoreQonline = pickle.load(open(config['metadata']['uniqueID'] + '/' + config['metadata']['artefact'] + '/' + 'onlineQ', 'rb'))\n",
    "# userScoreQonline = userScoreQonline.sort_values(by = ['QWithT'],ascending=True)\n",
    "\n",
    "# userScoreQoffline = pickle.load(open(config['metadata']['uniqueID'] + '/' + config['metadata']['artefact'] + '/' + 'offlineQ', 'rb'))\n",
    "# userScoreQoffline = userScoreQoffline.sort_values(by = ['QWithoutT'],ascending=True)\n",
    "\n",
    "print(\"Length of userScoreP: \", len(userScoreP))"
   ]
  },
  {
   "cell_type": "code",
   "execution_count": 6,
   "metadata": {},
   "outputs": [
    {
     "data": {
      "text/plain": [
       "12263"
      ]
     },
     "execution_count": 6,
     "metadata": {},
     "output_type": "execute_result"
    }
   ],
   "source": [
    "len(userScoreP)"
   ]
  },
  {
   "cell_type": "code",
   "execution_count": 7,
   "metadata": {},
   "outputs": [
    {
     "data": {
      "text/plain": [
       "10000"
      ]
     },
     "execution_count": 7,
     "metadata": {},
     "output_type": "execute_result"
    }
   ],
   "source": [
    "sum(userScoreP['Source IP'] == '999.16.30.0')"
   ]
  },
  {
   "cell_type": "code",
   "execution_count": 8,
   "metadata": {
    "scrolled": true
   },
   "outputs": [],
   "source": [
    "import matplotlib.pyplot as plt\n",
    "# attacker='172.16.0.1'; victim='192.168.10.50' # original attacker\n",
    "attacker='999.16.30.0'; victim='999.16.30.1' # mimic attacker\n",
    "\n",
    "# def showscore(scoretype, scores):\n",
    "#     fig = plt.figure(figsize=(7,5))\n",
    "#     plt.hist(scoretype[scores].sort_values()[scoretype['Source IP'] == victim], bins=20, alpha=0.5, label='victim') \n",
    "#     plt.hist(scoretype[scores].sort_values()[scoretype['Source IP'] == attacker], bins=20, alpha=0.5, label='attcker')\n",
    "#     plt.legend(loc='upper right')\n",
    "#     plt.show()\n",
    "def showscore(scoretype, scores):\n",
    "    fig = plt.figure(figsize=(7,5))\n",
    "    plt.hist(scoretype[scores][scoretype['Source IP'] != attacker], bins=10, alpha=0.5, label='victim') \n",
    "    plt.hist(scoretype[scores][scoretype['Source IP'] == attacker], bins=10, alpha=0.5, label='attcker')\n",
    "    plt.legend(loc='upper right')\n",
    "    plt.show()\n",
    "    return fig"
   ]
  },
  {
   "cell_type": "code",
   "execution_count": 9,
   "metadata": {},
   "outputs": [
    {
     "data": {
      "image/png": "[encoded data removed]",
      "text/plain": [
       "<Figure size 504x360 with 1 Axes>"
      ]
     },
     "metadata": {
      "needs_background": "light"
     },
     "output_type": "display_data"
    }
   ],
   "source": [
    "# add standardization\n",
    "std_userScoreP = userScoreP\n",
    "std_userScoreP['P'] = (std_userScoreP['P'] - std_userScoreP['P'].min(axis=0)) / (std_userScoreP['P'].max(axis=0) - std_userScoreP['P'].min(axis=0))\n",
    "\n",
    "fig = showscore(userScoreP, 'P') # P scores\n",
    "\n",
    "# fig.savefig('./' + config['metadata']['uniqueID'] + '/' + config['metadata']['result'] + '_P_distr' + '.png')"
   ]
  },
  {
   "cell_type": "code",
   "execution_count": 10,
   "metadata": {},
   "outputs": [
    {
     "data": {
      "image/png": "[encoded data removed]",
      "text/plain": [
       "<Figure size 504x360 with 1 Axes>"
      ]
     },
     "metadata": {
      "needs_background": "light"
     },
     "output_type": "display_data"
    }
   ],
   "source": [
    "scoretype=userScoreP; scores='P'\n",
    "\n",
    "\n",
    "fig, ax = plt.subplots(1, figsize=(7,5))\n",
    " \n",
    "# ax.hist(scoretype[scores][scoretype['Source IP'] != attacker], bins=10, range=[0.1,1], edgecolor='black', linewidth=2, alpha=0.4, label='Normal traffic', color = \"dimgray\", hatch=2*'\\\\', fill=True) \n",
    "# ax.hist(scoretype[scores][scoretype['Source IP'] == attacker], bins=10, range=[0.1,1], edgecolor='black', linewidth=2, alpha=0.4, label='Attack traffic', color = \"lightgray\", hatch=2*'.', fill=True)\n",
    "ax.hist(scoretype[scores][scoretype['Source IP'] != attacker], bins=10, edgecolor='black', linewidth=2, alpha=0.2, label='Normal traffic', color = \"dimgray\", hatch=2*'\\\\', fill=True) \n",
    "ax.hist(scoretype[scores][scoretype['Source IP'] == attacker], bins=10, edgecolor='black', linewidth=2, alpha=0.5, label='Attack traffic', color = \"lightgray\", hatch=2*'.', fill=True)\n",
    "\n",
    "ax.legend(loc='upper right',prop={\"size\":15})\n",
    "\n",
    "plt.show()\n",
    "\n",
    "\n",
    "# fig.savefig('./' + config['metadata']['uniqueID'] + '/' + config['metadata']['result'] + '_Nonly_distr' + '.png')"
   ]
  },
  {
   "cell_type": "code",
   "execution_count": 11,
   "metadata": {
    "scrolled": true
   },
   "outputs": [
    {
     "data": {
      "image/png": "[encoded data removed]",
      "text/plain": [
       "<Figure size 504x360 with 1 Axes>"
      ]
     },
     "metadata": {
      "needs_background": "light"
     },
     "output_type": "display_data"
    }
   ],
   "source": [
    "# add standardization\n",
    "std_userScorePQ_online = userScorePQ_online\n",
    "std_userScorePQ_online['PoverQ_online'] = (std_userScorePQ_online['PoverQ_online'] - std_userScorePQ_online['PoverQ_online'].min(axis=0)) / (std_userScorePQ_online['PoverQ_online'].max(axis=0) - std_userScorePQ_online['PoverQ_online'].min(axis=0))\n",
    "\n",
    "fig = showscore(std_userScorePQ_online, 'PoverQ_online') # online Q\n",
    "\n",
    "# fig.savefig('./' + config['metadata']['uniqueID'] + '/' + config['metadata']['result'] + '_PQonline_distr' + '.png')"
   ]
  },
  {
   "cell_type": "code",
   "execution_count": 12,
   "metadata": {},
   "outputs": [
    {
     "data": {
      "image/png": "[encoded data removed]",
      "text/plain": [
       "<Figure size 504x360 with 1 Axes>"
      ]
     },
     "metadata": {
      "needs_background": "light"
     },
     "output_type": "display_data"
    }
   ],
   "source": [
    "scoretype=std_userScorePQ_online; scores='PoverQ_online'\n",
    "\n",
    "\n",
    "fig, ax = plt.subplots(1, figsize=(7,5))\n",
    " \n",
    "# ax.hist(scoretype[scores][scoretype['Source IP'] != attacker], bins=10, range=[0.1,1], edgecolor='black', linewidth=2, alpha=0.4, label='Normal traffic', color = \"dimgray\", hatch=2*'\\\\', fill=True) \n",
    "# ax.hist(scoretype[scores][scoretype['Source IP'] == attacker], bins=10, range=[0.1,1], edgecolor='black', linewidth=2, alpha=0.4, label='Attack traffic', color = \"lightgray\", hatch=2*'.', fill=True)\n",
    "ax.hist(scoretype[scores][scoretype['Source IP'] != attacker], bins=10, edgecolor='black', linewidth=2, alpha=0.2, label='Normal traffic', color = \"dimgray\", hatch=2*'\\\\', fill=True) \n",
    "ax.hist(scoretype[scores][scoretype['Source IP'] == attacker], bins=10, edgecolor='black', linewidth=2, alpha=0.5, label='Attack traffic', color = \"lightgray\", hatch=2*'.', fill=True)\n",
    "\n",
    "ax.legend(loc='upper right',prop={\"size\":15})\n",
    "\n",
    "plt.show()\n",
    "\n",
    "\n",
    "# fig.savefig('./' + config['metadata']['uniqueID'] + '/' + config['metadata']['result'] + '_NDonline_distr' + '.png')"
   ]
  },
  {
   "cell_type": "code",
   "execution_count": 13,
   "metadata": {},
   "outputs": [
    {
     "data": {
      "image/png": "[encoded data removed]",
      "text/plain": [
       "<Figure size 504x360 with 1 Axes>"
      ]
     },
     "metadata": {
      "needs_background": "light"
     },
     "output_type": "display_data"
    }
   ],
   "source": [
    "# add standardization\n",
    "std_userScorePQ_offline = userScorePQ_offline\n",
    "std_userScorePQ_offline['PoverQ_offline'] = (std_userScorePQ_offline['PoverQ_offline'] - std_userScorePQ_offline['PoverQ_offline'].min(axis=0)) / (std_userScorePQ_offline['PoverQ_offline'].max(axis=0) - std_userScorePQ_offline['PoverQ_offline'].min(axis=0))\n",
    "\n",
    "fig = showscore(std_userScorePQ_offline, 'PoverQ_offline') # offline Q\n",
    "\n",
    "# fig.savefig('./' + config['metadata']['uniqueID'] + '/' + config['metadata']['result'] + '_PQoffline_distr' + '.png')"
   ]
  },
  {
   "cell_type": "code",
   "execution_count": 14,
   "metadata": {},
   "outputs": [
    {
     "data": {
      "image/png": "[encoded data removed]",
      "text/plain": [
       "<Figure size 504x360 with 1 Axes>"
      ]
     },
     "metadata": {
      "needs_background": "light"
     },
     "output_type": "display_data"
    }
   ],
   "source": [
    "scoretype=std_userScorePQ_offline; scores='PoverQ_offline'\n",
    "\n",
    "\n",
    "fig, ax = plt.subplots(1, figsize=(7,5))\n",
    " \n",
    "# ax.hist(scoretype[scores][scoretype['Source IP'] != attacker], bins=10, range=[0.1,1], edgecolor='black', linewidth=2, alpha=0.4, label='Normal traffic', color = \"dimgray\", hatch=2*'\\\\', fill=True) \n",
    "# ax.hist(scoretype[scores][scoretype['Source IP'] == attacker], bins=10, range=[0.1,1], edgecolor='black', linewidth=2, alpha=0.4, label='Attack traffic', color = \"lightgray\", hatch=2*'.', fill=True)\n",
    "ax.hist(scoretype[scores][scoretype['Source IP'] != attacker], bins=10, edgecolor='black', linewidth=2, alpha=0.2, label='Normal traffic', color = \"dimgray\", hatch=2*'\\\\', fill=True) \n",
    "ax.hist(scoretype[scores][scoretype['Source IP'] == attacker], bins=10, edgecolor='black', linewidth=2, alpha=0.5, label='Attack traffic', color = \"lightgray\", hatch=2*'.', fill=True)\n",
    "\n",
    "ax.legend(loc='upper right',prop={\"size\":15})\n",
    "\n",
    "plt.show()\n",
    "\n",
    "\n",
    "# fig.savefig('./' + config['metadata']['uniqueID'] + '/' + config['metadata']['result'] + '_NDoffline_distr' + '.png')"
   ]
  },
  {
   "cell_type": "raw",
   "metadata": {},
   "source": [
    "showscore(userScoreQonline, 'QWithT')"
   ]
  },
  {
   "cell_type": "raw",
   "metadata": {},
   "source": [
    "showscore(userScorePQ_offline, 'PoverQ_offline')"
   ]
  },
  {
   "cell_type": "raw",
   "metadata": {
    "scrolled": true
   },
   "source": [
    "userScoreP\n",
    "# userScorePQ\n",
    "# userScorePQTil\n",
    "# userScoreQonline\n",
    "# userScoreQoffline"
   ]
  },
  {
   "cell_type": "markdown",
   "metadata": {},
   "source": [
    "### Predicted P-only user scores"
   ]
  },
  {
   "cell_type": "code",
   "execution_count": 15,
   "metadata": {
    "scrolled": true
   },
   "outputs": [
    {
     "name": "stdout",
     "output_type": "stream",
     "text": [
      "Length of userScoreP:  12263\n"
     ]
    }
   ],
   "source": [
    "print(\"Length of userScoreP: \", len(userScoreP))"
   ]
  },
  {
   "cell_type": "code",
   "execution_count": 16,
   "metadata": {},
   "outputs": [
    {
     "name": "stdout",
     "output_type": "stream",
     "text": [
      "Length of userScoreP:  12263\n",
      "Length of Normal traffic:  2263\n",
      "Length of true attacks:  10000\n",
      "Percent attacks:  0.8154611432765229\n"
     ]
    }
   ],
   "source": [
    "agt_normals = []\n",
    "agt_attacks = []\n",
    "# attacker='172.16.0.1'; victim='192.168.10.50'\n",
    "attacker='999.16.30.0'; victim='192.168.10.50'\n",
    "print(\"Length of userScoreP: \", len(userScoreP))\n",
    "\n",
    "for (IP, IPD, score) in list(userScoreP.itertuples(index=False, name=None)):\n",
    "#     if (IP != '172.16.0.1' and  IPD=='192.168.10.50') or IP == '192.168.10.50': \n",
    "#     if (IP != attacker and  IPD==victim) or IP == victim: \n",
    "    if IP == attacker or IP == victim:\n",
    "        agt_attacks.append(IP+IPD)\n",
    "    else:\n",
    "        agt_normals.append(IP + IPD)\n",
    "        \n",
    "\n",
    "print(\"Length of Normal traffic: \", len(agt_normals))\n",
    "print(\"Length of true attacks: \", len(agt_attacks))\n",
    "\n",
    "#Plot some graphs\n",
    "percentages = [0.1, 0.2, 0.3, 0.4, 0.5, 0.6, 0.7, 0.8, 0.9, 1.0]\n",
    "\n",
    "num = len(agt_normals)\n",
    "print(\"Percent attacks: \", len(agt_attacks)/len(userScoreP))"
   ]
  },
  {
   "cell_type": "code",
   "execution_count": 35,
   "metadata": {},
   "outputs": [],
   "source": [
    "''' Countermeasure!!!! '''\n",
    "# Mimic results (FPR) Packet Len Cond\n",
    "\n",
    "# (ℓ = ∞)\n",
    "iter_classifier = [0,\n",
    " 0.031816173221387536,\n",
    " 0.052585064074237735,\n",
    " 0.05788775961113566,\n",
    " 0.058329650905877155,\n",
    " 0.06142288996906761,\n",
    " 0.062306672558550595,\n",
    " 0.06319045514803358,\n",
    " 0.06539991162174105,\n",
    " 0.06937693327441449,\n",
    " 1.0]\n",
    "\n",
    "# (ℓ = 1)\n",
    "iter_classifier_one = [0,\n",
    " 0.0,\n",
    " 0.0008837825894829872,\n",
    " 0.003977021652673442,\n",
    " 0.022978347326557666,\n",
    " 0.040653999116217414,\n",
    " 0.9743703049049933,\n",
    " 0.9995581087052585,\n",
    " 1.0,\n",
    " 1.0,\n",
    " 1.0]"
   ]
  },
  {
   "cell_type": "code",
   "execution_count": 36,
   "metadata": {},
   "outputs": [],
   "source": [
    "''' Countermeasure!!!! '''\n",
    "# Mimic results (FNR)\n",
    "# (ℓ = ∞)\n",
    "iter_offline_fnr = [0, 0.7654, 0.7875, 0.8018, 0.8146, 0.8274, 0.8414, 0.8582, 0.8881, 0.976, 1.0]\n",
    "\n",
    "# (ℓ = 1)\n",
    "iter_one_fnr = [0, 0.0, 0.0, 0.0016, 0.1253, 0.8097, 0.8731, 0.9981, 1.0, 1.0, 1.0]"
   ]
  },
  {
   "cell_type": "code",
   "execution_count": 37,
   "metadata": {},
   "outputs": [],
   "source": [
    "graphP, P_tpr = calculateFalsePositives(agt_normals, agt_attacks, userScoreP, percentages, num)\n",
    "graphPQ_online, onlinePQ_tpr = calculateFalsePositives(agt_normals, agt_attacks, userScorePQ_online, percentages, num)\n",
    "graphPQ_offline, offlinePQ_tpr  = calculateFalsePositives(agt_normals, agt_attacks, userScorePQ_offline, percentages, num)\n",
    "# graphQonline, _ = calculateFalsePositives(agt_normals, agt_attacks, userScoreQonline, percentages, num)\n",
    "# graphQoffline, _ = calculateFalsePositives(agt_normals, agt_attacks, userScoreQoffline, percentages, num)   \n",
    "\n",
    "graphP.insert(0, 0)\n",
    "graphPQ_online.insert(0, 0)\n",
    "graphPQ_offline.insert(0, 0)\n",
    "# graphQonline.insert(0, 0)\n",
    "# graphQoffline.insert(0, 0)"
   ]
  },
  {
   "cell_type": "code",
   "execution_count": 45,
   "metadata": {},
   "outputs": [],
   "source": [
    "''' No countermeasure!!!!! '''\n",
    "\n",
    "atkFPR_PQonline = [0, 0.127706584180292, 0.13300927971719, 0.135660627485639, 0.136986301369863, 0.137428192664605, 0.137428192664605, 0.13919575784357, 0.141405214317278, 0.458241272646929, 1]\n",
    "\n",
    "atkFPR_iter_one = [0,\n",
    " 0.9770216526734423,\n",
    " 0.9946973044631021,\n",
    " 0.9951391957578436,\n",
    " 0.9955810870525851,\n",
    " 0.9955810870525851,\n",
    " 0.9960229783473266,\n",
    " 0.996464869642068,\n",
    " 0.9977905435262925,\n",
    " 0.999116217410517,\n",
    " 1.0]"
   ]
  },
  {
   "cell_type": "code",
   "execution_count": 50,
   "metadata": {
    "scrolled": false
   },
   "outputs": [
    {
     "data": {
      "image/png": "[encoded data removed]",
      "text/plain": [
       "<Figure size 648x648 with 1 Axes>"
      ]
     },
     "metadata": {
      "needs_background": "light"
     },
     "output_type": "display_data"
    }
   ],
   "source": [
    "# plotAndSaveGraph(graphPQ_online, graphP, graphPQ_offline, classifier_rejectthres, fp_classifier, \n",
    "#                  iter_classifier_one, iter_classifier, config) #, plt=True)\n",
    "\n",
    "# plotAndSaveGraph(graphP, graphPQ_online, graphPQ_offline, \n",
    "#                  iter_classifier_one, iter_classifier, config) #, plt=True, metric='F_pos')\n",
    "plotAndSaveGraph(graphP, graphPQ_online, atkFPR_PQonline, \n",
    "                 iter_classifier_one, atkFPR_iter_one, config, plt=True, metric='F_pos')"
   ]
  },
  {
   "cell_type": "markdown",
   "metadata": {},
   "source": [
    "### Calculate False Negatives"
   ]
  },
  {
   "cell_type": "code",
   "execution_count": 22,
   "metadata": {},
   "outputs": [],
   "source": [
    "def calculateFalseNegatives(agtIPList, agt_attacks, scoreDict, percentages, numNorm) :\n",
    "    numNormal = numNorm\n",
    "    numTotalIP = len(scoreDict)\n",
    "    cutOff = []\n",
    "    falsenegatives = [] #ADD\n",
    "    \n",
    "    for percent in percentages :\n",
    "        cutOff.append(math.ceil(numTotalIP * percent))\n",
    "    \n",
    "    index = 0\n",
    "    fn_count = 0 #ADD\n",
    "    \n",
    "    for (IP, IPD, score) in list(scoreDict.itertuples(index=False, name=None)):\n",
    "        if IP + IPD in agt_attacks: # ADD\n",
    "            fn_count = fn_count + 1 # ADD\n",
    "            \n",
    "        index = index + 1\n",
    "        if index in cutOff :\n",
    "            falsenegatives.append(fn_count/len(agt_attacks)) #numNormal) # ADD\n",
    "            \n",
    "    return falsenegatives"
   ]
  },
  {
   "cell_type": "code",
   "execution_count": 23,
   "metadata": {},
   "outputs": [
    {
     "name": "stdout",
     "output_type": "stream",
     "text": [
      "Length of userScoreP:               Source IP        Dest IP    P\n",
      "12262    202.1.175.252  71.126.222.64  1.0\n",
      "9934   192.120.148.227  71.126.222.64  1.0\n",
      "4086    51.173.229.255  71.126.222.64  1.0\n",
      "4093     192.95.27.190  71.126.222.64  1.0\n",
      "4097    51.173.229.255  71.126.222.64  1.0\n"
     ]
    }
   ],
   "source": [
    "# #Inverse User Scores\n",
    "userScoreP_inv = userScoreP.sort_values(by = ['P'],ascending=False) # add\n",
    "# userScoreP_inv\n",
    "userScorePQ_online_inv = userScorePQ_online.sort_values(by = ['PoverQ_online'],ascending=False) # add \n",
    "userScorePQ_offline_inv = userScorePQ_offline.sort_values(by = ['PoverQ_offline'],ascending=False) \n",
    "\n",
    "print(\"Length of userScoreP: \", userScoreP_inv[:5]) #len(userScoreP))"
   ]
  },
  {
   "cell_type": "code",
   "execution_count": 24,
   "metadata": {},
   "outputs": [],
   "source": [
    "graphP_fnr = calculateFalseNegatives(agt_normals, agt_attacks, userScoreP_inv, percentages, num)\n",
    "graphPQ_online_fnr = calculateFalseNegatives(agt_normals, agt_attacks, userScorePQ_online_inv, percentages, num)\n",
    "graphPQ_offline_fnr = calculateFalseNegatives(agt_normals, agt_attacks, userScorePQ_offline_inv, percentages, num)\n",
    "\n",
    "\n",
    "graphP_fnr.insert(0, 0)\n",
    "graphPQ_online_fnr.insert(0, 0)\n",
    "graphPQ_offline_fnr.insert(0, 0)"
   ]
  },
  {
   "cell_type": "code",
   "execution_count": 25,
   "metadata": {},
   "outputs": [
    {
     "name": "stdout",
     "output_type": "stream",
     "text": [
      "[0, 0.0, 0.0338, 0.1516, 0.2729, 0.394, 0.5155, 0.6367, 0.7579, 0.879, 1.0]\n",
      "[0, 0.0, 0.0514, 0.1736, 0.2963, 0.4186, 0.541, 0.6631, 0.7848, 0.9058, 1.0]\n",
      "[0, 0.0005, 0.0503, 0.1725, 0.295, 0.4172, 0.5396, 0.6621, 0.7833, 0.9038, 1.0]\n"
     ]
    }
   ],
   "source": [
    "print(graphP_fnr)\n",
    "print(graphPQ_online_fnr)\n",
    "print(graphPQ_offline_fnr)"
   ]
  },
  {
   "cell_type": "code",
   "execution_count": 48,
   "metadata": {},
   "outputs": [],
   "source": [
    "''' No countermeasure!!!!! '''\n",
    "atkFNR_PQonline = [0, 0, 0.0509, 0.173, 0.2953, 0.4179, 0.5404, 0.6628, 0.7848, 0.9062, 1]\n",
    "\n",
    "atkFNR_iter_one = [0, 0.0, 0.0, 0.0, 0.0, 0.0, 1.0, 1.0, 1.0, 1.0, 1.0]"
   ]
  },
  {
   "cell_type": "code",
   "execution_count": 52,
   "metadata": {
    "scrolled": false
   },
   "outputs": [
    {
     "data": {
      "image/png": "[encoded data removed]",
      "text/plain": [
       "<Figure size 648x648 with 1 Axes>"
      ]
     },
     "metadata": {
      "needs_background": "light"
     },
     "output_type": "display_data"
    }
   ],
   "source": [
    "plotAndSaveGraph(graphP_fnr, graphPQ_online_fnr, atkFNR_PQonline, \n",
    "                 iter_one_fnr, atkFNR_iter_one, config) #, plt=True, metric='F_neg')"
   ]
  },
  {
   "cell_type": "markdown",
   "metadata": {},
   "source": [
    "### Calculate evaluation metrics "
   ]
  },
  {
   "cell_type": "raw",
   "metadata": {},
   "source": [
    "P_metrics = np.array(np.transpose(calc_eval(graphP, P_tpr, agt_normals, agt_attacks)))\n",
    "onlinePQ_metrics = np.array(np.transpose(calc_eval(graphPQ_online, onlinePQ_tpr, agt_normals, agt_attacks)))\n",
    "offlinePQ_metrics = np.array(np.transpose(calc_eval(graphPQ_offline, offlinePQ_tpr, agt_normals, agt_attacks)))\n",
    "\n",
    "P_metrics = pd.DataFrame(P_metrics, columns=['Accr_P', 'FPR_P', 'Prec_P', 'Rec_P', 'F1_P'])\n",
    "onlinePQ_metrics = pd.DataFrame(onlinePQ_metrics, columns=['Accr_onPQ', 'FPR_onPQ', \n",
    "                                                           'Prec_onPQ', 'Rec_onPQ', 'F1_onPQ'])\n",
    "offlinePQ_metrics = pd.DataFrame(offlinePQ_metrics, columns=['Accr_offPQ', 'FPR_offPQ', \n",
    "                                                             'Prec_offPQ', 'Rec_offPQ', 'F1_offPQ'])\n",
    "df_FPresults = pd.concat([P_metrics,onlinePQ_metrics,offlinePQ_metrics],axis=1)"
   ]
  },
  {
   "cell_type": "code",
   "execution_count": 53,
   "metadata": {
    "scrolled": true
   },
   "outputs": [],
   "source": [
    "P_metrics = np.array(np.transpose(calc_eval(graphP, P_tpr, agt_normals, agt_attacks)))\n",
    "P_metrics = np.concatenate((P_metrics, np.reshape(graphP_fnr[1:], (-1, 1))), axis=1)\n",
    "\n",
    "onlinePQ_metrics = np.array(np.transpose(calc_eval(graphPQ_online, onlinePQ_tpr, agt_normals, agt_attacks)))\n",
    "onlinePQ_metrics = np.concatenate((onlinePQ_metrics, np.reshape(graphPQ_online_fnr[1:], (-1, 1))), axis=1)\n",
    "\n",
    "offlinePQ_metrics = np.array(np.transpose(calc_eval(graphPQ_offline, offlinePQ_tpr, agt_normals, agt_attacks)))\n",
    "offlinePQ_metrics = np.concatenate((offlinePQ_metrics, np.reshape(graphPQ_offline_fnr[1:], (-1, 1))), axis=1)\n",
    "\n",
    "\n",
    "P_metrics = pd.DataFrame(P_metrics, columns=['Accr_P', 'FPR_P', 'Prec_P', 'Rec_P', 'F1_P', 'FNR_P'])\n",
    "onlinePQ_metrics = pd.DataFrame(onlinePQ_metrics, columns=['Accr_onPQ', 'FPR_onPQ', \n",
    "                                                           'Prec_onPQ', 'Rec_onPQ', 'F1_onPQ', 'FNR_onPQ'])\n",
    "offlinePQ_metrics = pd.DataFrame(offlinePQ_metrics, columns=['Accr_offPQ', 'FPR_offPQ', \n",
    "                                                             'Prec_offPQ', 'Rec_offPQ', 'F1_offPQ', 'FNR_offPQ'])\n",
    "\n",
    "df_FPresults = pd.concat([P_metrics,onlinePQ_metrics,offlinePQ_metrics],axis=1)"
   ]
  },
  {
   "cell_type": "raw",
   "metadata": {},
   "source": [
    "## Iter classifier One\n",
    "Accuracy: 0.9385957759112779\n",
    "Recall: 0.931\n",
    "Precision: 0.9932785660941\n",
    "F1 score: 0.9611314716357817\n",
    "\n",
    "## Iter classifier Offline\n",
    "Accuracy: 0.9835276849058142\n",
    "Recall: 0.9933\n",
    "Precision: 0.9865911799761621\n",
    "F1 score: 0.9899342236396252"
   ]
  },
  {
   "cell_type": "code",
   "execution_count": 54,
   "metadata": {},
   "outputs": [
    {
     "data": {
      "text/html": [
       "<div>\n",
       "<style scoped>\n",
       "    .dataframe tbody tr th:only-of-type {\n",
       "        vertical-align: middle;\n",
       "    }\n",
       "\n",
       "    .dataframe tbody tr th {\n",
       "        vertical-align: top;\n",
       "    }\n",
       "\n",
       "    .dataframe thead th {\n",
       "        text-align: right;\n",
       "    }\n",
       "</style>\n",
       "<table border=\"1\" class=\"dataframe\">\n",
       "  <thead>\n",
       "    <tr style=\"text-align: right;\">\n",
       "      <th></th>\n",
       "      <th>Accr_P</th>\n",
       "      <th>FPR_P</th>\n",
       "      <th>Prec_P</th>\n",
       "      <th>Rec_P</th>\n",
       "      <th>F1_P</th>\n",
       "      <th>FNR_P</th>\n",
       "      <th>Accr_onPQ</th>\n",
       "      <th>FPR_onPQ</th>\n",
       "      <th>Prec_onPQ</th>\n",
       "      <th>Rec_onPQ</th>\n",
       "      <th>F1_onPQ</th>\n",
       "      <th>FNR_onPQ</th>\n",
       "      <th>Accr_offPQ</th>\n",
       "      <th>FPR_offPQ</th>\n",
       "      <th>Prec_offPQ</th>\n",
       "      <th>Rec_offPQ</th>\n",
       "      <th>F1_offPQ</th>\n",
       "      <th>FNR_offPQ</th>\n",
       "    </tr>\n",
       "  </thead>\n",
       "  <tbody>\n",
       "    <tr>\n",
       "      <th>0</th>\n",
       "      <td>0.281986</td>\n",
       "      <td>0.013040</td>\n",
       "      <td>0.986960</td>\n",
       "      <td>0.1211</td>\n",
       "      <td>0.215730</td>\n",
       "      <td>0.0000</td>\n",
       "      <td>0.238278</td>\n",
       "      <td>0.231459</td>\n",
       "      <td>0.768541</td>\n",
       "      <td>0.0943</td>\n",
       "      <td>0.167988</td>\n",
       "      <td>0.0000</td>\n",
       "      <td>0.241540</td>\n",
       "      <td>0.215159</td>\n",
       "      <td>0.784841</td>\n",
       "      <td>0.0963</td>\n",
       "      <td>0.171551</td>\n",
       "      <td>0.0005</td>\n",
       "    </tr>\n",
       "    <tr>\n",
       "      <th>1</th>\n",
       "      <td>0.379516</td>\n",
       "      <td>0.012638</td>\n",
       "      <td>0.987362</td>\n",
       "      <td>0.2422</td>\n",
       "      <td>0.388983</td>\n",
       "      <td>0.0338</td>\n",
       "      <td>0.335644</td>\n",
       "      <td>0.122299</td>\n",
       "      <td>0.877701</td>\n",
       "      <td>0.2153</td>\n",
       "      <td>0.345780</td>\n",
       "      <td>0.0514</td>\n",
       "      <td>0.338090</td>\n",
       "      <td>0.116184</td>\n",
       "      <td>0.883816</td>\n",
       "      <td>0.2168</td>\n",
       "      <td>0.348189</td>\n",
       "      <td>0.0503</td>\n",
       "    </tr>\n",
       "    <tr>\n",
       "      <th>2</th>\n",
       "      <td>0.477208</td>\n",
       "      <td>0.012232</td>\n",
       "      <td>0.987768</td>\n",
       "      <td>0.3634</td>\n",
       "      <td>0.531325</td>\n",
       "      <td>0.1516</td>\n",
       "      <td>0.434152</td>\n",
       "      <td>0.083990</td>\n",
       "      <td>0.916010</td>\n",
       "      <td>0.3370</td>\n",
       "      <td>0.492726</td>\n",
       "      <td>0.1736</td>\n",
       "      <td>0.435782</td>\n",
       "      <td>0.081272</td>\n",
       "      <td>0.918728</td>\n",
       "      <td>0.3380</td>\n",
       "      <td>0.494188</td>\n",
       "      <td>0.1725</td>\n",
       "    </tr>\n",
       "    <tr>\n",
       "      <th>3</th>\n",
       "      <td>0.574819</td>\n",
       "      <td>0.012230</td>\n",
       "      <td>0.987770</td>\n",
       "      <td>0.4846</td>\n",
       "      <td>0.650208</td>\n",
       "      <td>0.2729</td>\n",
       "      <td>0.533230</td>\n",
       "      <td>0.064207</td>\n",
       "      <td>0.935793</td>\n",
       "      <td>0.4591</td>\n",
       "      <td>0.615994</td>\n",
       "      <td>0.2963</td>\n",
       "      <td>0.535513</td>\n",
       "      <td>0.061353</td>\n",
       "      <td>0.938647</td>\n",
       "      <td>0.4605</td>\n",
       "      <td>0.617872</td>\n",
       "      <td>0.2950</td>\n",
       "    </tr>\n",
       "    <tr>\n",
       "      <th>4</th>\n",
       "      <td>0.673000</td>\n",
       "      <td>0.011579</td>\n",
       "      <td>0.988421</td>\n",
       "      <td>0.6061</td>\n",
       "      <td>0.751426</td>\n",
       "      <td>0.3940</td>\n",
       "      <td>0.632879</td>\n",
       "      <td>0.051696</td>\n",
       "      <td>0.948304</td>\n",
       "      <td>0.5815</td>\n",
       "      <td>0.720927</td>\n",
       "      <td>0.4186</td>\n",
       "      <td>0.635163</td>\n",
       "      <td>0.049413</td>\n",
       "      <td>0.950587</td>\n",
       "      <td>0.5829</td>\n",
       "      <td>0.722663</td>\n",
       "      <td>0.4172</td>\n",
       "    </tr>\n",
       "    <tr>\n",
       "      <th>5</th>\n",
       "      <td>0.770529</td>\n",
       "      <td>0.011688</td>\n",
       "      <td>0.988312</td>\n",
       "      <td>0.7272</td>\n",
       "      <td>0.837885</td>\n",
       "      <td>0.5155</td>\n",
       "      <td>0.732366</td>\n",
       "      <td>0.043490</td>\n",
       "      <td>0.956510</td>\n",
       "      <td>0.7038</td>\n",
       "      <td>0.810923</td>\n",
       "      <td>0.5410</td>\n",
       "      <td>0.734486</td>\n",
       "      <td>0.041723</td>\n",
       "      <td>0.958277</td>\n",
       "      <td>0.7051</td>\n",
       "      <td>0.812421</td>\n",
       "      <td>0.5396</td>\n",
       "    </tr>\n",
       "    <tr>\n",
       "      <th>6</th>\n",
       "      <td>0.868303</td>\n",
       "      <td>0.011648</td>\n",
       "      <td>0.988352</td>\n",
       "      <td>0.8485</td>\n",
       "      <td>0.913102</td>\n",
       "      <td>0.6367</td>\n",
       "      <td>0.832423</td>\n",
       "      <td>0.037274</td>\n",
       "      <td>0.962726</td>\n",
       "      <td>0.8265</td>\n",
       "      <td>0.889427</td>\n",
       "      <td>0.6631</td>\n",
       "      <td>0.834217</td>\n",
       "      <td>0.035993</td>\n",
       "      <td>0.964007</td>\n",
       "      <td>0.8276</td>\n",
       "      <td>0.890611</td>\n",
       "      <td>0.6621</td>\n",
       "    </tr>\n",
       "    <tr>\n",
       "      <th>7</th>\n",
       "      <td>0.960450</td>\n",
       "      <td>0.015085</td>\n",
       "      <td>0.984915</td>\n",
       "      <td>0.9663</td>\n",
       "      <td>0.975519</td>\n",
       "      <td>0.7579</td>\n",
       "      <td>0.931746</td>\n",
       "      <td>0.033024</td>\n",
       "      <td>0.966976</td>\n",
       "      <td>0.9487</td>\n",
       "      <td>0.957751</td>\n",
       "      <td>0.7848</td>\n",
       "      <td>0.933540</td>\n",
       "      <td>0.031903</td>\n",
       "      <td>0.968097</td>\n",
       "      <td>0.9498</td>\n",
       "      <td>0.958861</td>\n",
       "      <td>0.7833</td>\n",
       "    </tr>\n",
       "    <tr>\n",
       "      <th>8</th>\n",
       "      <td>0.915437</td>\n",
       "      <td>0.093957</td>\n",
       "      <td>0.906043</td>\n",
       "      <td>1.0000</td>\n",
       "      <td>0.950706</td>\n",
       "      <td>0.8790</td>\n",
       "      <td>0.915437</td>\n",
       "      <td>0.093957</td>\n",
       "      <td>0.906043</td>\n",
       "      <td>1.0000</td>\n",
       "      <td>0.950706</td>\n",
       "      <td>0.9058</td>\n",
       "      <td>0.914621</td>\n",
       "      <td>0.094410</td>\n",
       "      <td>0.905590</td>\n",
       "      <td>0.9995</td>\n",
       "      <td>0.950231</td>\n",
       "      <td>0.9038</td>\n",
       "    </tr>\n",
       "    <tr>\n",
       "      <th>9</th>\n",
       "      <td>0.815461</td>\n",
       "      <td>0.184539</td>\n",
       "      <td>0.815461</td>\n",
       "      <td>1.0000</td>\n",
       "      <td>0.898352</td>\n",
       "      <td>1.0000</td>\n",
       "      <td>0.815461</td>\n",
       "      <td>0.184539</td>\n",
       "      <td>0.815461</td>\n",
       "      <td>1.0000</td>\n",
       "      <td>0.898352</td>\n",
       "      <td>1.0000</td>\n",
       "      <td>0.815461</td>\n",
       "      <td>0.184539</td>\n",
       "      <td>0.815461</td>\n",
       "      <td>1.0000</td>\n",
       "      <td>0.898352</td>\n",
       "      <td>1.0000</td>\n",
       "    </tr>\n",
       "  </tbody>\n",
       "</table>\n",
       "</div>"
      ],
      "text/plain": [
       "     Accr_P     FPR_P    Prec_P   Rec_P      F1_P   FNR_P  Accr_onPQ  \\\n",
       "0  0.281986  0.013040  0.986960  0.1211  0.215730  0.0000   0.238278   \n",
       "1  0.379516  0.012638  0.987362  0.2422  0.388983  0.0338   0.335644   \n",
       "2  0.477208  0.012232  0.987768  0.3634  0.531325  0.1516   0.434152   \n",
       "3  0.574819  0.012230  0.987770  0.4846  0.650208  0.2729   0.533230   \n",
       "4  0.673000  0.011579  0.988421  0.6061  0.751426  0.3940   0.632879   \n",
       "5  0.770529  0.011688  0.988312  0.7272  0.837885  0.5155   0.732366   \n",
       "6  0.868303  0.011648  0.988352  0.8485  0.913102  0.6367   0.832423   \n",
       "7  0.960450  0.015085  0.984915  0.9663  0.975519  0.7579   0.931746   \n",
       "8  0.915437  0.093957  0.906043  1.0000  0.950706  0.8790   0.915437   \n",
       "9  0.815461  0.184539  0.815461  1.0000  0.898352  1.0000   0.815461   \n",
       "\n",
       "   FPR_onPQ  Prec_onPQ  Rec_onPQ   F1_onPQ  FNR_onPQ  Accr_offPQ  FPR_offPQ  \\\n",
       "0  0.231459   0.768541    0.0943  0.167988    0.0000    0.241540   0.215159   \n",
       "1  0.122299   0.877701    0.2153  0.345780    0.0514    0.338090   0.116184   \n",
       "2  0.083990   0.916010    0.3370  0.492726    0.1736    0.435782   0.081272   \n",
       "3  0.064207   0.935793    0.4591  0.615994    0.2963    0.535513   0.061353   \n",
       "4  0.051696   0.948304    0.5815  0.720927    0.4186    0.635163   0.049413   \n",
       "5  0.043490   0.956510    0.7038  0.810923    0.5410    0.734486   0.041723   \n",
       "6  0.037274   0.962726    0.8265  0.889427    0.6631    0.834217   0.035993   \n",
       "7  0.033024   0.966976    0.9487  0.957751    0.7848    0.933540   0.031903   \n",
       "8  0.093957   0.906043    1.0000  0.950706    0.9058    0.914621   0.094410   \n",
       "9  0.184539   0.815461    1.0000  0.898352    1.0000    0.815461   0.184539   \n",
       "\n",
       "   Prec_offPQ  Rec_offPQ  F1_offPQ  FNR_offPQ  \n",
       "0    0.784841     0.0963  0.171551     0.0005  \n",
       "1    0.883816     0.2168  0.348189     0.0503  \n",
       "2    0.918728     0.3380  0.494188     0.1725  \n",
       "3    0.938647     0.4605  0.617872     0.2950  \n",
       "4    0.950587     0.5829  0.722663     0.4172  \n",
       "5    0.958277     0.7051  0.812421     0.5396  \n",
       "6    0.964007     0.8276  0.890611     0.6621  \n",
       "7    0.968097     0.9498  0.958861     0.7833  \n",
       "8    0.905590     0.9995  0.950231     0.9038  \n",
       "9    0.815461     1.0000  0.898352     1.0000  "
      ]
     },
     "execution_count": 54,
     "metadata": {},
     "output_type": "execute_result"
    }
   ],
   "source": [
    "# df_FPresults.to_csv(config['metadata']['uniqueID'] + '/' + config['metadata']['result'] + \n",
    "#                     \"_allPQresults.csv\", index=False)\n",
    "\n",
    "# Rows 3=0.4, 4=0.5, 5=0.6\n",
    "df_FPresults#.iloc[4]"
   ]
  },
  {
   "cell_type": "raw",
   "metadata": {},
   "source": [
    "# reject 50%\n",
    "df_FPresults.iloc[4]"
   ]
  },
  {
   "cell_type": "code",
   "execution_count": null,
   "metadata": {},
   "outputs": [],
   "source": []
  },
  {
   "cell_type": "code",
   "execution_count": null,
   "metadata": {},
   "outputs": [],
   "source": []
  },
  {
   "cell_type": "code",
   "execution_count": null,
   "metadata": {},
   "outputs": [],
   "source": []
  },
  {
   "cell_type": "code",
   "execution_count": null,
   "metadata": {},
   "outputs": [],
   "source": []
  },
  {
   "cell_type": "markdown",
   "metadata": {},
   "source": [
    "### Calculate evaluation metrics "
   ]
  },
  {
   "cell_type": "code",
   "execution_count": 30,
   "metadata": {},
   "outputs": [],
   "source": [
    "fpr=graphP; tpr=P_tpr\n",
    "# fpr=graphPQ_online; tpr=onlinePQ_tpr\n",
    "# fpr=graphPQ_offline; tpr=offlinePQ_tpr"
   ]
  },
  {
   "cell_type": "code",
   "execution_count": 31,
   "metadata": {},
   "outputs": [
    {
     "name": "stdout",
     "output_type": "stream",
     "text": [
      "12263 2263 10000 86.0 2177.0 7272.0 2728.0\n"
     ]
    }
   ],
   "source": [
    "tau = 5 #3=0.4, 4=0.5, 5=0.6\n",
    "fpr = np.array(fpr[1:])\n",
    "tpr = np.array(tpr)\n",
    "\n",
    "Total = len(agt_normals)+len(agt_attacks) #len(userScoreP)\n",
    "TotalN = len(agt_normals)\n",
    "TotalP = Total-TotalN\n",
    "FP = fpr*TotalN\n",
    "TN = TotalN - FP\n",
    "TP = tpr*TotalP\n",
    "FN = TotalP-TP\n",
    "\n",
    "print(Total, TotalN, TotalP, FP[tau], TN[tau], TP[tau], FN[tau])"
   ]
  },
  {
   "cell_type": "code",
   "execution_count": 32,
   "metadata": {},
   "outputs": [
    {
     "name": "stdout",
     "output_type": "stream",
     "text": [
      "0.7705292342819865 0.03800265134776845 0.9883120413155749 0.7272 0.8378845489111648\n"
     ]
    }
   ],
   "source": [
    "Accr = (TP+TN) / (TP+TN+FP+FN)\n",
    "FPR = FP / (FP + TN)\n",
    "Prec = TP / (TP + FP)\n",
    "Rec = TP / (TP + FN)\n",
    "F1 = 2 * ((Prec*Rec) / (Prec+Rec))\n",
    "\n",
    "print(Accr[tau], FPR[tau], Prec[tau], Rec[tau], F1[tau])"
   ]
  },
  {
   "cell_type": "code",
   "execution_count": 33,
   "metadata": {},
   "outputs": [],
   "source": [
    "graphP = np.array(graphP)\n",
    "graphPQ= np.array(graphPQ_online)\n",
    "graphPQTil= np.array(graphPQ_offline)\n",
    "\n",
    "df_FPresults = pd.DataFrame({\"P_FP\":graphP[1:], \"OnlineQ_FP\":graphPQ[1:], \"OfflineQ_FP\":graphPQTil[1:], \n",
    "                             \"Accr\":Accr, \"FPR\":FPR, \"Precision\":Prec, \n",
    "                             \"Recall\":Rec, \"F1_score\":F1})\n",
    "\n",
    "# df_FPresults.to_csv(config['metadata']['uniqueID'] + '/' + config['metadata']['result'] + \n",
    "#                     \"_FPresults.csv\", index=False)"
   ]
  },
  {
   "cell_type": "code",
   "execution_count": 34,
   "metadata": {
    "scrolled": true
   },
   "outputs": [
    {
     "data": {
      "text/html": [
       "<div>\n",
       "<style scoped>\n",
       "    .dataframe tbody tr th:only-of-type {\n",
       "        vertical-align: middle;\n",
       "    }\n",
       "\n",
       "    .dataframe tbody tr th {\n",
       "        vertical-align: top;\n",
       "    }\n",
       "\n",
       "    .dataframe thead th {\n",
       "        text-align: right;\n",
       "    }\n",
       "</style>\n",
       "<table border=\"1\" class=\"dataframe\">\n",
       "  <thead>\n",
       "    <tr style=\"text-align: right;\">\n",
       "      <th></th>\n",
       "      <th>P_FP</th>\n",
       "      <th>OnlineQ_FP</th>\n",
       "      <th>OfflineQ_FP</th>\n",
       "      <th>Accr</th>\n",
       "      <th>FPR</th>\n",
       "      <th>Precision</th>\n",
       "      <th>Recall</th>\n",
       "      <th>F1_score</th>\n",
       "    </tr>\n",
       "  </thead>\n",
       "  <tbody>\n",
       "    <tr>\n",
       "      <th>0</th>\n",
       "      <td>0.007070</td>\n",
       "      <td>0.125497</td>\n",
       "      <td>0.116659</td>\n",
       "      <td>0.281986</td>\n",
       "      <td>0.007070</td>\n",
       "      <td>0.986960</td>\n",
       "      <td>0.1211</td>\n",
       "      <td>0.215730</td>\n",
       "    </tr>\n",
       "    <tr>\n",
       "      <th>1</th>\n",
       "      <td>0.013699</td>\n",
       "      <td>0.132567</td>\n",
       "      <td>0.125939</td>\n",
       "      <td>0.379516</td>\n",
       "      <td>0.013699</td>\n",
       "      <td>0.987362</td>\n",
       "      <td>0.2422</td>\n",
       "      <td>0.388983</td>\n",
       "    </tr>\n",
       "    <tr>\n",
       "      <th>2</th>\n",
       "      <td>0.019885</td>\n",
       "      <td>0.136544</td>\n",
       "      <td>0.132125</td>\n",
       "      <td>0.477208</td>\n",
       "      <td>0.019885</td>\n",
       "      <td>0.987768</td>\n",
       "      <td>0.3634</td>\n",
       "      <td>0.531325</td>\n",
       "    </tr>\n",
       "    <tr>\n",
       "      <th>3</th>\n",
       "      <td>0.026513</td>\n",
       "      <td>0.139196</td>\n",
       "      <td>0.133009</td>\n",
       "      <td>0.574819</td>\n",
       "      <td>0.026513</td>\n",
       "      <td>0.987770</td>\n",
       "      <td>0.4846</td>\n",
       "      <td>0.650208</td>\n",
       "    </tr>\n",
       "    <tr>\n",
       "      <th>4</th>\n",
       "      <td>0.031374</td>\n",
       "      <td>0.140080</td>\n",
       "      <td>0.133893</td>\n",
       "      <td>0.673000</td>\n",
       "      <td>0.031374</td>\n",
       "      <td>0.988421</td>\n",
       "      <td>0.6061</td>\n",
       "      <td>0.751426</td>\n",
       "    </tr>\n",
       "    <tr>\n",
       "      <th>5</th>\n",
       "      <td>0.038003</td>\n",
       "      <td>0.141405</td>\n",
       "      <td>0.135661</td>\n",
       "      <td>0.770529</td>\n",
       "      <td>0.038003</td>\n",
       "      <td>0.988312</td>\n",
       "      <td>0.7272</td>\n",
       "      <td>0.837885</td>\n",
       "    </tr>\n",
       "    <tr>\n",
       "      <th>6</th>\n",
       "      <td>0.044189</td>\n",
       "      <td>0.141405</td>\n",
       "      <td>0.136544</td>\n",
       "      <td>0.868303</td>\n",
       "      <td>0.044189</td>\n",
       "      <td>0.988352</td>\n",
       "      <td>0.8485</td>\n",
       "      <td>0.913102</td>\n",
       "    </tr>\n",
       "    <tr>\n",
       "      <th>7</th>\n",
       "      <td>0.065400</td>\n",
       "      <td>0.143173</td>\n",
       "      <td>0.138312</td>\n",
       "      <td>0.960450</td>\n",
       "      <td>0.065400</td>\n",
       "      <td>0.984915</td>\n",
       "      <td>0.9663</td>\n",
       "      <td>0.975519</td>\n",
       "    </tr>\n",
       "    <tr>\n",
       "      <th>8</th>\n",
       "      <td>0.458241</td>\n",
       "      <td>0.458241</td>\n",
       "      <td>0.460451</td>\n",
       "      <td>0.915437</td>\n",
       "      <td>0.458241</td>\n",
       "      <td>0.906043</td>\n",
       "      <td>1.0000</td>\n",
       "      <td>0.950706</td>\n",
       "    </tr>\n",
       "    <tr>\n",
       "      <th>9</th>\n",
       "      <td>1.000000</td>\n",
       "      <td>1.000000</td>\n",
       "      <td>1.000000</td>\n",
       "      <td>0.815461</td>\n",
       "      <td>1.000000</td>\n",
       "      <td>0.815461</td>\n",
       "      <td>1.0000</td>\n",
       "      <td>0.898352</td>\n",
       "    </tr>\n",
       "  </tbody>\n",
       "</table>\n",
       "</div>"
      ],
      "text/plain": [
       "       P_FP  OnlineQ_FP  OfflineQ_FP      Accr       FPR  Precision  Recall  \\\n",
       "0  0.007070    0.125497     0.116659  0.281986  0.007070   0.986960  0.1211   \n",
       "1  0.013699    0.132567     0.125939  0.379516  0.013699   0.987362  0.2422   \n",
       "2  0.019885    0.136544     0.132125  0.477208  0.019885   0.987768  0.3634   \n",
       "3  0.026513    0.139196     0.133009  0.574819  0.026513   0.987770  0.4846   \n",
       "4  0.031374    0.140080     0.133893  0.673000  0.031374   0.988421  0.6061   \n",
       "5  0.038003    0.141405     0.135661  0.770529  0.038003   0.988312  0.7272   \n",
       "6  0.044189    0.141405     0.136544  0.868303  0.044189   0.988352  0.8485   \n",
       "7  0.065400    0.143173     0.138312  0.960450  0.065400   0.984915  0.9663   \n",
       "8  0.458241    0.458241     0.460451  0.915437  0.458241   0.906043  1.0000   \n",
       "9  1.000000    1.000000     1.000000  0.815461  1.000000   0.815461  1.0000   \n",
       "\n",
       "   F1_score  \n",
       "0  0.215730  \n",
       "1  0.388983  \n",
       "2  0.531325  \n",
       "3  0.650208  \n",
       "4  0.751426  \n",
       "5  0.837885  \n",
       "6  0.913102  \n",
       "7  0.975519  \n",
       "8  0.950706  \n",
       "9  0.898352  "
      ]
     },
     "execution_count": 34,
     "metadata": {},
     "output_type": "execute_result"
    }
   ],
   "source": [
    "df_FPresults"
   ]
  },
  {
   "cell_type": "raw",
   "metadata": {},
   "source": [
    "\"\"\"\n",
    "reject threshold = 40%\n",
    "print(Accr, FPR, Prec, Rec, F1)\n",
    "HULK: 0.9927961240948892,0.00930809804529941,0.9964550080428329,0.9935952177625961,0.9950230580800922\n",
    "GE: 0.9780898876404495,0.06741573033707865,0.9924385633270322,0.9831460674157303,0.9877704609595485\n",
    "slowhttp: 0.9137151398191244,0.11437908496732026,0.9569949916527546,0.9239130434782609,0.9401630901850673\n",
    "Heartbleed: 0.9097222222222222 0.2777777777777778 0.9678972712680578 0.9305555555555556 0.9488591660110149\n",
    "LOIC: 0.9762732962293993 0.03424657534246575 0.9891595435049444 0.9795709908069459 0.9843419169967335\n",
    "\"\"\""
   ]
  },
  {
   "cell_type": "raw",
   "metadata": {},
   "source": [
    "\"\"\"\n",
    "reject threshold = 50%\n",
    "print(Accr, FPR, Prec, Rec, F1)\n",
    "HULK: 0.9924694200363029,0.011169717654359293,0.9957501147305705,0.9938514090520923,0.9947998559101059\n",
    "GE: 0.9716853932584271,0.10112359550561797,0.9886621315192744,0.9797752808988764,0.984198645598194\n",
    "Slowhttp: 0.8969780905891701,0.1568627450980392,0.9415081983889323,0.9165217391304348,0.9288469620086431\n",
    "Heartbleed: 0.9118518518518518 0.3148148148148148 0.9640135478408128 0.937037037037037 0.9503338898163606\n",
    "LOIC: 0.9608343950575735 0.06506849315068493 0.9793832528822755 0.9689542483660131 0.9741408385875667\n",
    "\"\"\""
   ]
  },
  {
   "cell_type": "raw",
   "metadata": {},
   "source": [
    "\"\"\"\n",
    "reject threshold = 60%\n",
    "print(Accr, FPR, Prec, Rec, F1)\n",
    "HULK: 0.98981820117689,0.016754576481538937,0.9936288982872563,0.9923142613151151,0.9929711446753463\n",
    "GE: 0.9705056179775281,0.11797752808988764,0.9868049010367578,0.9803370786516854,0.9835603569751058\n",
    "Slowhttp: 0.8530442350626254,0.24836601307189543,0.9080067784479039,0.8898550724637682,0.8988392931566226\n",
    "Heartbleed: 0.9027777777777778 0.3888888888888889 0.9558359621451105 0.9351851851851852 0.9453978159126365\n",
    "LOIC: 0.9388222975132718 0.11301369863013698 0.9642334223495181 0.955071477195371 0.9596305821580213\n",
    "\"\"\""
   ]
  },
  {
   "cell_type": "code",
   "execution_count": null,
   "metadata": {},
   "outputs": [],
   "source": []
  },
  {
   "cell_type": "code",
   "execution_count": null,
   "metadata": {},
   "outputs": [],
   "source": []
  }
 ],
 "metadata": {
  "kernelspec": {
   "display_name": "ddos",
   "language": "python",
   "name": "ddos"
  },
  "language_info": {
   "codemirror_mode": {
    "name": "ipython",
    "version": 3
   },
   "file_extension": ".py",
   "mimetype": "text/x-python",
   "name": "python",
   "nbconvert_exporter": "python",
   "pygments_lexer": "ipython3",
   "version": "3.7.5"
  }
 },
 "nbformat": 4,
 "nbformat_minor": 4
}
