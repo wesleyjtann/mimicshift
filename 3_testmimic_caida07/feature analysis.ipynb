{
 "cells": [
  {
   "cell_type": "code",
   "execution_count": 1,
   "metadata": {},
   "outputs": [],
   "source": [
    "import yaml\n",
    "import sys\n",
    "import numpy as np\n",
    "import hashlib\n",
    "import pandas as pd # data processing, CSV file I/O (e.g. pd.read_csv)\n",
    "import math\n",
    "from scipy import stats\n",
    "from datetime import datetime, timedelta\n",
    "\n",
    "\n",
    "def getAgentHash(agent, agentHashRange) :\n",
    "    hashret = int(hashlib.sha1(agent.encode('utf-8')).hexdigest(), 16) % agentHashRange\n",
    "\n",
    "    return str(hashret)\n",
    "\n",
    "def loadConfig():\n",
    "    with open(sys.argv[1], \"r\") as ymlfile:\n",
    "        cfg = yaml.load(ymlfile)\n",
    "    return cfg\n",
    "\n",
    "def getHash(fullURI, queryHashRange):\n",
    "    hashret = 0\n",
    "\n",
    "    #Handles cases with no '/'\n",
    "    if(fullURI.find('/') == -1) :\n",
    "        fullURI = '/' + fullURI\n",
    "\n",
    "    uri = fullURI.split('?', 1)[0]\n",
    "\n",
    "    if (len(uri.rsplit('/', 1)) > 1) :\n",
    "        request = uri.rsplit('/', 1)[1]\n",
    "    else :\n",
    "        request = ''\n",
    "\n",
    "    if (len(fullURI.split('?', 1)) > 1) :\n",
    "        request = request + '?' + fullURI.split('?', 1)[1]\n",
    "    else :\n",
    "        request = request\n",
    "\n",
    "    hashret = int(hashlib.sha1(request.encode('utf-8')).hexdigest(), 16) % queryHashRange\n",
    "    uri = uri.rsplit('/', 1)[0]\n",
    "\n",
    "    return str(hashret)\n",
    "\n",
    "def getURI(fullURI):\n",
    "    uri = fullURI.split('?', 1)[0]\n",
    "    uri = uri.rsplit('/', 1)[0]\n",
    "\n",
    "\n",
    "    if uri == '' :\n",
    "        return '<EMPTY>'\n",
    "    else :\n",
    "        return str(uri)\n",
    "\n",
    "def converttodatetime(x, seqlen):\n",
    "    # if len(x)< 20:\n",
    "    if len(x)< seqlen:    # add\n",
    "        x += '.000'\n",
    "    return datetime.datetime.strptime(x, \"%Y-%m-%d %H:%M:%S.%f\")\n",
    "\n",
    "#TimeDif 0 Padding\n",
    "# Start = 14\n",
    "# End = 15\n",
    "def getTimeClass(time_dif):\n",
    "    time = 0\n",
    "    if time_dif == 0.0:\n",
    "        time = 0\n",
    "    elif time_dif < 0.001 :\n",
    "        time = 1\n",
    "    elif time_dif < 0.05 :\n",
    "        time = 2\n",
    "    elif time_dif < 0.1 :\n",
    "        time = 3\n",
    "    elif time_dif < 1 :\n",
    "        time = 4\n",
    "    elif time_dif < 15 :\n",
    "        time = 5\n",
    "    elif time_dif < 180 :\n",
    "        time = 6\n",
    "    elif time_dif > 300 :\n",
    "        time = 7\n",
    "\n",
    "    return str(time)\n",
    "\n",
    "#Source IP  Dest IP Time    Packet Len  IP Flags    TCP Len TCP Ack TCP Flags   TCP Window Size UDP Len ICMP Type   Protocols   Highest Layer(Protocol) Info\n",
    "def prepDataFrame(df, agentHashRange, queryHashRange) :\n",
    "    #create a deepcopy of the original df\n",
    "    df_temp = df.copy()\n",
    "    if type(df_temp['Absolute Time'].iloc[0]) == str:\n",
    "        df_temp['Absolute Time'] = df_temp['Absolute Time'].apply(lambda x: converttodatetime(x, config['SEQUENCELENGTH'])) # add\n",
    "\n",
    "    #converting type of status\n",
    "    df_temp = df_temp.astype({'Source IP' : 'str'})\n",
    "    df_temp = df_temp.astype({'Dest IP' : 'str'})\n",
    "    # df_temp = df_temp.astype({'Relative Time' : 'str'})\n",
    "    df_temp = df_temp.astype({'Packet Len': 'str'})\n",
    "    df_temp = df_temp.astype({'IP Flags' : 'str'})\n",
    "    df_temp = df_temp.astype({'TCP Len' : 'str'})\n",
    "    df_temp = df_temp.astype({'TCP Flags' : 'str'})\n",
    "    df_temp = df_temp.astype({'TCP Window Size': 'str'})\n",
    "    df_temp = df_temp.astype({'Protocols': 'str'})\n",
    "    df_temp = df_temp.astype({'Highest Layer(Protocol)': 'str'})\n",
    "    df_temp = df_temp.astype({'Info' : 'str'})\n",
    "\n",
    "    ##TCP ACK Feature Engineering\n",
    "    tcpack = np.array(df_temp['TCP Ack'])\n",
    "    bin_edges = stats.mstats.mquantiles(tcpack, np.arange(0,1,0.01)[1:])\n",
    "\n",
    "    df_temp.loc[df_temp['TCP Ack'] <= bin_edges[int(0)], 'new TCP Ack'] = int(0)\n",
    "\n",
    "    for i in range(len(bin_edges)-1):\n",
    "        df_temp.loc[(bin_edges[int(i)] < df_temp['TCP Ack']) & (df_temp['TCP Ack'] <= bin_edges[int(i+1)]), 'new TCP Ack'] = int(i+1)\n",
    "\n",
    "    df_temp.loc[df_temp['TCP Ack'] > bin_edges[-1], 'new TCP Ack'] = int(len(bin_edges))\n",
    "    df_temp['new TCP Ack'] = df_temp['new TCP Ack'].astype('str')\n",
    "\n",
    "    #Relative Time Feature Engineering\n",
    "    # reltime = np.array(df['Relative Time'])\n",
    "    # round_reltime = np.around(reltime, decimals=0, out=None)\n",
    "    # df_temp.insert(1, \"new Relative Time\", round_reltime, True)\n",
    "    # df_temp['new Relative Time'] = df_temp['new Relative Time'].astype('str')\n",
    "\n",
    "    #calculate the difference between requests from a specific user\n",
    "    df_temp['time_diff'] = df_temp.groupby('Source IP')['Absolute Time'].diff()\n",
    "\n",
    "    #Maybe can remove this (DOUBLE CHECK)\n",
    "    df_temp['time_diff_group'] = df_temp['time_diff'].apply(lambda x: getTimeClass(x.total_seconds()))\n",
    "\n",
    "    #Calculate the Combined Input of URI Hash Status Time\n",
    "    df_temp['Input'] = df_temp['Packet Len'] + '<JOIN>' + df_temp['IP Flags'] + '<JOIN>' + df_temp['TCP Len'] + '<JOIN>' + df_temp['new TCP Ack'] + '<JOIN>' + df_temp['TCP Flags'] + '<JOIN>' + df_temp['TCP Window Size'] + '<JOIN>' + df_temp['Highest Layer(Protocol)']\n",
    "\n",
    "    return df_temp\n",
    "\n",
    "def getSignificantRequest(dataframe, hashThreshold) :\n",
    "    freq = dataframe['Input'].value_counts(normalize=True)\n",
    "\n",
    "    ret = []\n",
    "\n",
    "    index = freq.index\n",
    "    for i in range(len(freq)):\n",
    "        if freq[i] > hashThreshold :\n",
    "            ret.append(index[i])\n",
    "\n",
    "    return ret\n",
    "\n",
    "# def keepOrHash(uri, sig, inputHashRange) :\n",
    "#     if uri in sig :\n",
    "#         return uri\n",
    "#     else :\n",
    "#         return str(int(hashlib.sha1(uri.encode('utf-8')).hexdigest(), 16) % inputHashRange)\n",
    "def keepOrHash(uri, sig, inputHashRange) :\n",
    "#     if uri in sig :\n",
    "#         return uri\n",
    "#     else :\n",
    "    return str(int(hashlib.sha1(uri.encode('utf-8')).hexdigest(), 16) % inputHashRange)\n",
    "\n",
    "def sequentializeDataFrame(df, sig, inputHashRange, seqlen): # add\n",
    "    #create a deepcopy of the original df\n",
    "    df_temp = df.copy()\n",
    "    if type(df_temp['Absolute Time'].iloc[0]) == str:\n",
    "        df_temp['Absolute Time'] = df_temp['Absolute Time'].apply(lambda x: converttodatetime(x, config['SEQUENCELENGTH'])) # add\n",
    "    #converting type of status\n",
    "    df_temp = df_temp.astype({'Source IP' : 'str'})\n",
    "    df_temp = df_temp.astype({'Dest IP' : 'str'})\n",
    "    # df_temp = df_temp.astype({'Relative Time' : 'str'})\n",
    "    df_temp = df_temp.astype({'Packet Len': 'str'})\n",
    "    df_temp = df_temp.astype({'IP Flags' : 'str'})\n",
    "    df_temp = df_temp.astype({'TCP Len' : 'str'})\n",
    "    df_temp = df_temp.astype({'TCP Ack' : 'str'})\n",
    "    df_temp = df_temp.astype({'TCP Flags' : 'str'})\n",
    "    df_temp = df_temp.astype({'TCP Window Size': 'str'})\n",
    "    df_temp = df_temp.astype({'Protocols': 'str'})\n",
    "    df_temp = df_temp.astype({'Highest Layer(Protocol)': 'str'})\n",
    "    df_temp = df_temp.astype({'Info' : 'str'})\n",
    "    df_temp = df_temp.astype({'Input': 'str'})\n",
    "\n",
    "    #Uncomment if you want to hash the Input\n",
    "    df_temp['Input'] = df_temp['Input'].apply(lambda x: keepOrHash(x, sig, inputHashRange))\n",
    "\n",
    "    #create groups based on 1 min interval\n",
    "    df_temp['groups'] = df_temp.groupby('Source IP')['time_diff'].apply(lambda x: x.gt(pd.Timedelta(1, 'm')).cumsum())\n",
    "    df_temp['time_diff'] = df_temp['time_diff'].apply(lambda x: getTimeClass(x.total_seconds()))\n",
    "    #grouping in sequences of 20 length\n",
    "    df_temp['group_len'] = df_temp.groupby(['Source IP', 'Dest IP', 'groups'])['Absolute Time'].rank(method = 'first')\n",
    "    # df_temp['group_len'] = df_temp['group_len'].apply(lambda x: math.ceil(x/20))\n",
    "    df_temp['group_len'] = df_temp['group_len'].apply(lambda x: math.ceil(x/seqlen)) # add\n",
    "\n",
    "    #create groups based on \"remote_addr\" and \"groups\"\n",
    "    df_temp = df_temp.groupby(['Source IP', 'Dest IP', 'groups', 'group_len'])\n",
    "\n",
    "    #aggregation\n",
    "    sr = df_temp['Protocols', 'Info'].agg(lambda x: \"<SEP>\".join(x))\n",
    "    sr['Input'] = df_temp['Input'].agg(lambda x: \"<SEP>\".join(x))\n",
    "    sr.reset_index(inplace=True)\n",
    "    #converting to dataframe\n",
    "    #sr = sr.to_frame()\n",
    "    sr = sr.drop(columns = ['groups', 'group_len'])\n",
    "    return sr\n",
    "\n",
    "def getCountryAgentPair(x, y):\n",
    "    agent = x.split('<SEP>')[0]\n",
    "    country = y.split('<SEP>')[0]\n",
    "\n",
    "    return str(country) + '<JOIN>' + str(agent)\n",
    "\n",
    "def getFirstOnly(y):\n",
    "    country = y.split('<SEP>')[0]\n",
    "\n",
    "    return str(country)\n",
    "\n",
    "\n",
    "#Remove request if Remote Addresses (IP) appear 10 or less times\n",
    "#Because the data is not in chronological form, sort by timestamp to get in chronological form\n",
    "def filterAndSort(df) :\n",
    "    df = df.sort_values(by=['Absolute Time'])\n",
    "    before = len(df)\n",
    "    df = df.groupby('Source IP').filter(lambda x: len(x) > 10)\n",
    "    after = len(df)\n",
    "    df = df.reset_index()\n",
    "\n",
    "    print(\"Before = {}, After = {}\".format(before, after))\n",
    "\n",
    "    return df\n",
    "\n",
    "#Split dataframe into 5s interval\n",
    "def getIntervals(df) :\n",
    "    ret = []\n",
    "    S = pd.to_datetime(df['Absolute Time'])\n",
    "    timebins = (S - S[0]).astype('timedelta64[m]')\n",
    "    timebins = timebins.tolist()\n",
    "    timebins = [math.floor(time/1) for time in timebins]\n",
    "    timebins = [pd.Series(timebins)]\n",
    "\n",
    "    for i, g in df.groupby(timebins):\n",
    "        ret.append(g.reset_index(drop=True))\n",
    "\n",
    "    return ret\n"
   ]
  },
  {
   "cell_type": "code",
   "execution_count": 2,
   "metadata": {},
   "outputs": [
    {
     "name": "stdout",
     "output_type": "stream",
     "text": [
      "*****     Starting Preprocessing     ******\n"
     ]
    },
    {
     "name": "stderr",
     "output_type": "stream",
     "text": [
      "/home/wesleyjtann/miniconda3/envs/ddosgen/lib/python3.6/site-packages/ipykernel_launcher.py:4: YAMLLoadWarning: calling yaml.load() without Loader=... is deprecated, as the default Loader is unsafe. Please read https://msg.pyyaml.org/load for full details.\n",
      "  after removing the cwd from sys.path.\n"
     ]
    }
   ],
   "source": [
    "print(\"*****     Starting Preprocessing     ******\")\n",
    "# config = loadConfig()\n",
    "with open('light_config.yaml', \"r\") as ymlfile:\n",
    "    config = yaml.load(ymlfile)"
   ]
  },
  {
   "cell_type": "code",
   "execution_count": 4,
   "metadata": {
    "scrolled": true
   },
   "outputs": [
    {
     "name": "stdout",
     "output_type": "stream",
     "text": [
      "Before = 20533086, After = 20531528\n",
      "Before = 593871, After = 593462\n"
     ]
    }
   ],
   "source": [
    "dfA = pd.read_csv(config['datapath']['a'], parse_dates=['Absolute Time'])\n",
    "dfN1 = pd.read_csv(config['datapath']['n1'], parse_dates=['Absolute Time'])\n",
    "\n",
    "# #load N2\n",
    "# dfN2 = pd.read_csv(config['datapath']['n2'], parse_dates=['Absolute Time'])\n",
    "\n",
    "#Remove request if Remote Addresses (IP) appear 10 or less times\n",
    "#Because the data is not in chronological form, sort by timestamp to get in chronological form\n",
    "dfA = filterAndSort(dfA)\n",
    "dfN1 = filterAndSort(dfN1)\n",
    "# dfN2 = filterAndSort(dfN2)"
   ]
  },
  {
   "cell_type": "code",
   "execution_count": 5,
   "metadata": {},
   "outputs": [],
   "source": [
    "#Prepares A1 and N1 for sequentializing\n",
    "df_normal = prepDataFrame(dfN1, config['variablesHash']['agentHashRange'], config['variablesHash']['queryHashRange'])\n",
    "# df_normal2 = prepDataFrame(dfN2, config['variablesHash']['agentHashRange'], config['variablesHash']['queryHashRange'])\n",
    "significantNormal = getSignificantRequest(df_normal, config['variablesHash']['inputHashThreshold'])"
   ]
  },
  {
   "cell_type": "raw",
   "metadata": {},
   "source": [
    "import itertools\n",
    "\n",
    "set(itertools.chain.from_iterable(df_normal['Input']))"
   ]
  },
  {
   "cell_type": "code",
   "execution_count": 6,
   "metadata": {
    "scrolled": true
   },
   "outputs": [
    {
     "data": {
      "text/html": [
       "<div>\n",
       "<style scoped>\n",
       "    .dataframe tbody tr th:only-of-type {\n",
       "        vertical-align: middle;\n",
       "    }\n",
       "\n",
       "    .dataframe tbody tr th {\n",
       "        vertical-align: top;\n",
       "    }\n",
       "\n",
       "    .dataframe thead th {\n",
       "        text-align: right;\n",
       "    }\n",
       "</style>\n",
       "<table border=\"1\" class=\"dataframe\">\n",
       "  <thead>\n",
       "    <tr style=\"text-align: right;\">\n",
       "      <th></th>\n",
       "      <th>index</th>\n",
       "      <th>Unnamed: 0</th>\n",
       "      <th>Pkt #</th>\n",
       "      <th>Absolute Time</th>\n",
       "      <th>Source IP</th>\n",
       "      <th>Dest IP</th>\n",
       "      <th>Source Port</th>\n",
       "      <th>Dest Port</th>\n",
       "      <th>Relative Time</th>\n",
       "      <th>Packet Len</th>\n",
       "      <th>...</th>\n",
       "      <th>TCP Ack</th>\n",
       "      <th>TCP Flags</th>\n",
       "      <th>TCP Window Size</th>\n",
       "      <th>Protocols</th>\n",
       "      <th>Highest Layer(Protocol)</th>\n",
       "      <th>Info</th>\n",
       "      <th>new TCP Ack</th>\n",
       "      <th>time_diff</th>\n",
       "      <th>time_diff_group</th>\n",
       "      <th>Input</th>\n",
       "    </tr>\n",
       "  </thead>\n",
       "  <tbody>\n",
       "    <tr>\n",
       "      <th>0</th>\n",
       "      <td>0</td>\n",
       "      <td>0</td>\n",
       "      <td>0</td>\n",
       "      <td>2007-08-04 20:49:36.487629</td>\n",
       "      <td>202.1.175.252</td>\n",
       "      <td>71.126.222.64</td>\n",
       "      <td>0.0</td>\n",
       "      <td>0.0</td>\n",
       "      <td>0.000000</td>\n",
       "      <td>60</td>\n",
       "      <td>...</td>\n",
       "      <td>0.0</td>\n",
       "      <td>0</td>\n",
       "      <td>0.0</td>\n",
       "      <td>raw:ip:icmp</td>\n",
       "      <td>ICMP</td>\n",
       "      <td>Echo (ping) request  id=0xce1d, seq=1280/5, tt...</td>\n",
       "      <td>0.0</td>\n",
       "      <td>NaT</td>\n",
       "      <td>0</td>\n",
       "      <td>60&lt;JOIN&gt;0x00000000&lt;JOIN&gt;0.0&lt;JOIN&gt;0.0&lt;JOIN&gt;0&lt;JO...</td>\n",
       "    </tr>\n",
       "    <tr>\n",
       "      <th>1</th>\n",
       "      <td>1</td>\n",
       "      <td>1</td>\n",
       "      <td>1</td>\n",
       "      <td>2007-08-04 20:49:36.489552</td>\n",
       "      <td>192.120.148.227</td>\n",
       "      <td>71.126.222.64</td>\n",
       "      <td>0.0</td>\n",
       "      <td>0.0</td>\n",
       "      <td>0.001923</td>\n",
       "      <td>60</td>\n",
       "      <td>...</td>\n",
       "      <td>0.0</td>\n",
       "      <td>0</td>\n",
       "      <td>0.0</td>\n",
       "      <td>raw:ip:icmp</td>\n",
       "      <td>ICMP</td>\n",
       "      <td>Echo (ping) request  id=0x0200, seq=1280/5, tt...</td>\n",
       "      <td>0.0</td>\n",
       "      <td>NaT</td>\n",
       "      <td>0</td>\n",
       "      <td>60&lt;JOIN&gt;0x00000000&lt;JOIN&gt;0.0&lt;JOIN&gt;0.0&lt;JOIN&gt;0&lt;JO...</td>\n",
       "    </tr>\n",
       "    <tr>\n",
       "      <th>2</th>\n",
       "      <td>2</td>\n",
       "      <td>2</td>\n",
       "      <td>2</td>\n",
       "      <td>2007-08-04 20:49:36.491812</td>\n",
       "      <td>51.81.166.201</td>\n",
       "      <td>71.126.222.64</td>\n",
       "      <td>0.0</td>\n",
       "      <td>0.0</td>\n",
       "      <td>0.004183</td>\n",
       "      <td>60</td>\n",
       "      <td>...</td>\n",
       "      <td>0.0</td>\n",
       "      <td>0</td>\n",
       "      <td>0.0</td>\n",
       "      <td>raw:ip:icmp</td>\n",
       "      <td>ICMP</td>\n",
       "      <td>Echo (ping) request  id=0xef41, seq=1280/5, tt...</td>\n",
       "      <td>0.0</td>\n",
       "      <td>NaT</td>\n",
       "      <td>0</td>\n",
       "      <td>60&lt;JOIN&gt;0x00000000&lt;JOIN&gt;0.0&lt;JOIN&gt;0.0&lt;JOIN&gt;0&lt;JO...</td>\n",
       "    </tr>\n",
       "    <tr>\n",
       "      <th>3</th>\n",
       "      <td>3</td>\n",
       "      <td>3</td>\n",
       "      <td>3</td>\n",
       "      <td>2007-08-04 20:49:36.492189</td>\n",
       "      <td>192.95.27.190</td>\n",
       "      <td>71.126.222.64</td>\n",
       "      <td>0.0</td>\n",
       "      <td>0.0</td>\n",
       "      <td>0.004560</td>\n",
       "      <td>60</td>\n",
       "      <td>...</td>\n",
       "      <td>0.0</td>\n",
       "      <td>0</td>\n",
       "      <td>0.0</td>\n",
       "      <td>raw:ip:icmp</td>\n",
       "      <td>ICMP</td>\n",
       "      <td>Echo (ping) request  id=0xc495, seq=1280/5, tt...</td>\n",
       "      <td>0.0</td>\n",
       "      <td>NaT</td>\n",
       "      <td>0</td>\n",
       "      <td>60&lt;JOIN&gt;0x00000000&lt;JOIN&gt;0.0&lt;JOIN&gt;0.0&lt;JOIN&gt;0&lt;JO...</td>\n",
       "    </tr>\n",
       "    <tr>\n",
       "      <th>4</th>\n",
       "      <td>4</td>\n",
       "      <td>4</td>\n",
       "      <td>4</td>\n",
       "      <td>2007-08-04 20:49:36.496475</td>\n",
       "      <td>51.173.229.255</td>\n",
       "      <td>71.126.222.64</td>\n",
       "      <td>0.0</td>\n",
       "      <td>0.0</td>\n",
       "      <td>0.008846</td>\n",
       "      <td>60</td>\n",
       "      <td>...</td>\n",
       "      <td>0.0</td>\n",
       "      <td>0</td>\n",
       "      <td>0.0</td>\n",
       "      <td>raw:ip:icmp</td>\n",
       "      <td>ICMP</td>\n",
       "      <td>Echo (ping) request  id=0x0200, seq=1280/5, tt...</td>\n",
       "      <td>0.0</td>\n",
       "      <td>NaT</td>\n",
       "      <td>0</td>\n",
       "      <td>60&lt;JOIN&gt;0x00000000&lt;JOIN&gt;0.0&lt;JOIN&gt;0.0&lt;JOIN&gt;0&lt;JO...</td>\n",
       "    </tr>\n",
       "  </tbody>\n",
       "</table>\n",
       "<p>5 rows × 22 columns</p>\n",
       "</div>"
      ],
      "text/plain": [
       "   index  Unnamed: 0  Pkt #              Absolute Time        Source IP  \\\n",
       "0      0           0      0 2007-08-04 20:49:36.487629    202.1.175.252   \n",
       "1      1           1      1 2007-08-04 20:49:36.489552  192.120.148.227   \n",
       "2      2           2      2 2007-08-04 20:49:36.491812    51.81.166.201   \n",
       "3      3           3      3 2007-08-04 20:49:36.492189    192.95.27.190   \n",
       "4      4           4      4 2007-08-04 20:49:36.496475   51.173.229.255   \n",
       "\n",
       "         Dest IP  Source Port  Dest Port  Relative Time Packet Len  ...  \\\n",
       "0  71.126.222.64          0.0        0.0       0.000000         60  ...   \n",
       "1  71.126.222.64          0.0        0.0       0.001923         60  ...   \n",
       "2  71.126.222.64          0.0        0.0       0.004183         60  ...   \n",
       "3  71.126.222.64          0.0        0.0       0.004560         60  ...   \n",
       "4  71.126.222.64          0.0        0.0       0.008846         60  ...   \n",
       "\n",
       "  TCP Ack TCP Flags  TCP Window Size    Protocols Highest Layer(Protocol)  \\\n",
       "0     0.0         0              0.0  raw:ip:icmp                    ICMP   \n",
       "1     0.0         0              0.0  raw:ip:icmp                    ICMP   \n",
       "2     0.0         0              0.0  raw:ip:icmp                    ICMP   \n",
       "3     0.0         0              0.0  raw:ip:icmp                    ICMP   \n",
       "4     0.0         0              0.0  raw:ip:icmp                    ICMP   \n",
       "\n",
       "                                                Info new TCP Ack time_diff  \\\n",
       "0  Echo (ping) request  id=0xce1d, seq=1280/5, tt...         0.0       NaT   \n",
       "1  Echo (ping) request  id=0x0200, seq=1280/5, tt...         0.0       NaT   \n",
       "2  Echo (ping) request  id=0xef41, seq=1280/5, tt...         0.0       NaT   \n",
       "3  Echo (ping) request  id=0xc495, seq=1280/5, tt...         0.0       NaT   \n",
       "4  Echo (ping) request  id=0x0200, seq=1280/5, tt...         0.0       NaT   \n",
       "\n",
       "  time_diff_group                                              Input  \n",
       "0               0  60<JOIN>0x00000000<JOIN>0.0<JOIN>0.0<JOIN>0<JO...  \n",
       "1               0  60<JOIN>0x00000000<JOIN>0.0<JOIN>0.0<JOIN>0<JO...  \n",
       "2               0  60<JOIN>0x00000000<JOIN>0.0<JOIN>0.0<JOIN>0<JO...  \n",
       "3               0  60<JOIN>0x00000000<JOIN>0.0<JOIN>0.0<JOIN>0<JO...  \n",
       "4               0  60<JOIN>0x00000000<JOIN>0.0<JOIN>0.0<JOIN>0<JO...  \n",
       "\n",
       "[5 rows x 22 columns]"
      ]
     },
     "execution_count": 6,
     "metadata": {},
     "output_type": "execute_result"
    }
   ],
   "source": [
    "df_normal.head()"
   ]
  },
  {
   "cell_type": "code",
   "execution_count": 7,
   "metadata": {},
   "outputs": [
    {
     "data": {
      "text/plain": [
       "index                      593462\n",
       "Unnamed: 0                 166439\n",
       "Pkt #                      166439\n",
       "Absolute Time              593462\n",
       "Source IP                     125\n",
       "Dest IP                       190\n",
       "Source Port                  5573\n",
       "Dest Port                    4523\n",
       "Relative Time              592964\n",
       "Packet Len                   1059\n",
       "IP Flags                        2\n",
       "TCP Len                      1051\n",
       "TCP Ack                      7598\n",
       "TCP Flags                       9\n",
       "TCP Window Size              1614\n",
       "Protocols                       4\n",
       "Highest Layer(Protocol)         3\n",
       "Info                        98743\n",
       "new TCP Ack                    15\n",
       "time_diff                   63709\n",
       "time_diff_group                 8\n",
       "Input                        7789\n",
       "dtype: int64"
      ]
     },
     "execution_count": 7,
     "metadata": {},
     "output_type": "execute_result"
    }
   ],
   "source": [
    "df_normal.nunique()"
   ]
  },
  {
   "cell_type": "code",
   "execution_count": 8,
   "metadata": {
    "scrolled": true
   },
   "outputs": [
    {
     "name": "stdout",
     "output_type": "stream",
     "text": [
      "Top 10:  0.8103113594467717\n"
     ]
    },
    {
     "data": {
      "image/png": "[encoded data removed]",
      "text/plain": [
       "<Figure size 432x288 with 1 Axes>"
      ]
     },
     "metadata": {
      "needs_background": "light"
     },
     "output_type": "display_data"
    }
   ],
   "source": [
    "feature = 'Packet Len' \n",
    "num_feature = df_normal[feature].nunique()\n",
    "percent_plot = 0.007\n",
    "range_plot = int(num_feature*percent_plot)\n",
    "# print(df_normal[feature].value_counts())\n",
    "\n",
    "print(\"Top 10: \", sum(df_normal[feature].value_counts().nlargest(1)) / len(df_normal[feature]))\n",
    "df_normal[feature].value_counts()[:range_plot].plot(kind='bar').get_xaxis().set_visible(False)"
   ]
  },
  {
   "cell_type": "raw",
   "metadata": {
    "scrolled": true
   },
   "source": [
    "import matplotlib.pyplot as plt\n",
    "plt.figure()\n",
    "df_normal[feature].value_counts()[:range_plot].plot(kind='bar').get_xaxis().set_visible(False)\n",
    "plt.savefig(\"./caidalen_feature.png\",bbox_inches=\"tight\")"
   ]
  },
  {
   "cell_type": "code",
   "execution_count": 9,
   "metadata": {
    "scrolled": true
   },
   "outputs": [
    {
     "name": "stdout",
     "output_type": "stream",
     "text": [
      "Top 10:  1.0\n"
     ]
    },
    {
     "data": {
      "image/png": "[encoded data removed]",
      "text/plain": [
       "<Figure size 432x288 with 1 Axes>"
      ]
     },
     "metadata": {
      "needs_background": "light"
     },
     "output_type": "display_data"
    }
   ],
   "source": [
    "feature = 'IP Flags' \n",
    "num_feature = df_normal[feature].nunique()\n",
    "percent_plot = 1\n",
    "range_plot = int(num_feature*percent_plot)\n",
    "# print(df_normal[feature].value_counts())\n",
    "\n",
    "print(\"Top 10: \", sum(df_normal[feature].value_counts().nlargest(10)) / len(df_normal[feature]))\n",
    "df_normal[feature].value_counts()[:range_plot].plot(kind='bar').get_xaxis().set_visible(False)"
   ]
  },
  {
   "cell_type": "code",
   "execution_count": 10,
   "metadata": {
    "scrolled": true
   },
   "outputs": [
    {
     "name": "stdout",
     "output_type": "stream",
     "text": [
      "Top 10:  0.9758653460541703\n"
     ]
    },
    {
     "data": {
      "image/png": "[encoded data removed]",
      "text/plain": [
       "<Figure size 432x288 with 1 Axes>"
      ]
     },
     "metadata": {
      "needs_background": "light"
     },
     "output_type": "display_data"
    }
   ],
   "source": [
    "feature = 'TCP Len' \n",
    "num_feature = df_normal[feature].nunique()\n",
    "percent_plot = 0.01\n",
    "range_plot = int(num_feature*percent_plot)\n",
    "# print(df_normal[feature].value_counts())\n",
    "\n",
    "print(\"Top 10: \", sum(df_normal[feature].value_counts().nlargest(10)) / len(df_normal[feature]))\n",
    "df_normal[feature].value_counts()[:range_plot].plot(kind='bar').get_xaxis().set_visible(False)"
   ]
  },
  {
   "cell_type": "code",
   "execution_count": 12,
   "metadata": {
    "scrolled": true
   },
   "outputs": [
    {
     "name": "stdout",
     "output_type": "stream",
     "text": [
      "Top 10:  0.8859337244844657\n"
     ]
    },
    {
     "ename": "KeyError",
     "evalue": "20.0",
     "output_type": "error",
     "traceback": [
      "\u001b[0;31m---------------------------------------------------------------------------\u001b[0m",
      "\u001b[0;31mValueError\u001b[0m                                Traceback (most recent call last)",
      "\u001b[0;32m~/miniconda3/envs/ddosgen/lib/python3.6/site-packages/pandas/core/indexes/base.py\u001b[0m in \u001b[0;36mget_slice_bound\u001b[0;34m(self, label, side, kind)\u001b[0m\n\u001b[1;32m   4804\u001b[0m             \u001b[0;32mtry\u001b[0m\u001b[0;34m:\u001b[0m\u001b[0;34m\u001b[0m\u001b[0;34m\u001b[0m\u001b[0m\n\u001b[0;32m-> 4805\u001b[0;31m                 \u001b[0;32mreturn\u001b[0m \u001b[0mself\u001b[0m\u001b[0;34m.\u001b[0m\u001b[0m_searchsorted_monotonic\u001b[0m\u001b[0;34m(\u001b[0m\u001b[0mlabel\u001b[0m\u001b[0;34m,\u001b[0m \u001b[0mside\u001b[0m\u001b[0;34m)\u001b[0m\u001b[0;34m\u001b[0m\u001b[0;34m\u001b[0m\u001b[0m\n\u001b[0m\u001b[1;32m   4806\u001b[0m             \u001b[0;32mexcept\u001b[0m \u001b[0mValueError\u001b[0m\u001b[0;34m:\u001b[0m\u001b[0;34m\u001b[0m\u001b[0;34m\u001b[0m\u001b[0m\n",
      "\u001b[0;32m~/miniconda3/envs/ddosgen/lib/python3.6/site-packages/pandas/core/indexes/base.py\u001b[0m in \u001b[0;36m_searchsorted_monotonic\u001b[0;34m(self, label, side)\u001b[0m\n\u001b[1;32m   4764\u001b[0m \u001b[0;34m\u001b[0m\u001b[0m\n\u001b[0;32m-> 4765\u001b[0;31m         \u001b[0;32mraise\u001b[0m \u001b[0mValueError\u001b[0m\u001b[0;34m(\u001b[0m\u001b[0;34m'index must be monotonic increasing or decreasing'\u001b[0m\u001b[0;34m)\u001b[0m\u001b[0;34m\u001b[0m\u001b[0;34m\u001b[0m\u001b[0m\n\u001b[0m\u001b[1;32m   4766\u001b[0m \u001b[0;34m\u001b[0m\u001b[0m\n",
      "\u001b[0;31mValueError\u001b[0m: index must be monotonic increasing or decreasing",
      "\nDuring handling of the above exception, another exception occurred:\n",
      "\u001b[0;31mKeyError\u001b[0m                                  Traceback (most recent call last)",
      "\u001b[0;32m<ipython-input-12-027c99c04a9c>\u001b[0m in \u001b[0;36m<module>\u001b[0;34m\u001b[0m\n\u001b[1;32m      6\u001b[0m \u001b[0;34m\u001b[0m\u001b[0m\n\u001b[1;32m      7\u001b[0m \u001b[0mprint\u001b[0m\u001b[0;34m(\u001b[0m\u001b[0;34m\"Top 10: \"\u001b[0m\u001b[0;34m,\u001b[0m \u001b[0msum\u001b[0m\u001b[0;34m(\u001b[0m\u001b[0mdf_normal\u001b[0m\u001b[0;34m[\u001b[0m\u001b[0mfeature\u001b[0m\u001b[0;34m]\u001b[0m\u001b[0;34m.\u001b[0m\u001b[0mvalue_counts\u001b[0m\u001b[0;34m(\u001b[0m\u001b[0;34m)\u001b[0m\u001b[0;34m.\u001b[0m\u001b[0mnlargest\u001b[0m\u001b[0;34m(\u001b[0m\u001b[0;36m10\u001b[0m\u001b[0;34m)\u001b[0m\u001b[0;34m)\u001b[0m \u001b[0;34m/\u001b[0m \u001b[0mlen\u001b[0m\u001b[0;34m(\u001b[0m\u001b[0mdf_normal\u001b[0m\u001b[0;34m[\u001b[0m\u001b[0mfeature\u001b[0m\u001b[0;34m]\u001b[0m\u001b[0;34m)\u001b[0m\u001b[0;34m)\u001b[0m\u001b[0;34m\u001b[0m\u001b[0;34m\u001b[0m\u001b[0m\n\u001b[0;32m----> 8\u001b[0;31m \u001b[0mdf_normal\u001b[0m\u001b[0;34m[\u001b[0m\u001b[0mfeature\u001b[0m\u001b[0;34m]\u001b[0m\u001b[0;34m.\u001b[0m\u001b[0mvalue_counts\u001b[0m\u001b[0;34m(\u001b[0m\u001b[0;34m)\u001b[0m\u001b[0;34m[\u001b[0m\u001b[0;34m:\u001b[0m\u001b[0;36m20\u001b[0m\u001b[0;34m]\u001b[0m\u001b[0;34m.\u001b[0m\u001b[0mplot\u001b[0m\u001b[0;34m(\u001b[0m\u001b[0mkind\u001b[0m\u001b[0;34m=\u001b[0m\u001b[0;34m'bar'\u001b[0m\u001b[0;34m)\u001b[0m\u001b[0;34m.\u001b[0m\u001b[0mget_xaxis\u001b[0m\u001b[0;34m(\u001b[0m\u001b[0;34m)\u001b[0m\u001b[0;34m.\u001b[0m\u001b[0mset_visible\u001b[0m\u001b[0;34m(\u001b[0m\u001b[0;32mFalse\u001b[0m\u001b[0;34m)\u001b[0m\u001b[0;34m\u001b[0m\u001b[0;34m\u001b[0m\u001b[0m\n\u001b[0m",
      "\u001b[0;32m~/miniconda3/envs/ddosgen/lib/python3.6/site-packages/pandas/core/series.py\u001b[0m in \u001b[0;36m__getitem__\u001b[0;34m(self, key)\u001b[0m\n\u001b[1;32m    909\u001b[0m             \u001b[0mkey\u001b[0m \u001b[0;34m=\u001b[0m \u001b[0mcheck_bool_indexer\u001b[0m\u001b[0;34m(\u001b[0m\u001b[0mself\u001b[0m\u001b[0;34m.\u001b[0m\u001b[0mindex\u001b[0m\u001b[0;34m,\u001b[0m \u001b[0mkey\u001b[0m\u001b[0;34m)\u001b[0m\u001b[0;34m\u001b[0m\u001b[0;34m\u001b[0m\u001b[0m\n\u001b[1;32m    910\u001b[0m \u001b[0;34m\u001b[0m\u001b[0m\n\u001b[0;32m--> 911\u001b[0;31m         \u001b[0;32mreturn\u001b[0m \u001b[0mself\u001b[0m\u001b[0;34m.\u001b[0m\u001b[0m_get_with\u001b[0m\u001b[0;34m(\u001b[0m\u001b[0mkey\u001b[0m\u001b[0;34m)\u001b[0m\u001b[0;34m\u001b[0m\u001b[0;34m\u001b[0m\u001b[0m\n\u001b[0m\u001b[1;32m    912\u001b[0m \u001b[0;34m\u001b[0m\u001b[0m\n\u001b[1;32m    913\u001b[0m     \u001b[0;32mdef\u001b[0m \u001b[0m_get_with\u001b[0m\u001b[0;34m(\u001b[0m\u001b[0mself\u001b[0m\u001b[0;34m,\u001b[0m \u001b[0mkey\u001b[0m\u001b[0;34m)\u001b[0m\u001b[0;34m:\u001b[0m\u001b[0;34m\u001b[0m\u001b[0;34m\u001b[0m\u001b[0m\n",
      "\u001b[0;32m~/miniconda3/envs/ddosgen/lib/python3.6/site-packages/pandas/core/series.py\u001b[0m in \u001b[0;36m_get_with\u001b[0;34m(self, key)\u001b[0m\n\u001b[1;32m    914\u001b[0m         \u001b[0;31m# other: fancy integer or otherwise\u001b[0m\u001b[0;34m\u001b[0m\u001b[0;34m\u001b[0m\u001b[0;34m\u001b[0m\u001b[0m\n\u001b[1;32m    915\u001b[0m         \u001b[0;32mif\u001b[0m \u001b[0misinstance\u001b[0m\u001b[0;34m(\u001b[0m\u001b[0mkey\u001b[0m\u001b[0;34m,\u001b[0m \u001b[0mslice\u001b[0m\u001b[0;34m)\u001b[0m\u001b[0;34m:\u001b[0m\u001b[0;34m\u001b[0m\u001b[0;34m\u001b[0m\u001b[0m\n\u001b[0;32m--> 916\u001b[0;31m             \u001b[0mindexer\u001b[0m \u001b[0;34m=\u001b[0m \u001b[0mself\u001b[0m\u001b[0;34m.\u001b[0m\u001b[0mindex\u001b[0m\u001b[0;34m.\u001b[0m\u001b[0m_convert_slice_indexer\u001b[0m\u001b[0;34m(\u001b[0m\u001b[0mkey\u001b[0m\u001b[0;34m,\u001b[0m \u001b[0mkind\u001b[0m\u001b[0;34m=\u001b[0m\u001b[0;34m'getitem'\u001b[0m\u001b[0;34m)\u001b[0m\u001b[0;34m\u001b[0m\u001b[0;34m\u001b[0m\u001b[0m\n\u001b[0m\u001b[1;32m    917\u001b[0m             \u001b[0;32mreturn\u001b[0m \u001b[0mself\u001b[0m\u001b[0;34m.\u001b[0m\u001b[0m_get_values\u001b[0m\u001b[0;34m(\u001b[0m\u001b[0mindexer\u001b[0m\u001b[0;34m)\u001b[0m\u001b[0;34m\u001b[0m\u001b[0;34m\u001b[0m\u001b[0m\n\u001b[1;32m    918\u001b[0m         \u001b[0;32melif\u001b[0m \u001b[0misinstance\u001b[0m\u001b[0;34m(\u001b[0m\u001b[0mkey\u001b[0m\u001b[0;34m,\u001b[0m \u001b[0mABCDataFrame\u001b[0m\u001b[0;34m)\u001b[0m\u001b[0;34m:\u001b[0m\u001b[0;34m\u001b[0m\u001b[0;34m\u001b[0m\u001b[0m\n",
      "\u001b[0;32m~/miniconda3/envs/ddosgen/lib/python3.6/site-packages/pandas/core/indexes/numeric.py\u001b[0m in \u001b[0;36m_convert_slice_indexer\u001b[0;34m(self, key, kind)\u001b[0m\n\u001b[1;32m    356\u001b[0m \u001b[0;34m\u001b[0m\u001b[0m\n\u001b[1;32m    357\u001b[0m         \u001b[0;31m# translate to locations\u001b[0m\u001b[0;34m\u001b[0m\u001b[0;34m\u001b[0m\u001b[0;34m\u001b[0m\u001b[0m\n\u001b[0;32m--> 358\u001b[0;31m         \u001b[0;32mreturn\u001b[0m \u001b[0mself\u001b[0m\u001b[0;34m.\u001b[0m\u001b[0mslice_indexer\u001b[0m\u001b[0;34m(\u001b[0m\u001b[0mkey\u001b[0m\u001b[0;34m.\u001b[0m\u001b[0mstart\u001b[0m\u001b[0;34m,\u001b[0m \u001b[0mkey\u001b[0m\u001b[0;34m.\u001b[0m\u001b[0mstop\u001b[0m\u001b[0;34m,\u001b[0m \u001b[0mkey\u001b[0m\u001b[0;34m.\u001b[0m\u001b[0mstep\u001b[0m\u001b[0;34m,\u001b[0m \u001b[0mkind\u001b[0m\u001b[0;34m=\u001b[0m\u001b[0mkind\u001b[0m\u001b[0;34m)\u001b[0m\u001b[0;34m\u001b[0m\u001b[0;34m\u001b[0m\u001b[0m\n\u001b[0m\u001b[1;32m    359\u001b[0m \u001b[0;34m\u001b[0m\u001b[0m\n\u001b[1;32m    360\u001b[0m     def _format_native_types(self, na_rep='', float_format=None, decimal='.',\n",
      "\u001b[0;32m~/miniconda3/envs/ddosgen/lib/python3.6/site-packages/pandas/core/indexes/base.py\u001b[0m in \u001b[0;36mslice_indexer\u001b[0;34m(self, start, end, step, kind)\u001b[0m\n\u001b[1;32m   4671\u001b[0m         \"\"\"\n\u001b[1;32m   4672\u001b[0m         start_slice, end_slice = self.slice_locs(start, end, step=step,\n\u001b[0;32m-> 4673\u001b[0;31m                                                  kind=kind)\n\u001b[0m\u001b[1;32m   4674\u001b[0m \u001b[0;34m\u001b[0m\u001b[0m\n\u001b[1;32m   4675\u001b[0m         \u001b[0;31m# return a slice\u001b[0m\u001b[0;34m\u001b[0m\u001b[0;34m\u001b[0m\u001b[0;34m\u001b[0m\u001b[0m\n",
      "\u001b[0;32m~/miniconda3/envs/ddosgen/lib/python3.6/site-packages/pandas/core/indexes/base.py\u001b[0m in \u001b[0;36mslice_locs\u001b[0;34m(self, start, end, step, kind)\u001b[0m\n\u001b[1;32m   4876\u001b[0m         \u001b[0mend_slice\u001b[0m \u001b[0;34m=\u001b[0m \u001b[0;32mNone\u001b[0m\u001b[0;34m\u001b[0m\u001b[0;34m\u001b[0m\u001b[0m\n\u001b[1;32m   4877\u001b[0m         \u001b[0;32mif\u001b[0m \u001b[0mend\u001b[0m \u001b[0;32mis\u001b[0m \u001b[0;32mnot\u001b[0m \u001b[0;32mNone\u001b[0m\u001b[0;34m:\u001b[0m\u001b[0;34m\u001b[0m\u001b[0;34m\u001b[0m\u001b[0m\n\u001b[0;32m-> 4878\u001b[0;31m             \u001b[0mend_slice\u001b[0m \u001b[0;34m=\u001b[0m \u001b[0mself\u001b[0m\u001b[0;34m.\u001b[0m\u001b[0mget_slice_bound\u001b[0m\u001b[0;34m(\u001b[0m\u001b[0mend\u001b[0m\u001b[0;34m,\u001b[0m \u001b[0;34m'right'\u001b[0m\u001b[0;34m,\u001b[0m \u001b[0mkind\u001b[0m\u001b[0;34m)\u001b[0m\u001b[0;34m\u001b[0m\u001b[0;34m\u001b[0m\u001b[0m\n\u001b[0m\u001b[1;32m   4879\u001b[0m         \u001b[0;32mif\u001b[0m \u001b[0mend_slice\u001b[0m \u001b[0;32mis\u001b[0m \u001b[0;32mNone\u001b[0m\u001b[0;34m:\u001b[0m\u001b[0;34m\u001b[0m\u001b[0;34m\u001b[0m\u001b[0m\n\u001b[1;32m   4880\u001b[0m             \u001b[0mend_slice\u001b[0m \u001b[0;34m=\u001b[0m \u001b[0mlen\u001b[0m\u001b[0;34m(\u001b[0m\u001b[0mself\u001b[0m\u001b[0;34m)\u001b[0m\u001b[0;34m\u001b[0m\u001b[0;34m\u001b[0m\u001b[0m\n",
      "\u001b[0;32m~/miniconda3/envs/ddosgen/lib/python3.6/site-packages/pandas/core/indexes/base.py\u001b[0m in \u001b[0;36mget_slice_bound\u001b[0;34m(self, label, side, kind)\u001b[0m\n\u001b[1;32m   4806\u001b[0m             \u001b[0;32mexcept\u001b[0m \u001b[0mValueError\u001b[0m\u001b[0;34m:\u001b[0m\u001b[0;34m\u001b[0m\u001b[0;34m\u001b[0m\u001b[0m\n\u001b[1;32m   4807\u001b[0m                 \u001b[0;31m# raise the original KeyError\u001b[0m\u001b[0;34m\u001b[0m\u001b[0;34m\u001b[0m\u001b[0;34m\u001b[0m\u001b[0m\n\u001b[0;32m-> 4808\u001b[0;31m                 \u001b[0;32mraise\u001b[0m \u001b[0merr\u001b[0m\u001b[0;34m\u001b[0m\u001b[0;34m\u001b[0m\u001b[0m\n\u001b[0m\u001b[1;32m   4809\u001b[0m \u001b[0;34m\u001b[0m\u001b[0m\n\u001b[1;32m   4810\u001b[0m         \u001b[0;32mif\u001b[0m \u001b[0misinstance\u001b[0m\u001b[0;34m(\u001b[0m\u001b[0mslc\u001b[0m\u001b[0;34m,\u001b[0m \u001b[0mnp\u001b[0m\u001b[0;34m.\u001b[0m\u001b[0mndarray\u001b[0m\u001b[0;34m)\u001b[0m\u001b[0;34m:\u001b[0m\u001b[0;34m\u001b[0m\u001b[0;34m\u001b[0m\u001b[0m\n",
      "\u001b[0;32m~/miniconda3/envs/ddosgen/lib/python3.6/site-packages/pandas/core/indexes/base.py\u001b[0m in \u001b[0;36mget_slice_bound\u001b[0;34m(self, label, side, kind)\u001b[0m\n\u001b[1;32m   4800\u001b[0m         \u001b[0;31m# we need to look up the label\u001b[0m\u001b[0;34m\u001b[0m\u001b[0;34m\u001b[0m\u001b[0;34m\u001b[0m\u001b[0m\n\u001b[1;32m   4801\u001b[0m         \u001b[0;32mtry\u001b[0m\u001b[0;34m:\u001b[0m\u001b[0;34m\u001b[0m\u001b[0;34m\u001b[0m\u001b[0m\n\u001b[0;32m-> 4802\u001b[0;31m             \u001b[0mslc\u001b[0m \u001b[0;34m=\u001b[0m \u001b[0mself\u001b[0m\u001b[0;34m.\u001b[0m\u001b[0m_get_loc_only_exact_matches\u001b[0m\u001b[0;34m(\u001b[0m\u001b[0mlabel\u001b[0m\u001b[0;34m)\u001b[0m\u001b[0;34m\u001b[0m\u001b[0;34m\u001b[0m\u001b[0m\n\u001b[0m\u001b[1;32m   4803\u001b[0m         \u001b[0;32mexcept\u001b[0m \u001b[0mKeyError\u001b[0m \u001b[0;32mas\u001b[0m \u001b[0merr\u001b[0m\u001b[0;34m:\u001b[0m\u001b[0;34m\u001b[0m\u001b[0;34m\u001b[0m\u001b[0m\n\u001b[1;32m   4804\u001b[0m             \u001b[0;32mtry\u001b[0m\u001b[0;34m:\u001b[0m\u001b[0;34m\u001b[0m\u001b[0;34m\u001b[0m\u001b[0m\n",
      "\u001b[0;32m~/miniconda3/envs/ddosgen/lib/python3.6/site-packages/pandas/core/indexes/base.py\u001b[0m in \u001b[0;36m_get_loc_only_exact_matches\u001b[0;34m(self, key)\u001b[0m\n\u001b[1;32m   4770\u001b[0m         \u001b[0mget_slice_bound\u001b[0m\u001b[0;34m.\u001b[0m\u001b[0;34m\u001b[0m\u001b[0;34m\u001b[0m\u001b[0m\n\u001b[1;32m   4771\u001b[0m         \"\"\"\n\u001b[0;32m-> 4772\u001b[0;31m         \u001b[0;32mreturn\u001b[0m \u001b[0mself\u001b[0m\u001b[0;34m.\u001b[0m\u001b[0mget_loc\u001b[0m\u001b[0;34m(\u001b[0m\u001b[0mkey\u001b[0m\u001b[0;34m)\u001b[0m\u001b[0;34m\u001b[0m\u001b[0;34m\u001b[0m\u001b[0m\n\u001b[0m\u001b[1;32m   4773\u001b[0m \u001b[0;34m\u001b[0m\u001b[0m\n\u001b[1;32m   4774\u001b[0m     \u001b[0;32mdef\u001b[0m \u001b[0mget_slice_bound\u001b[0m\u001b[0;34m(\u001b[0m\u001b[0mself\u001b[0m\u001b[0;34m,\u001b[0m \u001b[0mlabel\u001b[0m\u001b[0;34m,\u001b[0m \u001b[0mside\u001b[0m\u001b[0;34m,\u001b[0m \u001b[0mkind\u001b[0m\u001b[0;34m)\u001b[0m\u001b[0;34m:\u001b[0m\u001b[0;34m\u001b[0m\u001b[0;34m\u001b[0m\u001b[0m\n",
      "\u001b[0;32m~/miniconda3/envs/ddosgen/lib/python3.6/site-packages/pandas/core/indexes/numeric.py\u001b[0m in \u001b[0;36mget_loc\u001b[0;34m(self, key, method, tolerance)\u001b[0m\n\u001b[1;32m    434\u001b[0m             \u001b[0;32mpass\u001b[0m\u001b[0;34m\u001b[0m\u001b[0;34m\u001b[0m\u001b[0m\n\u001b[1;32m    435\u001b[0m         return super(Float64Index, self).get_loc(key, method=method,\n\u001b[0;32m--> 436\u001b[0;31m                                                  tolerance=tolerance)\n\u001b[0m\u001b[1;32m    437\u001b[0m \u001b[0;34m\u001b[0m\u001b[0m\n\u001b[1;32m    438\u001b[0m     \u001b[0;34m@\u001b[0m\u001b[0mcache_readonly\u001b[0m\u001b[0;34m\u001b[0m\u001b[0;34m\u001b[0m\u001b[0m\n",
      "\u001b[0;32m~/miniconda3/envs/ddosgen/lib/python3.6/site-packages/pandas/core/indexes/base.py\u001b[0m in \u001b[0;36mget_loc\u001b[0;34m(self, key, method, tolerance)\u001b[0m\n\u001b[1;32m   2657\u001b[0m                 \u001b[0;32mreturn\u001b[0m \u001b[0mself\u001b[0m\u001b[0;34m.\u001b[0m\u001b[0m_engine\u001b[0m\u001b[0;34m.\u001b[0m\u001b[0mget_loc\u001b[0m\u001b[0;34m(\u001b[0m\u001b[0mkey\u001b[0m\u001b[0;34m)\u001b[0m\u001b[0;34m\u001b[0m\u001b[0;34m\u001b[0m\u001b[0m\n\u001b[1;32m   2658\u001b[0m             \u001b[0;32mexcept\u001b[0m \u001b[0mKeyError\u001b[0m\u001b[0;34m:\u001b[0m\u001b[0;34m\u001b[0m\u001b[0;34m\u001b[0m\u001b[0m\n\u001b[0;32m-> 2659\u001b[0;31m                 \u001b[0;32mreturn\u001b[0m \u001b[0mself\u001b[0m\u001b[0;34m.\u001b[0m\u001b[0m_engine\u001b[0m\u001b[0;34m.\u001b[0m\u001b[0mget_loc\u001b[0m\u001b[0;34m(\u001b[0m\u001b[0mself\u001b[0m\u001b[0;34m.\u001b[0m\u001b[0m_maybe_cast_indexer\u001b[0m\u001b[0;34m(\u001b[0m\u001b[0mkey\u001b[0m\u001b[0;34m)\u001b[0m\u001b[0;34m)\u001b[0m\u001b[0;34m\u001b[0m\u001b[0;34m\u001b[0m\u001b[0m\n\u001b[0m\u001b[1;32m   2660\u001b[0m         \u001b[0mindexer\u001b[0m \u001b[0;34m=\u001b[0m \u001b[0mself\u001b[0m\u001b[0;34m.\u001b[0m\u001b[0mget_indexer\u001b[0m\u001b[0;34m(\u001b[0m\u001b[0;34m[\u001b[0m\u001b[0mkey\u001b[0m\u001b[0;34m]\u001b[0m\u001b[0;34m,\u001b[0m \u001b[0mmethod\u001b[0m\u001b[0;34m=\u001b[0m\u001b[0mmethod\u001b[0m\u001b[0;34m,\u001b[0m \u001b[0mtolerance\u001b[0m\u001b[0;34m=\u001b[0m\u001b[0mtolerance\u001b[0m\u001b[0;34m)\u001b[0m\u001b[0;34m\u001b[0m\u001b[0;34m\u001b[0m\u001b[0m\n\u001b[1;32m   2661\u001b[0m         \u001b[0;32mif\u001b[0m \u001b[0mindexer\u001b[0m\u001b[0;34m.\u001b[0m\u001b[0mndim\u001b[0m \u001b[0;34m>\u001b[0m \u001b[0;36m1\u001b[0m \u001b[0;32mor\u001b[0m \u001b[0mindexer\u001b[0m\u001b[0;34m.\u001b[0m\u001b[0msize\u001b[0m \u001b[0;34m>\u001b[0m \u001b[0;36m1\u001b[0m\u001b[0;34m:\u001b[0m\u001b[0;34m\u001b[0m\u001b[0;34m\u001b[0m\u001b[0m\n",
      "\u001b[0;32mpandas/_libs/index.pyx\u001b[0m in \u001b[0;36mpandas._libs.index.IndexEngine.get_loc\u001b[0;34m()\u001b[0m\n",
      "\u001b[0;32mpandas/_libs/index.pyx\u001b[0m in \u001b[0;36mpandas._libs.index.IndexEngine.get_loc\u001b[0;34m()\u001b[0m\n",
      "\u001b[0;32mpandas/_libs/hashtable_class_helper.pxi\u001b[0m in \u001b[0;36mpandas._libs.hashtable.Float64HashTable.get_item\u001b[0;34m()\u001b[0m\n",
      "\u001b[0;32mpandas/_libs/hashtable_class_helper.pxi\u001b[0m in \u001b[0;36mpandas._libs.hashtable.Float64HashTable.get_item\u001b[0;34m()\u001b[0m\n",
      "\u001b[0;31mKeyError\u001b[0m: 20.0"
     ]
    }
   ],
   "source": [
    "feature = 'TCP Ack' \n",
    "num_feature = df_normal[feature].nunique()\n",
    "percent_plot = 1\n",
    "range_plot = int(num_feature*percent_plot)\n",
    "# print(df_normal[feature].value_counts())\n",
    "\n",
    "print(\"Top 10: \", sum(df_normal[feature].value_counts().nlargest(10)) / len(df_normal[feature]))\n",
    "df_normal[feature].value_counts()[:20].plot(kind='bar').get_xaxis().set_visible(False)"
   ]
  },
  {
   "cell_type": "code",
   "execution_count": 13,
   "metadata": {},
   "outputs": [
    {
     "name": "stdout",
     "output_type": "stream",
     "text": [
      "Top 10:  1.0\n"
     ]
    },
    {
     "data": {
      "image/png": "[encoded data removed]",
      "text/plain": [
       "<Figure size 432x288 with 1 Axes>"
      ]
     },
     "metadata": {
      "needs_background": "light"
     },
     "output_type": "display_data"
    }
   ],
   "source": [
    "feature = 'TCP Flags'\n",
    "num_feature = df_normal[feature].nunique()\n",
    "percent_plot = 1\n",
    "range_plot = int(num_feature*percent_plot)\n",
    "# print(df_normal[feature].value_counts())\n",
    "\n",
    "print(\"Top 10: \", sum(df_normal[feature].value_counts().nlargest(10)) / len(df_normal[feature]))\n",
    "df_normal[feature].value_counts()[:range_plot].plot(kind='bar').get_xaxis().set_visible(False)"
   ]
  },
  {
   "cell_type": "code",
   "execution_count": 24,
   "metadata": {},
   "outputs": [
    {
     "name": "stdout",
     "output_type": "stream",
     "text": [
      "Top 10:  0.9117416110888313\n"
     ]
    },
    {
     "data": {
      "text/plain": [
       "0.0        487351\n",
       "5840.0      17586\n",
       "64512.0      9737\n",
       "65535.0      6563\n",
       "8736.0       4904\n",
       "Name: TCP Window Size, dtype: int64"
      ]
     },
     "execution_count": 24,
     "metadata": {},
     "output_type": "execute_result"
    },
    {
     "data": {
      "image/png": "[encoded data removed]",
      "text/plain": [
       "<Figure size 432x288 with 1 Axes>"
      ]
     },
     "metadata": {
      "needs_background": "light"
     },
     "output_type": "display_data"
    }
   ],
   "source": [
    "feature = 'TCP Window Size'\n",
    "num_feature = df_normal[feature].nunique()\n",
    "percent_plot = 0.005\n",
    "range_plot = int(num_feature*percent_plot)\n",
    "# print(df_normal[feature].value_counts())\n",
    "\n",
    "print(\"Top 10: \", sum(df_normal[feature].value_counts().nlargest(10)) / len(df_normal[feature]))\n",
    "df_normal[feature].value_counts()[:range_plot].plot(kind='bar').get_xaxis().set_visible(False)\n",
    "df_normal[feature].value_counts()[:5]"
   ]
  },
  {
   "cell_type": "code",
   "execution_count": null,
   "metadata": {},
   "outputs": [],
   "source": []
  },
  {
   "cell_type": "code",
   "execution_count": 27,
   "metadata": {},
   "outputs": [
    {
     "name": "stdout",
     "output_type": "stream",
     "text": [
      "Top 10:  1.0\n"
     ]
    },
    {
     "data": {
      "text/plain": [
       "raw:ip:icmp       474183\n",
       "raw:ip:tcp        106706\n",
       "raw:ip:icmp:ip     12570\n",
       "raw:ip:udp:ntp         3\n",
       "Name: Protocols, dtype: int64"
      ]
     },
     "execution_count": 27,
     "metadata": {},
     "output_type": "execute_result"
    },
    {
     "data": {
      "image/png": "[encoded data removed]",
      "text/plain": [
       "<Figure size 432x288 with 1 Axes>"
      ]
     },
     "metadata": {
      "needs_background": "light"
     },
     "output_type": "display_data"
    }
   ],
   "source": [
    "feature = 'Protocols'\n",
    "num_feature = df_normal[feature].nunique()\n",
    "percent_plot = 1\n",
    "range_plot = int(num_feature*percent_plot)\n",
    "# print(df_normal[feature].value_counts())\n",
    "\n",
    "print(\"Top 10: \", sum(df_normal[feature].value_counts().nlargest(10)) / len(df_normal[feature]))\n",
    "df_normal[feature].value_counts()[:range_plot].plot(kind='bar').get_xaxis().set_visible(False)\n",
    "df_normal[feature].value_counts()[:5]"
   ]
  },
  {
   "cell_type": "code",
   "execution_count": 34,
   "metadata": {},
   "outputs": [
    {
     "data": {
      "text/plain": [
       "593462"
      ]
     },
     "execution_count": 34,
     "metadata": {},
     "output_type": "execute_result"
    }
   ],
   "source": [
    "3 / (474183+106706+12570+3)"
   ]
  },
  {
   "cell_type": "code",
   "execution_count": 28,
   "metadata": {},
   "outputs": [
    {
     "data": {
      "image/png": "[encoded data removed]",
      "text/plain": [
       "<Figure size 432x288 with 1 Axes>"
      ]
     },
     "metadata": {
      "needs_background": "light"
     },
     "output_type": "display_data"
    }
   ],
   "source": [
    "import matplotlib.pyplot as plt\n",
    "plt.figure()\n",
    "df_normal[feature].value_counts()[:range_plot].plot(kind='bar').get_xaxis().set_visible(False)\n",
    "plt.savefig(\"./caida_feature_protocols.png\",bbox_inches=\"tight\")"
   ]
  },
  {
   "cell_type": "code",
   "execution_count": 25,
   "metadata": {
    "scrolled": true
   },
   "outputs": [
    {
     "name": "stdout",
     "output_type": "stream",
     "text": [
      "Top 10:  1.0\n"
     ]
    },
    {
     "data": {
      "text/plain": [
       "ICMP    486753\n",
       "TCP     106706\n",
       "NTP          3\n",
       "Name: Highest Layer(Protocol), dtype: int64"
      ]
     },
     "execution_count": 25,
     "metadata": {},
     "output_type": "execute_result"
    },
    {
     "data": {
      "image/png": "[encoded data removed]",
      "text/plain": [
       "<Figure size 432x288 with 1 Axes>"
      ]
     },
     "metadata": {
      "needs_background": "light"
     },
     "output_type": "display_data"
    }
   ],
   "source": [
    "feature = 'Highest Layer(Protocol)'\n",
    "num_feature = df_normal[feature].nunique()\n",
    "percent_plot = 1\n",
    "range_plot = int(num_feature*percent_plot)\n",
    "# print(df_normal[feature].value_counts())\n",
    "\n",
    "print(\"Top 10: \", sum(df_normal[feature].value_counts().nlargest(10)) / len(df_normal[feature]))\n",
    "df_normal[feature].value_counts()[:range_plot].plot(kind='bar').get_xaxis().set_visible(False)\n",
    "df_normal[feature].value_counts()[:5]"
   ]
  },
  {
   "cell_type": "code",
   "execution_count": 21,
   "metadata": {},
   "outputs": [
    {
     "name": "stdout",
     "output_type": "stream",
     "text": [
      "Top 10:  0.6603472505400514\n"
     ]
    },
    {
     "data": {
      "text/plain": [
       "Echo (ping) request  id=0x0200, seq=1280/5, ttl=208    90262\n",
       "Name: Info, dtype: int64"
      ]
     },
     "execution_count": 21,
     "metadata": {},
     "output_type": "execute_result"
    },
    {
     "data": {
      "image/png": "[encoded data removed]",
      "text/plain": [
       "<Figure size 432x288 with 1 Axes>"
      ]
     },
     "metadata": {
      "needs_background": "light"
     },
     "output_type": "display_data"
    }
   ],
   "source": [
    "feature = 'Info'\n",
    "num_feature = df_normal[feature].nunique()\n",
    "percent_plot = 0.0001\n",
    "range_plot = int(num_feature*percent_plot)\n",
    "# print(df_normal[feature].value_counts())\n",
    "\n",
    "print(\"Top 10: \", sum(df_normal[feature].value_counts().nlargest(10)) / len(df_normal[feature]))\n",
    "df_normal[feature].value_counts()[:range_plot].plot(kind='bar').get_xaxis().set_visible(False)\n",
    "df_normal[feature].value_counts()[:1]"
   ]
  },
  {
   "cell_type": "code",
   "execution_count": null,
   "metadata": {},
   "outputs": [],
   "source": [
    "feature = 'new TCP Ack'\n",
    "num_feature = df_normal[feature].nunique()\n",
    "percent_plot = 1\n",
    "range_plot = int(num_feature*percent_plot)\n",
    "# print(df_normal[feature].value_counts())\n",
    "\n",
    "print(\"Top 10: \", sum(df_normal[feature].value_counts().nlargest(10)) / len(df_normal[feature]))\n",
    "df_normal[feature].value_counts()[:range_plot].plot(kind='bar').get_xaxis().set_visible(False)"
   ]
  },
  {
   "cell_type": "code",
   "execution_count": null,
   "metadata": {},
   "outputs": [],
   "source": []
  },
  {
   "cell_type": "markdown",
   "metadata": {},
   "source": [
    "### Feature Selection"
   ]
  },
  {
   "cell_type": "raw",
   "metadata": {
    "scrolled": true
   },
   "source": [
    "feature = 'TCP Flags' \n",
    "# df_normal[feature].value_counts().rename_axis('unique_values').reset_index(name='counts')\n",
    "df_feature = df_normal[feature]\n",
    "df_feature"
   ]
  },
  {
   "cell_type": "markdown",
   "metadata": {},
   "source": [
    "### Hashing the inputs"
   ]
  },
  {
   "cell_type": "raw",
   "metadata": {},
   "source": [
    "#Sequentializes A1 and N1\n",
    "df_tmp = sequentializeDataFrame(df_normal, significantNormal, config['variablesHash']['inputHashRange'], config['SEQUENCELENGTH']) # add"
   ]
  },
  {
   "cell_type": "code",
   "execution_count": 8,
   "metadata": {},
   "outputs": [],
   "source": [
    "df = df_normal; sig=significantNormal; inputHashRange=config['variablesHash']['inputHashRange']; seqlen=config['SEQUENCELENGTH']"
   ]
  },
  {
   "cell_type": "code",
   "execution_count": 9,
   "metadata": {},
   "outputs": [],
   "source": [
    "#create a deepcopy of the original df\n",
    "df_temp = df.copy()\n",
    "if type(df_temp['Absolute Time'].iloc[0]) == str:\n",
    "    df_temp['Absolute Time'] = df_temp['Absolute Time'].apply(lambda x: converttodatetime(x,config['SEQUENCELENGTH'])) # add\n",
    "#converting type of status\n",
    "df_temp = df_temp.astype({'Source IP' : 'str'})\n",
    "df_temp = df_temp.astype({'Dest IP' : 'str'})\n",
    "# df_temp = df_temp.astype({'Relative Time' : 'str'})\n",
    "df_temp = df_temp.astype({'Packet Len': 'str'})\n",
    "df_temp = df_temp.astype({'IP Flags' : 'str'})\n",
    "df_temp = df_temp.astype({'TCP Len' : 'str'})\n",
    "df_temp = df_temp.astype({'TCP Ack' : 'str'})\n",
    "df_temp = df_temp.astype({'TCP Flags' : 'str'})\n",
    "df_temp = df_temp.astype({'TCP Window Size': 'str'})\n",
    "df_temp = df_temp.astype({'Protocols': 'str'})\n",
    "df_temp = df_temp.astype({'Highest Layer(Protocol)': 'str'})\n",
    "df_temp = df_temp.astype({'Info' : 'str'})\n",
    "df_temp = df_temp.astype({'Input': 'str'})\n",
    "\n",
    "#Uncomment if you want to hash the Input\n",
    "df_temp['Input'] = df_temp['Input'].apply(lambda x: keepOrHash(x, significantNormal, config['variablesHash']['inputHashRange']))"
   ]
  },
  {
   "cell_type": "raw",
   "metadata": {},
   "source": [
    "#create groups based on 1 min interval\n",
    "df_temp['groups'] = df_temp.groupby('Source IP')['time_diff'].apply(lambda x: x.gt(pd.Timedelta(1, 'm')).cumsum())\n",
    "df_temp['time_diff'] = df_temp['time_diff'].apply(lambda x: getTimeClass(x.total_seconds()))\n",
    "#grouping in sequences of 20 length\n",
    "df_temp['group_len'] = df_temp.groupby(['Source IP', 'Dest IP', 'groups'])['Absolute Time'].rank(method = 'first')\n",
    "# df_temp['group_len'] = df_temp['group_len'].apply(lambda x: math.ceil(x/20))\n",
    "df_temp['group_len'] = df_temp['group_len'].apply(lambda x: math.ceil(x/seqlen)) # add\n",
    "\n",
    "# #create groups based on \"remote_addr\" and \"groups\"\n",
    "# df_temp = df_temp.groupby(['Source IP', 'Dest IP', 'groups', 'group_len'])\n"
   ]
  },
  {
   "cell_type": "raw",
   "metadata": {},
   "source": [
    "# dfnorm_tmp['Input'][0].split('<SEP>')\n",
    "sr['Split_Input'] = sr['Input'].apply(lambda x: x.split('<SEP>'))\n",
    "sr.head()\n",
    "\n",
    "\n",
    "# dfnorm_tmp['Split_Input'].value_counts()\n",
    "sr['max_tmp'] = sr.Split_Input.apply(max)\n",
    "print(\"min hash: \", min(sr['max_tmp'].astype(int).unique()))\n",
    "print(\"max hash: \", max(sr['max_tmp'].astype(int).unique()))\n",
    "print(\"number of hashes: \", sr['max_tmp'].sort_values().nunique()) #value_counts()"
   ]
  },
  {
   "cell_type": "code",
   "execution_count": 10,
   "metadata": {
    "scrolled": true
   },
   "outputs": [
    {
     "data": {
      "text/plain": [
       "array([  0,   1,   2,   3,   4,   5,   6,   7,   8,   9,  10,  11,  12,\n",
       "        13,  14,  15,  16,  17,  18,  19,  20,  21,  22,  23,  24,  25,\n",
       "        26,  27,  28,  29,  30,  31,  32,  33,  34,  35,  36,  37,  38,\n",
       "        39,  40,  41,  42,  43,  44,  45,  46,  47,  48,  49,  50,  51,\n",
       "        52,  53,  54,  55,  56,  57,  58,  59,  60,  61,  62,  63,  64,\n",
       "        65,  66,  67,  68,  69,  70,  71,  72,  73,  74,  75,  76,  77,\n",
       "        78,  79,  80,  81,  82,  83,  84,  85,  86,  87,  88,  89,  90,\n",
       "        91,  92,  93,  94,  95,  96,  97,  98,  99, 100, 101, 102, 103,\n",
       "       104, 105, 106, 107, 108, 109, 110, 111, 112, 113, 114, 115, 116,\n",
       "       117, 118, 119, 120, 121, 122, 123, 124, 125, 126, 127, 128, 129,\n",
       "       130, 131, 132, 133, 134, 135, 136, 137, 138, 139, 140, 141, 142,\n",
       "       143, 144, 145, 146, 147, 148, 149, 150, 151, 152, 153, 154, 155,\n",
       "       156, 157, 158, 159, 160, 161, 162, 163, 164, 165, 166, 167, 168,\n",
       "       169, 170, 171, 172, 173, 174, 175, 176, 177, 178, 179, 180, 181,\n",
       "       182, 183, 184, 185, 186, 187, 188, 189, 190, 191, 192, 193, 194,\n",
       "       195, 196, 197, 198, 199, 200, 201, 202, 203, 204, 205, 206, 207,\n",
       "       208, 209, 210, 211, 212, 213, 214, 215, 216, 217, 218, 219, 220,\n",
       "       221, 222, 223, 224, 225, 226, 227, 228, 229, 230, 231, 232, 233,\n",
       "       234, 235, 236, 237, 238, 239, 240, 241, 242, 243, 244, 245, 246,\n",
       "       247, 248, 249])"
      ]
     },
     "execution_count": 10,
     "metadata": {},
     "output_type": "execute_result"
    }
   ],
   "source": [
    "np.sort(df_temp['Input'].astype(int).unique())"
   ]
  },
  {
   "cell_type": "code",
   "execution_count": 11,
   "metadata": {},
   "outputs": [
    {
     "name": "stdout",
     "output_type": "stream",
     "text": [
      "value count of features:  60      480889\n",
      "52       40898\n",
      "1500     19394\n",
      "Name: Packet Len, dtype: int64\n"
     ]
    },
    {
     "data": {
      "text/plain": [
       "['60', '52', '1500']"
      ]
     },
     "execution_count": 11,
     "metadata": {},
     "output_type": "execute_result"
    }
   ],
   "source": [
    "df_temp[\"Label\"] = 0\n",
    "\n",
    "### Feature conditions\n",
    "feature_cond = 'Packet Len'\n",
    "top_n = 2 #3\n",
    "\n",
    "df_normal[feature_cond].nunique()\n",
    "print(\"value count of features: \", df_normal[feature_cond].value_counts()[:top_n])\n",
    "topn_features = df_normal[feature_cond].value_counts().index.tolist()[:top_n]\n",
    "\n",
    "topn_features"
   ]
  },
  {
   "cell_type": "code",
   "execution_count": 22,
   "metadata": {
    "scrolled": true
   },
   "outputs": [],
   "source": [
    "df_temp.loc[df_temp[feature_cond] == topn_features[0], 'Label'] = 1\n",
    "df_temp.loc[df_temp[feature_cond] == topn_features[1], 'Label'] = 2\n",
    "# df_temp.loc[df_temp[feature_cond] == topn_features[2], 'Label'] = 3"
   ]
  },
  {
   "cell_type": "code",
   "execution_count": 23,
   "metadata": {
    "scrolled": true
   },
   "outputs": [
    {
     "data": {
      "text/plain": [
       "2"
      ]
     },
     "execution_count": 23,
     "metadata": {},
     "output_type": "execute_result"
    }
   ],
   "source": [
    "df_temp['Input'] = df_temp['Input'].astype(int)\n",
    "df_temp['Input'][0]"
   ]
  },
  {
   "cell_type": "code",
   "execution_count": 24,
   "metadata": {},
   "outputs": [],
   "source": [
    "df_temp = df_temp.sort_values('Input')"
   ]
  },
  {
   "cell_type": "code",
   "execution_count": 25,
   "metadata": {
    "scrolled": true
   },
   "outputs": [
    {
     "data": {
      "text/plain": [
       "1    480889\n",
       "0     71675\n",
       "2     40898\n",
       "Name: Label, dtype: int64"
      ]
     },
     "execution_count": 25,
     "metadata": {},
     "output_type": "execute_result"
    }
   ],
   "source": [
    "df_temp['Label'].value_counts()\n",
    "# df_temp.head()"
   ]
  },
  {
   "cell_type": "code",
   "execution_count": null,
   "metadata": {},
   "outputs": [],
   "source": []
  },
  {
   "cell_type": "raw",
   "metadata": {},
   "source": [
    "# dfnorm_tmp['Input'][0].split('<SEP>')\n",
    "df_temp['Split_Input'] = df_temp['Input'].apply(lambda x: x.split('<SEP>'))\n",
    "\n",
    "# dfnorm_tmp['Split_Input'].value_counts()\n",
    "df_temp['max_tmp'] = df_temp.Split_Input.apply(max)\n",
    "print(\"min hash: \", min(df_temp['max_tmp'].astype(int).unique()))\n",
    "print(\"max hash: \", max(df_temp['max_tmp'].astype(int).unique()))\n",
    "print(\"number of hashes: \", df_temp['max_tmp'].sort_values().nunique()) #value_counts()"
   ]
  },
  {
   "cell_type": "code",
   "execution_count": 28,
   "metadata": {
    "scrolled": true
   },
   "outputs": [
    {
     "name": "stderr",
     "output_type": "stream",
     "text": [
      "/home/wesleyjtann/miniconda3/envs/ddosgen/lib/python3.6/site-packages/ipykernel_launcher.py:5: FutureWarning: The signature of `Series.to_csv` was aligned to that of `DataFrame.to_csv`, and argument 'header' will change its default value from False to True: please pass an explicit value to suppress this warning.\n",
      "  \"\"\"\n"
     ]
    }
   ],
   "source": [
    "# # group by median\n",
    "# df_temp.groupby(['Input']).median()['Label'] #.to_csv('packetlen_cond.csv',index=False)\n",
    "\n",
    "# group by mode and save\n",
    "df_temp.groupby(['Input']).agg(lambda x:x.value_counts().index[0])['Label'].to_csv('packetlen_cond.csv',index=False)"
   ]
  },
  {
   "cell_type": "code",
   "execution_count": 27,
   "metadata": {
    "scrolled": true
   },
   "outputs": [
    {
     "data": {
      "text/plain": [
       "Input\n",
       "0      0\n",
       "1      0\n",
       "2      1\n",
       "3      0\n",
       "4      2\n",
       "5      0\n",
       "6      2\n",
       "7      2\n",
       "8      0\n",
       "9      2\n",
       "10     0\n",
       "11     0\n",
       "12     0\n",
       "13     0\n",
       "14     2\n",
       "15     0\n",
       "16     0\n",
       "17     2\n",
       "18     0\n",
       "19     2\n",
       "20     0\n",
       "21     0\n",
       "22     0\n",
       "23     0\n",
       "24     0\n",
       "25     0\n",
       "26     0\n",
       "27     0\n",
       "28     0\n",
       "29     0\n",
       "      ..\n",
       "220    0\n",
       "221    0\n",
       "222    2\n",
       "223    0\n",
       "224    0\n",
       "225    2\n",
       "226    2\n",
       "227    0\n",
       "228    0\n",
       "229    0\n",
       "230    0\n",
       "231    0\n",
       "232    0\n",
       "233    2\n",
       "234    0\n",
       "235    0\n",
       "236    0\n",
       "237    0\n",
       "238    0\n",
       "239    0\n",
       "240    0\n",
       "241    2\n",
       "242    0\n",
       "243    0\n",
       "244    0\n",
       "245    0\n",
       "246    0\n",
       "247    0\n",
       "248    0\n",
       "249    0\n",
       "Name: Label, Length: 250, dtype: int64"
      ]
     },
     "execution_count": 27,
     "metadata": {},
     "output_type": "execute_result"
    }
   ],
   "source": [
    "df_temp.groupby(['Input']).agg(lambda x:x.value_counts().index[0])['Label']"
   ]
  },
  {
   "cell_type": "code",
   "execution_count": null,
   "metadata": {},
   "outputs": [],
   "source": []
  },
  {
   "cell_type": "code",
   "execution_count": null,
   "metadata": {},
   "outputs": [],
   "source": []
  },
  {
   "cell_type": "raw",
   "metadata": {},
   "source": [
    "#Sequentializes A1 and N1\n",
    "df_normal = sequentializeDataFrame(df_normal, significantNormal, config['variablesHash']['inputHashRange'], config['SEQUENCELENGTH']) # add\n",
    "df_normal2 = sequentializeDataFrame(df_normal2, significantNormal, config['variablesHash']['inputHashRange'], config['SEQUENCELENGTH']) # add"
   ]
  },
  {
   "cell_type": "raw",
   "metadata": {},
   "source": [
    "df_normal2.head()"
   ]
  },
  {
   "cell_type": "raw",
   "metadata": {},
   "source": [
    "df = df_normal \n",
    "sig = significantNormal\n",
    "inputHashRange = config['variablesHash']['inputHashRange']\n",
    "seqlen = config['SEQUENCELENGTH']"
   ]
  },
  {
   "cell_type": "raw",
   "metadata": {},
   "source": [
    "#create a deepcopy of the original df\n",
    "df_temp = df.copy()\n",
    "df_temp"
   ]
  },
  {
   "cell_type": "raw",
   "metadata": {},
   "source": [
    "\n",
    "if type(df_temp['Absolute Time'].iloc[0]) == str:\n",
    "    df_temp['Absolute Time'] = df_temp['Absolute Time'].apply(lambda x: converttodatetime(x, config['SEQUENCELENGTH'])) # add\n",
    "#converting type of status\n",
    "df_temp = df_temp.astype({'Source IP' : 'str'})\n",
    "df_temp = df_temp.astype({'Dest IP' : 'str'})\n",
    "df_temp = df_temp.astype({'Input': 'str'})\n"
   ]
  },
  {
   "cell_type": "raw",
   "metadata": {},
   "source": []
  },
  {
   "cell_type": "raw",
   "metadata": {},
   "source": [
    "df_temp['Input'] = df_temp['Input'].apply(lambda x: keepOrHash(x, sig, inputHashRange))\n",
    "df_temp['Input']"
   ]
  },
  {
   "cell_type": "raw",
   "metadata": {},
   "source": [
    "#create groups based on 1 min interval\n",
    "df_temp['groups'] = df_temp.groupby('Source IP')['time_diff'].apply(lambda x: x.gt(pd.Timedelta(1, 'm')).cumsum())\n",
    "df_temp['time_diff'] = df_temp['time_diff'].apply(lambda x: getTimeClass(x.total_seconds()))\n",
    "#grouping in sequences of 20 length\n",
    "df_temp['group_len'] = df_temp.groupby(['Source IP', 'Dest IP', 'groups'])['Absolute Time'].rank(method = 'first')\n",
    "# df_temp['group_len'] = df_temp['group_len'].apply(lambda x: math.ceil(x/20))\n",
    "df_temp['group_len'] = df_temp['group_len'].apply(lambda x: math.ceil(x/seqlen)) # add\n",
    "\n",
    "#create groups based on \"remote_addr\" and \"groups\"\n",
    "df_temp = df_temp.groupby(['Source IP', 'Dest IP', 'groups', 'group_len'])"
   ]
  },
  {
   "cell_type": "raw",
   "metadata": {},
   "source": [
    "df_temp"
   ]
  },
  {
   "cell_type": "raw",
   "metadata": {},
   "source": [
    "    #aggregation\n",
    "sr = df_temp['Protocols', 'Info'].agg(lambda x: \"<SEP>\".join(x))\n",
    "sr['Input'] = df_temp['Input'].agg(lambda x: \"<SEP>\".join(x))\n",
    "sr.reset_index(inplace=True)\n",
    "#converting to dataframe\n",
    "#sr = sr.to_frame()\n",
    "sr = sr.drop(columns = ['groups', 'group_len'])"
   ]
  },
  {
   "cell_type": "raw",
   "metadata": {},
   "source": [
    "sr['Input'][0]"
   ]
  },
  {
   "cell_type": "raw",
   "metadata": {},
   "source": [
    "sequentializeDataFrame(df_normal, significantNormal, config['variablesHash']['inputHashRange'], config['SEQUENCELENGTH']) \n",
    "\n",
    "def sequentializeDataFrame(df, sig, inputHashRange, seqlen): # add\n",
    "    #create a deepcopy of the original df\n",
    "    df_temp = df.copy()\n",
    "    if type(df_temp['Absolute Time'].iloc[0]) == str:\n",
    "        df_temp['Absolute Time'] = df_temp['Absolute Time'].apply(lambda x: converttodatetime(x, config['SEQUENCELENGTH'])) # add\n",
    "    #converting type of status\n",
    "    df_temp = df_temp.astype({'Source IP' : 'str'})\n",
    "    df_temp = df_temp.astype({'Dest IP' : 'str'})\n",
    "    # df_temp = df_temp.astype({'Relative Time' : 'str'})\n",
    "    df_temp = df_temp.astype({'Packet Len': 'str'})\n",
    "    df_temp = df_temp.astype({'IP Flags' : 'str'})\n",
    "    df_temp = df_temp.astype({'TCP Len' : 'str'})\n",
    "    df_temp = df_temp.astype({'TCP Ack' : 'str'})\n",
    "    df_temp = df_temp.astype({'TCP Flags' : 'str'})\n",
    "    df_temp = df_temp.astype({'TCP Window Size': 'str'})\n",
    "    df_temp = df_temp.astype({'Protocols': 'str'})\n",
    "    df_temp = df_temp.astype({'Highest Layer(Protocol)': 'str'})\n",
    "    df_temp = df_temp.astype({'Info' : 'str'})\n",
    "    df_temp = df_temp.astype({'Input': 'str'})\n",
    "\n",
    "    #Uncomment if you want to hash the Input\n",
    "    df_temp['Input'] = df_temp['Input'].apply(lambda x: keepOrHash(x, sig, inputHashRange))\n",
    "\n",
    "    #create groups based on 1 min interval\n",
    "    df_temp['groups'] = df_temp.groupby('Source IP')['time_diff'].apply(lambda x: x.gt(pd.Timedelta(1, 'm')).cumsum())\n",
    "    df_temp['time_diff'] = df_temp['time_diff'].apply(lambda x: getTimeClass(x.total_seconds()))\n",
    "    #grouping in sequences of 20 length\n",
    "    df_temp['group_len'] = df_temp.groupby(['Source IP', 'Dest IP', 'groups'])['Absolute Time'].rank(method = 'first')\n",
    "    # df_temp['group_len'] = df_temp['group_len'].apply(lambda x: math.ceil(x/20))\n",
    "    df_temp['group_len'] = df_temp['group_len'].apply(lambda x: math.ceil(x/seqlen)) # add\n",
    "\n",
    "    #create groups based on \"remote_addr\" and \"groups\"\n",
    "    df_temp = df_temp.groupby(['Source IP', 'Dest IP', 'groups', 'group_len'])\n",
    "\n",
    "    #aggregation\n",
    "    sr = df_temp['Protocols', 'Info'].agg(lambda x: \"<SEP>\".join(x))\n",
    "    sr['Input'] = df_temp['Input'].agg(lambda x: \"<SEP>\".join(x))\n",
    "    sr.reset_index(inplace=True)\n",
    "    #converting to dataframe\n",
    "    #sr = sr.to_frame()\n",
    "    sr = sr.drop(columns = ['groups', 'group_len'])\n",
    "    return sr\n"
   ]
  },
  {
   "cell_type": "raw",
   "metadata": {},
   "source": [
    "\n",
    "# df_normal.to_csv(r'' + config['metadata']['uniqueID'] + '/' + config['metadata']['artefact'] + '/' + 'N1(PreSequentialize).csv', index = None, header=True)\n",
    "# df_normal2.to_csv(r'' + config['metadata']['uniqueID'] + '/' + config['metadata']['artefact'] + '/' + 'TEST(PreSequentialize).csv', index = None, header=True)\n",
    "\n",
    "#Sequentializes A1 and N1\n",
    "df_normal = sequentializeDataFrame(df_normal, significantNormal, config['variablesHash']['inputHashRange'], config['SEQUENCELENGTH']) # add\n",
    "df_normal2 = sequentializeDataFrame(df_normal2, significantNormal, config['variablesHash']['inputHashRange'], config['SEQUENCELENGTH']) # add"
   ]
  },
  {
   "cell_type": "raw",
   "metadata": {},
   "source": [
    "def sequentializeDataFrame(df, sig, inputHashRange, seqlen): # add\n",
    "    #create a deepcopy of the original df\n",
    "    df_temp = df.copy()\n",
    "    if type(df_temp['Absolute Time'].iloc[0]) == str:\n",
    "        df_temp['Absolute Time'] = df_temp['Absolute Time'].apply(lambda x: converttodatetime(x, config['SEQUENCELENGTH'])) # add\n",
    "    #converting type of status\n",
    "    df_temp = df_temp.astype({'Source IP' : 'str'})\n",
    "    df_temp = df_temp.astype({'Dest IP' : 'str'})\n",
    "    # df_temp = df_temp.astype({'Relative Time' : 'str'})\n",
    "    df_temp = df_temp.astype({'Packet Len': 'str'})\n",
    "    df_temp = df_temp.astype({'IP Flags' : 'str'})\n",
    "    df_temp = df_temp.astype({'TCP Len' : 'str'})\n",
    "    df_temp = df_temp.astype({'TCP Ack' : 'str'})\n",
    "    df_temp = df_temp.astype({'TCP Flags' : 'str'})\n",
    "    df_temp = df_temp.astype({'TCP Window Size': 'str'})\n",
    "    df_temp = df_temp.astype({'Protocols': 'str'})\n",
    "    df_temp = df_temp.astype({'Highest Layer(Protocol)': 'str'})\n",
    "    df_temp = df_temp.astype({'Info' : 'str'})\n",
    "    df_temp = df_temp.astype({'Input': 'str'})\n",
    "\n",
    "    #Uncomment if you want to hash the Input\n",
    "    df_temp['Input'] = df_temp['Input'].apply(lambda x: keepOrHash(x, sig, inputHashRange))\n",
    "\n",
    "    #create groups based on 1 min interval\n",
    "    df_temp['groups'] = df_temp.groupby('Source IP')['time_diff'].apply(lambda x: x.gt(pd.Timedelta(1, 'm')).cumsum())\n",
    "    df_temp['time_diff'] = df_temp['time_diff'].apply(lambda x: getTimeClass(x.total_seconds()))\n",
    "    #grouping in sequences of 20 length\n",
    "    df_temp['group_len'] = df_temp.groupby(['Source IP', 'Dest IP', 'groups'])['Absolute Time'].rank(method = 'first')\n",
    "    # df_temp['group_len'] = df_temp['group_len'].apply(lambda x: math.ceil(x/20))\n",
    "    df_temp['group_len'] = df_temp['group_len'].apply(lambda x: math.ceil(x/seqlen)) # add\n",
    "\n",
    "    #create groups based on \"remote_addr\" and \"groups\"\n",
    "    df_temp = df_temp.groupby(['Source IP', 'Dest IP', 'groups', 'group_len'])\n",
    "\n",
    "    #aggregation\n",
    "    sr = df_temp['Protocols', 'Info'].agg(lambda x: \"<SEP>\".join(x))\n",
    "    sr['Input'] = df_temp['Input'].agg(lambda x: \"<SEP>\".join(x))\n",
    "    sr.reset_index(inplace=True)\n",
    "    #converting to dataframe\n",
    "    #sr = sr.to_frame()\n",
    "    sr = sr.drop(columns = ['groups', 'group_len'])\n",
    "    return sr\n"
   ]
  }
 ],
 "metadata": {
  "kernelspec": {
   "display_name": "ddosgen",
   "language": "python",
   "name": "ddosgen"
  },
  "language_info": {
   "codemirror_mode": {
    "name": "ipython",
    "version": 3
   },
   "file_extension": ".py",
   "mimetype": "text/x-python",
   "name": "python",
   "nbconvert_exporter": "python",
   "pygments_lexer": "ipython3",
   "version": "3.6.9"
  },
  "metadata": {
   "interpreter": {
    "hash": "fbd27d7fc8b05924f2079fcc56f9a4840a893b9ec6f2208eff8c185ddb67fbf9"
   }
  }
 },
 "nbformat": 4,
 "nbformat_minor": 2
}
